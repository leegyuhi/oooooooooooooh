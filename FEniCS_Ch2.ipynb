{
  "nbformat": 4,
  "nbformat_minor": 0,
  "metadata": {
    "colab": {
      "name": "FEniCS_Ch2.ipynb",
      "provenance": [],
      "authorship_tag": "ABX9TyPgeXnnixt+29beTPnDR2Tp",
      "include_colab_link": true
    },
    "kernelspec": {
      "name": "python3",
      "display_name": "Python 3"
    }
  },
  "cells": [
    {
      "cell_type": "markdown",
      "metadata": {
        "id": "view-in-github",
        "colab_type": "text"
      },
      "source": [
        "<a href=\"https://colab.research.google.com/github/leegyuhi/oooooooooooooh/blob/master/FEniCS_Ch2.ipynb\" target=\"_parent\"><img src=\"https://colab.research.google.com/assets/colab-badge.svg\" alt=\"Open In Colab\"/></a>"
      ]
    },
    {
      "cell_type": "markdown",
      "metadata": {
        "id": "QGOC84POzy7i",
        "colab_type": "text"
      },
      "source": [
        "# Ch.2 Fundamentals: Solving the Poisson equation\n",
        "## 2.2 FEniCS implementation\n",
        "- 2D Poisson eqauation 예제\n",
        ">$-\\bigtriangledown ^{2}u=f,\\: \\: \\: \\: \\: \\: \\: \\: \\: x\\: in\\: \\Omega$\n",
        ">\n",
        ">$\\: \\: \\: \\: \\: \\: \\: \\: \\: \\: \\: \\: u=u_{D},\\: \\: \\: \\: \\: \\: x\\: on\\: \\partial \\Omega $\n",
        ">\n",
        ">$u_{D}(x,y)=1+x^{2}+2y^{2}$\n",
        ">\n",
        ">$f=-6$\n"
      ]
    },
    {
      "cell_type": "code",
      "metadata": {
        "id": "d5pRMuvZ1Bbf",
        "colab_type": "code",
        "colab": {}
      },
      "source": [
        "from __future__ import print_function\n",
        "from fenics import *\n",
        "import matplotlib.pyplot as plt\n",
        "\n",
        "# Create mesh and define function space\n",
        "mesh = UnitSquareMesh(8, 8)\n",
        "V = FunctionSpace(mesh, 'P', 1)\n",
        "\n",
        "# Define boundary condition\n",
        "u_D = Expression('1 + x[0]*x[0] + 2*x[1]*x[1]', degree=2)\n",
        "\n",
        "def boundary(x, on_boundary):\n",
        "    return on_boundary\n",
        "\n",
        "bc = DirichletBC(V, u_D, boundary)\n",
        "\n",
        "# Define variational problem\n",
        "u = TrialFunction(V)\n",
        "v = TestFunction(V)\n",
        "f = Constant(-6.0)\n",
        "a = dot(grad(u), grad(v))*dx\n",
        "L = f*v*dx\n",
        "\n",
        "# Compute solution\n",
        "u = Function(V)\n",
        "solve(a == L, u, bc)\n",
        "\n",
        "# Plot solution and mesh\n",
        "plot(u)\n",
        "plot(mesh)\n",
        "\n",
        "# Save solution to file in VTK format\n",
        "vtkfile = File('poisson/solution.pvd')\n",
        "vtkfile << u\n",
        "\n",
        "# Compute error in L2 norm\n",
        "error_L2 = errornorm(u_D, u, 'L2')\n",
        "\n",
        "# Compute maximum error at vertices\n",
        "vertex_values_u_D = u_D.compute_vertex_values(mesh)\n",
        "vertex_values_u = u.compute_vertex_values(mesh)\n",
        "import numpy as np\n",
        "error_max = np.max(np.abs(vertex_values_u_D - vertex_values_u))\n",
        "\n",
        "# Print errors\n",
        "print('error_L2  =', error_L2)\n",
        "print('error_max =', error_max)\n",
        "\n",
        "# Hold plot\n",
        "plt.show()"
      ],
      "execution_count": 0,
      "outputs": []
    },
    {
      "cell_type": "markdown",
      "metadata": {
        "id": "2YY5bmTW1Ogu",
        "colab_type": "text"
      },
      "source": [
        "error_L2 = 0.00823509807335483\n",
        "\n",
        "error_max = 1.3322676295501878e-15\n",
        "\n",
        "![test problem](https://user-images.githubusercontent.com/52767505/74707768-1a4ed980-525e-11ea-9f93-eddae1d670dd.GIF)\n",
        "# ![test problem_2](https://user-images.githubusercontent.com/52767505/74707770-1c189d00-525e-11ea-8b1d-a4ee5a2dbf10.GIF)"
      ]
    },
    {
      "cell_type": "markdown",
      "metadata": {
        "id": "k1BkgJ0K7OMU",
        "colab_type": "text"
      },
      "source": [
        "- Paraview를 이용한 솔루션 시각화\n",
        "```\n",
        "Error reading cell offsets: Unsupported array type: vtkUnsingnedlntArray\n",
        "```\n"
      ]
    },
    {
      "cell_type": "markdown",
      "metadata": {
        "id": "xUcK-RA_8Dh4",
        "colab_type": "text"
      },
      "source": [
        "- Computing the error\n",
        "  - error_L2 = 0.00823509807335483 ($L^{2}$ norm 에러)\n",
        "  > $$E=\\sqrt{\\int_{\\Omega } (u_{D}-u)^{2}dx}$$\n",
        "  - error_max = 1.3322676295501878e-15\n",
        "  > infinite element mesh의 모든 정점에서 오류의 최댓값 계산"
      ]
    },
    {
      "cell_type": "markdown",
      "metadata": {
        "id": "t-OUijVE9p--",
        "colab_type": "text"
      },
      "source": [
        "## 2.4 Deflection of a membrane\n",
        "$$-\\bigtriangledown ^{2}w=4\\, exp\\left ( -\\beta ^{2}\\left ( x ^{2}+(y-R_{0}) ^{2} \\right )  \\right )$$\n",
        "\n",
        "$$D=\\frac{AR^{2}}{8\\pi \\sigma T}w$$"
      ]
    },
    {
      "cell_type": "code",
      "metadata": {
        "id": "kUBveNue_yLP",
        "colab_type": "code",
        "colab": {}
      },
      "source": [
        "from __future__ import print_function\n",
        "from fenics import *\n",
        "from mshr import *\n",
        "import numpy as np\n",
        "\n",
        "# Create mesh and define function space\n",
        "domain = Circle(Point(0, 0), 1)\n",
        "mesh = generate_mesh(domain, 64)\n",
        "V = FunctionSpace(mesh, 'P', 2)\n",
        "\n",
        "# Define boundary condition\n",
        "w_D = Constant(0)\n",
        "\n",
        "def boundary(x, on_boundary):\n",
        "    return on_boundary\n",
        "\n",
        "bc = DirichletBC(V, w_D, boundary)\n",
        "\n",
        "# Define load\n",
        "beta = 8\n",
        "R0 = 0.6\n",
        "p = Expression('4*exp(-pow(beta, 2)*(pow(x[0], 2) + pow(x[1] - R0, 2)))',\n",
        "               degree=1, beta=beta, R0=R0)\n",
        "\n",
        "# Define variational problem\n",
        "w = TrialFunction(V)\n",
        "v = TestFunction(V)\n",
        "a = dot(grad(w), grad(v))*dx\n",
        "L = p*v*dx\n",
        "\n",
        "# Compute solution\n",
        "w = Function(V)\n",
        "solve(a == L, w, bc)\n",
        "\n",
        "# Plot solution\n",
        "p = interpolate(p, V)\n",
        "plot(w, title='Deflection')\n",
        "plot(p, title='Load')\n",
        "\n",
        "# Save solution to file in VTK format\n",
        "vtkfile_w = File('poisson_membrane/deflection.pvd')\n",
        "vtkfile_w << w\n",
        "vtkfile_p = File('poisson_membrane/load.pvd')\n",
        "vtkfile_p << p\n",
        "\n",
        "# Curve plot along x = 0 comparing p and w\n",
        "import numpy as np\n",
        "import matplotlib.pyplot as plt\n",
        "tol = 0.001  # avoid hitting points outside the domain\n",
        "y = np.linspace(-1 + tol, 1 - tol, 101)\n",
        "points = [(0, y_) for y_ in y]  # 2D points\n",
        "w_line = np.array([w(point) for point in points])\n",
        "p_line = np.array([p(point) for point in points])\n",
        "plt.plot(y, 50*w_line, 'k', linewidth=2)  # magnify w\n",
        "plt.plot(y, p_line, 'b--', linewidth=2)\n",
        "plt.grid(True)\n",
        "plt.xlabel('$y$')\n",
        "plt.legend(['Deflection ($\\\\times 50$)', 'Load'], loc='upper left')\n",
        "plt.savefig('poisson_membrane/curves.pdf')\n",
        "plt.savefig('poisson_membrane/curves.png')\n",
        "\n",
        "# Hold plots\n",
        "interactive()\n",
        "plt.show()"
      ],
      "execution_count": 0,
      "outputs": []
    },
    {
      "cell_type": "markdown",
      "metadata": {
        "id": "Mig2JLciGI_j",
        "colab_type": "text"
      },
      "source": [
        "- ```domain = Circle(Point(0, 0), 1)```\n",
        "> NameError: name 'Circle' is not defined\n",
        "\n",
        "- ```domain = mshr.Circle(Point(0, 0), 1)```\n",
        "> AttributeError: module 'mshr' has no attribute 'Circle'\n",
        "\n",
        "- ```mesh = UnitDiscMesh(object, 64, 1, gdim)```\n",
        "> TypeError: dolfin.cpp.generation.UnitDiscMesh: No constructor defined!\n"
      ]
    }
  ]
}
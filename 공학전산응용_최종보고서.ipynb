{
  "nbformat": 4,
  "nbformat_minor": 0,
  "metadata": {
    "colab": {
      "name": "공학전산응용_최종보고서.ipynb",
      "provenance": [],
      "include_colab_link": true
    },
    "kernelspec": {
      "name": "python3",
      "display_name": "Python 3"
    }
  },
  "cells": [
    {
      "cell_type": "markdown",
      "metadata": {
        "id": "view-in-github",
        "colab_type": "text"
      },
      "source": [
        "<a href=\"https://colab.research.google.com/github/leegyuhi/oooooooooooooh/blob/master/%EA%B3%B5%ED%95%99%EC%A0%84%EC%82%B0%EC%9D%91%EC%9A%A9_%EC%B5%9C%EC%A2%85%EB%B3%B4%EA%B3%A0%EC%84%9C.ipynb\" target=\"_parent\"><img src=\"https://colab.research.google.com/assets/colab-badge.svg\" alt=\"Open In Colab\"/></a>"
      ]
    },
    {
      "cell_type": "code",
      "metadata": {
        "id": "jL9YUjCC_11x",
        "colab_type": "code",
        "outputId": "3a14ccf6-c96d-47a9-f332-29416c9a5a33",
        "colab": {
          "base_uri": "https://localhost:8080/",
          "height": 52
        }
      },
      "source": [
        "import sys\n",
        "import os\n",
        "import requests\n",
        "import subprocess\n",
        "import shutil\n",
        "from logging import getLogger, StreamHandler, INFO\n",
        "\n",
        "\n",
        "logger = getLogger(__name__)\n",
        "logger.addHandler(StreamHandler())\n",
        "logger.setLevel(INFO)\n",
        "\n",
        "\n",
        "def install(\n",
        "        chunk_size=4096,\n",
        "        file_name=\"Miniconda3-latest-Linux-x86_64.sh\",\n",
        "        url_base=\"https://repo.continuum.io/miniconda/\",\n",
        "        conda_path=os.path.expanduser(os.path.join(\"~\", \"miniconda\")),\n",
        "        rdkit_version=None,\n",
        "        add_python_path=True,\n",
        "        force=False):\n",
        "    \"\"\"install rdkit from miniconda\n",
        "    ```\n",
        "    import rdkit_installer\n",
        "    rdkit_installer.install()\n",
        "    ```\n",
        "    \"\"\"\n",
        "\n",
        "    python_path = os.path.join(\n",
        "        conda_path,\n",
        "        \"lib\",\n",
        "        \"python{0}.{1}\".format(*sys.version_info),\n",
        "        \"site-packages\",\n",
        "    )\n",
        "\n",
        "    if add_python_path and python_path not in sys.path:\n",
        "        logger.info(\"add {} to PYTHONPATH\".format(python_path))\n",
        "        sys.path.append(python_path)\n",
        "\n",
        "    if os.path.isdir(os.path.join(python_path, \"rdkit\")):\n",
        "        logger.info(\"rdkit is already installed\")\n",
        "        if not force:\n",
        "            return\n",
        "\n",
        "        logger.info(\"force re-install\")\n",
        "\n",
        "    url = url_base + file_name\n",
        "    python_version = \"{0}.{1}.{2}\".format(*sys.version_info)\n",
        "\n",
        "    logger.info(\"python version: {}\".format(python_version))\n",
        "\n",
        "    if os.path.isdir(conda_path):\n",
        "        logger.warning(\"remove current miniconda\")\n",
        "        shutil.rmtree(conda_path)\n",
        "    elif os.path.isfile(conda_path):\n",
        "        logger.warning(\"remove {}\".format(conda_path))\n",
        "        os.remove(conda_path)\n",
        "\n",
        "    logger.info('fetching installer from {}'.format(url))\n",
        "    res = requests.get(url, stream=True)\n",
        "    res.raise_for_status()\n",
        "    with open(file_name, 'wb') as f:\n",
        "        for chunk in res.iter_content(chunk_size):\n",
        "            f.write(chunk)\n",
        "    logger.info('done')\n",
        "\n",
        "    logger.info('installing miniconda to {}'.format(conda_path))\n",
        "    subprocess.check_call([\"bash\", file_name, \"-b\", \"-p\", conda_path])\n",
        "    logger.info('done')\n",
        "\n",
        "    logger.info(\"installing rdkit\")\n",
        "    subprocess.check_call([\n",
        "        os.path.join(conda_path, \"bin\", \"conda\"),\n",
        "        \"install\",\n",
        "        \"--yes\",\n",
        "        \"-c\", \"rdkit\",\n",
        "        \"python=={}\".format(python_version),\n",
        "        \"rdkit\" if rdkit_version is None else \"rdkit=={}\".format(rdkit_version)])\n",
        "    logger.info(\"done\")\n",
        "\n",
        "    import rdkit\n",
        "    logger.info(\"rdkit-{} installation finished!\".format(rdkit.__version__))\n",
        "\n",
        "\n",
        "if __name__ == \"__main__\":\n",
        "    install()"
      ],
      "execution_count": 0,
      "outputs": [
        {
          "output_type": "stream",
          "text": [
            "rdkit is already installed\n",
            "rdkit is already installed\n"
          ],
          "name": "stderr"
        }
      ]
    },
    {
      "cell_type": "markdown",
      "metadata": {
        "id": "GouPk2u-KrM4",
        "colab_type": "text"
      },
      "source": [
        "#Ⅰ SMILES-A Simplified Chemical Language\n",
        "SMILES(Simplified Moledcular Input Line Entry System)\n",
        "<br> 분자와 반응을 입력하고 나타내는 줄 표기법입니다.\n",
        "SMILES는 컴퓨터 데이터 구조가 아니라 언어 구조이기 때문에 유용하게 쓰입니다. 구조에 대한 SMILES 표현은 많은 화학 정보를 포함하고 있습니다. 각 분자는 고유한 SMILES가 존재함으로 인하여 이것으로 인해 이 분자의 모양을 알 수 있습니다. 또한 SMILES를 이용하면 같은 구조를 나타내는데에 필요한 용량이 적습니다.\n",
        "###SMILES의 예시\n",
        "<h3>SMILES | <h3> <center>Name</center> | <h3>SMILES | <h3><center>Name</center>\n",
        "---- | ---- | ---- | ----\n",
        "<h3>CC |<h3>ethane|<h3> [OH3+] | <h3>hydronium ion\n",
        "<h3>O=C=O |<h3>carbon dioxide| <h3>[2H]O[2H] | <h3>deuterium oxide\n",
        "<h3>C#N |<h3>hydrogen cyanide(HCN)| <h3>[235U] | <h3>uranium-235\n",
        "<h3>CCN(CC)CC |<h3>triethylamine|<h3> F/C=C/F |<h3> E-difluoroethene\n",
        "<h3>CC(=O)O |<h3>acetic acid|<h3> F/C=C\\F | <h3>Z-difluoroethene\n",
        "<h3>C1CCCCC1 |<h3>cyclohexane($C_{6}H_{12}$)|<h3> N'['C@@H']'(C)C(=O)O |<h3> L-alanine\n",
        "<h3>c1ccccc1 |<h3>benzene| <h3>N'['C@H']'(C)C(=O)O |<h3> D-alanine\n",
        "\n",
        "<h3> Reaction SMILES |<h3> Name\n",
        "---- | ----\n",
        "<h3>[I-].[Na+].C=CCBr>>[Na+].[Br-].C=CCI |<h3> 치환반응\n",
        "<h3>(C(=O)O).(OCC)>>(C(=O)OCC).(O) | <h3>분자간 에스테르화\n",
        "\n",
        "###SMILES를 사용하는 예시\n",
        "\n",
        "\n",
        "1.   데이터베이스 액세스를 위한 키\n",
        "2.   연구원들이 화학 정보를 교환하는 메커니즘\n",
        "3.   화학 데이터 입력 시스템\n",
        "4.   인공 지능 또는 화학 전문가 시스템 언어의 일부 \n",
        "\n",
        "\n"
      ]
    },
    {
      "cell_type": "markdown",
      "metadata": {
        "id": "jPWdfpbvR7KX",
        "colab_type": "text"
      },
      "source": [
        "##1. Canoncalization(정규화)\n",
        "  SMILES는 분자 구조를 선 2차원 그림으로써 분자 구조를 나타냅니다. 카이랄 또는 동위 원소 정보는 없이 원자 및 결합만 나타내는 SMILES를 generic SMILES이라고 하고 하나의 특수한 일반 SMILES를 생성하기 위한 표준화 알고리즘을 Unique SMILES, 동위 원소 및 카이랄을 나타내는 SMILES를 isomeric SMILES라고 합니다. Unique isomeric SMILES를 absolute SMILES라고 합니다.\n",
        "\n",
        "<h3>Input SMILES | <h3>Unique SMILES\n",
        "---- | ----\n",
        "<h3>OCC | <h3>CCO\n",
        "<h3>[CH3][CH2][OH] | <h3>CCO\n",
        "<h3>C-C-O | <h3>CCO\n",
        "<h3>C(O)C | <h3>CCO\n",
        "<h3>OC(=O)C(Br)(Cl)N | <h3>NC(Cl)(Br)C(=O)O\n",
        "<h3>ClC(Br)(N)C(=O)0 | <h3>NC(Cl)(Br)C(=O)O\n",
        "<h3>O=C(O)C(N)(Br)Cl | <h3>NC(Cl)(Br)C(=O)O"
      ]
    },
    {
      "cell_type": "markdown",
      "metadata": {
        "id": "gsr3uhM-Y6bA",
        "colab_type": "text"
      },
      "source": [
        "##2. SMILES Specification Rules(SMILES 명시 규칙)\n",
        "\n",
        "SMILES 표기법은 공백이 없는 일련의 문자로 구성되고 수소 원자는 생략되거나 포함 될 수 있다. 방향족 구조는 직접  또는 Kekule 방식으로 나타낼 수 있습니다. SMILES 인코딩 규칙에는 원자, 결합, 가지, 고리 ecification Rules(SMILES 명시 규칙)\n",
        "\n",
        "SMILES 표기법은 공백이 없는 일련의 문자로 구성되고 수소 원자는 생략되거나 포함 될 수 있습니다. 방향족 구조는 직접  또는 Kekule 방식으로 나타낼 수 있다. SMILES 인코딩 규칙에는 일반적으로 원자, 결합, 가지, 고리 닫힘, 단절 다섯 가지가 있습니다.\n",
        "\n",
        "\n"
      ]
    },
    {
      "cell_type": "markdown",
      "metadata": {
        "id": "bfaRbQ_TbB9M",
        "colab_type": "text"
      },
      "source": [
        "###2.1 Atom(원자)\n",
        "\n",
        "원자는 원자 기호로 표시되어지고 SMILES에서 유일하게 필요한 문자 사용입니다. 수소가 아닌 원자는 []로 묶인 원자 기호로 독립적으로 나타낼 수 있습니다. organic subset인 B,C,N,O,P,S,F,Cl,Br,I 는 부착된 수소의 수가 최저 원자가를 따르는 경우 괄호 없이 나타낼 수 있습니다. 여기서 최저 원자가는 B(3),C(4),N(3,5),O(2),P(3,5),S(2,4,6),할로젠 원소(1)으로 나타내어 지는 것을 말합니다. 지방족 탄소는 대문자 C로 나타내어지고 방향족 탄소는 소문자 c로 나타냅니다.\n",
        "\n",
        "ex)괄호없이 쓸 수 있는 SMILES\n",
        "\n",
        "<h3>SMILES |<h3> Name |<h3> Chemial formula\n",
        "---- | ---- | ----\n",
        "<h3>C |<h3> methane | <h3>(CH4)\n",
        "<h3>P | <h3>phosphine | <h3>(PH3)\n",
        "<h3>N | <h3>ammonia | <h3>(NH3)\n",
        "<h3>S |<h3> hydrogen sulfide | <h3>(H2S)\n",
        "<h3>O |<h3> water | <h3>(H2O)\n",
        "<h3>Cl | <h3>hydrochloric acid | <h3>(HCl)\n",
        "\n",
        "\n",
        "ex)괄호가 있어야 쓸 수 있는 SMILES\n",
        "<h3>SMILES |<h3> Name\n",
        "---- | ----\n",
        "<h3>$[S]$ | <h3>elemental sulfur\n",
        "<h3>$[Au]$ | <h3>elemental gold\n",
        "<h3>$[H]$ | <h3>Hydrogen Atom\n",
        "<h3>$[C]$ | <h3>elemental carbon(Graphite)\n",
        "\n",
        "괄호안에서 부착 된 수소와 전하는 항상 지정되어야합니다. 부착 된 수소의 수는 기호 H와 선택적 숫자로 표시가 되고 전하는 +또는 - 기호 중 한나와 숫자로 표시되어집니다. 지정되지 않은 경우 전하는 0으로 가정되어지고 숫자를 이용하지 않고 +나 -를 그 수만큼 사용하여 나타내어도 됩니다. ex) [Fe+++]=[Fe+3]\n",
        "\n",
        "ex)SMILES로 나타낸 전하\n",
        "<h3>Atoms |<h3> Name\n",
        "---- | ----\n",
        "<h3>[H+] |<h3> proton\n",
        "<h3>[Fe+2] |<h3> iron (II)cation\n",
        "<h3>[Fe++] |<h3>iron (II)cation\n",
        "<h3>[OH-]|<h3> hydroxyl anion\n",
        "<h3>[OH3+] |<h3> hydronium cation\n",
        "<h3>[NH4+] |<h3> ammonium cation\n",
        "<h3>[Co+2] or [Co++] |<h3> Cobalt(II)"
      ]
    },
    {
      "cell_type": "markdown",
      "metadata": {
        "id": "Jd8f2Q8DeY2N",
        "colab_type": "text"
      },
      "source": [
        "###2.2 Bonds(결합)\n",
        "단일, 이중, 삼중 및 방향족 결합은 각각 -,=,# 및 : 으로 표시됩니다. 인접 원자는 단일 또는 방향족 결합에 의해 서로 연결되어 있는 것으로 가정됩니다. 단일 및 방향족 결합은 항상 생략 될 수 있습니다.\n",
        "\n",
        "ex) 결합을 나타내는 SMILES\n",
        "\n",
        "<h3>SMILE |<h3> Name | <h3>chemical fomula\n",
        "---- | ---- | ----\n",
        "<h3>CC |<h3> ethane | <h3>(CH3CH3)\n",
        "<h3>C=O | <h3>formaldehyde |<h3> (CH2O)\n",
        "<h3>C=C |<h3>ethene |<h3> (CH2=CH2)\n",
        "<h3>O=C=O | <h3>carbon dioxide |<h3> (CO2)\n",
        "<h3>COC |<h3> dimethyl ether |<h3> (CH3OCH3)\n",
        "<h3>C#N | <h3>hydrogen cyanide |<h3> (HCN)\n",
        "<h3>CCO or C-C-O | <h3>ethanol | <h3>(CH3CH2OH)\n",
        "<h3>[H][H] | <h3>molecular hydrogen |<h3> (H2)"
      ]
    },
    {
      "cell_type": "markdown",
      "metadata": {
        "id": "QR1jDFyXlWSk",
        "colab_type": "text"
      },
      "source": [
        "선형 구조의 경우, SMILES 표기법은 수소 및 단일 결합이 일반적으로 생략된다는 점을 제외하고는 일반적인 표기법에 해당됩니다. ex) 6-hydroxy-1,4-hexadiene은 여러가지의 SMILES로 나타낼 수 있습니다.\n",
        "<h3>Structure |<h3> Vaild SMILES\n",
        "---- | ----\n",
        " | <h3>C=CCC=CCO\n",
        "<h3>CH2=CH-CH2-CH=CH-CH2-OH |<h3> C=C-C-C=C-C-O\n",
        " | <h3>OCC=CCC=C"
      ]
    },
    {
      "cell_type": "markdown",
      "metadata": {
        "id": "a69xYswunOEU",
        "colab_type": "text"
      },
      "source": [
        "###2.3 Branch(가지)\n",
        "\n",
        "가지는 소괄호로 묶어 지정되고 중첩되거나 쌓일 수 있습니다. 소괄호로 묶은 식에 대한 연결은 왼쪽에 있습니다.\n",
        "\n",
        "<h3>Triethylamine |<h3> Isobutyric acid |<h3> 3-propyl-4-isopropyl-1-heptene\n",
        "---- | ---- | ----\n",
        "![Triethylamine](http://www.daylight.com/dayhtml/doc/theory/theory1.gif) | ![ Isobutyric acid](http://www.daylight.com/dayhtml/doc/theory/theory2.gif) | ![3-propyl-4-isopropyl-1-heptene](http://www.daylight.com/dayhtml/doc/theory/theory3.gif)\n",
        "<h3>CCN(CC)CC |<h3> CC(C)C(=O)O |<h3> C=CC(CCC)C(C(C)C)CCC <br>\n",
        "\n",
        "ex)\n",
        "<h3>Image |<h3>SMILES |<h3> name\n",
        "---- | ---- | ----\n",
        " ![Fluoroform](https://www.daylight.com/dayhtml_tutorials/smi2gifImages/fluoroform.gif)| <h3>C(F)(F)F or FC(F)F|<h3>Fluoroform   \n",
        " ![4-Heptanoic Acid](https://www.daylight.com/dayhtml_tutorials/smi2gifImages/heptanoic.gif)|<h3> CCCC(C(=O)O)CCC  | <h3>4-Heptanoic Acid  \n",
        " ![Acetic Acid](https://www.daylight.com/dayhtml_tutorials/smi2gifImages/acetic.gif)| <h3> CC(=O)O |  <h3>Acetic Acid"
      ]
    },
    {
      "cell_type": "markdown",
      "metadata": {
        "id": "va7ybSeSo11K",
        "colab_type": "text"
      },
      "source": [
        "### 2.4 Cyclic Structures(순환 구조)\n",
        "고리 구조는 각 고리에서 하나의 결합을 끊는 것으로 표현되어집니다. 고리 폐쇄를 원자 기호 바로 다음에 숫자를 넣어주는것으로 고리 개방을 나타내어 줍니다. \n",
        "\n",
        "ex)Cyclohexane\n",
        "\n",
        "![Cyclohexane](http://www.daylight.com/dayhtml/doc/theory/theory4.gif)\n",
        "\n"
      ]
    },
    {
      "cell_type": "markdown",
      "metadata": {
        "id": "RsfjUnwQp3EA",
        "colab_type": "text"
      },
      "source": [
        "동일 구조에 대해 다양한 방법으로 나타낼 수 있습니다.\n",
        "ex)1-methyl-3-bromo-cyclohexene-1\n",
        "![1-methyl-3-bromo-cyclohexene-1](http://www.daylight.com/dayhtml/doc/theory/theory5.gif)\n",
        "\n",
        "(a) Br을 가지로 본 경우 , (b) (CC1)을 가지로 본 경우\n",
        "\n"
      ]
    },
    {
      "cell_type": "markdown",
      "metadata": {
        "id": "AZHCJ4pIq82c",
        "colab_type": "text"
      },
      "source": [
        "단일 원자는 둘 이상의 고리 폐쇄를 가질 수 있습니다.\n",
        "\n",
        "ex)cubane\n",
        "\n",
        "![Atom with 2ring](http://www.daylight.com/dayhtml/doc/theory/theory6.gif) <br><br>\n",
        "\n",
        "필요한 경우, 고리 닫힘을 나타내는 숫자를 재사용 할 수 있습니다. \n",
        "\n",
        "![reuse#](http://www.daylight.com/dayhtml/doc/theory/theory7.gif)\n",
        "<br><br>\n",
        "O1CCCCC1N1CCCCC1\n",
        "\n",
        "고리 닫힘의 숫자 재사용으로 인하여 10개 이상의 고리를 가지는 구조를 나타 낼 수 있습니다. 필요하거나 원하는 경우, % 로 두 자리 숫자를 앞에 두어 더 높은 번호의 고리 마감을 지정할 수 있습니다. ex)C2%13%24 는 고리 닫힘 2, 13 및 24를 갖는 탄소 원자입니다.\n",
        "\n",
        "ex)\n",
        "<h3>Image |<h3>SMILES |<h3> name\n",
        "---- | ---- | ----\n",
        " ![Cyclohexane](https://www.daylight.com/dayhtml_tutorials/smi2gifImages/cyclohexane.gif)| <h3>C1CCCCC1|<h3>Cyclohexane\n",
        " ![Decalin](https://www.daylight.com/dayhtml_tutorials/smi2gifImages/decalin.gif)|<h3>C12CCCCC1CCCC2 or<br>  C1CC2CCCCC2CC1  | <h3>Decalin  \n",
        " ![Bicyclohexane](https://www.daylight.com/dayhtml_tutorials/smi2gifImages/bicyclohexane.gif)| <h3> C1CCCCC1C1CCCCC1 |  <h3>Bicyclohexane\n",
        "![Cyclohexene](https://www.daylight.com/dayhtml_tutorials/smi2gifImages/cyclohexene.gif)| <h3> C1=CCCCC1 or <br> C=1CCCCC1 or <br> C1CCCCC=1 or <br>  C=1CCCCC=1 |  <h3>Cyclohexene"
      ]
    },
    {
      "cell_type": "markdown",
      "metadata": {
        "id": "F89tDbRVt1Nm",
        "colab_type": "text"
      },
      "source": [
        "###2.5 Disconnected Structures(분리된 구조)\n",
        "분리된 화합물은 \".\"을 이용하여 구분 된 개별 구조로 작성됩니다. 이온 또는 리간드(ligand)가 나열되는 순서는 임의적입니다. 한 전하와 다른 전하가 연결되어 있지 않으며 또한 전하를 띄지 않을 필요는 없습니다. 하나의 이온 SMILES는 다른 이온 내에 매립 될 수 있습니다. \n",
        "\n",
        "ex)sodium phenoxide\n",
        "\n",
        "![sodium phenoxide](http://www.daylight.com/dayhtml/doc/theory/theory8.gif)\n",
        "<br><br>\n",
        "\n",
        "<h3>SMILE |<h3> Name | <h3>chemical fomula\n",
        "---- | ---- | ----\n",
        "<h3>CCO.O |<h3> Ethanol and Water | <h3>(CH3CH3)\n",
        "<h3>[Na+].[Cl-] | <h3>Sodium Chloride |<h3> (NaCl)\n",
        "\n",
        "\n",
        "\n",
        "같은 자리수를 가지는 원자쌍은 서로 결합되어 있음을 의미합니다. 결합은 명시적(결합 기호 및 /또닌 고리 닫힘 앞의 방향) 또는 암시적(비 방향성 단일 또는 방향족 결합)일 수 있습니다. 이것은 결합이 고리의 일부로 끝나는 것과 상관없이 적용됩니다.\n"
      ]
    },
    {
      "cell_type": "markdown",
      "metadata": {
        "id": "klaIk8Xowe1k",
        "colab_type": "text"
      },
      "source": [
        "##3. Isomeric SMILES(이성질체 SMILES)\n",
        "\n",
        "SMILES의 이성질체 규칙을 사용하면 알려진 구조에 대해 카이랄성을 지정할 수 있습니다. CIP 및 IUPAC와 같은 대부분의 기존 화학 명명법과 달리 이 규칙은 엄격한 카이랄성 부분SMILES의 이성질체 규칙을 사용하면 알려진 구조에 대해 카이랄성을 지정할 수 있습니다. CIP 및 IUPAC와 같은 대부분의 기존 화학 명명법과 달리 이 규칙은 엄격한 카이랄성 부분적 명SMILES의 이성질체 규칙을 사용하면 알려진 구조에 대해 카이랄성을 지정할 수 있습니다. CIP 및 IUPAC와 같은 대부분의 기존 화학 명명법과 달리 이 규칙은 엄격한 카이랄성 부분SMILES의 이성질체 규칙을 사용하면 알려진 구조에 대해 카이랄성을 지정할 수 있습니다. CIP 및 IUPAC와 같은 대부분의 기존 화학 명명법과 달리 이 규칙은 엄격한 카이랄성 부분적 명시를 할 수 있습니다. SMILES의 모든 이성질체 규칙은 선택 사항이고 이러한 내용이 들어가 있지 않는다면 지정된 값이 없다는 것을 의미합니다.\n"
      ]
    },
    {
      "cell_type": "markdown",
      "metadata": {
        "id": "3iWbXhnAxpam",
        "colab_type": "text"
      },
      "source": [
        "###3.1 Isotopic Specification(동위원소)\n",
        "\n",
        "동위 원소는 동위원소의 질량을 숫자로 원자 기호 앞에 표시합니다.\n",
        "\n",
        "<h3>SMILES | <h3>Name\n",
        "---- | ----\n",
        "<h3>$[12C]$ | <h3>carbon-12\n",
        "<h3>$[13C]$ | <h3>carbon-13\n",
        "<h3>$[C]$ | <h3>carbon(unspecified mass)\n",
        "<h3>$[13CH4]$ | <h3>C-13 methane\n"
      ]
    },
    {
      "cell_type": "markdown",
      "metadata": {
        "id": "sOy3_biS4ifB",
        "colab_type": "text"
      },
      "source": [
        "###3.2 Configuration Around Double Bonds(이중결합을 둘러싼 배열)\n",
        "\n",
        "이중결합을 둘러싼 배열은 \"directional bonds(방향결합)\"을 나타내는 문자인 /와\\를 이용하여 나타낼 수 있고 단일 또는 방향족  결합의 종류로 생각할 수 있습니다. 기호는 연결된 원자 사이의 상대적인 방향성을 나타내며, 이중 결합 된 두 원자 모두에서 발생하는 경우에만 의미가 있습니다. \n",
        "<h3>E-1,2-difluoroethene | <h3>Z-1,2-difluoroethene\n",
        "---- | ----\n",
        "<h3>![E](http://www.daylight.com/dayhtml/doc/theory/theory9.gif) | <h3>![Z](http://www.daylight.com/dayhtml/doc/theory/theory10.gif)\n",
        "<h3>F/C=C/F | <h3>F/C=C\\F\n",
        "<h3>F\\C=C\\F |<h3> F\\C=C/F\n",
        "\n",
        "SMILES의 카이랄성 규약과 CIP같은 규약의 차이점은 SMILES는 부분적인 명시를 통하여 국부적으로 카이랄성을 나타낼 수 있다는 것입니다.\n",
        "\n",
        "\n",
        "\n",
        "![complete](http://www.daylight.com/dayhtml/doc/theory/theory11.gif) | ![partial](http://www.daylight.com/dayhtml/doc/theory/theory12.gif)\n",
        "---- | ----\n",
        "<h3>F/C=C/C=C/C | <h3> F/C=C/C=CC\n",
        "<h3>(completely specified) | <h3>(partially specified)\n",
        "\n"
      ]
    },
    {
      "cell_type": "markdown",
      "metadata": {
        "id": "I235ZJSo8Jdj",
        "colab_type": "text"
      },
      "source": [
        "###3.3. Configuration Around Tetrahedral Centers(사면체의 중심을 포함하는 구조)\n",
        "\n",
        "SMILES는 국부적 카이랄성에 기반한 매우 일반적인 카이랄성 명시법을 사용합니다. 방향은 SMILES 문자열에서 인접 항목 순으로 나타냅니다. SMILES에서 사면체의 중심은 카이랄 원자의 원자 기호 다음에 @ 또는 @@ 두개를 사용하여 표시합니다. 카이랄 원자에 대해 명시가 되지 않을 경우 카이랄성은 지정되지 않습니다. \n",
        "\n",
        "\n",
        "\n",
        "![u.c](http://www.daylight.com/dayhtml/doc/theory/theory13.gif) | ![s.c](http://www.daylight.com/dayhtml/doc/theory/theory14.gif)\n",
        "---- | ----\n",
        "NC(C)(F)C(=O)O | N$[C@]$(C)(F)C(=O)O(anticlockwise)\n",
        "NC(F)(C)C(=O)O | N$[C@@]$(F)(C)C(=O)O(clockwise)\n",
        "unspecified chirality | specified chirality\n",
        "\n",
        " \" @ \"는 이웃하는 원자들이 시계 반대 방향으로 나열됨을 나타내고 \" @@ \"는 이웃하는 원자들이 시계 방향으로 나열되어 있음을 나타냅니다.\n",
        "\n",
        " 중심 탄소가 SMILES에 첫 번째 원자가 아니고 수소가 부착되어 있으면 수소는 다음에 나오는 세 이웃 원자들 중 첫 번째 우너자로 간주되어집니다. 중심 탄소가 SMILES에서 첫 번째 원자라면 내제 된 수소는 원자로 간주되어집니다. 수소가 명시적으로 나타내어 질 경우 다른 원자와 같이 취급됩니다.\n",
        "\n",
        "<img src=\"http://www.daylight.com/dayhtml/doc/theory/theory15.gif\" width=\"200\" height=\"200\" />| <img src=\"http://www.daylight.com/dayhtml/doc/theory/theory16.gif\" width=\"200\" height=\"200\" />\n",
        "----|----\n",
        "$N[C@@]([H])(C)C(=O)O$ | $N[C@]([H])(C)C(=O)O$\n",
        "$N[C@@H](C)C(=O)O$ | $N[C@H](C)C(=O)O$\n",
        "$N[C@H](C(=O)O)C$ | $N[C@@H](C(=O)O)C$\n",
        "$[H][C@](N)(C)C(=O)O$ | $[H][C@@](N)(C)C(=O)O$\n",
        "$[C@H](N)(C)C(=O)O$ | $[C@@H](N)(C)C(=O)O$\n",
        "\n",
        "고리 닫힘 결합의 카이랄 순서는 고리 닫힘 숫자가 카이랄 원자 상에 나타나는 순서에 의해 나타내어 집니다.\n",
        "|![1](http://www.daylight.com/dayhtml/doc/theory/theory17.gif)|\n",
        "----\n",
        "|C$[C@H]$1CCCCO1|\n",
        "|or|\n",
        "|O1CCCC$[C@@H]$1C|\n"
      ]
    },
    {
      "cell_type": "markdown",
      "metadata": {
        "id": "W93oduLHDGic",
        "colab_type": "text"
      },
      "source": [
        "###3.4 General Chiral Specification(일반적 카이랄 사양)\n",
        "\n",
        "사면체 구조 외에 많은 종류의 카이랄성이 존재합니다. 위에서 사용하였던 \"@\"기호는 일반적인 카이랄 사양 중 특별한 경우에 사용합니다.\n",
        "\n",
        "일반적 카이랄 사양에는 \"@\"기호, 2문자 카이랄 클래스 표시  지표, 수적 순열 지정이 있습니다. 기본적인 카이랄 클래스는 각각의 차수 즉 연결 수에 따라 할당 됩니다. 4개의 연결에 대한 기본 클래스는 위에서 보았던 4면체(TH)이다.\n",
        "대부분의 경우 @1표시는 SMILE의 순서를 기준으로한 축에 반시계 방향으로 @2표시는 시계방향을 의미합니다.\n",
        "'@@'와 '@@@'는 '@2'와'@3'으로 해석됩니다.\n",
        "\"@@\"및 \"@@@\" 형식의 표기법은 앞에서 전하를 나타낸 것과 같이 \"@2\"및 \"@3\"을 나타냅니다.위에서 사용된 '@'와 '@@'는 '@TH1'과 '@TH2'를 간략하게 표현한 것입니다. SMILES는 대칭으로 인하여 감소된 거울상 이성질체를 뜻하는 \"감소된 카이랄성\"과 중심치환으로 인해 중심이 비카이랄성이 되는 \"퇴화한 카이랄성\"을 포함하여 넓은 범위를 다룰 수 있습니다. SMILES 시스템은 특정 사양에 대해 고유 한 이성질체 SMILES를 생성하며 모든 유형의 키랄성에서 인식이 올바르게 작동하도록 합니다.\n",
        "\n",
        " 사면체, 유사 알렌(allen-like), 정사각형, 삼각뿔, 팔면체 등의 카이랄이 있고 이 5가지 클래스는 매우 흔하고 자주 다루어 집니다.\n",
        "\n",
        "\n"
      ]
    },
    {
      "cell_type": "markdown",
      "metadata": {
        "id": "jf1_9LkYZj9W",
        "colab_type": "text"
      },
      "source": [
        "####유사 알렌(allen-like) \n",
        "\n",
        "유사 엘렌 클래스의 기호는 AL로 나타낸다. 2차수의 카이랄 클래스 default이고 중심원자는 이중 결합을 가집니다. 치환 된 C = C = C 구조가 가장 흔하지 만, C = C = C = C = C 구조와 같이 홀수 개의 일련의 이중 결합 원자원자도  유사 알렌에 포함됩니다. @ AL1 (@)과 @ AL2 (@@)을 사용하여 나타내고 치환된 원자의 중첩과 각각의 사면체의 평가에 의해 해석됩니다. 치환된 유사알렌 원자에 부착 된 수소는 그 원자 바로 뒤에 있는 것으로 간주되어 집니다.\n",
        "\n",
        "  ![AL](http://www.daylight.com/dayhtml/doc/theory/theory18.gif) | ![substituted](http://www.daylight.com/dayhtml/doc/theory/theory19.gif)\n",
        "---- | ----\n",
        "<h3>OC(Cl)=$[C@]$=C(C)F | <h3>OC=$[C@]$=CF\n",
        "<h3>OC(Cl)=$[C@AL1]$=C(C)F | <h3>OC($[H]$)=$[C@AL1]$=C($[H]$)F"
      ]
    },
    {
      "cell_type": "markdown",
      "metadata": {
        "id": "fFwCsc14ZUAt",
        "colab_type": "text"
      },
      "source": [
        "####정사각형\n",
        "\n",
        "정사각형 클래스의 기호는 SP로 나타냅니다. 사용 가능한 값은 @SP1,@SP2, SP3가 있으나 차수가 4개인 카이랄 클래스의 default는 아니고 줄여서 사용할 수가 없습니다. 그리고 시계방향과 반시계방향이 적용되지 않는다는 점에서 다른 클래스들과 차이를 보입니다.\n",
        "\n",
        "<img src=\"http://www.daylight.com/dayhtml/doc/theory/theory20.gif\" width=\"140\" height=\"200\" /> | -\n",
        "---- | ----\n",
        "$F[Po@SP1](Cl)(Br)I$ | <h7>(SP1 lists in a \"U shape\")\n",
        "$F[Po@SP2](Br)(Cl)I$ | (SP2 lists in a \"4-shape\")\n",
        "$F[Po@SP3](Cl)(I)Br$ | (SP3 lists in a \"Z shape\")"
      ]
    },
    {
      "cell_type": "markdown",
      "metadata": {
        "id": "TKSBl8cldLVX",
        "colab_type": "text"
      },
      "source": [
        "####삼각뿔형\n",
        "\n",
        "삼격뿔 형의 클래스 기호는 TB입니다. 이것은 차수가 5인 기본 카이랄 클래스입니다. 가능한 값은 @TB1 ~ @TB20까지 있습니다. @TB1(@)은 한 축 연결에서 다른 축 연결로 나열 될 때 3개의 수평적으로 연결된 중간원자가 시계 반대 방향으로 나열됨을 나타내고 @TB2(@@)는 시계 방향으로 나열됨을 나타냅니다.\n",
        "\n",
        "|![TB](http://www.daylight.com/dayhtml/doc/theory/theory21.gif)|\n",
        "----\n",
        "|<h3>S$[As@@]$(F)(Cl)(Br)C=O<br>|\n",
        "|<h3>O=C$[As@]$(F)(Cl)(Br)S<br>|"
      ]
    },
    {
      "cell_type": "markdown",
      "metadata": {
        "id": "YGRf1SC3eNp1",
        "colab_type": "text"
      },
      "source": [
        "####8면체\n",
        "\n",
        "8면체 클래스의 기호는 OH입니다. 차수 6을 가지는 기본 카이랄 클래스이고 사용하는 값은 @OH1 ~ @OH30을 사용합니다. @OH1(@)는 한 축연결에서 다른 축 연결로 나열될때 수평적으로 연결된 4개의 중간 원자가 반 시계 방향으로 나열됨을 나타냅니다. @OH2(@@)는 시계 방향을 나타냅니다.\n",
        "\n",
        "|![OH](http://www.daylight.com/dayhtml/doc/theory/theory22.gif)|\n",
        "----\n",
        "|S$[Co@@]$(F)(Cl)(Br)(I)C=O<br>|\n",
        "|O=C$[Co@]$(F)(Cl)(Br)(I)S|"
      ]
    },
    {
      "cell_type": "code",
      "metadata": {
        "id": "9WcT_Cc3Jh_y",
        "colab_type": "code",
        "colab": {}
      },
      "source": [
        "#RDkit 적용\n",
        "from __future__ import print_function\n",
        "from rdkit import Chem\n",
        "from rdkit.Chem import AllChem\n",
        "from rdkit.Chem.Draw import IPythonConsole\n",
        "from rdkit.Chem import Draw"
      ],
      "execution_count": 0,
      "outputs": []
    },
    {
      "cell_type": "markdown",
      "metadata": {
        "id": "dbFvpa45NpFl",
        "colab_type": "text"
      },
      "source": [
        "## 4. SMILES Conventions(관례)\n",
        "앞의 규칙 외에도 SMILES에서 사용되는 몇가지 관례들이 있습니다."
      ]
    },
    {
      "cell_type": "markdown",
      "metadata": {
        "id": "W9w4_GzrOzU5",
        "colab_type": "text"
      },
      "source": [
        "###4.1 Hydrogens(수소)\n",
        "SMILES로 작성할 때 대부분의 유기 구조에서 수소 원자는 일반적으로 생략됩니다. 수소의 존재는 세가지 방식으로 표시될 수 있습니다.\n",
        " * 암시적인 방식 : 일반적인 원자가 가정으로부터 대괄호([ ])로 표시되지 않은 원자\n",
        " * 명시적인 방식 : 대괄호([ ])안에 수소의 수를 표시\n",
        " * 수소 원자 : **[H]**원자\n",
        "\n",
        "또한 유기 및 무기 명명법에는 차이가 없습니다."
      ]
    },
    {
      "cell_type": "markdown",
      "metadata": {
        "id": "dVUt27hWTisw",
        "colab_type": "text"
      },
      "source": [
        "수소를 명확하게 표시해줘야 하는 4가지 경우가 있습니다.\n",
        " * 전하를 가지는 수소 : **[H+]**\n",
        " * 다른 수소와 연결된 수소 : 분자수소(**[H][H]**)\n",
        " * 두개 이상의 다른 원자와 연결된 수소 : bridging hydrogens\n",
        " * 동위원소 수소 : 중수(**[2H]O[2H]**)"
      ]
    },
    {
      "cell_type": "code",
      "metadata": {
        "id": "oHmSB0PRWERQ",
        "colab_type": "code",
        "outputId": "6364e050-bec1-4a06-ba9a-cec6ba622bc2",
        "colab": {
          "base_uri": "https://localhost:8080/",
          "height": 185
        }
      },
      "source": [
        "Chem.MolFromSmiles('[H+]')"
      ],
      "execution_count": 0,
      "outputs": [
        {
          "output_type": "stream",
          "text": [
            "RDKit WARNING: [16:08:38] WARNING: not removing hydrogen atom without neighbors\n"
          ],
          "name": "stderr"
        },
        {
          "output_type": "execute_result",
          "data": {
            "image/png": "[encoded data removed]",
            "text/plain": [
              "<rdkit.Chem.rdchem.Mol at 0x7fe61e579a80>"
            ]
          },
          "metadata": {
            "tags": []
          },
          "execution_count": 56
        }
      ]
    },
    {
      "cell_type": "code",
      "metadata": {
        "id": "CFGdqvUHM4lu",
        "colab_type": "code",
        "outputId": "a7520428-381b-4a90-bac4-40e03749224d",
        "colab": {
          "base_uri": "https://localhost:8080/",
          "height": 167
        }
      },
      "source": [
        "Chem.MolFromSmiles('[H][H]')\n"
      ],
      "execution_count": 0,
      "outputs": [
        {
          "output_type": "execute_result",
          "data": {
            "image/png": "[encoded data removed]",
            "text/plain": [
              "<rdkit.Chem.rdchem.Mol at 0x7fe61e5791c0>"
            ]
          },
          "metadata": {
            "tags": []
          },
          "execution_count": 57
        }
      ]
    },
    {
      "cell_type": "code",
      "metadata": {
        "id": "8UvLUOdyVvZa",
        "colab_type": "code",
        "outputId": "450abab0-9d34-465f-ceed-9a98d80afa14",
        "colab": {
          "base_uri": "https://localhost:8080/",
          "height": 167
        }
      },
      "source": [
        "Chem.MolFromSmiles('[2H]O[2H]')"
      ],
      "execution_count": 0,
      "outputs": [
        {
          "output_type": "execute_result",
          "data": {
            "image/png": "[encoded data removed]",
            "text/plain": [
              "<rdkit.Chem.rdchem.Mol at 0x7fe61e579b70>"
            ]
          },
          "metadata": {
            "tags": []
          },
          "execution_count": 58
        }
      ]
    },
    {
      "cell_type": "markdown",
      "metadata": {
        "id": "egBHaLraXC6s",
        "colab_type": "text"
      },
      "source": [
        "### 4.2 Aromaticity(방향성)\n",
        "분자의 대칭성을 특징짓기 위해 SMILES와 같은 시스템에서 방향성에 대한 명확한 화학 명명법이 추론되어야 한다. 효과적인 방향족 검출 알고리즘이 주어지면, 사용자가 지방족(Kekulé-like) 구조입력을 선호하는 경우 방향성으로 입력할 필요가 없다. 방향성으로 구조물을 입력하면 짧게 입력해서 정확한 화학구조를 얻을 수 있다."
      ]
    },
    {
      "cell_type": "markdown",
      "metadata": {
        "id": "WK0ym3U0ctxo",
        "colab_type": "text"
      },
      "source": [
        "SMILES 알고리즘은 확장된 버전의 Hueckel 규칙을 사용하여 방향족 분자 및 이온을 식별합니다.\n",
        "> 방향족으로서 자격을 갖기 위해서는\n",
        "> 1. 고리의 모든 원자가 $sp^{2}$ 혼성화 되어있어야 한다.\n",
        "> 2. 고리에 (4N+2)개의 $\\pi$전자를 가져야한다."
      ]
    },
    {
      "cell_type": "code",
      "metadata": {
        "id": "Yu-RYqUJlGRT",
        "colab_type": "code",
        "outputId": "bc624a29-229d-46a4-c65f-3fb26e78f194",
        "colab": {
          "base_uri": "https://localhost:8080/",
          "height": 167
        }
      },
      "source": [
        "Chem.MolFromSmiles('c1ccccc1') #aromatic"
      ],
      "execution_count": 0,
      "outputs": [
        {
          "output_type": "execute_result",
          "data": {
            "image/png": "[encoded data removed]",
            "text/plain": [
              "<rdkit.Chem.rdchem.Mol at 0x7fe62454cdf0>"
            ]
          },
          "metadata": {
            "tags": []
          },
          "execution_count": 59
        }
      ]
    },
    {
      "cell_type": "code",
      "metadata": {
        "id": "5JhVGiqRdMAJ",
        "colab_type": "code",
        "outputId": "c1572d93-b7c3-4621-f032-e8d050eb1556",
        "colab": {
          "base_uri": "https://localhost:8080/",
          "height": 167
        }
      },
      "source": [
        "Chem.MolFromSmiles('C1=CC=CC=C1') #aliphatic"
      ],
      "execution_count": 0,
      "outputs": [
        {
          "output_type": "execute_result",
          "data": {
            "image/png": "[encoded data removed]",
            "text/plain": [
              "<rdkit.Chem.rdchem.Mol at 0x7fe61e572710>"
            ]
          },
          "metadata": {
            "tags": []
          },
          "execution_count": 60
        }
      ]
    },
    {
      "cell_type": "markdown",
      "metadata": {
        "id": "4AaU1s_2lcNp",
        "colab_type": "text"
      },
      "source": [
        "조건에서 2번을 만족하지 않는것을 anti-aromatic이라고 한다 c1ccc1, c1ccccccc1 같은 경우가 있는데 SMILES 시스템에서 내재된 $sp^{2}$혼성화, 수소 수 및 지정된 공식전하(있는 경우)를 보존하는 구조를 찾습니다. 따라서 C1=CC=C1와 C1=CC=CC=CC=C1에 대한 정확한 anti-aromatic 구조를 생성합니다."
      ]
    },
    {
      "cell_type": "code",
      "metadata": {
        "id": "KZwoV8AafDkS",
        "colab_type": "code",
        "outputId": "7eb84929-c1b8-496c-86a2-e16ee5b13e16",
        "colab": {
          "base_uri": "https://localhost:8080/",
          "height": 167
        }
      },
      "source": [
        "Chem.MolFromSmiles('c1ccc1') #anti-aromatic"
      ],
      "execution_count": 0,
      "outputs": [
        {
          "output_type": "execute_result",
          "data": {
            "image/png": "[encoded data removed]",
            "text/plain": [
              "<rdkit.Chem.rdchem.Mol at 0x7fe61e572940>"
            ]
          },
          "metadata": {
            "tags": []
          },
          "execution_count": 61
        }
      ]
    },
    {
      "cell_type": "code",
      "metadata": {
        "id": "9P_qqs1hmyES",
        "colab_type": "code",
        "outputId": "0a8bd5a5-1bc2-4da8-cd66-e1c2d734aaae",
        "colab": {
          "base_uri": "https://localhost:8080/",
          "height": 167
        }
      },
      "source": [
        "Chem.MolFromSmiles('c1ccccccc1') #anti-aromatic"
      ],
      "execution_count": 0,
      "outputs": [
        {
          "output_type": "execute_result",
          "data": {
            "image/png": "[encoded data removed]",
            "text/plain": [
              "<rdkit.Chem.rdchem.Mol at 0x7fe61e580c10>"
            ]
          },
          "metadata": {
            "tags": []
          },
          "execution_count": 62
        }
      ]
    },
    {
      "cell_type": "markdown",
      "metadata": {
        "id": "K9GDGbGQnH0_",
        "colab_type": "text"
      },
      "source": [
        "그러나 c1cccc1과 같은 일부 입력은 정확하지 않을 수도 있고 불가능할 수도 있습니다. 여기서 탄소 원자 중 하나가 2개의 수소가 부착된 $sp^{3}$이기 때문에 c1cccc1은 C1=CCC=C1으로 전환될 수 없다. 이러한 구조에서 단일 및 이중결합이 교대로 이루어질 수 없기 때문에 SMILES 시스템은 이를 \"불가능한\" 입력이라고 표시합니다. 또한 고리 밖에 있는 이중결합은 방향성을 파괴하지 않는다."
      ]
    },
    {
      "cell_type": "code",
      "metadata": {
        "id": "FRvrMY9Em0JG",
        "colab_type": "code",
        "outputId": "a4f416ad-ebe2-4a83-dd63-a48bc41ad8b4",
        "colab": {
          "base_uri": "https://localhost:8080/",
          "height": 52
        }
      },
      "source": [
        "Chem.MolFromSmiles('c1cccc1') #aromatic으로 입력했지만 aromatic이 아니기에 오류가 발생"
      ],
      "execution_count": 0,
      "outputs": [
        {
          "output_type": "stream",
          "text": [
            "RDKit ERROR: [16:08:38] Can't kekulize mol.  Unkekulized atoms: 0 1 2 3 4\n",
            "RDKit ERROR: \n"
          ],
          "name": "stderr"
        }
      ]
    },
    {
      "cell_type": "code",
      "metadata": {
        "id": "28jC0UAQoUhh",
        "colab_type": "code",
        "outputId": "b9b25602-8331-423f-a242-e576f595fe1d",
        "colab": {
          "base_uri": "https://localhost:8080/",
          "height": 167
        }
      },
      "source": [
        "Chem.MolFromSmiles('C1=CCC=C1') #aliphatic"
      ],
      "execution_count": 0,
      "outputs": [
        {
          "output_type": "execute_result",
          "data": {
            "image/png": "[encoded data removed]",
            "text/plain": [
              "<rdkit.Chem.rdchem.Mol at 0x7fe61e580490>"
            ]
          },
          "metadata": {
            "tags": []
          },
          "execution_count": 64
        }
      ]
    },
    {
      "cell_type": "markdown",
      "metadata": {
        "id": "eKwtBEQrooRk",
        "colab_type": "text"
      },
      "source": [
        "몇가지 추가적인 aromatic"
      ]
    },
    {
      "cell_type": "code",
      "metadata": {
        "id": "iqo0mEcQonTW",
        "colab_type": "code",
        "outputId": "70c6c93a-2d21-4862-ed45-ec7b7bd66ad3",
        "colab": {
          "base_uri": "https://localhost:8080/",
          "height": 167
        }
      },
      "source": [
        "Chem.MolFromSmiles('c1cocc1')"
      ],
      "execution_count": 0,
      "outputs": [
        {
          "output_type": "execute_result",
          "data": {
            "image/png": "[encoded data removed]",
            "text/plain": [
              "<rdkit.Chem.rdchem.Mol at 0x7fe61e5804e0>"
            ]
          },
          "metadata": {
            "tags": []
          },
          "execution_count": 65
        }
      ]
    },
    {
      "cell_type": "code",
      "metadata": {
        "id": "DYuq5qjVoigr",
        "colab_type": "code",
        "outputId": "c30ca59e-cd43-4f67-8a59-a7a337ce66a7",
        "colab": {
          "base_uri": "https://localhost:8080/",
          "height": 167
        }
      },
      "source": [
        "Chem.MolFromSmiles('c1cnc[nH]c(=O)1')"
      ],
      "execution_count": 0,
      "outputs": [
        {
          "output_type": "execute_result",
          "data": {
            "image/png": "[encoded data removed]",
            "text/plain": [
              "<rdkit.Chem.rdchem.Mol at 0x7fe61e572ad0>"
            ]
          },
          "metadata": {
            "tags": []
          },
          "execution_count": 66
        }
      ]
    },
    {
      "cell_type": "code",
      "metadata": {
        "id": "fnQmgS50o64e",
        "colab_type": "code",
        "outputId": "7162e341-6754-4e20-ec19-6df893f1131c",
        "colab": {
          "base_uri": "https://localhost:8080/",
          "height": 167
        }
      },
      "source": [
        "Chem.MolFromSmiles('c1c*ccc1') # *은 와일드카드"
      ],
      "execution_count": 0,
      "outputs": [
        {
          "output_type": "execute_result",
          "data": {
            "image/png": "[encoded data removed]",
            "text/plain": [
              "<rdkit.Chem.rdchem.Mol at 0x7fe61e579a30>"
            ]
          },
          "metadata": {
            "tags": []
          },
          "execution_count": 67
        }
      ]
    },
    {
      "cell_type": "code",
      "metadata": {
        "id": "l_r_OUakpCBo",
        "colab_type": "code",
        "outputId": "023e57ef-706d-4863-fa23-e8a0037f120f",
        "colab": {
          "base_uri": "https://localhost:8080/",
          "height": 167
        }
      },
      "source": [
        "Chem.MolFromSmiles('[cH-]1cccc1')"
      ],
      "execution_count": 0,
      "outputs": [
        {
          "output_type": "execute_result",
          "data": {
            "image/png": "[encoded data removed]",
            "text/plain": [
              "<rdkit.Chem.rdchem.Mol at 0x7fe61e588300>"
            ]
          },
          "metadata": {
            "tags": []
          },
          "execution_count": 68
        }
      ]
    },
    {
      "cell_type": "markdown",
      "metadata": {
        "id": "7pOhwEzepcWk",
        "colab_type": "text"
      },
      "source": [
        "### 4.3 Aromatic Nitrogen Compounds(방향족 질소 화합물)\n",
        "방향족 질소의 경우 방향족 질소 기호인 n으로 지정될 수 있다."
      ]
    },
    {
      "cell_type": "code",
      "metadata": {
        "id": "s920sZz5pNOl",
        "colab_type": "code",
        "outputId": "fac2f566-c47d-4c9c-8551-c09bf964cf36",
        "colab": {
          "base_uri": "https://localhost:8080/",
          "height": 167
        }
      },
      "source": [
        "Chem.MolFromSmiles('n1ccccc1') # pyridine"
      ],
      "execution_count": 0,
      "outputs": [
        {
          "output_type": "execute_result",
          "data": {
            "image/png": "[encoded data removed]",
            "text/plain": [
              "<rdkit.Chem.rdchem.Mol at 0x7fe61e588440>"
            ]
          },
          "metadata": {
            "tags": []
          },
          "execution_count": 69
        }
      ]
    },
    {
      "cell_type": "code",
      "metadata": {
        "id": "86d8tNInqAqq",
        "colab_type": "code",
        "outputId": "e07880de-6220-47f6-98d9-5e600b1dd02b",
        "colab": {
          "base_uri": "https://localhost:8080/",
          "height": 167
        }
      },
      "source": [
        "Chem.MolFromSmiles('O=n1ccccc1') # pyridine-N-oxide"
      ],
      "execution_count": 0,
      "outputs": [
        {
          "output_type": "execute_result",
          "data": {
            "image/png": "[encoded data removed]",
            "text/plain": [
              "<rdkit.Chem.rdchem.Mol at 0x7fe61e588580>"
            ]
          },
          "metadata": {
            "tags": []
          },
          "execution_count": 70
        }
      ]
    },
    {
      "cell_type": "code",
      "metadata": {
        "id": "HHY23UWPqJSo",
        "colab_type": "code",
        "outputId": "9bc9c914-de58-40e9-f87c-9b7c59943df4",
        "colab": {
          "base_uri": "https://localhost:8080/",
          "height": 167
        }
      },
      "source": [
        "Chem.MolFromSmiles('Cn1cccc1') # methylpyrrole"
      ],
      "execution_count": 0,
      "outputs": [
        {
          "output_type": "execute_result",
          "data": {
            "image/png": "[encoded data removed]",
            "text/plain": [
              "<rdkit.Chem.rdchem.Mol at 0x7fe61e588350>"
            ]
          },
          "metadata": {
            "tags": []
          },
          "execution_count": 71
        }
      ]
    },
    {
      "cell_type": "code",
      "metadata": {
        "id": "sNO49F9HqZ8i",
        "colab_type": "code",
        "outputId": "a96ea2e0-05f0-471e-be1a-e3fcc1c8f484",
        "colab": {
          "base_uri": "https://localhost:8080/",
          "height": 167
        }
      },
      "source": [
        "Chem.MolFromSmiles('[nH]1cccc1') # pyrrole"
      ],
      "execution_count": 0,
      "outputs": [
        {
          "output_type": "execute_result",
          "data": {
            "image/png": "[encoded data removed]",
            "text/plain": [
              "<rdkit.Chem.rdchem.Mol at 0x7fe61e588530>"
            ]
          },
          "metadata": {
            "tags": []
          },
          "execution_count": 72
        }
      ]
    },
    {
      "cell_type": "markdown",
      "metadata": {
        "id": "0EKBMImQs9-d",
        "colab_type": "text"
      },
      "source": [
        "pyrrole의 질소는 pyridine의 질소와 구별하기 위해서 **[nH]**라고 쓴다."
      ]
    },
    {
      "cell_type": "markdown",
      "metadata": {
        "id": "IIJcaQX4vFhL",
        "colab_type": "text"
      },
      "source": [
        "### 4.4 Bonding Conventions (결합 관례)\n",
        "SMILES는 분자 구조를 모델링하기 위해 어떤 원자가 규칙을 사용해야하는지 지시하지 않습니다.SMILES를 사용하면 동일한 구조를 다양한 모델로 설명할 수 있고 원하는대로 원자의 전하를 나타낼 수 있다는 장점이 있습니다."
      ]
    },
    {
      "cell_type": "code",
      "metadata": {
        "id": "A8n7B8kGrQCK",
        "colab_type": "code",
        "outputId": "cdef3aee-5b62-4c79-dd12-e4c355b0dd8c",
        "colab": {
          "base_uri": "https://localhost:8080/",
          "height": 167
        }
      },
      "source": [
        "Chem.MolFromSmiles('CN(=O)=O') # nitromethane"
      ],
      "execution_count": 0,
      "outputs": [
        {
          "output_type": "execute_result",
          "data": {
            "image/png": "[encoded data removed]",
            "text/plain": [
              "<rdkit.Chem.rdchem.Mol at 0x7fe61e588990>"
            ]
          },
          "metadata": {
            "tags": []
          },
          "execution_count": 73
        }
      ]
    },
    {
      "cell_type": "code",
      "metadata": {
        "id": "-3nmsnthxaQV",
        "colab_type": "code",
        "outputId": "022877c5-73b0-4ddc-b4dd-09d11549c6b2",
        "colab": {
          "base_uri": "https://localhost:8080/",
          "height": 167
        }
      },
      "source": [
        "Chem.MolFromSmiles('C[N+](=O)[O-]') # nitromethane"
      ],
      "execution_count": 0,
      "outputs": [
        {
          "output_type": "execute_result",
          "data": {
            "image/png": "[encoded data removed]",
            "text/plain": [
              "<rdkit.Chem.rdchem.Mol at 0x7fe61e588a80>"
            ]
          },
          "metadata": {
            "tags": []
          },
          "execution_count": 74
        }
      ]
    },
    {
      "cell_type": "markdown",
      "metadata": {
        "id": "RcNwXQV4h-55",
        "colab_type": "text"
      },
      "source": [
        "일반적으로 대칭성이 문제가 되지 않는 경우 특이한 원자가 상태에서 원자를 나타내는 것을 피할 수 있으면 전하 분리 구조를 선호합니다. 예를 들어 diazomethane은 C=[N]=[N]보다 C=[N+]=[N-]로 하는 것을 선호합니다."
      ]
    },
    {
      "cell_type": "code",
      "metadata": {
        "id": "NPLxuVZdxeyd",
        "colab_type": "code",
        "outputId": "8a171319-9372-43a1-cd4a-e18daea330bd",
        "colab": {
          "base_uri": "https://localhost:8080/",
          "height": 167
        }
      },
      "source": [
        "Chem.MolFromSmiles('C=[N+]=[N-]') # diazomethane"
      ],
      "execution_count": 0,
      "outputs": [
        {
          "output_type": "execute_result",
          "data": {
            "image/png": "[encoded data removed]",
            "text/plain": [
              "<rdkit.Chem.rdchem.Mol at 0x7fe61e580210>"
            ]
          },
          "metadata": {
            "tags": []
          },
          "execution_count": 75
        }
      ]
    },
    {
      "cell_type": "markdown",
      "metadata": {
        "id": "BfArgUR-j1eD",
        "colab_type": "text"
      },
      "source": [
        "### 4.5 Tautomers\n",
        "Tautomeric 구조는 SMILES에서 명확하게 지정된다. \"tautomeric bond\", \"mobile hydrogen\", \"mobile charge\"에 대해 정해진 것은 없다. 하나의 tautomeric form을 고려할 때 대부분의 화학 정보 시스템은 필요한 경우 알려진 모든 tautomer에 대한 데이터를 보고할 것이다. SMILES의 역할은 요청된 tautomeric form과 데이터가 있는 위치를 정확히 지정하는 것이다."
      ]
    },
    {
      "cell_type": "code",
      "metadata": {
        "id": "NoHoHqaUiqji",
        "colab_type": "code",
        "outputId": "33168137-df2e-4bbc-d163-5f4cbe0178a8",
        "colab": {
          "base_uri": "https://localhost:8080/",
          "height": 167
        }
      },
      "source": [
        "Chem.MolFromSmiles('O=c1[nH]cccc1') # 2-pyridone"
      ],
      "execution_count": 0,
      "outputs": [
        {
          "output_type": "execute_result",
          "data": {
            "image/png": "[encoded data removed]",
            "text/plain": [
              "<rdkit.Chem.rdchem.Mol at 0x7fe61e572c60>"
            ]
          },
          "metadata": {
            "tags": []
          },
          "execution_count": 76
        }
      ]
    },
    {
      "cell_type": "code",
      "metadata": {
        "id": "wUk3NCZNkyoR",
        "colab_type": "code",
        "outputId": "6c345448-3362-4fe7-98ca-151bd3682257",
        "colab": {
          "base_uri": "https://localhost:8080/",
          "height": 167
        }
      },
      "source": [
        "Chem.MolFromSmiles('Oc1ncccc1') # 2-pyridinol"
      ],
      "execution_count": 0,
      "outputs": [
        {
          "output_type": "execute_result",
          "data": {
            "image/png": "[encoded data removed]",
            "text/plain": [
              "<rdkit.Chem.rdchem.Mol at 0x7fe61e588ad0>"
            ]
          },
          "metadata": {
            "tags": []
          },
          "execution_count": 78
        }
      ]
    },
    {
      "cell_type": "markdown",
      "metadata": {
        "id": "BfeyJD2LmS4F",
        "colab_type": "text"
      },
      "source": [
        "## 5. Extensions for Reactions(반응으로의 확장)\n",
        "SMILES 언어는 반응을 처리하도록 확장되어진다.  \n",
        "반응의 구성요소는 \">\"를 사용하여 구분한다.  \n",
        "반응을 나타내는 전체문자 내에 반드시 2개의 \">\"가 있어야한다.\n",
        " * reactant > agent > product\n",
        " * reactant >> product"
      ]
    },
    {
      "cell_type": "markdown",
      "metadata": {
        "id": "-NBPu674uWEb",
        "colab_type": "text"
      },
      "source": [
        "예시를 보겠습니다."
      ]
    },
    {
      "cell_type": "code",
      "metadata": {
        "id": "nCOnFRWDk8f0",
        "colab_type": "code",
        "outputId": "9073ab77-6753-4f16-e00c-61b1f64467d5",
        "colab": {
          "base_uri": "https://localhost:8080/",
          "height": 167
        }
      },
      "source": [
        "AllChem.ReactionFromSmarts('C=CCBr>>C=CCI')\n",
        "# 작용제는 없고, 반응에서 몇명 원자가 빠져있는 상태입니다."
      ],
      "execution_count": 0,
      "outputs": [
        {
          "output_type": "execute_result",
          "data": {
            "image/png": "[encoded data removed]",
            "text/plain": [
              "<rdkit.Chem.rdChemReactions.ChemicalReaction at 0x7fe61e5250d0>"
            ]
          },
          "metadata": {
            "tags": []
          },
          "execution_count": 81
        }
      ]
    },
    {
      "cell_type": "code",
      "metadata": {
        "id": "cuwAvRTkupc8",
        "colab_type": "code",
        "outputId": "ea3ac052-ff47-4978-d3cc-1aca5a9e0212",
        "colab": {
          "base_uri": "https://localhost:8080/",
          "height": 187
        }
      },
      "source": [
        "AllChem.ReactionFromSmarts('[I-].[Na+].C=CCBr>>[Na+].[Br-].C=CCI')\n",
        "# 위 반응과 동일하고 더 완전한 형태입니다."
      ],
      "execution_count": 0,
      "outputs": [
        {
          "output_type": "execute_result",
          "data": {
            "image/png": "[encoded data removed]",
            "text/plain": [
              "<rdkit.Chem.rdChemReactions.ChemicalReaction at 0x7fe61e4a9c10>"
            ]
          },
          "metadata": {
            "tags": []
          },
          "execution_count": 82
        }
      ]
    },
    {
      "cell_type": "code",
      "metadata": {
        "id": "_IARUTGBvV3A",
        "colab_type": "code",
        "outputId": "a7de596a-ec7e-4c2b-e95a-f70e7ef16f2b",
        "colab": {
          "base_uri": "https://localhost:8080/",
          "height": 187
        }
      },
      "source": [
        "AllChem.ReactionFromSmarts('C=CCBr.[Na+].[I-]>CC(=O)C>C=CCI.[Na+].[Br-]')\n",
        "# 위 반응들과 동일하고 작용제가 추가되었습니다."
      ],
      "execution_count": 0,
      "outputs": [
        {
          "output_type": "execute_result",
          "data": {
            "image/png": "[encoded data removed]",
            "text/plain": [
              "<rdkit.Chem.rdChemReactions.ChemicalReaction at 0x7fe61e4a9b70>"
            ]
          },
          "metadata": {
            "tags": []
          },
          "execution_count": 83
        }
      ]
    },
    {
      "cell_type": "markdown",
      "metadata": {
        "id": "8MiZ0Fz5wW4A",
        "colab_type": "text"
      },
      "source": [
        "그러나 위의 예시를 보면 어느 탄소에 반응이 일어났지를 알 수가 없다. 따라서 Atom Map이 필요하다.\n",
        "\n"
      ]
    },
    {
      "cell_type": "markdown",
      "metadata": {
        "id": "gubuOiBBxksg",
        "colab_type": "text"
      },
      "source": [
        "### 5.1 Reaction Atom Maps(반응 원자 지도)\n",
        "Atom mapping은 반응분자에서 원자의 특성이다. Atom map은 컴퓨터에게 반응의 반응물과 생성물에서 동일한 원자가 무엇인지 알려준다. SMILES 언어 내에서 Atom map은 원자 뒤에 \":\"와 숫자로 표시한다([CH3:2]는 탄소에 2번을 부여한다는 의미이다.). 이 숫자는 동일한 숫자를 가진 모든 원자를 서로 연관시키는 것을 제외하고는 추가적인 의미가 없다."
      ]
    },
    {
      "cell_type": "code",
      "metadata": {
        "id": "zFLk6Wspvu4u",
        "colab_type": "code",
        "outputId": "91540d1b-c53f-4ba2-b688-0664aa694d5d",
        "colab": {
          "base_uri": "https://localhost:8080/",
          "height": 187
        }
      },
      "source": [
        "AllChem.ReactionFromSmarts('CC(=[O:1])[OH:2].CC[OH:3]>[H+]>CC(=[O:1])[O:3]CC.[OH2:2]')"
      ],
      "execution_count": 0,
      "outputs": [
        {
          "output_type": "execute_result",
          "data": {
            "image/png": "[encoded data removed]",
            "text/plain": [
              "<rdkit.Chem.rdChemReactions.ChemicalReaction at 0x7fe61e4bd210>"
            ]
          },
          "metadata": {
            "tags": []
          },
          "execution_count": 88
        }
      ]
    },
    {
      "cell_type": "markdown",
      "metadata": {
        "id": "4lW-4KOP0ru8",
        "colab_type": "text"
      },
      "source": [
        "Atom mapping은 완전하거나 유일하지 않고 기본 분자의 연결 및 속성과 독립적입니다.  \n",
        "\n",
        "1. 반응이 일어날 때 나타나는 분자의 결합의 표현에 한계가 있다. 예를 들어 sodium acetate(CC(=O)[O-].[Na +])속의 산소를 화학적으로 구분할 수 없습니다. 일부 시스템은 이 동등성을 인식하는데, `[CH3:1][C:2](=[O:3])[O-:3].[Na+:4]`와 같이 이들에 같은 숫자로 Map을 합니다.\n"
      ]
    },
    {
      "cell_type": "code",
      "metadata": {
        "id": "X0DR4mAU3mMH",
        "colab_type": "code",
        "outputId": "67b52903-1c7f-4574-d163-8cef2a780914",
        "colab": {
          "base_uri": "https://localhost:8080/",
          "height": 167
        }
      },
      "source": [
        "AllChem.MolFromSmiles('CC(=O)[O-].[Na+]')"
      ],
      "execution_count": 0,
      "outputs": [
        {
          "output_type": "execute_result",
          "data": {
            "image/png": "[encoded data removed]",
            "text/plain": [
              "<rdkit.Chem.rdchem.Mol at 0x7fe61e4bd0d0>"
            ]
          },
          "metadata": {
            "tags": []
          },
          "execution_count": 85
        }
      ]
    },
    {
      "cell_type": "code",
      "metadata": {
        "id": "zJ_6sRYE3rRG",
        "colab_type": "code",
        "outputId": "e29ac336-4ba6-4389-f891-bb4950031bb6",
        "colab": {
          "base_uri": "https://localhost:8080/",
          "height": 167
        }
      },
      "source": [
        "AllChem.MolFromSmiles('[CH3:1][C:2](=[O:3])[O-:3].[Na+:4]')"
      ],
      "execution_count": 0,
      "outputs": [
        {
          "output_type": "execute_result",
          "data": {
            "image/png": "[encoded data removed]",
            "text/plain": [
              "<rdkit.Chem.rdchem.Mol at 0x7fe61e4bd3a0>"
            ]
          },
          "metadata": {
            "tags": []
          },
          "execution_count": 90
        }
      ]
    },
    {
      "cell_type": "markdown",
      "metadata": {
        "id": "Lb8JLa1L5Tz8",
        "colab_type": "text"
      },
      "source": [
        "2. 반응 메커니즘에 모호성이 있는 경우  \n",
        "![secondcase](http://www.daylight.com/dayhtml/doc/theory/cope.gif) <br>\n",
        "위의 경우 실제로 2가지 메커니즘이 있지만 `[CH2:1]=[CH:2][CH2:1][CH2:3][C:4](C)[CH2:3]`으로 표현해줍니다."
      ]
    },
    {
      "cell_type": "markdown",
      "metadata": {
        "id": "f4WAVBs77YPA",
        "colab_type": "text"
      },
      "source": [
        "3. 반응 자체에 대한 정보가 부족한 경우. "
      ]
    },
    {
      "cell_type": "markdown",
      "metadata": {
        "id": "vX6Xx-VL7mo7",
        "colab_type": "text"
      },
      "source": [
        "4. Atom map에서 임의로 지정한 숫자들은 의미를 가지지않는 숫자들이다."
      ]
    },
    {
      "cell_type": "markdown",
      "metadata": {
        "id": "kFdSsmpQ8WAk",
        "colab_type": "text"
      },
      "source": [
        "### 5.2 Hydrogens(수소)\n",
        "반응에서 수소는 특별하지 않으면 분자와 같이 취급합니다. 분자의 경우, 하전되어 있거나 동위원소, 다른 수소에 결합, 다중결합의 경우 특별하게 취급한다. 또한 반응의 Atom map의 일부로서 수소의 위치에 관한 정보를 저장하는 것이 종종 바람직한데(에를 들어, 1,5-hydride shift), 이 경우에도 특별한 것으로 간주된다. "
      ]
    },
    {
      "cell_type": "code",
      "metadata": {
        "id": "oklRnAqy4YI1",
        "colab_type": "code",
        "outputId": "2963c950-7c47-4224-c118-751347c9968a",
        "colab": {
          "base_uri": "https://localhost:8080/",
          "height": 167
        }
      },
      "source": [
        "AllChem.ReactionFromSmarts('[CH2:1]=[CH:2][CH:3]=[CH:4][CH2:5][H:6]>>[H:6][CH2:1][CH:2]=[CH:3][CH:4]=[CH2:5]')\n",
        "# 1,5-hydride shift"
      ],
      "execution_count": 0,
      "outputs": [
        {
          "output_type": "execute_result",
          "data": {
            "image/png": "[encoded data removed]",
            "text/plain": [
              "<rdkit.Chem.rdChemReactions.ChemicalReaction at 0x7fe61e4bd530>"
            ]
          },
          "metadata": {
            "tags": []
          },
          "execution_count": 92
        }
      ]
    },
    {
      "cell_type": "markdown",
      "metadata": {
        "id": "RY45KdjrHSU8",
        "colab_type": "text"
      },
      "source": [
        "# Ⅱ. Sequence to Sequence\n",
        "## 1. seq2seq \n",
        "시퀀스-투-시퀀스(Sequence-to-Sequence)는 입력된 시퀀스로부터 다른 도메인의 시퀀스를 출력하는 다양한 분야에서 사용되는 모델입니다. 예를 들어 챗봇(Chatbot)과 기계 번역(Machine Translation)이 그러한 대표적인 예인데, 입력 시퀀스와 출력 시퀀스를 각각 질문과 대답으로 구성하면 챗봇으로 만들 수 있고, 입력 시퀀스와 출력 시퀀스를 각각 입력 문장과 번역 문장으로 만들면 번역기로 만들 수 있습니다."
      ]
    },
    {
      "cell_type": "markdown",
      "metadata": {
        "id": "u-Vl60WvIN7j",
        "colab_type": "text"
      },
      "source": [
        "![seq2seq_01](https://user-images.githubusercontent.com/52767505/70228477-c3c21b00-1797-11ea-8140-840c0aee2ddb.png)\n",
        "\n",
        "위의 그림은 seq2seq 모델로 만들어진 번역기가 'I love you'라는 영어 문장을 받아서, 'Nan nul saranghey(난 널 사랑해)'라는 한국어 문장을 출력하는 모습을 보여줍니다. 지금부터 seq2seq 모델 내부 구성을 알아보겠습니다."
      ]
    },
    {
      "cell_type": "markdown",
      "metadata": {
        "id": "slzFkoEpQcDw",
        "colab_type": "text"
      },
      "source": [
        "![seq2seq_02](https://user-images.githubusercontent.com/52767505/70228479-c45ab180-1797-11ea-9e70-87c6e0077258.png)\n",
        "\n",
        "seq2seq는 크게 인코더와 디코더로 구성되어 있습니다. 인코더는 입력 문장의 모든 단어들을 순차적으로 입력받은 뒤에 마지막에 이 모든 단어 정보들을 압축해서 하나의 벡터로 만듭니다. 이 벡터를 context vector라고 합니다. 입력 문장의 정보가 하나의 context vector로 모두 압축되면, 이 벡터를 디코더로 전송합니다. 디코더는 context vector를 받아서 번역된 단어를 한 개씩 순차적으로 출력합니다."
      ]
    },
    {
      "cell_type": "markdown",
      "metadata": {
        "id": "ayPbWYYLQiST",
        "colab_type": "text"
      },
      "source": [
        "![seq2seq_03](https://user-images.githubusercontent.com/52767505/70228480-c45ab180-1797-11ea-986f-e71968240e26.png)\n",
        "\n",
        "인코더와 디코더는 각각 여러개의 RNN 셀로 구성되어 있습니다. 입력 문장을 받는 RNN 셀을 인코더라고 하고, 출력 문장을 내보내는 RNN 셀을 디코더라고 합니다. 일반적으로 RNN 셀의 성능문제 때문에 LSTM 셀이나 GRU 셀을 사용합니다. \n",
        "\n",
        "우선 인코더에서 입력 문장은 단어 단위로 쪼개져서 RNN 셀 각각의 입력이 됩니다. 인코더의 마지막 RNN 셀의 은닉 상태를 디코더의 RNN 셀로 넘겨주는데, 이를 컨텍스트 벡터라고 합니다. 이렇게 만들어진 컨텍스트 벡터는 앞에서 받은 모든 입력 값의 데이터를 함축적으로 가지고 있습니다. 컨텍스트 벡터는 다시 디코더 RNN 셀의 첫번째 은닉 상태로 사용됩니다.\n",
        "\n",
        "컨텍스트 벡터를 받은 디코더는 초기 입력으로 문장의 시작을 의미하는 ```<start> ```심볼을 받습니다. 디코더가 ```<start>``` 심볼을 받으면 현재 시점에서 등장할 확률이 높은 단어를 예측합니다. 디코더의 첫번째 RNN 셀은 예측된 단어를 다음 시점의 RNN 셀의 입력으로 보냅니다. 그다음 RNN 셀은 입력된 단어로부터 다시 다음에 올 단어를 예측합니다. 디코더는 이런 식으로 입력된 단어의 다음에 올 단어를 예측하고 다음 시점의 RNN 셀의 입력으로 넣는 과정을 반복합니다. 문장의 끝을 의미하는 ```<end>``` 심볼이 다음 단어로 예측될 때 까지 이 과정을 반복합니다."
      ]
    },
    {
      "cell_type": "markdown",
      "metadata": {
        "id": "rIKHhSJ5bVJO",
        "colab_type": "text"
      },
      "source": [
        "## 2. Encoder\n",
        "\n",
        "### 2.1 Encoder\n",
        "\n",
        "![seq2seq_07](https://user-images.githubusercontent.com/52767505/70231538-ddfef780-179d-11ea-9483-67391f9d59f3.png)\n",
        "\n",
        "인코더에서 각각의 RNN 셀이 받은 입력을 어떻게 다음 RNN 셀로 넘기는지 좀 더 자세히 알아보도록 하겠습니다. \n",
        "\n",
        "현재 시점(time step)을 t라고 할 때, RNN 셀은 t-1에서의 은닉 상태와 t에서의 입력 벡터를 입력으로 받고, t에서의 은닉 상태를 만듭니다. 이때 t에서의 은닉 상태는 바로 위에 또 다른 은닉층이나 출력층이 존재할 경우에는 위의 층으로 보내거나, 필요없으면 값을 무시할 수 있습니다. 그리고 RNN 셀은 다음 시점에 해당하는 t+1의 RNN 셀의 입력으로 현재 t에서의 은닉 상태를 입력으로 보냅니다.\n",
        "\n",
        "RNN 챕터에서도 언급했지만, 이런 구조에서 현재 시점 t에서의 은닉 상태는 과거 시점의 동일한 RNN 셀에서의 모든 은닉 상태의 값들의 영향을 누적해서 받아온 값이라고 할 수 있습니다. 그렇기 때문에 앞서 우리가 언급했던 컨텍스트 벡터는 사실 인코더에서의 마지막 RNN 셀의 은닉 상태값을 말하는 것이며, 이는 입력 문장의 모든 단어 토큰들의 정보를 요약해서 담고있다고 할 수 있습니다."
      ]
    },
    {
      "cell_type": "markdown",
      "metadata": {
        "id": "TkhI9WljtcoA",
        "colab_type": "text"
      },
      "source": [
        "### 2.2 Embedding Layer\n",
        "\n",
        "텍스트를 컴퓨터가 이해하고, 효율적으로 처리하게 하기 위해서는 컴퓨터가 이해할 수 있도록 텍스트를 적절히 변환할 필요가 있습니다. 단어를 표현하는 방법에 따라서 텍스트 처리의 성능이 크게 달라지기 때문입니다. 텍스트를 변환하는 방법으로는 'Word Embedding', 'Word2Vec', 'Glove'가 일반적으로 사용되고 있습니다.\n",
        "\n",
        "![seq2seq_05](https://user-images.githubusercontent.com/52767505/70232056-e277e000-179e-11ea-860f-c045d157a2fb.png)\n",
        "\n",
        "Seq2seq에서는 텍스트를 숫자로 변환하는 워드 임베딩을 이용합니다. 워드 임베딩은 단어를 벡터로 표현하는 것을 말합니다. 즉, seq2seq에서 사용되는 모든 단어들은 워드 임베딩을 통해 임베딩 벡터로 표현된 임베딩 벡터입니다. \n",
        "\n",
        "![seq2seq_06](https://user-images.githubusercontent.com/52767505/70231575-f242f480-179d-11ea-9a48-fb3726c3b8be.png)\n",
        "\n",
        "예를 들어 I, love, you라는 단어들에 대한 임베딩 벡터는 위와 같은 모습을 가집니다. 여기서는 그림으로 표현하고자 사이즈를 4로 했지만, 일반적으로 임베딩 벡터는 수백 개의 차원을 가질 수 있습니다.\n"
      ]
    },
    {
      "cell_type": "markdown",
      "metadata": {
        "id": "GQcV1r9oq1QJ",
        "colab_type": "text"
      },
      "source": [
        "## 3. Decoder\n",
        "\n",
        "### 3.1 Teacher Forcing\n",
        "\n",
        "![seq2seq_08](https://user-images.githubusercontent.com/52767505/70232055-e277e000-179e-11ea-9bc1-83b63383049c.png)\n",
        "\n",
        "Seq2seq는 훈련 과정과 테스트 과정의 작동 방식이 조금 다릅니다. 앞에서 설명한 과정은 테스트 과정에 해당됩니다. 반면, 훈련 과정에서는 교사 강요(teacher forcing)라는 방법을 이용합니다. 교사 강요란 디코더에게 인코더가 보낸 컨텍스트 벡터와 실제 정답인 \"<start> I love you\"를 입력 받았을 때, \"Nan nul saranghey <end>\"가 나와야 된다고 정답을 알려주면서 훈련하는 것입니다.\n",
        "\n",
        "교사 강요를 사용하는 이유는 이전 시점의 디코더 셀의 예측이 틀렸는데 이를 현재 시점의 디코더 셀의 입력으로 사용하면 현재 시점의 디코더 셀의 예측도 잘못될 가능성이 높기 때문입니다. 이는 연쇄 작용으로 디코더 전체의 예측을 어렵게하고, 이런 상황이 반복되면 훈련 시간이 느려집니다."
      ]
    },
    {
      "cell_type": "markdown",
      "metadata": {
        "id": "MRvuU-_o2R60",
        "colab_type": "text"
      },
      "source": [
        "### 3.2 Decoder\n",
        "\n",
        "디코더에서 RNN 셀이 입력을 다음 RNN 셀로 넘기는 방법은 인코더와 동일합니다. 단, 첫번째 은닉 상태의 값으로 인코더의 마지막 RNN 셀의 은닉 상태인 컨텍스트 벡터를 사용한다는 점이 다릅니다. 디코더의 첫번째 RNN 셀은 이 첫번째 은닉 상태의 값과, 현재 t에서의 입력값인 ```<start>```로부터, 다음에 등장할 단어를 예측합니다. 그리고 이 예측된 단어는 다음 시점인 t+1 RNN에서의 입력값이 되고, 이 t+1에서의 RNN 또한 이 입력값과 t에서의 은닉 상태로부터 t+1에서의 출력 벡터. 즉, 또 다시 다음에 등장할 단어를 예측하게 될 것입니다. "
      ]
    },
    {
      "cell_type": "markdown",
      "metadata": {
        "id": "BtMH_HcX271a",
        "colab_type": "text"
      },
      "source": [
        "### 3.3 Softmax Equation\n",
        "\n",
        "![seq2seq_09](https://user-images.githubusercontent.com/52767505/70232845-a9d90600-17a0-11ea-8577-ef6b8fcd2707.png)\n",
        "\n",
        "출력 단어로 나올 수 있는 단어들은 다양한 단어들이 있습니다. seq2seq 모델은 선택될 수 있는 모든 단어들로부터 하나의 단어를 골라서 예측해야 합니다. 이를 예측하기 위해 소프트맥스 함수를 이용합니다. 디코더에서 각 시점(time step)의 RNN 셀에서 출력 벡터가 나오면, 해당 벡터는 소프트맥스 함수를 통해 출력 시퀀스의 각 단어별 확률값을 반환하고, 디코더는 출력 단어를 결정합니다."
      ]
    },
    {
      "cell_type": "markdown",
      "metadata": {
        "id": "FxBsnIay5Oo3",
        "colab_type": "text"
      },
      "source": [
        "![seq2seq_10](https://user-images.githubusercontent.com/52767505/70232993-00464480-17a1-11ea-89f7-6881bcd3d6a4.png)\n"
      ]
    },
    {
      "cell_type": "markdown",
      "metadata": {
        "id": "zjYqyVzk4SO0",
        "colab_type": "text"
      },
      "source": [
        "# Ⅲ Seq2seq와 SMILES를 이용한 Drug Discovery"
      ]
    },
    {
      "cell_type": "markdown",
      "metadata": {
        "id": "O7NunNEBVj5I",
        "colab_type": "text"
      },
      "source": [
        "##1. Seq2seq Fingerprint Model\n",
        "\n",
        "화학 특성을 자동으로 예측하기 위해 기계 학습 방법을 사용하는 것은 최근 약물 발견 커뮤니티에 큰 관심을 불러일으켰다. 그러나 대부분의 기계 학습 알고리즘은 고정된 길이의 연속 특성 벡터를 입력으로 사용한다. 따라서 분자들을 고정된 길이의 벡터로 표현하는 방법이 필요하다. \n",
        "\n",
        "이러한 문제를 해결하기 위해 'seq2seq fingerprint'를 사용한다. seq2seq fingerprint는 비지도 데이터와 딥러닝에 기반하는 분자 지문 방법이다. 이 방법은 전문적인 지식을 요구하지 않는 데이터를 기반으로 하고, 다시 분자 표현 형태로 전환할 수 있으며, 충분한 양의 데이터를 보장한다는 장점이 있다. 또한 레이블이 없기 때문에 고도의 인력과 비용을 필요로 하지 않는다.\n",
        "\n",
        "모델이 잘 훈련된다면, 특성 벡터가 원본 분자의 모든 정보를 코드화 했다고 볼 수 있다. 따라서 seq2seq fingerprint는 엄밀한 정보를 모두 담고 있다고 추측하고, 이를 통해 분자의 특성을 예측할 수 있다. \n",
        "\n",
        "![xu2017_02](https://user-images.githubusercontent.com/52767505/70285828-3371ed80-180c-11ea-9643-cd01cb90784b.PNG)\n",
        "\n",
        "첫번째로 seq2seq fingerprint 모델을 레이블이 없는 방대한 양의 샘플로 훈련시킨다. 그 다음 훈련된 모델로 레이블이 있는 데이터에서 seq2seq fingerprint를 생성한다. 예측 모델을 훈련하기 위해, 생성된 fingerprint와 레이블이 있는 데이터를 지도 학습 방법에 적용시킨다.\n",
        "\n",
        "이러한 방법은 방대한 양의 레이블이 없는 데이터에서 상대적으로 적은 레이블이 있는 데이터에 대한 지도 훈련으로 지식을 전달할 수 있도록 한다. 즉, 최종적으로 예측 모델의 성능을 향상시키도록 한다.\n",
        "\n",
        "비지도 seq2seq fingerprint 방법의 핵심은 입력과 출력을 SMILE로 설정한다는 것이다. 즉, SMILE 스트링을 SMILE로 번역한다. 이러한 과정의 중간 단계에서 고정된 길이의 벡터를 fingerprint로 추출한다.\n",
        "\n",
        "이 논문에서는 seq2seq fingerprint로 불리는 새로운 비지도 분자 표현 시스템에 대해서 논의한다. 영어를 프랑스어로 번역하는 모델인 sequence to sequence 학습 모델에 기반한다. 이 모델은 분자의 SMILE 스트링을 SMILE로 변환함과 동시에 고정된 길이의 fingerprint 벡터를 생성한다. 분류 작업에 관한 실험에서 뛰어난 성능을 나타낸다. 또한, 데이터 기반 라벨이 없는 모델의 특성은 우리에게 훨씬 더 많은 이점을 가져다 준다. seq2seq fingerprint 시스템은 완전한 비지도 시스템이기 때문에, 고비용의 레이블 수집 과정이 필요없다. 즉, 각각의 유효한 분자를 이용할 수 있으며, 이론적으로는 무한의 양에 도달한다. 매우 제한된 데이터 샘플로 훈련한 지도학습모델과는 다르게, seq2seq fingerprint는 충분히 많은 양의 샘플로 훈련하기 때문에 보다 특정한 분야에 강하다."
      ]
    },
    {
      "cell_type": "markdown",
      "metadata": {
        "id": "WKTMYP1CNGKn",
        "colab_type": "text"
      },
      "source": [
        "## 2. Keras를 이용한 RNN 기반 자동 인코더\n",
        "\n",
        "지금부터 Keras를 이용하여 RNN 기반의 자동 인코더를 만들어 보고자 한다. 훈련된 자동 인코더는 인코더와 디코더로 사용될 수 있다. 디코더는 관심 있는 특성을 지닌 분자와 유사한 분자를 생성한다.\n",
        "\n",
        "데이터 셋은 ```http://gdb.unibe.ch/downloads/```에서 다운로드했다.\n"
      ]
    },
    {
      "cell_type": "code",
      "metadata": {
        "id": "O9cDSNC9CFVL",
        "colab_type": "code",
        "colab": {}
      },
      "source": [
        "# General Imports\n",
        "import os\n",
        "import pandas as pd\n",
        "import numpy as np\n",
        "from rdkit import Chem\n",
        "from rdkit.Chem import Draw, Descriptors\n",
        "from matplotlib import pyplot as plt\n",
        "%matplotlib inline"
      ],
      "execution_count": 0,
      "outputs": []
    },
    {
      "cell_type": "code",
      "metadata": {
        "id": "oolT8t80d19s",
        "colab_type": "code",
        "outputId": "b2a9cf7d-d6d4-479c-c2fc-9a0ac02e2bf0",
        "colab": {
          "base_uri": "https://localhost:8080/",
          "height": 125
        }
      },
      "source": [
        "try:\n",
        "\n",
        "    %tensorflow_version 1.x  # %tensorflow_version only exists in Colab\n",
        "\n",
        "except Exception:\n",
        "\n",
        "    pass"
      ],
      "execution_count": 0,
      "outputs": [
        {
          "output_type": "stream",
          "text": [
            "`%tensorflow_version` only switches the major version: `1.x` or `2.x`.\n",
            "You set: `1.x  # %tensorflow_version only exists in Colab`. This will be interpreted as: `1.x`.\n",
            "\n",
            "\n",
            "TensorFlow 1.x selected.\n"
          ],
          "name": "stdout"
        }
      ]
    },
    {
      "cell_type": "code",
      "metadata": {
        "id": "SrajNPFAd5Q6",
        "colab_type": "code",
        "outputId": "e140663e-9d7c-40dc-e2f7-5c75e71dcb86",
        "colab": {
          "base_uri": "https://localhost:8080/",
          "height": 52
        }
      },
      "source": [
        "smifile = \"GDBMedChem.smi\"\n",
        "data = pd.read_csv(smifile, delimiter = \" \", names = [\"smiles\",\"No\"])\n",
        "data=data[0:200000]\n",
        "from sklearn.model_selection import train_test_split\n",
        "smiles_train, smiles_test = train_test_split(data[\"smiles\"], random_state=42)\n",
        "print(smiles_train.shape)\n",
        "print(smiles_test.shape)"
      ],
      "execution_count": 0,
      "outputs": [
        {
          "output_type": "stream",
          "text": [
            "(150000,)\n",
            "(50000,)\n"
          ],
          "name": "stdout"
        }
      ]
    },
    {
      "cell_type": "code",
      "metadata": {
        "id": "-p2WAUeIi-JZ",
        "colab_type": "code",
        "outputId": "dea0c20c-066c-49bc-9259-3503f983cc15",
        "colab": {
          "base_uri": "https://localhost:8080/",
          "height": 72
        }
      },
      "source": [
        "charset = set(\"\".join(list(data.smiles))+\"!E\")\n",
        "char_to_int = dict((c,i) for i,c in enumerate(charset))\n",
        "int_to_char = dict((i,c) for i,c in enumerate(charset))\n",
        "embed = max([len(smile) for smile in data.smiles]) + 5\n",
        "print(str( charset))\n",
        "print(len(charset), embed)"
      ],
      "execution_count": 0,
      "outputs": [
        {
          "output_type": "stream",
          "text": [
            "{'F', 'o', 'N', 'n', '-', 'l', '1', '=', '!', '(', 'C', '[', 's', 'E', '3', 'O', 'S', '#', ']', '2', ')', 'H', '+', 'c'}\n",
            "24 58\n"
          ],
          "name": "stdout"
        }
      ]
    },
    {
      "cell_type": "code",
      "metadata": {
        "id": "lqcD5vh-jBGZ",
        "colab_type": "code",
        "outputId": "a7156fbf-4ad5-4244-854c-1214aadd2db0",
        "colab": {
          "base_uri": "https://localhost:8080/",
          "height": 310
        }
      },
      "source": [
        "def vectorize(smiles):\n",
        "        one_hot =  np.zeros((smiles.shape[0], embed , len(charset)),dtype=np.int8)\n",
        "        for i,smile in enumerate(smiles):\n",
        "            #encode the startchar\n",
        "            one_hot[i,0,char_to_int[\"!\"]] = 1\n",
        "            #encode the rest of the chars\n",
        "            for j,c in enumerate(smile):\n",
        "                one_hot[i,j+1,char_to_int[c]] = 1\n",
        "            #Encode endchar\n",
        "            one_hot[i,len(smile)+1:,char_to_int[\"E\"]] = 1\n",
        "        #Return two, one for input and the other for output\n",
        "        return one_hot[:,0:-1,:], one_hot[:,1:,:]\n",
        "X_train, Y_train = vectorize(smiles_train.values)\n",
        "X_test,Y_test = vectorize(smiles_test.values)\n",
        "print(smiles_train.iloc[0])\n",
        "plt.matshow(X_train[0].T)\n",
        "#print X_train.shape"
      ],
      "execution_count": 0,
      "outputs": [
        {
          "output_type": "stream",
          "text": [
            "CC1C([NH3+])C1NC1(C)CCC[NH2+]C1\n"
          ],
          "name": "stdout"
        },
        {
          "output_type": "execute_result",
          "data": {
            "text/plain": [
              "<matplotlib.image.AxesImage at 0x7fea71614630>"
            ]
          },
          "metadata": {
            "tags": []
          },
          "execution_count": 6
        },
        {
          "output_type": "display_data",
          "data": {
            "image/png": "[encoded data removed]",
            "text/plain": [
              "<Figure size 684x288 with 1 Axes>"
            ]
          },
          "metadata": {
            "tags": []
          }
        }
      ]
    },
    {
      "cell_type": "code",
      "metadata": {
        "id": "JyrbEqyFjCkW",
        "colab_type": "code",
        "outputId": "afb7dcaa-5066-4411-daf1-ab43ef7a8a3f",
        "colab": {
          "base_uri": "https://localhost:8080/",
          "height": 34
        }
      },
      "source": [
        "\"\".join([int_to_char[idx] for idx in np.argmax(X_train[0,:,:], axis=1)])"
      ],
      "execution_count": 0,
      "outputs": [
        {
          "output_type": "execute_result",
          "data": {
            "text/plain": [
              "'!CC1C([NH3+])C1NC1(C)CCC[NH2+]C1EEEEEEEEEEEEEEEEEEEEEEEEE'"
            ]
          },
          "metadata": {
            "tags": []
          },
          "execution_count": 7
        }
      ]
    },
    {
      "cell_type": "code",
      "metadata": {
        "id": "v6ZTxDvyjT8Q",
        "colab_type": "code",
        "outputId": "e07cd6e7-efd1-4a8b-95c0-f2eec38c3409",
        "colab": {
          "base_uri": "https://localhost:8080/",
          "height": 34
        }
      },
      "source": [
        "#Import Keras objects\n",
        "from keras.models import Model\n",
        "from keras.layers import Input\n",
        "from keras.layers import LSTM\n",
        "from keras.layers import Dense\n",
        "from keras.layers import Concatenate\n",
        "from keras import regularizers\n",
        "input_shape = X_train.shape[1:]\n",
        "output_dim = Y_train.shape[-1]\n",
        "latent_dim = 64\n",
        "lstm_dim = 64"
      ],
      "execution_count": 0,
      "outputs": [
        {
          "output_type": "stream",
          "text": [
            "Using TensorFlow backend.\n"
          ],
          "name": "stderr"
        }
      ]
    },
    {
      "cell_type": "code",
      "metadata": {
        "id": "MguHU6zRjWCH",
        "colab_type": "code",
        "outputId": "9f44b088-f0da-4c01-f68c-aeeeb20b4d96",
        "colab": {
          "base_uri": "https://localhost:8080/",
          "height": 142
        }
      },
      "source": [
        "unroll = False\n",
        "encoder_inputs = Input(shape=input_shape)\n",
        "encoder = LSTM(lstm_dim, return_state=True,\n",
        "                unroll=unroll)\n",
        "encoder_outputs, state_h, state_c = encoder(encoder_inputs)\n",
        "states = Concatenate(axis=-1)([state_h, state_c])\n",
        "neck = Dense(latent_dim, activation=\"relu\")\n",
        "neck_outputs = neck(states)"
      ],
      "execution_count": 0,
      "outputs": [
        {
          "output_type": "stream",
          "text": [
            "WARNING:tensorflow:From /usr/local/lib/python3.6/dist-packages/keras/backend/tensorflow_backend.py:66: The name tf.get_default_graph is deprecated. Please use tf.compat.v1.get_default_graph instead.\n",
            "\n",
            "WARNING:tensorflow:From /usr/local/lib/python3.6/dist-packages/keras/backend/tensorflow_backend.py:541: The name tf.placeholder is deprecated. Please use tf.compat.v1.placeholder instead.\n",
            "\n",
            "WARNING:tensorflow:From /usr/local/lib/python3.6/dist-packages/keras/backend/tensorflow_backend.py:4432: The name tf.random_uniform is deprecated. Please use tf.random.uniform instead.\n",
            "\n"
          ],
          "name": "stdout"
        }
      ]
    },
    {
      "cell_type": "code",
      "metadata": {
        "id": "36Ebx-rkjYOP",
        "colab_type": "code",
        "outputId": "d2af9228-ba1e-4597-e4b7-2d2affb331b9",
        "colab": {
          "base_uri": "https://localhost:8080/",
          "height": 565
        }
      },
      "source": [
        "decode_h = Dense(lstm_dim, activation=\"relu\")\n",
        "decode_c = Dense(lstm_dim, activation=\"relu\")\n",
        "state_h_decoded =  decode_h(neck_outputs)\n",
        "state_c_decoded =  decode_c(neck_outputs)\n",
        "encoder_states = [state_h_decoded, state_c_decoded]\n",
        "decoder_inputs = Input(shape=input_shape)\n",
        "decoder_lstm = LSTM(lstm_dim,\n",
        "                    return_sequences=True,\n",
        "                    unroll=unroll\n",
        "                   )\n",
        "decoder_outputs = decoder_lstm(decoder_inputs, initial_state=encoder_states)\n",
        "decoder_dense = Dense(output_dim, activation='softmax')\n",
        "decoder_outputs = decoder_dense(decoder_outputs)\n",
        "#Define the model, that inputs the training vector for two places, and predicts one character ahead of the input\n",
        "model = Model([encoder_inputs, decoder_inputs], decoder_outputs)\n",
        "print(model.summary())"
      ],
      "execution_count": 0,
      "outputs": [
        {
          "output_type": "stream",
          "text": [
            "Model: \"model_1\"\n",
            "__________________________________________________________________________________________________\n",
            "Layer (type)                    Output Shape         Param #     Connected to                     \n",
            "==================================================================================================\n",
            "input_1 (InputLayer)            (None, 57, 24)       0                                            \n",
            "__________________________________________________________________________________________________\n",
            "lstm_1 (LSTM)                   [(None, 64), (None,  22784       input_1[0][0]                    \n",
            "__________________________________________________________________________________________________\n",
            "concatenate_1 (Concatenate)     (None, 128)          0           lstm_1[0][1]                     \n",
            "                                                                 lstm_1[0][2]                     \n",
            "__________________________________________________________________________________________________\n",
            "dense_1 (Dense)                 (None, 64)           8256        concatenate_1[0][0]              \n",
            "__________________________________________________________________________________________________\n",
            "input_2 (InputLayer)            (None, 57, 24)       0                                            \n",
            "__________________________________________________________________________________________________\n",
            "dense_2 (Dense)                 (None, 64)           4160        dense_1[0][0]                    \n",
            "__________________________________________________________________________________________________\n",
            "dense_3 (Dense)                 (None, 64)           4160        dense_1[0][0]                    \n",
            "__________________________________________________________________________________________________\n",
            "lstm_2 (LSTM)                   (None, 57, 64)       22784       input_2[0][0]                    \n",
            "                                                                 dense_2[0][0]                    \n",
            "                                                                 dense_3[0][0]                    \n",
            "__________________________________________________________________________________________________\n",
            "dense_4 (Dense)                 (None, 57, 24)       1560        lstm_2[0][0]                     \n",
            "==================================================================================================\n",
            "Total params: 63,704\n",
            "Trainable params: 63,704\n",
            "Non-trainable params: 0\n",
            "__________________________________________________________________________________________________\n",
            "None\n"
          ],
          "name": "stdout"
        }
      ]
    },
    {
      "cell_type": "code",
      "metadata": {
        "id": "cEurv3c5kSep",
        "colab_type": "code",
        "outputId": "e9bc716d-3a76-4769-a85c-091939e36331",
        "colab": {
          "base_uri": "https://localhost:8080/",
          "height": 72
        }
      },
      "source": [
        "from keras.callbacks import History, ReduceLROnPlateau\n",
        "h = History()\n",
        "rlr = ReduceLROnPlateau(monitor='val_loss', factor=0.5,patience=10, min_lr=0.000001, verbose=1, epsilon=1e-5)\n"
      ],
      "execution_count": 0,
      "outputs": [
        {
          "output_type": "stream",
          "text": [
            "/usr/local/lib/python3.6/dist-packages/keras/callbacks.py:1335: UserWarning: `epsilon` argument is deprecated and will be removed, use `min_delta` instead.\n",
            "  warnings.warn('`epsilon` argument is deprecated and '\n"
          ],
          "name": "stderr"
        }
      ]
    },
    {
      "cell_type": "code",
      "metadata": {
        "id": "Ts-w_ppTkUV-",
        "colab_type": "code",
        "outputId": "250e0024-337d-4b10-b594-034f7de45640",
        "colab": {
          "base_uri": "https://localhost:8080/",
          "height": 107
        }
      },
      "source": [
        "from keras.optimizers import RMSprop, Adam\n",
        "opt=Adam(lr=0.005) #Default 0.001\n",
        "model.compile(optimizer=opt, loss='categorical_crossentropy')"
      ],
      "execution_count": 0,
      "outputs": [
        {
          "output_type": "stream",
          "text": [
            "WARNING:tensorflow:From /usr/local/lib/python3.6/dist-packages/keras/optimizers.py:793: The name tf.train.Optimizer is deprecated. Please use tf.compat.v1.train.Optimizer instead.\n",
            "\n",
            "WARNING:tensorflow:From /usr/local/lib/python3.6/dist-packages/keras/backend/tensorflow_backend.py:3576: The name tf.log is deprecated. Please use tf.math.log instead.\n",
            "\n"
          ],
          "name": "stdout"
        }
      ]
    },
    {
      "cell_type": "code",
      "metadata": {
        "id": "NS6l_JwMkVZr",
        "colab_type": "code",
        "outputId": "baad420a-c99f-46aa-e75f-5b0d61be5157",
        "colab": {
          "base_uri": "https://localhost:8080/",
          "height": 758
        }
      },
      "source": [
        "model.fit([X_train,X_train],Y_train,\n",
        "                    epochs=10,\n",
        "                    batch_size=256,\n",
        "                    shuffle=True,\n",
        "                    callbacks=[h, rlr],\n",
        "                    validation_data=[[X_test,X_test],Y_test ])\n"
      ],
      "execution_count": 0,
      "outputs": [
        {
          "output_type": "stream",
          "text": [
            "WARNING:tensorflow:From /usr/local/lib/python3.6/dist-packages/tensorflow_core/python/ops/math_grad.py:1424: where (from tensorflow.python.ops.array_ops) is deprecated and will be removed in a future version.\n",
            "Instructions for updating:\n",
            "Use tf.where in 2.0, which has the same broadcast rule as np.where\n",
            "WARNING:tensorflow:From /usr/local/lib/python3.6/dist-packages/keras/backend/tensorflow_backend.py:1033: The name tf.assign_add is deprecated. Please use tf.compat.v1.assign_add instead.\n",
            "\n",
            "WARNING:tensorflow:From /usr/local/lib/python3.6/dist-packages/keras/backend/tensorflow_backend.py:1020: The name tf.assign is deprecated. Please use tf.compat.v1.assign instead.\n",
            "\n",
            "WARNING:tensorflow:From /usr/local/lib/python3.6/dist-packages/keras/backend/tensorflow_backend.py:3005: The name tf.Session is deprecated. Please use tf.compat.v1.Session instead.\n",
            "\n",
            "Train on 150000 samples, validate on 50000 samples\n",
            "Epoch 1/10\n",
            "WARNING:tensorflow:From /usr/local/lib/python3.6/dist-packages/keras/backend/tensorflow_backend.py:190: The name tf.get_default_session is deprecated. Please use tf.compat.v1.get_default_session instead.\n",
            "\n",
            "WARNING:tensorflow:From /usr/local/lib/python3.6/dist-packages/keras/backend/tensorflow_backend.py:197: The name tf.ConfigProto is deprecated. Please use tf.compat.v1.ConfigProto instead.\n",
            "\n",
            "WARNING:tensorflow:From /usr/local/lib/python3.6/dist-packages/keras/backend/tensorflow_backend.py:207: The name tf.global_variables is deprecated. Please use tf.compat.v1.global_variables instead.\n",
            "\n",
            "WARNING:tensorflow:From /usr/local/lib/python3.6/dist-packages/keras/backend/tensorflow_backend.py:216: The name tf.is_variable_initialized is deprecated. Please use tf.compat.v1.is_variable_initialized instead.\n",
            "\n",
            "WARNING:tensorflow:From /usr/local/lib/python3.6/dist-packages/keras/backend/tensorflow_backend.py:223: The name tf.variables_initializer is deprecated. Please use tf.compat.v1.variables_initializer instead.\n",
            "\n",
            "150000/150000 [==============================] - 106s 707us/step - loss: 0.6487 - val_loss: 0.4939\n",
            "Epoch 2/10\n",
            "150000/150000 [==============================] - 101s 673us/step - loss: 0.4571 - val_loss: 0.4233\n",
            "Epoch 3/10\n",
            "150000/150000 [==============================] - 99s 661us/step - loss: 0.4103 - val_loss: 0.3873\n",
            "Epoch 4/10\n",
            "150000/150000 [==============================] - 99s 659us/step - loss: 0.3773 - val_loss: 0.3576\n",
            "Epoch 5/10\n",
            "150000/150000 [==============================] - 99s 659us/step - loss: 0.3474 - val_loss: 0.3664\n",
            "Epoch 6/10\n",
            "150000/150000 [==============================] - 98s 656us/step - loss: 0.3192 - val_loss: 0.3009\n",
            "Epoch 7/10\n",
            "150000/150000 [==============================] - 98s 654us/step - loss: 0.2958 - val_loss: 0.2852\n",
            "Epoch 8/10\n",
            "150000/150000 [==============================] - 98s 656us/step - loss: 0.2810 - val_loss: 0.2721\n",
            "Epoch 9/10\n",
            "150000/150000 [==============================] - 98s 655us/step - loss: 0.2705 - val_loss: 0.2653\n",
            "Epoch 10/10\n",
            "150000/150000 [==============================] - 98s 656us/step - loss: 0.2624 - val_loss: 0.2699\n"
          ],
          "name": "stdout"
        },
        {
          "output_type": "execute_result",
          "data": {
            "text/plain": [
              "<keras.callbacks.History at 0x7fea35918978>"
            ]
          },
          "metadata": {
            "tags": []
          },
          "execution_count": 13
        }
      ]
    },
    {
      "cell_type": "code",
      "metadata": {
        "id": "D6_9mRnzwGTK",
        "colab_type": "code",
        "outputId": "9273add3-7623-4072-c40b-5413fe7f3377",
        "colab": {
          "base_uri": "https://localhost:8080/",
          "height": 282
        }
      },
      "source": [
        "plt.plot(h.history[\"loss\"], label=\"Loss\")\n",
        "plt.plot(h.history[\"val_loss\"], label=\"Val_Loss\")\n",
        "plt.yscale(\"log\")\n",
        "plt.legend()"
      ],
      "execution_count": 0,
      "outputs": [
        {
          "output_type": "execute_result",
          "data": {
            "text/plain": [
              "<matplotlib.legend.Legend at 0x7fea357a27f0>"
            ]
          },
          "metadata": {
            "tags": []
          },
          "execution_count": 14
        },
        {
          "output_type": "display_data",
          "data": {
            "image/png": "[encoded data removed]",
            "text/plain": [
              "<Figure size 432x288 with 1 Axes>"
            ]
          },
          "metadata": {
            "tags": []
          }
        }
      ]
    },
    {
      "cell_type": "code",
      "metadata": {
        "id": "jJ-EdpoEwI6g",
        "colab_type": "code",
        "outputId": "10b64ff4-cf0e-42b7-9f9a-46de7bdb1d48",
        "colab": {
          "base_uri": "https://localhost:8080/",
          "height": 1000
        }
      },
      "source": [
        "for i in range(100):\n",
        "    v = model.predict([X_test[i:i+1], X_test[i:i+1]]) #Can't be done as output not necessarely 1\n",
        "    idxs = np.argmax(v, axis=2)\n",
        "    pred=  \"\".join([int_to_char[h] for h in idxs[0]])[:-1]\n",
        "    idxs2 = np.argmax(X_test[i:i+1], axis=2)\n",
        "    true =  \"\".join([int_to_char[k] for k in idxs2[0]])[1:]\n",
        "    if true != pred:\n",
        "        print(true, pred)"
      ],
      "execution_count": 0,
      "outputs": [
        {
          "output_type": "stream",
          "text": [
            "CC(O)C(O)C1=CCC(O)C1C#CEEEEEEEEEEEEEEEEEEEEEEEEEEEEEEEEE CC(O)C(C)C1CCC((C)C1C#CEEEEEEEEEEEEEEEEEEEEEEEEEEEEEEEEE\n",
            "CC1=CC2N(C1)C(=O)CNC(=O)C2(C)CEEEEEEEEEEEEEEEEEEEEEEEEEE CC1=CC2((CC)C(=O)C(C(=O)CCCC)CEEEEEEEEEEEEEEEEEEEEEEEEEE\n",
            "CC1(CC1)C1=C2NCC=CC=C2NC1=OEEEEEEEEEEEEEEEEEEEEEEEEEEEEE CC1(CCC)C1=CCCCC=CC2CCCC1=OEEEEEEEEEEEEEEEEEEEEEEEEEEEEE\n",
            "CC1=CCC=CC2C=CC1C2=OEEEEEEEEEEEEEEEEEEEEEEEEEEEEEEEEEEEE CC1=CCC=CCCCCCCCC2=OEEEEEEEEEEEEEEEEEEEEEEEEEEEEEEEEEEEE\n",
            "CC(O)(CNC=O)C([NH3+])C=CC#NEEEEEEEEEEEEEEEEEEEEEEEEEEEEE CC(O)(CCCCO)C(CNH3+])CCCC#NEEEEEEEEEEEEEEEEEEEEEEEEEEEEE\n",
            "CC1(C)CCC2=C1CCCC(C2)=NOEEEEEEEEEEEEEEEEEEEEEEEEEEEEEEEE CC1(C)CC==CCCC((((=))=NOEEEEEEEEEEEEEEEEEEEEEEEEEEEEEEEE\n",
            "CC(O)C1CC2C[NH+]1CCCOC2CEEEEEEEEEEEEEEEEEEEEEEEEEEEEEEEE CC(O)C1CCC([NH2](CCCCCC=EEEEEEEEEEEEEEEEEEEEEEEEEEEEEEEE\n",
            "CC(C)c1n[nH]c(NCC(=O)C#C)c1CEEEEEEEEEEEEEEEEEEEEEEEEEEEE CC(C)(1ccnH]c(CCC#=O)C#C)c1CEEEEEEEEEEEEEEEEEEEEEEEEEEEE\n",
            "CC1=CCC2CC=CCC1C2C(O)C1CC1EEEEEEEEEEEEEEEEEEEEEEEEEEEEEE CC1=CCC==CCCC((((((C)CCCC1EEEEEEEEEEEEEEEEEEEEEEEEEEEEEE\n",
            "Cc1sc2NCCC#CC(C)=CCOc1n2EEEEEEEEEEEEEEEEEEEEEEEEEEEEEEEE Cc1occcCCCCCCC=)=CCcc1c2EEEEEEEEEEEEEEEEEEEEEEEEEEEEEEEE\n",
            "CC1C2CC2C(C)C1(O)C1=CCCCC=C1EEEEEEEEEEEEEEEEEEEEEEEEEEEE CC1C2CC(((C)(((C)C1=CCCC=CC1EEEEEEEEEEEEEEEEEEEEEEEEEEEE\n",
            "CC(O)C1=C(C[NH2+]C1)C(O)C(O)C[NH3+]EEEEEEEEEEEEEEEEEEEEE CC(O)C1CC(C[NH3+]C1)C(C)C(C)C[NH3+]EEEEEEEEEEEEEEEEEEEEE\n",
            "CC(NC(=O)C[NH3+])C1CCO1EEEEEEEEEEEEEEEEEEEEEEEEEEEEEEEEE CC(CC(CO)C(NH3+])C1CC11EEEEEEEEEEEEEEEEEEEEEEEEEEEEEEEEE\n",
            "CC12CCC(C1)CC(CCCCCOC2)C#CEEEEEEEEEEEEEEEEEEEEEEEEEEEEEE CC12CC((CC)C((CC#C##)2)C#CEEEEEEEEEEEEEEEEEEEEEEEEEEEEEE\n",
            "Cc1ccc2sc(CC#CC3CC3)cnc12EEEEEEEEEEEEEEEEEEEEEEEEEEEEEEE Cc1ccc2CccCCCC)=CC3)c2c12EEEEEEEEEEEEEEEEEEEEEEEEEEEEEEE\n",
            "CC(CC#CC[NH3+])Oc1nn[nH]c1N(C)CEEEEEEEEEEEEEEEEEEEEEEEEE CC(C)1C)(NH3+])CC1cccnH]c1CCC)CEEEEEEEEEEEEEEEEEEEEEEEEE\n",
            "C1C2C=CC3=C(COC3)C=CC12EEEEEEEEEEEEEEEEEEEEEEEEEEEEEEEEE CCC2C=CC=CCCCCC3)C=CC12EEEEEEEEEEEEEEEEEEEEEEEEEEEEEEEEE\n",
            "CC12CCC(C1)=CC=CC(=O)NCC([NH3+])C2EEEEEEEEEEEEEEEEEEEEEE CC12CCC1====CC=CC(CO)CC(([NH3+])C2EEEEEEEEEEEEEEEEEEEEEE\n",
            "CC1([NH3+])C(CC=CC1C([O-])=O)C1CCC1EEEEEEEEEEEEEEEEEEEEE CC1([NH3+])CCCCCC1([([N-])=O)C1CCC1EEEEEEEEEEEEEEEEEEEEE\n",
            "CC(CNC(=O)CO)C1CC1EEEEEEEEEEEEEEEEEEEEEEEEEEEEEEEEEEEEEE CC(C)C(=O)C#)C1CC1EEEEEEEEEEEEEEEEEEEEEEEEEEEEEEEEEEEEEE\n",
            "CC(C)C(C)(C)COCC(C)C(C)CCC#CEEEEEEEEEEEEEEEEEEEEEEEEEEEE CC(C)((C)(C)C(C((C)((C)(CC#CEEEEEEEEEEEEEEEEEEEEEEEEEEEE\n",
            "CC(O)(C[NH3+])CC1(C)COC(=O)C1NEEEEEEEEEEEEEEEEEEEEEEEEEE CC(O)(C[NH3+])C(((C)CCCC=O)C1OEEEEEEEEEEEEEEEEEEEEEEEEEE\n",
            "Cc1cnc(s1)-c1sc(nc1C)C#NEEEEEEEEEEEEEEEEEEEEEEEEEEEEEEEE Cc1ccc(C1)Cc1cccCc1C)C#CEEEEEEEEEEEEEEEEEEEEEEEEEEEEEEEE\n",
            "CC1C2CCC(=O)C3CCC123EEEEEEEEEEEEEEEEEEEEEEEEEEEEEEEEEEEE CC1C2CCC(CO)CCCCC123EEEEEEEEEEEEEEEEEEEEEEEEEEEEEEEEEEEE\n",
            "CC(O)C1(C#C)C2C[NH2+]C1C(C)=CC=C2EEEEEEEEEEEEEEEEEEEEEEE CC(O)C1(CCC)C(((NH++]CCC(=)=CC=C2EEEEEEEEEEEEEEEEEEEEEEE\n",
            "Cc1ccc2C3CCC3Cc2n1EEEEEEEEEEEEEEEEEEEEEEEEEEEEEEEEEEEEEE Cc1ccc2CCCC33Cc2c1EEEEEEEEEEEEEEEEEEEEEEEEEEEEEEEEEEEEEE\n",
            "CC12CC(CC=CC1)C([NH3+])C[NH2+]2EEEEEEEEEEEEEEEEEEEEEEEEE CC12CCCCC1C1[[[([NH3+])C[NH2+]2EEEEEEEEEEEEEEEEEEEEEEEEE\n",
            "CC1=C2CC([NH3+])C1CC(C)(O)CC#CC2EEEEEEEEEEEEEEEEEEEEEEEE CC1=C2C(([NH3+])C((((C)(C)CCCCC2EEEEEEEEEEEEEEEEEEEEEEEE\n",
            "Cc1cccn1C1CC([NH3+])C1EEEEEEEEEEEEEEEEEEEEEEEEEEEEEEEEEE Cc1cccc1CCCC([NH3+])C1EEEEEEEEEEEEEEEEEEEEEEEEEEEEEEEEEE\n",
            "CC1=C2CCC1(CCCCC=C2)OC1CC1EEEEEEEEEEEEEEEEEEEEEEEEEEEEEE CC1=CCCCC((C)22==C2)CCCCC1EEEEEEEEEEEEEEEEEEEEEEEEEEEEEE\n",
            "CC1=CC=CCCC(C[NH2+]CC=C1)C(N)=OEEEEEEEEEEEEEEEEEEEEEEEEE CC1=CC=CCCC(C)NH3+]111C1)C(N)=OEEEEEEEEEEEEEEEEEEEEEEEEE\n",
            "CC1C(C)C1C1OCC=CC=C1EEEEEEEEEEEEEEEEEEEEEEEEEEEEEEEEEEEE CC1C(C)C111CCC=CC=C1EEEEEEEEEEEEEEEEEEEEEEEEEEEEEEEEEEEE\n",
            "CC(O)C(C)CC1CCC1OEEEEEEEEEEEEEEEEEEEEEEEEEEEEEEEEEEEEEEE CC(O)C(C)C11CCC1OEEEEEEEEEEEEEEEEEEEEEEEEEEEEEEEEEEEEEEE\n",
            "CC(O)CCC1=CC(C)=CC(C)OC(=O)N1EEEEEEEEEEEEEEEEEEEEEEEEEEE CC(O)C111CC((C)(C((C)(C1=O)N1EEEEEEEEEEEEEEEEEEEEEEEEEEE\n",
            "CC1(CC#N)CC1C1CCC1OEEEEEEEEEEEEEEEEEEEEEEEEEEEEEEEEEEEEE CC1(CCCN)CCCC1CCC1EEEEEEEEEEEEEEEEEEEEEEEEEEEEEEEEEEEEEE\n",
            "CC1(C)CC=CN2CCCNC2=[NH+]C1EEEEEEEEEEEEEEEEEEEEEEEEEEEEEE CC1(C)CC=CCCCCC(C2C[NH+]C1EEEEEEEEEEEEEEEEEEEEEEEEEEEEEE\n",
            "CC(O)C1(CC(C[NH3+])O1)C#NEEEEEEEEEEEEEEEEEEEEEEEEEEEEEEE CC(O)CC(C[[[[NH3+])C1)C#NEEEEEEEEEEEEEEEEEEEEEEEEEEEEEEE\n",
            "CC12OC(=O)CNC1C2C(CCO)C#CEEEEEEEEEEEEEEEEEEEEEEEEEEEEEEE CC12OCCCO)CCC(C(C(C)#)C#CEEEEEEEEEEEEEEEEEEEEEEEEEEEEEEE\n",
            "CC1=CC2(CC2)[NH+]2CC=CC12EEEEEEEEEEEEEEEEEEEEEEEEEEEEEEE CC1=CCCCCC2)CNH2]2CCCCC12EEEEEEEEEEEEEEEEEEEEEEEEEEEEEEE\n",
            "CC(O)C12CC=CCCCC1C[NH2+]2EEEEEEEEEEEEEEEEEEEEEEEEEEEEEEE CC(O)C1=CC=CCC1112[NH2+]2EEEEEEEEEEEEEEEEEEEEEEEEEEEEEEE\n",
            "CC1=CC(C(N)=O)C(C)(C)C([NH3+])C1NEEEEEEEEEEEEEEEEEEEEEEE CC1=CC(C[[)=O)C([[(C)[([NH3+])C1OEEEEEEEEEEEEEEEEEEEEEEE\n",
            "CC1=CC(C)=CC=CC(C1)[NH+]1CCC1EEEEEEEEEEEEEEEEEEEEEEEEEEE CC1=CCCCC=CC2C(([[)[NH+](CCC1EEEEEEEEEEEEEEEEEEEEEEEEEEE\n",
            "CC12CC([NH2+]CCC1C2O)C#CEEEEEEEEEEEEEEEEEEEEEEEEEEEEEEEE CC12CC([NH3+]C111)2))C#CEEEEEEEEEEEEEEEEEEEEEEEEEEEEEEEE\n",
            "CC12CCC3C(C1)CC[NH2+]C23EEEEEEEEEEEEEEEEEEEEEEEEEEEEEEEE CC12CCC1CCCC)C2[NH2+]C2EEEEEEEEEEEEEEEEEEEEEEEEEEEEEEEEE\n",
            "CC(O)CC12CC(=O)N1CCC2EEEEEEEEEEEEEEEEEEEEEEEEEEEEEEEEEEE CC(O)C11CCC(CO)CCC222EEEEEEEEEEEEEEEEEEEEEEEEEEEEEEEEEEE\n",
            "CC(O)C1CC(C)C=CC(C)C11CC1EEEEEEEEEEEEEEEEEEEEEEEEEEEEEEE CC(O)C1CC(C)=2C((C)=11CC1EEEEEEEEEEEEEEEEEEEEEEEEEEEEEEE\n",
            "CC1=CC2C(O)C(C#N)N2C1C[NH3+]EEEEEEEEEEEEEEEEEEEEEEEEEEEE CC1=CCCC(C)C(C)N)C2CCC[NH3+]EEEEEEEEEEEEEEEEEEEEEEEEEEEE\n",
            "CC1=C(C)C=C(CO)C=CCCC=CC1EEEEEEEEEEEEEEEEEEEEEEEEEEEEEEE CC1=C(C)CCC(CC)C=CCC==CC1EEEEEEEEEEEEEEEEEEEEEEEEEEEEEEE\n",
            "CC1=CC2CC2CC=CCC=CC=C1EEEEEEEEEEEEEEEEEEEEEEEEEEEEEEEEEE CC1=CCCCCCCC2CC==CC=C1EEEEEEEEEEEEEEEEEEEEEEEEEEEEEEEEEE\n",
            "CC1C(CC(O)CC([NH3+])CN1C=O)C(N)=OEEEEEEEEEEEEEEEEEEEEEEE CC1C(CC([)C1[[NH3+])C11C)O)C(N)=OEEEEEEEEEEEEEEEEEEEEEEE\n",
            "CC#CCC1OCC(=C1)C#NEEEEEEEEEEEEEEEEEEEEEEEEEEEEEEEEEEEEEE CC#CCC1CCC(=O))C#NEEEEEEEEEEEEEEEEEEEEEEEEEEEEEEEEEEEEEE\n",
            "CC1(O)CCC2OCC(CO)=C12EEEEEEEEEEEEEEEEEEEEEEEEEEEEEEEEEEE CC1(O)CCCCCCC(=2)=C12EEEEEEEEEEEEEEEEEEEEEEEEEEEEEEEEEEE\n",
            "CC1(C)CC(=O)c2cccc(N)c12EEEEEEEEEEEEEEEEEEEEEEEEEEEEEEEE CC1(C)CC(CO)C2ccc((N)c12EEEEEEEEEEEEEEEEEEEEEEEEEEEEEEEE\n",
            "CC1C2CC(CCC=C1C#C)=CCC2[NH3+]EEEEEEEEEEEEEEEEEEEEEEEEEEE CC1C2CC(CC==C1C)C)CCCCC[NH3+]EEEEEEEEEEEEEEEEEEEEEEEEEEE\n",
            "CC1=CCC=CC=C2C=CCC12C#CEEEEEEEEEEEEEEEEEEEEEEEEEEEEEEEEE CC1=CC==CC=CCCCCC(CCC#CEEEEEEEEEEEEEEEEEEEEEEEEEEEEEEEEE\n",
            "CC12CCC1=CCCCC=C2EEEEEEEEEEEEEEEEEEEEEEEEEEEEEEEEEEEEEEE CC12CCC=CCCCCC2C2EEEEEEEEEEEEEEEEEEEEEEEEEEEEEEEEEEEEEEE\n",
            "CC(O)C([NH3+])C1OC2CN(CC=C12)C=OEEEEEEEEEEEEEEEEEEEEEEEE CC(O)C(CNH3+])C1CCCCCCC==C1))C#OEEEEEEEEEEEEEEEEEEEEEEEE\n",
            "CC1(C)CC2CC1COC(C#C)C2OEEEEEEEEEEEEEEEEEEEEEEEEEEEEEEEEE CC1(C)CCCCC(C(C(COC)C2OEEEEEEEEEEEEEEEEEEEEEEEEEEEEEEEEE\n",
            "CC1=CC=CC(C[NH2+]CC#C)C=CCC1EEEEEEEEEEEEEEEEEEEEEEEEEEEE CC1=CCCCC(C[NH3+]C11C)C1CC11EEEEEEEEEEEEEEEEEEEEEEEEEEEE\n",
            "CC(O)C(O)C(=C)Cc1cn[nH]n1EEEEEEEEEEEEEEEEEEEEEEEEEEEEEEE CC(O)C(C)C1=O)C(1cc[nH]n1EEEEEEEEEEEEEEEEEEEEEEEEEEEEEEE\n",
            "Cc1sc2CCC=C(C)CCc2c1NEEEEEEEEEEEEEEEEEEEEEEEEEEEEEEEEEEE Cc1oc2CCCCC(C)CCc2c1FEEEEEEEEEEEEEEEEEEEEEEEEEEEEEEEEEEE\n",
            "CC1=C2COCC=CCC(C=C1)C=C2EEEEEEEEEEEEEEEEEEEEEEEEEEEEEEEE CC1=C2CCCC2CC((==C2)C2C2EEEEEEEEEEEEEEEEEEEEEEEEEEEEEEEE\n",
            "CC#CCC1CC(C)(C)OC(=O)CC2CC12EEEEEEEEEEEEEEEEEEEEEEEEEEEE CC#CC11(((C)(C)CCC=O)CCCCC12EEEEEEEEEEEEEEEEEEEEEEEEEEEE\n",
            "CC1(CCCCC#C)CCc2cccc(F)c12EEEEEEEEEEEEEEEEEEEEEEEEEEEEEE CC1(CCCC11C)C((2ccc((C)c12EEEEEEEEEEEEEEEEEEEEEEEEEEEEEE\n",
            "CC1C(C[NH+](C)C1C(C)=O)C#CC1(O)CC1EEEEEEEEEEEEEEEEEEEEEE CC1C(C[NH3](C)C))(O)=O)C1CC1CC)CC1EEEEEEEEEEEEEEEEEEEEEE\n",
            "CC(O)C(C)(C)C1=CCC=C2CC=CC2=C1EEEEEEEEEEEEEEEEEEEEEEEEEE CC(O)((O)(C)C1=CC==CCCC=CCCCC1EEEEEEEEEEEEEEEEEEEEEEEEEE\n",
            "CC1(CC([O-])=O)CC([NH3+])C2OCC(=O)OC12EEEEEEEEEEEEEEEEEE CC1(CC([N-])=O)C(([NH3+])C((CC(=O)CC12EEEEEEEEEEEEEEEEEE\n",
            "CC1=C(C)C2CC2[NH2+]CC#CC1EEEEEEEEEEEEEEEEEEEEEEEEEEEEEEE CC1=C(CCC2CC((NH2+]CCCCC1EEEEEEEEEEEEEEEEEEEEEEEEEEEEEEE\n",
            "CC1C(=O)CC2CC(=O)NC1(C)C2EEEEEEEEEEEEEEEEEEEEEEEEEEEEEEE CC1C(=O)CCC(((CO)CC((C)C2EEEEEEEEEEEEEEEEEEEEEEEEEEEEEEE\n",
            "CC12CCC=CC3CC([NH+]13)C(CC#C)=C2EEEEEEEEEEEEEEEEEEEEEEEE CC12CC==CC1[[[[NH3]1C)CCCC2C)CC2EEEEEEEEEEEEEEEEEEEEEEEE\n",
            "Cc1sncc1CCc1cccs1EEEEEEEEEEEEEEEEEEEEEEEEEEEEEEEEEEEEEEE Cc1occc1CC(1cccs1EEEEEEEEEEEEEEEEEEEEEEEEEEEEEEEEEEEEEEE\n",
            "CC1([NH3+])CC2C1C[NH2+]C2C1CC1EEEEEEEEEEEEEEEEEEEEEEEEEE CC1([NH3+])CCCCC[(NH2+]CCCCCC1EEEEEEEEEEEEEEEEEEEEEEEEEE\n",
            "CC(O)CCS(=O)(=O)C1CC1EEEEEEEEEEEEEEEEEEEEEEEEEEEEEEEEEEE CC(O)CC((=O)(=O)CCCC1EEEEEEEEEEEEEEEEEEEEEEEEEEEEEEEEEEE\n",
            "CC12COCC([NH3+])C1COC2=OEEEEEEEEEEEEEEEEEEEEEEEEEEEEEEEE CC12COC(([NH3+])C1CCCC=OEEEEEEEEEEEEEEEEEEEEEEEEEEEEEEEE\n",
            "CC1=C2CC3CCC23CC1EEEEEEEEEEEEEEEEEEEEEEEEEEEEEEEEEEEEEEE CC1=CCCCCCCC33CC1EEEEEEEEEEEEEEEEEEEEEEEEEEEEEEEEEEEEEEE\n",
            "CC12CCC=CC(O1)C=CC(=C2)C#CEEEEEEEEEEEEEEEEEEEEEEEEEEEEEE CC12CCCCC((C))C=CC(=O))C#CEEEEEEEEEEEEEEEEEEEEEEEEEEEEEE\n",
            "CC12CC1CC1CCC(=O)C1C2EEEEEEEEEEEEEEEEEEEEEEEEEEEEEEEEEEE CC12CCCCCCCCC(CO)C1C2EEEEEEEEEEEEEEEEEEEEEEEEEEEEEEEEEEE\n",
            "CC(=O)NC=C(CC=C)C(N)C[NH3+]EEEEEEEEEEEEEEEEEEEEEEEEEEEEE CC(=O)CC1C(C)#C)C([)C#NH3+]EEEEEEEEEEEEEEEEEEEEEEEEEEEEE\n",
            "CC1=C(C)C2C=CCCC2C2OCC2=C1EEEEEEEEEEEEEEEEEEEEEEEEEEEEEE CC1=C(CCC2CCCCCCCC=CCC2CC1EEEEEEEEEEEEEEEEEEEEEEEEEEEEEE\n",
            "CC(C[NH3+])NCC#CC1CC(C)(CO)C1EEEEEEEEEEEEEEEEEEEEEEEEEEE CC(C)NH3+])CC11CC((C(C)(C))C1EEEEEEEEEEEEEEEEEEEEEEEEEEE\n",
            "Cc1cc(C)c(CC2CCC2)[nH]1EEEEEEEEEEEEEEEEEEEEEEEEEEEEEEEEE Cc1cc(C)c(CC2CC22)cnH]1EEEEEEEEEEEEEEEEEEEEEEEEEEEEEEEEE\n",
            "CC1=CC[NH+](CCC(C)([NH3+])C2(O)CNC2)C1EEEEEEEEEEEEEEEEEE CC1=CC[NH+](C)(([[(CNH3+])C1(C)CC22)C1EEEEEEEEEEEEEEEEEE\n",
            "CC1=C(c2c[nH]cc2O)C(C)=CC=CC1EEEEEEEEEEEEEEEEEEEEEEEEEEE CC1=C(C2ccnH]cc2C)C(===CC=CC1EEEEEEEEEEEEEEEEEEEEEEEEEEE\n",
            "CC(OCC#C)C(C)[NH+]1CC(C)CC(C)(C)C1EEEEEEEEEEEEEEEEEEEEEE CC(O)C1N)C(C)(NH+](CC(C)(((C)(C)C1EEEEEEEEEEEEEEEEEEEEEE\n",
            "CC1(CC1)C1=CCC(=CC=C1)C1CC[NH2+]C1EEEEEEEEEEEEEEEEEEEEEE CC12CCC)C1=CCC2=OC1C1)C(CCCNH2+]C1EEEEEEEEEEEEEEEEEEEEEE\n",
            "CC(CC1CC=CC1)CC1(CC1)NC=OEEEEEEEEEEEEEEEEEEEEEEEEEEEEEEE CC(CC1=C2CC1)C1((C)1)CC=OEEEEEEEEEEEEEEEEEEEEEEEEEEEEEEE\n",
            "CC1C([NH3+])C11CC([NH3+])C(CNC(N)=[NH2+])=C1EEEEEEEEEEEE CC1C([NH3+])C((C[([NH3+])((C)C(=)=ONH2+])CC1EEEEEEEEEEEE\n",
            "CC1=CC2(C)CC2C1C1CC1EEEEEEEEEEEEEEEEEEEEEEEEEEEEEEEEEEEE CC1=CCCCCCCCCCCCCCC1EEEEEEEEEEEEEEEEEEEEEEEEEEEEEEEEEEEE\n",
            "Cc1cc(c(C)c(C)c1O)C(C)(C#C)C([O-])=OEEEEEEEEEEEEEEEEEEEE Cc1cc(ccC)c(C)c1C)C(C)(C)N)C([O-])=OEEEEEEEEEEEEEEEEEEEE\n",
            "CC1(CCC(O)(C[NH3+])C([O-])=O)CC1[NH3+]EEEEEEEEEEEEEEEEEE CC1(CC(([)CC[NH3+])C[[N-])=O)C11[NH3+]EEEEEEEEEEEEEEEEEE\n",
            "C#CC1CCC2C1CC21CC1EEEEEEEEEEEEEEEEEEEEEEEEEEEEEEEEEEEEEE C#CC1CCC2CCCC=CCC1EEEEEEEEEEEEEEEEEEEEEEEEEEEEEEEEEEEEEE\n",
            "C1CC23C[NH2+]CC(CC=C2)C3C=C1EEEEEEEEEEEEEEEEEEEEEEEEEEEE CCCC2C[[NH++]CC(CC3C3CC=CCC1EEEEEEEEEEEEEEEEEEEEEEEEEEEE\n",
            "CC([NH3+])C(=C)C(N)C1(C)CCC[NH2+]1EEEEEEEEEEEEEEEEEEEEEE CC([NH3+])C(CO)C(C)C((C)CCC1NH2+]1EEEEEEEEEEEEEEEEEEEEEE\n",
            "Cc1[nH]c(=O)nc(C(CO)CC[NH3+])c1CC#CEEEEEEEEEEEEEEEEEEEEE Cc1[nH]c(CO)c((CCN))C([NH3+])c1CC#CEEEEEEEEEEEEEEEEEEEEE\n",
            "CC1(CS(C)(=O)=O)[NH2+]CC(CO)=C1EEEEEEEEEEEEEEEEEEEEEEEEE CC1(CC([)(=O)(O)CNH++]CC(=))=C1EEEEEEEEEEEEEEEEEEEEEEEEE\n",
            "Cc1c(ncc2COCC3CCC3c12)C#CEEEEEEEEEEEEEEEEEEEEEEEEEEEEEEE Cc1ccCcn2CCCC=CC33)22)C#CEEEEEEEEEEEEEEEEEEEEEEEEEEEEEEE\n",
            "Cc1c(CNC=O)ccc2n[nH]nc12EEEEEEEEEEEEEEEEEEEEEEEEEEEEEEEE Cc1c(CCC=O)ccc1c[nH]cc12EEEEEEEEEEEEEEEEEEEEEEEEEEEEEEEE\n",
            "CC1C2C=CCC(C[NH3+])=CC=C1C=C2C#CEEEEEEEEEEEEEEEEEEEEEEEE CC1C2CCCC((C)NH2+])=CC=CCCCCCC#CEEEEEEEEEEEEEEEEEEEEEEEE\n"
          ],
          "name": "stdout"
        }
      ]
    },
    {
      "cell_type": "code",
      "metadata": {
        "id": "GWepvDRVwKhr",
        "colab_type": "code",
        "colab": {}
      },
      "source": [
        "smiles_to_latent_model = Model(encoder_inputs, neck_outputs)\n",
        "smiles_to_latent_model.save(\"Blog_simple_smi2lat.h5\")"
      ],
      "execution_count": 0,
      "outputs": []
    },
    {
      "cell_type": "code",
      "metadata": {
        "id": "kLTjEyQOwOYh",
        "colab_type": "code",
        "colab": {}
      },
      "source": [
        "latent_input = Input(shape=(latent_dim,))\n",
        "#reuse_layers\n",
        "state_h_decoded_2 =  decode_h(latent_input)\n",
        "state_c_decoded_2 =  decode_c(latent_input)\n",
        "latent_to_states_model = Model(latent_input, [state_h_decoded_2, state_c_decoded_2])\n",
        "latent_to_states_model.save(\"Blog_simple_lat2state.h5\")"
      ],
      "execution_count": 0,
      "outputs": []
    },
    {
      "cell_type": "code",
      "metadata": {
        "id": "fFJ3tOHuwQKC",
        "colab_type": "code",
        "colab": {}
      },
      "source": [
        "#Last one is special, we need to change it to stateful, and change the input shape\n",
        "inf_decoder_inputs = Input(batch_shape=(1, 1, input_shape[1]))\n",
        "inf_decoder_lstm = LSTM(lstm_dim,\n",
        "                    return_sequences=True,\n",
        "                    unroll=unroll,\n",
        "                    stateful=True\n",
        "                   )\n",
        "inf_decoder_outputs = inf_decoder_lstm(inf_decoder_inputs)\n",
        "inf_decoder_dense = Dense(output_dim, activation='softmax')\n",
        "inf_decoder_outputs = inf_decoder_dense(inf_decoder_outputs)\n",
        "sample_model = Model(inf_decoder_inputs, inf_decoder_outputs)\n"
      ],
      "execution_count": 0,
      "outputs": []
    },
    {
      "cell_type": "code",
      "metadata": {
        "id": "hmH6qKOzwRcw",
        "colab_type": "code",
        "colab": {}
      },
      "source": [
        "#Transfer Weights\n",
        "for i in range(1,3):\n",
        "    sample_model.layers[i].set_weights(model.layers[i+6].get_weights())\n",
        "sample_model.save(\"Blog_simple_samplemodel.h5\")"
      ],
      "execution_count": 0,
      "outputs": []
    },
    {
      "cell_type": "code",
      "metadata": {
        "id": "z193Kyb5wSyo",
        "colab_type": "code",
        "outputId": "488e6cbd-02a5-4b5f-c965-da47a88d40d1",
        "colab": {
          "base_uri": "https://localhost:8080/",
          "height": 263
        }
      },
      "source": [
        "sample_model.summary()"
      ],
      "execution_count": 0,
      "outputs": [
        {
          "output_type": "stream",
          "text": [
            "Model: \"model_4\"\n",
            "_________________________________________________________________\n",
            "Layer (type)                 Output Shape              Param #   \n",
            "=================================================================\n",
            "input_4 (InputLayer)         (1, 1, 24)                0         \n",
            "_________________________________________________________________\n",
            "lstm_3 (LSTM)                (1, 1, 64)                22784     \n",
            "_________________________________________________________________\n",
            "dense_5 (Dense)              (1, 1, 24)                1560      \n",
            "=================================================================\n",
            "Total params: 24,344\n",
            "Trainable params: 24,344\n",
            "Non-trainable params: 0\n",
            "_________________________________________________________________\n"
          ],
          "name": "stdout"
        }
      ]
    },
    {
      "cell_type": "code",
      "metadata": {
        "id": "SB-Oynu8wVQ4",
        "colab_type": "code",
        "outputId": "b40cdfe2-8d8f-4c46-e4e6-16a86329d0d0",
        "colab": {
          "base_uri": "https://localhost:8080/",
          "height": 413
        }
      },
      "source": [
        "molno = 5\n",
        "latent_mol = smiles_to_latent_model.predict(X_test[molno:molno+1])\n",
        "sorti = np.argsort(np.sum(np.abs(x_latent - latent_mol), axis=1))\n",
        "print(sorti[0:10])\n",
        "print(smiles_test.iloc[sorti[0:8]])\n",
        "Draw.MolsToImage(smiles_test.iloc[sorti[0:8]].apply(Chem.MolFromSmiles))"
      ],
      "execution_count": 0,
      "outputs": [
        {
          "output_type": "stream",
          "text": [
            "[    5 10271 22605 34077 22392 25035 48550  5675  1983  1362]\n",
            "23677        CC1(C)CCC2=C1CCCC(C2)=NO\n",
            "113201        CC1(C)CC=CC2CC(O)C=CC12\n",
            "142834        CC1(C)CC2CC=CC2NC(=O)C1\n",
            "53460         CC1(C)CC2CC3CC=C(C1)C23\n",
            "135482       CC1(C)CC=CC=C(CC#C1)NC=O\n",
            "8601          CC1(C)CC2=CCOCC(=O)C1C2\n",
            "16742     CC1(CCCCOC2OCCC2O)CC1[NH3+]\n",
            "91619     CC1(COC1)C1=CCOCCCCC1[NH3+]\n",
            "Name: smiles, dtype: object\n"
          ],
          "name": "stdout"
        },
        {
          "output_type": "execute_result",
          "data": {
            "image/png": "[encoded data removed]",
            "text/plain": [
              "<PIL.Image.Image image mode=RGBA size=1600x200 at 0x7FEA28047588>"
            ]
          },
          "metadata": {
            "tags": []
          },
          "execution_count": 22
        }
      ]
    },
    {
      "cell_type": "code",
      "metadata": {
        "id": "kr6cmjZywWSV",
        "colab_type": "code",
        "outputId": "32859b8d-9d4c-4825-8940-494cd5bb4926",
        "colab": {
          "base_uri": "https://localhost:8080/",
          "height": 237
        }
      },
      "source": [
        "Draw.MolsToImage(smiles_test.iloc[sorti[-8:]].apply(Chem.MolFromSmiles))"
      ],
      "execution_count": 0,
      "outputs": [
        {
          "output_type": "execute_result",
          "data": {
            "image/png": "[encoded data removed]",
            "text/plain": [
              "<PIL.Image.Image image mode=RGBA size=1600x200 at 0x7FEA204FD390>"
            ]
          },
          "metadata": {
            "tags": []
          },
          "execution_count": 23
        }
      ]
    },
    {
      "cell_type": "code",
      "metadata": {
        "id": "dQvi7igowXyF",
        "colab_type": "code",
        "colab": {}
      },
      "source": [
        "logp = smiles_test.apply(Chem.MolFromSmiles).apply(Descriptors.MolLogP)"
      ],
      "execution_count": 0,
      "outputs": []
    },
    {
      "cell_type": "code",
      "metadata": {
        "id": "WN-LQxI1wc4N",
        "colab_type": "code",
        "colab": {}
      },
      "source": [
        "#Model LogP?\n",
        "x_train_latent = smiles_to_latent_model.predict(X_train)\n",
        "logp_train = smiles_train.apply(Chem.MolFromSmiles).apply(Descriptors.MolLogP)"
      ],
      "execution_count": 0,
      "outputs": []
    },
    {
      "cell_type": "code",
      "metadata": {
        "id": "nb8n9rh2wej_",
        "colab_type": "code",
        "colab": {}
      },
      "source": [
        "from keras.models import Sequential\n",
        "logp_model = Sequential()\n",
        "logp_model.add(Dense(128, input_shape=(latent_dim,), activation=\"relu\"))\n",
        "logp_model.add(Dense(128, activation=\"relu\"))\n",
        "logp_model.add(Dense(1))\n",
        "logp_model.compile(optimizer=\"adam\", loss=\"mse\")\n"
      ],
      "execution_count": 0,
      "outputs": []
    },
    {
      "cell_type": "code",
      "metadata": {
        "id": "t6ONUgyNw4mF",
        "colab_type": "code",
        "outputId": "d29af7ce-20c7-4e8b-8779-d9ae408bf6a7",
        "colab": {
          "base_uri": "https://localhost:8080/",
          "height": 1000
        }
      },
      "source": [
        "rlr = ReduceLROnPlateau(monitor='val_loss', factor=0.5,patience=10, min_lr=0.000001, verbose=1, epsilon=1e-5)\n",
        "logp_model.fit(x_train_latent, logp_train, batch_size=128, epochs=100, callbacks = [rlr])\n"
      ],
      "execution_count": 0,
      "outputs": [
        {
          "output_type": "stream",
          "text": [
            "/usr/local/lib/python3.6/dist-packages/keras/callbacks.py:1335: UserWarning: `epsilon` argument is deprecated and will be removed, use `min_delta` instead.\n",
            "  warnings.warn('`epsilon` argument is deprecated and '\n"
          ],
          "name": "stderr"
        },
        {
          "output_type": "stream",
          "text": [
            "Epoch 1/100\n",
            "150000/150000 [==============================] - 4s 24us/step - loss: 1.8772\n",
            "Epoch 2/100\n",
            "  6400/150000 [>.............................] - ETA: 3s - loss: 1.7804"
          ],
          "name": "stdout"
        },
        {
          "output_type": "stream",
          "text": [
            "/usr/local/lib/python3.6/dist-packages/keras/callbacks.py:1379: RuntimeWarning: Reduce LR on plateau conditioned on metric `val_loss` which is not available. Available metrics are: loss,lr\n",
            "  (self.monitor, ','.join(list(logs.keys()))), RuntimeWarning\n"
          ],
          "name": "stderr"
        },
        {
          "output_type": "stream",
          "text": [
            "150000/150000 [==============================] - 3s 22us/step - loss: 1.7529\n",
            "Epoch 3/100\n",
            "150000/150000 [==============================] - 3s 22us/step - loss: 1.7085\n",
            "Epoch 4/100\n",
            "150000/150000 [==============================] - 3s 21us/step - loss: 1.6621\n",
            "Epoch 5/100\n",
            "150000/150000 [==============================] - 3s 22us/step - loss: 1.6401\n",
            "Epoch 6/100\n",
            "150000/150000 [==============================] - 3s 22us/step - loss: 1.6258\n",
            "Epoch 7/100\n",
            "150000/150000 [==============================] - 3s 22us/step - loss: 1.6070\n",
            "Epoch 8/100\n",
            "150000/150000 [==============================] - 3s 22us/step - loss: 1.5860\n",
            "Epoch 9/100\n",
            "150000/150000 [==============================] - 3s 21us/step - loss: 1.5713\n",
            "Epoch 10/100\n",
            "150000/150000 [==============================] - 3s 21us/step - loss: 1.5593\n",
            "Epoch 11/100\n",
            "150000/150000 [==============================] - 3s 21us/step - loss: 1.5457\n",
            "Epoch 12/100\n",
            "150000/150000 [==============================] - 3s 21us/step - loss: 1.5341\n",
            "Epoch 13/100\n",
            "150000/150000 [==============================] - 3s 21us/step - loss: 1.5251\n",
            "Epoch 14/100\n",
            "150000/150000 [==============================] - 3s 21us/step - loss: 1.5206\n",
            "Epoch 15/100\n",
            "150000/150000 [==============================] - 3s 22us/step - loss: 1.5125\n",
            "Epoch 16/100\n",
            "150000/150000 [==============================] - 3s 21us/step - loss: 1.5041\n",
            "Epoch 17/100\n",
            "150000/150000 [==============================] - 3s 21us/step - loss: 1.4998\n",
            "Epoch 18/100\n",
            "150000/150000 [==============================] - 3s 21us/step - loss: 1.4921\n",
            "Epoch 19/100\n",
            "150000/150000 [==============================] - 3s 21us/step - loss: 1.4859\n",
            "Epoch 20/100\n",
            "150000/150000 [==============================] - 3s 21us/step - loss: 1.4851\n",
            "Epoch 21/100\n",
            "150000/150000 [==============================] - 3s 21us/step - loss: 1.4758\n",
            "Epoch 22/100\n",
            "150000/150000 [==============================] - 3s 22us/step - loss: 1.4648\n",
            "Epoch 23/100\n",
            "150000/150000 [==============================] - 3s 21us/step - loss: 1.4672\n",
            "Epoch 24/100\n",
            "150000/150000 [==============================] - 3s 22us/step - loss: 1.4530\n",
            "Epoch 25/100\n",
            "150000/150000 [==============================] - 3s 22us/step - loss: 1.4527\n",
            "Epoch 26/100\n",
            "150000/150000 [==============================] - 3s 23us/step - loss: 1.4487\n",
            "Epoch 27/100\n",
            "150000/150000 [==============================] - 3s 23us/step - loss: 1.4460\n",
            "Epoch 28/100\n",
            "150000/150000 [==============================] - 3s 21us/step - loss: 1.4402\n",
            "Epoch 29/100\n",
            "150000/150000 [==============================] - 3s 21us/step - loss: 1.4367\n",
            "Epoch 30/100\n",
            "150000/150000 [==============================] - 3s 22us/step - loss: 1.4354\n",
            "Epoch 31/100\n",
            "150000/150000 [==============================] - 3s 21us/step - loss: 1.4356\n",
            "Epoch 32/100\n",
            "150000/150000 [==============================] - 3s 22us/step - loss: 1.4293\n",
            "Epoch 33/100\n",
            "150000/150000 [==============================] - 3s 22us/step - loss: 1.4211\n",
            "Epoch 34/100\n",
            "150000/150000 [==============================] - 3s 22us/step - loss: 1.4230\n",
            "Epoch 35/100\n",
            "150000/150000 [==============================] - 3s 22us/step - loss: 1.4140\n",
            "Epoch 36/100\n",
            "150000/150000 [==============================] - 3s 22us/step - loss: 1.4109\n",
            "Epoch 37/100\n",
            "150000/150000 [==============================] - 3s 22us/step - loss: 1.4125\n",
            "Epoch 38/100\n",
            "150000/150000 [==============================] - 3s 22us/step - loss: 1.4039\n",
            "Epoch 39/100\n",
            "150000/150000 [==============================] - 3s 22us/step - loss: 1.4018\n",
            "Epoch 40/100\n",
            "150000/150000 [==============================] - 3s 22us/step - loss: 1.4060\n",
            "Epoch 41/100\n",
            "150000/150000 [==============================] - 3s 22us/step - loss: 1.3979\n",
            "Epoch 42/100\n",
            "150000/150000 [==============================] - 3s 22us/step - loss: 1.3961\n",
            "Epoch 43/100\n",
            "150000/150000 [==============================] - 3s 22us/step - loss: 1.3907\n",
            "Epoch 44/100\n",
            "150000/150000 [==============================] - 3s 22us/step - loss: 1.3919\n",
            "Epoch 45/100\n",
            "150000/150000 [==============================] - 3s 22us/step - loss: 1.3878\n",
            "Epoch 46/100\n",
            "150000/150000 [==============================] - 3s 22us/step - loss: 1.3879\n",
            "Epoch 47/100\n",
            "150000/150000 [==============================] - 3s 22us/step - loss: 1.3777\n",
            "Epoch 48/100\n",
            "150000/150000 [==============================] - 3s 22us/step - loss: 1.3751\n",
            "Epoch 49/100\n",
            "150000/150000 [==============================] - 3s 22us/step - loss: 1.3719\n",
            "Epoch 50/100\n",
            "150000/150000 [==============================] - 3s 21us/step - loss: 1.3728\n",
            "Epoch 51/100\n",
            "150000/150000 [==============================] - 3s 21us/step - loss: 1.3688\n",
            "Epoch 52/100\n",
            "150000/150000 [==============================] - 3s 22us/step - loss: 1.3649\n",
            "Epoch 53/100\n",
            "150000/150000 [==============================] - 3s 22us/step - loss: 1.3635\n",
            "Epoch 54/100\n",
            "150000/150000 [==============================] - 3s 22us/step - loss: 1.3633\n",
            "Epoch 55/100\n",
            "150000/150000 [==============================] - 3s 22us/step - loss: 1.3635\n",
            "Epoch 56/100\n",
            "150000/150000 [==============================] - 3s 22us/step - loss: 1.3567\n",
            "Epoch 57/100\n",
            "150000/150000 [==============================] - 3s 22us/step - loss: 1.3541\n",
            "Epoch 58/100\n",
            "150000/150000 [==============================] - 3s 22us/step - loss: 1.3512\n",
            "Epoch 59/100\n",
            "150000/150000 [==============================] - 3s 22us/step - loss: 1.3537\n",
            "Epoch 60/100\n",
            "150000/150000 [==============================] - 3s 21us/step - loss: 1.3515\n",
            "Epoch 61/100\n",
            "150000/150000 [==============================] - 3s 22us/step - loss: 1.3493\n",
            "Epoch 62/100\n",
            "150000/150000 [==============================] - 3s 22us/step - loss: 1.3482\n",
            "Epoch 63/100\n",
            "150000/150000 [==============================] - 3s 22us/step - loss: 1.3427\n",
            "Epoch 64/100\n",
            "150000/150000 [==============================] - 3s 22us/step - loss: 1.3396\n",
            "Epoch 65/100\n",
            "150000/150000 [==============================] - 3s 21us/step - loss: 1.3437\n",
            "Epoch 66/100\n",
            "150000/150000 [==============================] - 3s 22us/step - loss: 1.3367\n",
            "Epoch 67/100\n",
            "150000/150000 [==============================] - 3s 22us/step - loss: 1.3447\n",
            "Epoch 68/100\n",
            "150000/150000 [==============================] - 3s 21us/step - loss: 1.3351\n",
            "Epoch 69/100\n",
            "150000/150000 [==============================] - 3s 21us/step - loss: 1.3273\n",
            "Epoch 70/100\n",
            "150000/150000 [==============================] - 3s 22us/step - loss: 1.3313\n",
            "Epoch 71/100\n",
            "150000/150000 [==============================] - 3s 22us/step - loss: 1.3322\n",
            "Epoch 72/100\n",
            "150000/150000 [==============================] - 3s 22us/step - loss: 1.3304\n",
            "Epoch 73/100\n",
            "150000/150000 [==============================] - 3s 22us/step - loss: 1.3291\n",
            "Epoch 74/100\n",
            "150000/150000 [==============================] - 3s 21us/step - loss: 1.3249\n",
            "Epoch 75/100\n",
            "150000/150000 [==============================] - 3s 22us/step - loss: 1.3241\n",
            "Epoch 76/100\n",
            "150000/150000 [==============================] - 3s 22us/step - loss: 1.3264\n",
            "Epoch 77/100\n",
            "150000/150000 [==============================] - 3s 22us/step - loss: 1.3220\n",
            "Epoch 78/100\n",
            "150000/150000 [==============================] - 3s 22us/step - loss: 1.3178\n",
            "Epoch 79/100\n",
            "150000/150000 [==============================] - 3s 22us/step - loss: 1.3149\n",
            "Epoch 80/100\n",
            "150000/150000 [==============================] - 3s 22us/step - loss: 1.3140\n",
            "Epoch 81/100\n",
            "150000/150000 [==============================] - 3s 23us/step - loss: 1.3108\n",
            "Epoch 82/100\n",
            "150000/150000 [==============================] - 3s 23us/step - loss: 1.3070\n",
            "Epoch 83/100\n",
            "150000/150000 [==============================] - 3s 22us/step - loss: 1.3082\n",
            "Epoch 84/100\n",
            "150000/150000 [==============================] - 3s 22us/step - loss: 1.3092\n",
            "Epoch 85/100\n",
            "150000/150000 [==============================] - 3s 22us/step - loss: 1.3068\n",
            "Epoch 86/100\n",
            "150000/150000 [==============================] - 3s 23us/step - loss: 1.3048\n",
            "Epoch 87/100\n",
            "150000/150000 [==============================] - 3s 22us/step - loss: 1.3020\n",
            "Epoch 88/100\n",
            "150000/150000 [==============================] - 3s 22us/step - loss: 1.3043\n",
            "Epoch 89/100\n",
            "150000/150000 [==============================] - 3s 22us/step - loss: 1.3014\n",
            "Epoch 90/100\n",
            "150000/150000 [==============================] - 3s 23us/step - loss: 1.3028\n",
            "Epoch 91/100\n",
            "150000/150000 [==============================] - 3s 22us/step - loss: 1.2969\n",
            "Epoch 92/100\n",
            "150000/150000 [==============================] - 3s 22us/step - loss: 1.2974\n",
            "Epoch 93/100\n",
            "150000/150000 [==============================] - 3s 23us/step - loss: 1.2985\n",
            "Epoch 94/100\n",
            "150000/150000 [==============================] - 3s 22us/step - loss: 1.2948\n",
            "Epoch 95/100\n",
            "150000/150000 [==============================] - 4s 24us/step - loss: 1.2967\n",
            "Epoch 96/100\n",
            "150000/150000 [==============================] - 3s 22us/step - loss: 1.2893\n",
            "Epoch 97/100\n",
            "150000/150000 [==============================] - 3s 22us/step - loss: 1.2887\n",
            "Epoch 98/100\n",
            "150000/150000 [==============================] - 3s 22us/step - loss: 1.2870\n",
            "Epoch 99/100\n",
            "150000/150000 [==============================] - 3s 22us/step - loss: 1.2845\n",
            "Epoch 100/100\n",
            "150000/150000 [==============================] - 3s 23us/step - loss: 1.2841\n"
          ],
          "name": "stdout"
        },
        {
          "output_type": "execute_result",
          "data": {
            "text/plain": [
              "<keras.callbacks.History at 0x7fe9b8405080>"
            ]
          },
          "metadata": {
            "tags": []
          },
          "execution_count": 30
        }
      ]
    },
    {
      "cell_type": "code",
      "metadata": {
        "id": "__AbFpelxARH",
        "colab_type": "code",
        "colab": {}
      },
      "source": [
        "def latent_to_smiles(latent):\n",
        "    #decode states and set Reset the LSTM cells with them\n",
        "    states = latent_to_states_model.predict(latent)\n",
        "    sample_model.layers[1].reset_states(states=[states[0],states[1]])\n",
        "    #Prepare the input char\n",
        "    startidx = char_to_int[\"!\"]\n",
        "    samplevec = np.zeros((1,1,24))\n",
        "    samplevec[0,0,startidx] = 1\n",
        "    smiles = \"\"\n",
        "    #Loop and predict next char\n",
        "    for i in range(28):\n",
        "        o = sample_model.predict(samplevec)\n",
        "        sampleidx = np.argmax(o)\n",
        "        samplechar = int_to_char[sampleidx]\n",
        "        if samplechar != \"E\":\n",
        "            smiles = smiles + int_to_char[sampleidx]\n",
        "            samplevec = np.zeros((1,1,24))\n",
        "            samplevec[0,0,sampleidx] = 1\n",
        "        else:\n",
        "            break\n",
        "    return smiles"
      ],
      "execution_count": 0,
      "outputs": []
    },
    {
      "cell_type": "code",
      "metadata": {
        "id": "pAFmgycuxC5R",
        "colab_type": "code",
        "outputId": "c6494580-23de-420f-f51f-629d326475f7",
        "colab": {
          "base_uri": "https://localhost:8080/",
          "height": 52
        }
      },
      "source": [
        "smiles = latent_to_smiles(x_latent[0:1])\n",
        "print(smiles)\n",
        "print(smiles_test.iloc[0])"
      ],
      "execution_count": 0,
      "outputs": [
        {
          "output_type": "stream",
          "text": [
            "CC(O)C(C)C1CCCCCCC1(C)C\n",
            "CC(O)C(O)C1=CCC(O)C1C#C\n"
          ],
          "name": "stdout"
        }
      ]
    },
    {
      "cell_type": "code",
      "metadata": {
        "id": "OznVu1NxxE2T",
        "colab_type": "code",
        "outputId": "30656fee-3c38-4c6f-b96c-e15bc1aa3f65",
        "colab": {
          "base_uri": "https://localhost:8080/",
          "height": 1000
        }
      },
      "source": [
        "wrong = 0\n",
        "for i in range(1000):\n",
        "    smiles = latent_to_smiles(x_latent[i:i+1])\n",
        "    mol = Chem.MolFromSmiles(smiles)\n",
        "    if mol:\n",
        "        pass\n",
        "    else:\n",
        "        print(smiles)\n",
        "        wrong = wrong + 1\n",
        "print(\"%0.1F percent wrongly formatted smiles\"%(wrong/float(1000)*100))\n"
      ],
      "execution_count": 0,
      "outputs": [
        {
          "output_type": "stream",
          "text": [
            "CC1=CC2(CC(C)C2)C(C)(C)C=CCC\n",
            "CC(O)C1CCC(C)(C)C1[NH+]=C1\n",
            "CC(C)(C)C(C)(C)C(C)(C)C([O-]\n",
            "CC(O)C1CC(C)(C)C(C[NH3+])C1(\n",
            "CC(C)C1CC(C)(C[NH3+])C([NH3+\n",
            "CC12CCC1CC(CCCCCC(C)=O)C(C)=\n",
            "CC(C)(C)C(C)C1CC(C)(C)CC(C)O\n",
            "Cc1cc2ccc(CCC#C)ccc2[nH]1\n",
            "CC(O)C1(CC(C)=C1C[NH3+])C1CC\n",
            "CC1=C2C(CC([NH3+])C2)C(C)(C)\n",
            "Cc1cccc2CCCCC[NH+]2C1\n",
            "CC1=CC=CCCC(C)(C)C(C[NH3+])=\n",
            "CC1=CC(C[NH3+])C2(CC2)C(C)=C\n",
            "CC1=CCC(=O)C(C)(C)CCCC1[NH3+\n",
            "CC1(C)CC(CC(CO)C1O)[NH+]=C3\n",
            "CC(O)(C#N)C1CCC=CC=CC=CCC1C#\n",
            "CC1(CC([NH3+])C(C)(C)C1)C1CC\n",
            "CC12CC=CCC(CC(C)(C)C1[NH3+])\n",
            "Cc1occ2CCCC[NH+]2C1\n",
            "CC1([NH3+])CCCCC(CC1)C([NH3+\n",
            "CC1=CC[NH+](C)C(C[NH3+])C(C)\n",
            "CC1=C(C[NH3+])CC(=O)C2CCC2CC\n",
            "CC1C([NH3+])C(C)(C)C(C)(C)C(\n",
            "Cc1cc(cc(C)c1C)c1cc(C)c(C)c(\n",
            "CC1C2C(C)C(C)=C(C)C(C[NH3+])\n",
            "CC([NH3+])C(C)C(C)C1CC(C)(C)\n",
            "Cc1[nH]c(CCCC(C)(C)C)c2ccc(C\n",
            "Cc1cc(CC2CCCC2)c2CC=CCc12\n",
            "CC1C2CC=CC(C)(C)C(C)=CC1(C)C\n",
            "CC1(CC([NH3+])C1O)C(=O)C(N)=\n",
            "CC1C(CC[NH3+])C(C)(C)C(C)(C)\n",
            "CC1=CC(C)(C)C(C)=C(C)C=CC(=O\n",
            "CC(=O)C1=CC(C)(C)C(C)(C)[NH+\n",
            "CC1=C2CCC=CC(C[NH3+])(C[NH2+\n",
            "CC(O)C1CCC2C[NH+](C)CC(C)(C)\n",
            "Cc1cccc(CC2(CC2)C#C)c2cccn12\n",
            "CC1C(CC#N)C(C)=CCC(C)=CCC[NH\n",
            "CC1=CC(=O)C(C)(C)C=CC2CCC2CC\n",
            "CC1C2C=CCCCCC[NH+](C)C12C[NH\n",
            "CC(C1CCC1)C1=CC(C)=CCCCC(=O)\n",
            "CC(C)[NH+](C)CC([NH3+])C(N)=\n",
            "Cc1cc(CC2CCCC2)c2CCCCc12\n",
            "CC(=C)C1CC(C)([NH3+])C(C)(C)\n",
            "CC(=O)CC1(CC(C)(C)C1)C(C)([N\n",
            "CC1([NH3+])CC(CC#C)C=CC1[NH3\n",
            "CC12C[NH2+]C(CC1CCCCCC=C2)C#\n",
            "CC1=CC(C)(C)CCC(CC(=O)C1)C(C\n",
            "CC1=CC2C(CC(=O)C2)C(=O)C(C)=\n",
            "CC1=CC2CC(C)(C)C([NH3+])C=CC\n",
            "CC1=CC2(CC(C)C2)C(=O)C(=O)CC\n",
            "CC1=CC2CCC2C2(CC[NH2+]C2)CCC\n",
            "CC1C([NH3+])C(C)(C)CCCCCC1(C\n",
            "CC(C)C(C)(C)C1CC([NH3+])C(C)\n",
            "CC1C(C[NH3+])C(C)(C)C1C(C)(C\n",
            "CC1([NH3+])CC(CC(C)(C)C1)C(C\n",
            "CC1C2CCC(C)=C(C)C(C)=CC12[NH\n",
            "CC1=CC(CC#C)C(C)(C)C=CC[NH2+\n",
            "Cc1cc2CC(C)(C)CC(C)(C)c2c[nH\n",
            "CC(C)(C)C1CC(C)(C)C(C)(C)C(C\n",
            "CC1C2CCC(C)=C(C)C(C)=CC(C)=C\n",
            "CC1(CC(C[NH3+])C1)[NH+]1CCCC\n",
            "CC1(C)C([NH3+])CC(CC#C)CCCCC\n",
            "Cc1cc2C[NH2+]C(C)(C)CCCc2n1\n",
            "CC1=CC(CC(C)(C)C(C)=C1)C(C)=\n",
            "CC(O)C(C)([NH3+])C(C)(C)C[NH\n",
            "CC1C([NH3+])C2(CC2)CCCCC(=O)\n",
            "CC1(C)C(CC(C)=O)C(CC(C)(C)O)\n",
            "CC(O)C1CC(C)(C)C(C)(C)C(C[NH\n",
            "Cc1cc2CC(C)(C)CC(C)(C)Cc2c1C\n",
            "CC(O)(C[NH3+])C(C)(C)C1CC(C)\n",
            "CC12OCC(CC(CC#N)C1[NH3+])C=C\n",
            "CC1=C(C)C(C)(C)C(C[NH3+])C(C\n",
            "CC(O)(C[NH3+])C(C)(C)C([NH3+\n",
            "CC1C(C)C2(CC(C)(C)C[NH2+]2)C\n",
            "Cc1c(N)ccc2CCCc1c2\n",
            "CC1=CC([NH3+])C(C)=CC2CCCC2C\n",
            "CC(=O)C1=CC(C)=CC2CCCC2CCC1=\n",
            "Cc1ccc(c(N)c1C)C(C)(C)C1CCCC\n",
            "CC1([NH3+])CC(CC(C)=O)C(CC(C\n",
            "Cc1cc(CCC#C)c(CCC(C)(C)C)c(C\n",
            "CC1C(C[NH3+])C(C)(C)[NH+]1C(\n",
            "CC1([NH3+])C(CC(C)(C)C1)C(C[\n",
            "Cc1c(C)c2cccc3CCCCC3CCc2c1\n",
            "CC12CC(CC1[NH3+])CC(=C)C(O)C\n",
            "CC1(C)C(CC[NH3+])CCCCCC(=O)C\n",
            "Cc1nc(CC2CCCC(C)(C)C2)ncn1C\n",
            "CC1=C2CC(CC(C)=C1)C([NH3+])C\n",
            "CC(O)C(C)(C)C(C)(C)C(C)([NH3\n",
            "CC1C2C(C)C(C)(C)C(C[NH+]1C)C\n",
            "CC1=CC(C)=C(C)CCC(C)(C)=CC1\n",
            "CC(C)C1=CC(C)=C(C)CC2(CC2)CC\n",
            "CC1=CCC(=O)C(C)(C)C(C[NH3+])\n",
            "CC1=CC2(CC(C)C2)C([NH3+])C([\n",
            "CC(O)(C[NH3+])C1CC(C)=CC(C)(\n",
            "CC1=C2CCCC(=C)C(=O)CC2(C)C=C\n",
            "Cc1c[nH]c(c1)-c1cc(C)c(C)c(C\n",
            "CC1C2CCC(C)=C(C)C(C)=CC[NH+]\n",
            "CC1(C)CCC(CC(C)(C)C1)C([NH3+\n",
            "CC1=CCC(C)(C)C(C)=CC2CCC2C1=\n",
            "CC1C(CC(C)=C1C(C)(C)C)C1CCCC\n",
            "CC1(C)CC(C[NH3+])=CCCC1[NH3+\n",
            "CC1=CC2CCC2CC(C)(C)C=CC[NH2+\n",
            "CC1C([NH3+])CC(C)C1C1CC(C)(C\n",
            "Cc1cc(CCC(C)(C)C)c(C[NH3+])c\n",
            "CC12CC(CC1[NH3+])CCCCCCC[NH2\n",
            "CC1([NH3+])CCCC2CCCCCCCC2C1=\n",
            "CC1=CC(C[NH3+])(CC(C)(C)C)C(\n",
            "Cc1c(N)c(C)c(CC(C)(C)CCC#C)c\n",
            "Cc1cc(C)c(CC2CC2)c(C)s1\n",
            "CC1C2CC(C)=C(C)C(C)=CC[NH+]2\n",
            "CC(C)C(C)(C)C(C)(C)[NH+]=CC#\n",
            "Cc1cc2CC(C)=CCCC(=O)CCCc2c1\n",
            "Cc1[nH]c2ccc(CCCCCC(C)(C)C)c\n",
            "Cc1cc2CCC(C)(C)CCC(C)(C)Cc2c\n",
            "C#CC1=CCC2CCC(C)(C)O12\n",
            "CC1=CCC(CC(C)=O)C(C)=CC[NH2+\n",
            "CC(C)(C)C(C)(C)C1C[NH2+]C(C)\n",
            "CC1(C)CC2CCC(C[NH3+])C2CC1[N\n",
            "Cc1[nH]c2ccc3CCCC(C)(C)c3cc1\n",
            "CC1=C(C)C(C)(C)C=CC2CCC2C[NH\n",
            "CC12CCC(CC1CCCCCC(C)=O)C(O)C\n",
            "CC1(C[NH3+])C(O)C(C[NH3+])=C\n",
            "Cc1nc2cccc2CCCCCCCCC1=O\n",
            "CC1(C)CC(=O)C(=O)CC(=O)CC1C#\n",
            "CC(C)C1(C)C(C)C(C)(C)C(C)(C)\n",
            "CC1=CC2C(CC(=O)C2)C(C)=C(C)C\n",
            "CC1=CC2CCC(CC(C)(C)C2)C(C)(C\n",
            "CC1=C(C[NH3+])CCCC(=O)C1C[NH\n",
            "CC1(C[NH3+])CC(CC(C)(C)C1)C(\n",
            "CC1=C2C=CCCCC(=O)C=CC2(C)C=C\n",
            "CC(C)C1CCC2(CC2)C(C)=CC[NH2+\n",
            "CC(=O)C1=CCC(=O)CC2(CC2)C=CC\n",
            "CC12CCCC1CC(CCCCCC(C)=O)C2[N\n",
            "CC1=CCCCC(C[NH3+])C(C)(C)CC=\n",
            "CC1(C)CC2CCCC(C[NH3+])C2C(C1\n",
            "CC1C2CC(C)=C(C)C(C)=CC(C)=C1\n",
            "Cc1cc(C)c(C)c(CC(C)(C)C)c(C)\n",
            "CC1=CC2CC(CCCC1)C(=O)C2[NH3+\n",
            "CC(C)C1(C)C(C)C(C[NH3+])C(C)\n",
            "CC1=C2CCC(C[NH3+])=CC2[NH2+]\n",
            "CC1=CC(CCC(C)(C)C1)C1(C)C[NH\n",
            "Cc1ccc2c(C)[nH]c(C[NH3+])c2c\n",
            "Cc1[nH]c(C)c(CC(C)(C)C)c(c1)\n",
            "CC1C(C[NH3+])C(C)(C)C(C)(C)O\n",
            "Cc1c(CC#C)c(C)c(CC[NH3+])c(C\n",
            "Cc1c(N)c(C)c(CC2CCCCC2)c1C#N\n",
            "Cc1cc(C)c(CCC(C)(C)C)c2ccccc\n",
            "Cc1cc(C[NH3+])cc2CCCCCc2c1\n",
            "CC1=C2CC([NH3+])C(C)(C)C[NH2\n",
            "Cc1cn2C(CC(=O)CC(C)(C)C=C1)c\n",
            "Cc1nc2CCCC=CC(C)=Cc2c1\n",
            "CC1=CCC(C)(C)C=CC=CC2CCC2C1=\n",
            "CC1C2CC(C)=C(C)C(=O)CCC12CC#\n",
            "CC(O)C1=CCC2(CC2)C(=O)CC(=O)\n",
            "CC1=CC(CC2CC2)=CC=CC=CCCCC1=\n",
            "CC(O)(CC#C)C1C[NH2+]CC(C)=CC\n",
            "Cc1cc2CCC(C)=Cc2c1\n",
            "Cc1ccc(CCC(C)(C)C)c(cc1[O-])\n",
            "CC(O)(CC#C)C1=CC(C)=CCCC[NH2\n",
            "CC1(C)CC(CC#N)C(CC#C)C([NH3+\n",
            "CC1=C2CCC=CC(C)=CC(C)=CC2(C)\n",
            "CC(C)C1(C)CC(C)(C)C(C[NH3+])\n",
            "CC1=CC2(C)C(CC(C)(C)CC(C)=C1\n",
            "CC1C2CC(C)(C)C(C)=CCC12C[NH3\n",
            "CC1C([NH3+])C2CC(=O)CCCCCCC1\n",
            "CC1C(CC#C)C(C)=CC(C)=CC(C)=N\n",
            "CC(C)(C)C1CC(C)C(C)=CC(C)(C)\n",
            "CC1(C)CC2CCC(=CCCC12)C(=O)C#\n",
            "CC1=CC(CC(=O)C1)C1(C)CC(C)=C\n",
            "CC1=CCC(CC#C)=CC2CCCC2CCCC1=\n",
            "Cc1cc2CC(C)(C)C(C)(C)Cc2c(C)\n",
            "CC1=CC(C)=CCCC2(CC2)C=CC=CC=\n",
            "CC1=CC(C)(C)C(C)(C)C(C)=CC(=\n",
            "CC1([NH3+])CCCCCCCCCCCC(=O)C\n",
            "CC(C)C(C)(C)C1CC(C)C(C)=CC(C\n",
            "CC1=CC(CC(=O)C#C)C2(CC2)CC=C\n",
            "Cc1cnc2CCCCCC(C)(C)C=CC(=O)c\n",
            "CC1=CC(CC#C)C2(CC2)C=CC(=O)N\n",
            "CC1(CC(C[NH3+])CC1C(C)=O)C(=\n",
            "CC1=C(C[NH3+])C2CC=CCC2CCC=C\n",
            "CC1=CC2CCC2C(C)(C)C([NH3+])C\n",
            "CC1(C[NH3+])CC2CC=CC=CC=CC=C\n",
            "Cc1ccc(CCC(C)(C)C=C)c2CC31\n",
            "CC1=CC2CC(CC(C)(C)C1)C([NH3+\n",
            "CC1C(CC2CCC2)C(C)(C)C(C)=C1[\n",
            "Cc1cc(CC(C)(C)C)c2cc([nH]c12\n",
            "CC1([NH3+])CC2CCC(=O)CCCC2CC\n",
            "CC1=CC=CC2(CC2)C(C)(C)C=CCCC\n",
            "Cc1cc(CC(C)(C)C)c(C[NH3+])c(\n",
            "CC1=CCCCC(CC#C)=CC(=O)CC1CC#\n",
            "CC12CCC(CC(CC#N)C1[NH3+])CC=\n",
            "CC1=CC([NH3+])C(=O)C2CCCCC2=\n",
            "CC1=CC=C2CCCC(C2)C(C[NH3+])=\n",
            "Cc1noc(CC2CCCCCCCC#C)cc12\n",
            "CC#CC1CC(C)(C)CCC(C)(C)C([NH\n",
            "CC(C)(C)C(C)(C)C(C)C1CC[NH2+\n",
            "CC1=CCCCC(C)(C)C(C[NH3+])C(C\n",
            "CC1([NH3+])CCCCCCCCCCCCCC1C#\n",
            "CC1C(CC1=O)C(C)(C)C(C)(C)C1C\n",
            "CC1=CC(C[NH3+])C(C)(C)C([NH3\n",
            "CC1=CC[NH+](CCC1)C(C)(C)C1CC\n",
            "CC1=CC([NH3+])C(C)(C)C(C)(C)\n",
            "CC1(C)CCCC(CC(C)(C)C1)[NH+]1\n",
            "CC1=CC2CCC(CC1)C([NH3+])C(C)\n",
            "CC1=CC2(CC(C)=CC(C)=C1)C(C)=\n",
            "CC1=CC2(CC(C)(C)CC(C)=C1)C(O\n",
            "CC1C2CC(C)C(C)=C(C)C1[NH2+]C\n",
            "CC1(C)CCCC(CC#N)C(=O)C([NH3+\n",
            "Cc1cc2CCCC(=O)CC(=O)CC(=O)c1\n",
            "CC1=CCC2([NH3+])CCCCC(C1)C23\n",
            "CC([NH3+])C(C)C1CC([NH3+])C(\n",
            "CC1=CC=CCC2(CC2)C([NH3+])C=C\n",
            "CC1=C(CC(C)(C)CCC1)C(C)(C)C#\n",
            "CC([NH2+]CC(C)(C)C)C1CCCC[NH\n",
            "Cc1cc(CCC#C)c(CCC[NH3+])c(CC\n",
            "Cc1cc(C)c(C)c(CC([NH3+])CCCO\n",
            "CC1=CC(C)(C)CC(CC(C)(C)C)C(C\n",
            "CC(O)(C(C)(C)C)C1CCCCCCC(=O)\n",
            "CC(CC1(C)CC1)C(C)([NH3+])C(C\n",
            "CC12CC=CCC1CC(C[NH3+])C=CC2[\n",
            "CC(O)C1(C)C(C)C(C)(C)C(C)(C)\n",
            "CC1=CC2CC=CC(C)=CC(C)=C(C)C1\n",
            "CC1=CCCCC(CC#C)C2CCC(C)=CC2C\n",
            "CC1=CC(=O)CC(C)=CC(C)=C1[NH3\n",
            "CC1C2CCC(C)(C)C(C)=CC[NH+]1C\n",
            "CC1=CC(C[NH3+])C2(CC=C2)C=CC\n",
            "CC1C2C=CC(C)(C)C(C)=C(C)C(C)\n",
            "CC(O)(CC#C)C1CC(C)(C)C[NH2+]\n",
            "CC(C)C(C)C1CC(C)(C)C([NH3+])\n",
            "CC(=O)C1=CCC2CC[NH2+]C2CC1[N\n",
            "CC1C(CC[NH3+])C2(CC(C)C12)C(\n",
            "Cc1coc(CCC(C)(C)C)c2ccccc12\n",
            "Cc1csc(CC(C)(C)CC2CCC2)c1[nH\n",
            "CC(O)CC1(CCC1)C1CC(C)=CC(C)O\n",
            "Cc1ccc(cc1C)C(C)(C)[NH+]1CCC\n",
            "CC1=CC(C)(C)C=C(C)C(C)(C)CCC\n",
            "CC(CC#C)CC[NH2+]C1\n",
            "CC1=CCC2(C)C(CC(C)=C1)C2[NH3\n",
            "Cc1ccc(CC(C)(C)C)c(cc1C[NH3+\n",
            "CC(C)C1=CCC(C)=CC(=O)C1[NH3+\n",
            "CC1=C2CCC2C(C[NH3+])C(C)(C)[\n",
            "CC(O)(C[NH3+])C1CC(C)=CC(=O)\n",
            "CC1(C)CCCCC(CC#C)C(=O)C=CC[N\n",
            "CC1=CC(C)(C)CCCC(C)(C)CC(C)=\n",
            "CC1=C(C=CC(C)(C)CC1)C(C)(C)[\n",
            "Cc1cc(C)c(CCCCCCCC(O)C[NH2+]\n",
            "Cc1cc(C[NH3+])c(C)c(C)c(Cl)c\n",
            "CC(O)C1(C)CC(C)(C)CCC1C[NH3+\n",
            "CC1(O)CC(CCCC1)C(C[NH3+])C(C\n",
            "CC(C)C1(CC(C)=C1C)C(C)(C)[NH\n",
            "Cc1c[nH]c(CCCC[NH3+])c2CCCc1\n",
            "CC1C(C[NH3+])C1(C)C1CC(C)(C)\n",
            "CC1=CC(C)(C)C=CC(=O)C(=O)CC(\n",
            "CC1=CC2(CC(C)C2)C(C[NH3+])=C\n",
            "Cc1ccc2c(C)c(C)c(C)c(C)c(C)c\n",
            "CC1=C(CC(C)(C)CC=C1)C(=O)C1C\n",
            "CC1(CCC1)c1cc(C)c(C)c(CC#C)c\n",
            "CC1C2CC(C)(C)CCC(C)=CCC1(C)C\n",
            "CC1=C(C)C(=O)C(C)(C)C([NH3+]\n",
            "Cc1c(CC#C)c(CC(C)(C)C)c(C)c1\n",
            "CC(=O)C1(CC(=O)CC1)C1CCC(=O)\n",
            "CC(=O)CC(C)(C)C(C)([NH3+])C=\n",
            "CC12CC([NH3+])C1C(CC(C)(C)C)\n",
            "Cc1cc2CCC(C)(C)Cc2c(C[NH3+])\n",
            "CC(O)(CC#N)C(C)(C)C1CC(C)C1[\n",
            "Cc1[nH]cc2CC(C)=C(C)C=CC=CCc\n",
            "CC12C[NH2+]CC(CC(C)=C1)C(C)=\n",
            "CC(C)(C)C1CC(C)(C)C(C)(C)CCC\n",
            "CC(O)CC1(C)CC(C[NH3+])C(C)=C\n",
            "CC12CCC(CC1=C)C(=C)C(=C)C=CC\n",
            "Cc1cc(CCC#C)c(CC(C)(C)C)c(C)\n",
            "CC1=C2CCC(CC1[NH3+])C(C)(C)O\n",
            "CC(O)C1=CC(C)(C)CCC(C)=CC(C)\n",
            "CC1=CC(CC2(C)CCC2)C(=O)C(C)=\n",
            "CC1=CCCC2CC(CCCC2)=CCC[NH2+]\n",
            "Cc1cc2CCCc2c1O\n",
            "Cc1ccc(cc1N)-c1cc([nH]c1)C[N\n",
            "CC1(C)CC(CC([NH3+])C1)C1CC(C\n",
            "CC1=CCC([NH3+])C2(CC2)C(C)=C\n",
            "CC12CCCC(CC[NH2+]1)C([NH3+])\n",
            "CC1=CC([NH3+])C(C)=CC2(CC2)C\n",
            "CC(O)C1CC(C)(C)C(C)(C)C(C)(C\n",
            "Cc1ccc(C(C)(C)C)c(C)c(C)c1\n",
            "CC1C([NH3+])CC(C[NH3+])C1CC#\n",
            "CC1([NH3+])C(CC(C)=O)C(O)C1[\n",
            "Cc1coc2cc(CCCCC(C)(C)C)cc12\n",
            "CC12CCC1CCCCC(CC2)[NH+]=C3\n",
            "CC1=CC2CCC2CC(C[NH3+])C(C)=C\n",
            "CC12OCC(=O)C1C(=O)CCCCCCCCCC\n",
            "CC1=CC2CC(CCCC1)C(=O)CC2[NH3\n",
            "CC1=CC(C)(C)C=CC(=O)CC1[NH3+\n",
            "CC1=CCC=C(CC2CCC2)C(C)=CC(=O\n",
            "Cc1cc(C)c(CCC#C)c(CC2=CCC2)n\n",
            "Cc1cnc2CC(C)=CC(C)=Cc12\n",
            "Cc1[nH]c(C)c(C)c(CC(C)(C)C)c\n",
            "CC1=CC2C=CCCCC(C)(C)C=CC(C)=\n",
            "29.6 percent wrongly formatted smiles\n"
          ],
          "name": "stdout"
        }
      ]
    },
    {
      "cell_type": "code",
      "metadata": {
        "id": "EJKAy7TkxVhN",
        "colab_type": "code",
        "outputId": "57a7efe7-7133-4954-da55-e40bfdb1fe07",
        "colab": {
          "base_uri": "https://localhost:8080/",
          "height": 1000
        }
      },
      "source": [
        "#Interpolation test in latent_space\n",
        "i = 0\n",
        "j= 2\n",
        "latent1 = x_latent[j:j+1]\n",
        "latent0 = x_latent[i:i+1]\n",
        "mols1 = []\n",
        "ratios = np.linspace(0,1,25)\n",
        "for r in ratios:\n",
        "    #print r\n",
        "    rlatent = (1.0-r)*latent0 + r*latent1\n",
        "    smiles  = latent_to_smiles(rlatent)\n",
        "    mol = Chem.MolFromSmiles(smiles)\n",
        "    if mol:\n",
        "        mols1.append(mol)\n",
        "    else:\n",
        "        print(smiles)\n",
        "Draw.MolsToGridImage(mols1, molsPerRow=5)"
      ],
      "execution_count": 0,
      "outputs": [
        {
          "output_type": "execute_result",
          "data": {
            "image/png": "[encoded data removed]",
            "text/plain": [
              "<PIL.PngImagePlugin.PngImageFile image mode=RGB size=1000x1000 at 0x7FE9B3B4F550>"
            ]
          },
          "metadata": {
            "tags": []
          },
          "execution_count": 35
        }
      ]
    },
    {
      "cell_type": "code",
      "metadata": {
        "id": "3lSxCnD-xhiU",
        "colab_type": "code",
        "outputId": "9c159bd6-de1a-43f6-a690-cdb6c89740cc",
        "colab": {
          "base_uri": "https://localhost:8080/",
          "height": 837
        }
      },
      "source": [
        "#Sample around the latent wector\n",
        "latent = x_latent[0:1]\n",
        "scale = 0.40\n",
        "mols = []\n",
        "for i in range(20):\n",
        "    latent_r = latent + scale*(np.random.randn(latent.shape[1])) #TODO, try with\n",
        "    smiles = latent_to_smiles(latent_r)\n",
        "    mol = Chem.MolFromSmiles(smiles)\n",
        "    if mol:\n",
        "        mols.append(mol)\n",
        "    else:\n",
        "        print(smiles)\n",
        "Draw.MolsToGridImage(mols, molsPerRow=5)"
      ],
      "execution_count": 0,
      "outputs": [
        {
          "output_type": "execute_result",
          "data": {
            "image/png": "[encoded data removed]",
            "text/plain": [
              "<PIL.PngImagePlugin.PngImageFile image mode=RGB size=1000x800 at 0x7FE9B3BEB7B8>"
            ]
          },
          "metadata": {
            "tags": []
          },
          "execution_count": 36
        }
      ]
    },
    {
      "cell_type": "markdown",
      "metadata": {
        "id": "zylfzQJ0NwfJ",
        "colab_type": "text"
      },
      "source": [
        "##3. Seq3seq Fingerprint Model\n",
        "seq2seq는 자료를 먼저 unlabeled data로 훈련 시킨다음 labed data를 이용하여 fingerprint를 생성한 뒤 labeled data로 지도학습을 시켰다.딥러닝을 약물 발견에 적용시키기 위해 사용되는 이용가능한 labeled 훈련 데이터는 요구되어지는 데이터 양에비해 절대적으로 부족하여 정확도가 떨어지게 된다. 정확도를 올리기 위해서는 labeled data의 수를 늘이는 방법을 생각 할 수있지만 이러한 데이터를 얻기위해 드는 비용이 매우 높기 때문에 labeled 데이터를 늘이는 것은 매우 힘들다. 이 문제를 해결하기 위해 semi-supervised deep learning modeling 즉 반지도학습 전략을 선택하였다. 이를 이용하면 딥러닝 프레임워크는 labeled data와 unlabeled data 모두에서 학습을 할 수 있고 unlabled data의 수는 거의 무한대적으로 사용할 수 있기때문에 지도학습에 비해 많은 이점이 있다. 이러한 방식을 이요한 방법을 seq3seq로 명명하였다. seq2seq는 1개의 입력과 1개의 출력을 가지는데 반해 seq3se1는 1개의 입력과 2개의 출력을 가진다. Labeled data와 unlabeled data를 보두 고려하여 우수한 추론 성능을 제공하고 앞에서 언급했듯이 unlabeled data의 수는 거의 무한으로 있기 때문에 적은 labeled data의 한정적인 수를 보완하면서 좋은 추론 능력을 낼 수 있다.\n",
        "\n",
        "###훈련(unlabeled data 와 labeled data 둘 다 사용)\n",
        "![seq3seq1](https://d3i71xaburhd42.cloudfront.net/0b940de618127f3d149fa3ca8e8bbba4b1cc425d/4-Figure2-1.png)\n",
        "\n",
        "###fingerprint(1개의 입력으로 2개의 출력이 나옴)\n",
        "![seq3seq2](https://d3i71xaburhd42.cloudfront.net/0b940de618127f3d149fa3ca8e8bbba4b1cc425d/5-Figure3-1.png)\n",
        "\n",
        "###PM2-10k\n",
        "![PM2-10k](https://d3i71xaburhd42.cloudfront.net/0b940de618127f3d149fa3ca8e8bbba4b1cc425d/6-Table2-1.png)\n",
        "###LogP\n",
        "![대체 텍스트](https://d3i71xaburhd42.cloudfront.net/0b940de618127f3d149fa3ca8e8bbba4b1cc425d/6-Table1-1.png)\n",
        "\n",
        "seq2seq의 정확도와 비교해서 seq3seq의 정확도가 증가한 것으로 보인다."
      ]
    },
    {
      "cell_type": "markdown",
      "metadata": {
        "id": "n-RQoGvpeAuH",
        "colab_type": "text"
      },
      "source": [
        "# 참고문헌\n",
        "- Dzmitry Bahdanau, KyungHyun Cho, Yoshua Bengio, \"Neural Machine Translation by Jointly Learning to Aligh and Translate\", 2015\n",
        "- \"How to Use Tensorflow for Seq2seq Models (LIVE)\", Youtube, 2017.3.30, https://www.youtube.com/watch?v=ElmBrKyMXxs\n",
        "- Won Joon Yoo, [딥 러닝을 이용한 자연어 처리 입문], BY-NC-SA, 2019.12.03, 13-1)시퀀스-투-시퀀스\n",
        "- Zheng Xu, Sheng Wang, Feiyun Zhu, Junzhou Huang, \"Seq2seq Fingerprint: An Unsupervised Deep Molecular Embedding for Drug Discovery\", 2017\n",
        "- \"Master your molecule generator: Seq2seq RNN models with SMILES in Keras\", 2017.12.14, Esben Jannik Bjerrum, https://www.wildcardconsulting.dk/master-your-molecule-generator-seq2seq-rnn-models-with-smiles-in-keras \n",
        "- Xiaoyu Zhang, Sheng Wang, Feiyun Zhu, Zheng Xu, Yuhong Wang, Junzhou Huang, \"Seq3seq Fingerprint: Towards End-to-end Semi-supervised DeepDrug Discovery\", 2018 "
      ]
    }
  ]
}
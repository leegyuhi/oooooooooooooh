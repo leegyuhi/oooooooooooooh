{
  "nbformat": 4,
  "nbformat_minor": 0,
  "metadata": {
    "kernelspec": {
      "display_name": "Python 3",
      "language": "python",
      "name": "python3"
    },
    "language_info": {
      "codemirror_mode": {
        "name": "ipython",
        "version": 3
      },
      "file_extension": ".py",
      "mimetype": "text/x-python",
      "name": "python",
      "nbconvert_exporter": "python",
      "pygments_lexer": "ipython3",
      "version": "3.7.2"
    },
    "colab": {
      "name": "10/10_ch01_code.ipynb의 사본",
      "provenance": [],
      "include_colab_link": true
    }
  },
  "cells": [
    {
      "cell_type": "markdown",
      "metadata": {
        "id": "view-in-github",
        "colab_type": "text"
      },
      "source": [
        "<a href=\"https://colab.research.google.com/github/leegyuhi/oooooooooooooh/blob/master/10_10_ch01_code_ipynb%EC%9D%98_%EC%82%AC%EB%B3%B8.ipynb\" target=\"_parent\"><img src=\"https://colab.research.google.com/assets/colab-badge.svg\" alt=\"Open In Colab\"/></a>"
      ]
    },
    {
      "cell_type": "markdown",
      "metadata": {
        "id": "tg-79eYkAq9d",
        "colab_type": "text"
      },
      "source": [
        "# Chapter 1: Computing with Python"
      ]
    },
    {
      "cell_type": "markdown",
      "metadata": {
        "id": "w6Ubk4kKAq9g",
        "colab_type": "text"
      },
      "source": [
        "Robert Johansson, Updated Source Code Listings for Numerical Python - A Practical Techniques Approach for Industry (ISBN 978-1-484205-54-9). \n",
        "\n",
        "Updator: Kee-Youn Yoo"
      ]
    },
    {
      "cell_type": "markdown",
      "metadata": {
        "id": "lgiSSWlQAq9h",
        "colab_type": "text"
      },
      "source": [
        "## Interpreter"
      ]
    },
    {
      "cell_type": "code",
      "metadata": {
        "collapsed": true,
        "id": "F9f8fc4qAq9i",
        "colab_type": "code",
        "outputId": "eba6dee1-8a9a-4226-e9c8-cd0f8bf02b5c",
        "colab": {
          "base_uri": "https://localhost:8080/",
          "height": 35
        }
      },
      "source": [
        "%%writefile ./files/hello.py # .은 현재 있는 폴더(위치)\n",
        "print(\"Hello from Python!\")"
      ],
      "execution_count": 19,
      "outputs": [
        {
          "output_type": "stream",
          "text": [
            "UsageError: unrecognized arguments: # .은 현재 있는 폴더(위치)\n"
          ],
          "name": "stderr"
        }
      ]
    },
    {
      "cell_type": "code",
      "metadata": {
        "collapsed": true,
        "id": "yol5qRm4Aq9t",
        "colab_type": "code",
        "outputId": "b9673fd9-fd89-4e14-c6a0-b9c1b7d324cf",
        "colab": {
          "base_uri": "https://localhost:8080/",
          "height": 35
        }
      },
      "source": [
        "!python ./files/hello.py\n",
        "# command에서 python 실행"
      ],
      "execution_count": 20,
      "outputs": [
        {
          "output_type": "stream",
          "text": [
            "python3: can't open file './files/hello.py': [Errno 2] No such file or directory\n"
          ],
          "name": "stdout"
        }
      ]
    },
    {
      "cell_type": "code",
      "metadata": {
        "collapsed": true,
        "id": "1N2CXPkoAq9w",
        "colab_type": "code",
        "outputId": "624b2026-590f-4818-9d59-2143fbb71e2a",
        "colab": {
          "base_uri": "https://localhost:8080/",
          "height": 35
        }
      },
      "source": [
        "!python --version\n",
        "# 현재 실행하는 파이썬의 버전 실행"
      ],
      "execution_count": 21,
      "outputs": [
        {
          "output_type": "stream",
          "text": [
            "Python 3.6.8\n"
          ],
          "name": "stdout"
        }
      ]
    },
    {
      "cell_type": "markdown",
      "metadata": {
        "id": "I0OzeI5VAq9z",
        "colab_type": "text"
      },
      "source": [
        "## Input and output caching"
      ]
    },
    {
      "cell_type": "code",
      "metadata": {
        "collapsed": true,
        "id": "L9YXUm0cAq90",
        "colab_type": "code",
        "outputId": "96512721-52cd-4e94-db5c-9380e6271611",
        "colab": {
          "base_uri": "https://localhost:8080/",
          "height": 35
        }
      },
      "source": [
        "3 * 3"
      ],
      "execution_count": 0,
      "outputs": [
        {
          "output_type": "execute_result",
          "data": {
            "text/plain": [
              "9"
            ]
          },
          "metadata": {
            "tags": []
          },
          "execution_count": 4
        }
      ]
    },
    {
      "cell_type": "code",
      "metadata": {
        "collapsed": true,
        "id": "6FUV8pcXAq92",
        "colab_type": "code",
        "outputId": "7e4807df-67ea-4ef2-965a-5544268feb7a",
        "colab": {
          "base_uri": "https://localhost:8080/",
          "height": 35
        }
      },
      "source": [
        "In[4] # 네번째로 입력한게 뭐였냐"
      ],
      "execution_count": 0,
      "outputs": [
        {
          "output_type": "execute_result",
          "data": {
            "text/plain": [
              "'3 * 3'"
            ]
          },
          "metadata": {
            "tags": []
          },
          "execution_count": 5
        }
      ]
    },
    {
      "cell_type": "code",
      "metadata": {
        "collapsed": true,
        "id": "siXTWYzQAq94",
        "colab_type": "code",
        "outputId": "ef75ed8f-3e01-4eaa-d147-5128bd68801e",
        "colab": {
          "base_uri": "https://localhost:8080/",
          "height": 35
        }
      },
      "source": [
        "Out[4]"
      ],
      "execution_count": 0,
      "outputs": [
        {
          "output_type": "execute_result",
          "data": {
            "text/plain": [
              "9"
            ]
          },
          "metadata": {
            "tags": []
          },
          "execution_count": 7
        }
      ]
    },
    {
      "cell_type": "code",
      "metadata": {
        "collapsed": true,
        "id": "YDt4a0zjAq97",
        "colab_type": "code",
        "outputId": "1f10791c-4246-4acc-9e86-87e0e68ee6bf",
        "colab": {
          "base_uri": "https://localhost:8080/",
          "height": 35
        }
      },
      "source": [
        "In[4:7] # 4번째부터 7번쨰까지의 인풋"
      ],
      "execution_count": 0,
      "outputs": [
        {
          "output_type": "execute_result",
          "data": {
            "text/plain": [
              "['3 * 3', 'In[4] # 네번째로 입력한게 뭐였냐', 'Out[6]']"
            ]
          },
          "metadata": {
            "tags": []
          },
          "execution_count": 8
        }
      ]
    },
    {
      "cell_type": "code",
      "metadata": {
        "collapsed": true,
        "id": "Fl7CpWxdAq99",
        "colab_type": "code",
        "outputId": "94584557-d116-4919-eb75-f482ae9e8884",
        "colab": {
          "base_uri": "https://localhost:8080/",
          "height": 35
        }
      },
      "source": [
        "Out[7]"
      ],
      "execution_count": 0,
      "outputs": [
        {
          "output_type": "execute_result",
          "data": {
            "text/plain": [
              "9"
            ]
          },
          "metadata": {
            "tags": []
          },
          "execution_count": 9
        }
      ]
    },
    {
      "cell_type": "code",
      "metadata": {
        "collapsed": true,
        "id": "GF6mV8J7Aq9_",
        "colab_type": "code",
        "outputId": "9a023bf8-9ece-4831-f453-96ef2bb22586",
        "colab": {
          "base_uri": "https://localhost:8080/",
          "height": 35
        }
      },
      "source": [
        "1 + 2"
      ],
      "execution_count": 0,
      "outputs": [
        {
          "output_type": "execute_result",
          "data": {
            "text/plain": [
              "3"
            ]
          },
          "metadata": {
            "tags": []
          },
          "execution_count": 10
        }
      ]
    },
    {
      "cell_type": "code",
      "metadata": {
        "id": "ZO1-ATUzAq-C",
        "colab_type": "code",
        "colab": {}
      },
      "source": [
        "1 + 2; # 계산을 하되 출력을 보여주지 않음"
      ],
      "execution_count": 0,
      "outputs": []
    },
    {
      "cell_type": "code",
      "metadata": {
        "id": "iO6miVofCukd",
        "colab_type": "code",
        "outputId": "51a9195c-d945-4673-a907-3de775a2d091",
        "colab": {
          "base_uri": "https://localhost:8080/",
          "height": 35
        }
      },
      "source": [
        "_ # 바로 전의 값"
      ],
      "execution_count": 18,
      "outputs": [
        {
          "output_type": "execute_result",
          "data": {
            "text/plain": [
              "2"
            ]
          },
          "metadata": {
            "tags": []
          },
          "execution_count": 18
        }
      ]
    },
    {
      "cell_type": "code",
      "metadata": {
        "id": "y8U8YI90Aq-E",
        "colab_type": "code",
        "colab": {}
      },
      "source": [
        "x = 1"
      ],
      "execution_count": 0,
      "outputs": []
    },
    {
      "cell_type": "code",
      "metadata": {
        "collapsed": true,
        "id": "GAmu7dxIAq-G",
        "colab_type": "code",
        "outputId": "a9370a6c-d2a3-4b24-86e5-b2b4f2cb568d",
        "colab": {
          "base_uri": "https://localhost:8080/",
          "height": 35
        }
      },
      "source": [
        "x = 2; x"
      ],
      "execution_count": 0,
      "outputs": [
        {
          "output_type": "execute_result",
          "data": {
            "text/plain": [
              "2"
            ]
          },
          "metadata": {
            "tags": []
          },
          "execution_count": 13
        }
      ]
    },
    {
      "cell_type": "markdown",
      "metadata": {
        "id": "jCf0h4L6Aq-I",
        "colab_type": "text"
      },
      "source": [
        "## Object Introspection & Documentation"
      ]
    },
    {
      "cell_type": "code",
      "metadata": {
        "id": "vTgLpnk2Aq-J",
        "colab_type": "code",
        "colab": {}
      },
      "source": [
        "import os"
      ],
      "execution_count": 0,
      "outputs": []
    },
    {
      "cell_type": "code",
      "metadata": {
        "id": "8QutOAq_Aq-K",
        "colab_type": "code",
        "colab": {}
      },
      "source": [
        "#os.w <TAB> # 탭을 누르면 함수 이름이 나옴"
      ],
      "execution_count": 0,
      "outputs": []
    },
    {
      "cell_type": "code",
      "metadata": {
        "id": "DP9n8Zl5Aq-M",
        "colab_type": "code",
        "colab": {}
      },
      "source": [
        "import math"
      ],
      "execution_count": 0,
      "outputs": []
    },
    {
      "cell_type": "code",
      "metadata": {
        "collapsed": true,
        "id": "fUiTqlOBAq-O",
        "colab_type": "code",
        "colab": {}
      },
      "source": [
        "math.cos? # cos 뒤에 뭐 써야 할지 모를 때"
      ],
      "execution_count": 0,
      "outputs": []
    },
    {
      "cell_type": "code",
      "metadata": {
        "id": "qoNfqiawDvJ2",
        "colab_type": "code",
        "colab": {}
      },
      "source": [
        "print?"
      ],
      "execution_count": 0,
      "outputs": []
    },
    {
      "cell_type": "markdown",
      "metadata": {
        "id": "6LL-xsW9D928",
        "colab_type": "text"
      },
      "source": [
        "# 함수 설명 넣는 방법 숙제!!!"
      ]
    },
    {
      "cell_type": "markdown",
      "metadata": {
        "id": "46JBP4yzAq-Q",
        "colab_type": "text"
      },
      "source": [
        "## Interaction with the System Shell (Linux)"
      ]
    },
    {
      "cell_type": "code",
      "metadata": {
        "id": "xTeZL8WSAq-R",
        "colab_type": "code",
        "colab": {}
      },
      "source": [
        "cd -q ./files \n",
        "# 폴더를 옮겨감"
      ],
      "execution_count": 0,
      "outputs": []
    },
    {
      "cell_type": "code",
      "metadata": {
        "collapsed": true,
        "id": "2LK4qvHiAq-T",
        "colab_type": "code",
        "colab": {}
      },
      "source": [
        "!touch file1.py file2.py file3.py\n",
        "# 파일을 만듬"
      ],
      "execution_count": 0,
      "outputs": []
    },
    {
      "cell_type": "code",
      "metadata": {
        "id": "9ouiVNi_Aq-X",
        "colab_type": "code",
        "colab": {
          "base_uri": "https://localhost:8080/",
          "height": 35
        },
        "outputId": "52874432-8a79-45de-bf5c-8cbb820a0c35"
      },
      "source": [
        "!ls file* # file이란 이름이 붙은 파일을 전부 리스트업해라"
      ],
      "execution_count": 37,
      "outputs": [
        {
          "output_type": "stream",
          "text": [
            "file1.py  file2.py  file3.py\n"
          ],
          "name": "stdout"
        }
      ]
    },
    {
      "cell_type": "code",
      "metadata": {
        "id": "P6EU4_56Aq-a",
        "colab_type": "code",
        "colab": {}
      },
      "source": [
        "files = !ls file* # 변수에 ls 함수를 실행한 값을 대입해라"
      ],
      "execution_count": 0,
      "outputs": []
    },
    {
      "cell_type": "code",
      "metadata": {
        "id": "UzXVMh92Aq-c",
        "colab_type": "code",
        "colab": {
          "base_uri": "https://localhost:8080/",
          "height": 35
        },
        "outputId": "06838911-e3b5-4404-cc75-fb2ccad0fc00"
      },
      "source": [
        "len(files) # 길이는"
      ],
      "execution_count": 39,
      "outputs": [
        {
          "output_type": "execute_result",
          "data": {
            "text/plain": [
              "1"
            ]
          },
          "metadata": {
            "tags": []
          },
          "execution_count": 39
        }
      ]
    },
    {
      "cell_type": "code",
      "metadata": {
        "id": "XwpUC72JAq-e",
        "colab_type": "code",
        "colab": {
          "base_uri": "https://localhost:8080/",
          "height": 35
        },
        "outputId": "ad1dbf60-c842-4fe2-d4c1-0b09da2d0c9e"
      },
      "source": [
        "files"
      ],
      "execution_count": 40,
      "outputs": [
        {
          "output_type": "execute_result",
          "data": {
            "text/plain": [
              "['file1.py  file2.py  file3.py']"
            ]
          },
          "metadata": {
            "tags": []
          },
          "execution_count": 40
        }
      ]
    },
    {
      "cell_type": "code",
      "metadata": {
        "id": "6gZOrNXDAq-f",
        "colab_type": "code",
        "colab": {}
      },
      "source": [
        "file = \"file1.py\""
      ],
      "execution_count": 0,
      "outputs": []
    },
    {
      "cell_type": "code",
      "metadata": {
        "id": "srPugi9BAq-h",
        "colab_type": "code",
        "colab": {
          "base_uri": "https://localhost:8080/",
          "height": 35
        },
        "outputId": "1dad52c6-8c26-44bf-a4f5-efb0dd39e975"
      },
      "source": [
        "!ls -l $file # 변수를 $file로 씀"
      ],
      "execution_count": 42,
      "outputs": [
        {
          "output_type": "stream",
          "text": [
            "-rw-r--r-- 1 root root 0 Oct 10 00:33 file1.py\n"
          ],
          "name": "stdout"
        }
      ]
    },
    {
      "cell_type": "code",
      "metadata": {
        "id": "7huYIOXbAq-j",
        "colab_type": "code",
        "colab": {}
      },
      "source": [
        "cd -q ..\n",
        "# change directory"
      ],
      "execution_count": 0,
      "outputs": []
    },
    {
      "cell_type": "markdown",
      "metadata": {
        "id": "ey4XxLlmAq-l",
        "colab_type": "text"
      },
      "source": [
        "## IPython Extensions"
      ]
    },
    {
      "cell_type": "code",
      "metadata": {
        "id": "sgOVwfYEAq-l",
        "colab_type": "code",
        "colab": {
          "base_uri": "https://localhost:8080/",
          "height": 163
        },
        "outputId": "8d418417-f000-4559-8aab-8aaa311da792"
      },
      "source": [
        "%lsmagic # magic키워드의 종류를 보여줌\n",
        "# line 매직에는 % 안 써도 갠춘 ex) cd"
      ],
      "execution_count": 44,
      "outputs": [
        {
          "output_type": "execute_result",
          "data": {
            "application/json": {
              "cell": {
                "prun": "ExecutionMagics",
                "file": "Other",
                "!": "OSMagics",
                "capture": "ExecutionMagics",
                "timeit": "ExecutionMagics",
                "script": "ScriptMagics",
                "pypy": "Other",
                "system": "OSMagics",
                "perl": "Other",
                "html": "DisplayMagics",
                "bash": "Other",
                "shell": "Other",
                "HTML": "Other",
                "python": "Other",
                "SVG": "Other",
                "javascript": "DisplayMagics",
                "bigquery": "Other",
                "js": "DisplayMagics",
                "writefile": "OSMagics",
                "ruby": "Other",
                "python3": "Other",
                "python2": "Other",
                "latex": "DisplayMagics",
                "sx": "OSMagics",
                "svg": "DisplayMagics",
                "sh": "Other",
                "time": "ExecutionMagics",
                "debug": "ExecutionMagics"
              },
              "line": {
                "psource": "NamespaceMagics",
                "logstart": "LoggingMagics",
                "popd": "OSMagics",
                "tensorflow_version": "Other",
                "loadpy": "CodeMagics",
                "colors": "BasicMagics",
                "who_ls": "NamespaceMagics",
                "lf": "Other",
                "ll": "Other",
                "pprint": "BasicMagics",
                "lk": "Other",
                "ls": "Other",
                "save": "CodeMagics",
                "tb": "ExecutionMagics",
                "lx": "Other",
                "pylab": "PylabMagics",
                "killbgscripts": "ScriptMagics",
                "quickref": "BasicMagics",
                "magic": "BasicMagics",
                "dhist": "OSMagics",
                "edit": "KernelMagics",
                "logstop": "LoggingMagics",
                "gui": "BasicMagics",
                "prun": "ExecutionMagics",
                "debug": "ExecutionMagics",
                "page": "BasicMagics",
                "logstate": "LoggingMagics",
                "ed": "Other",
                "pushd": "OSMagics",
                "timeit": "ExecutionMagics",
                "set_env": "OSMagics",
                "rehashx": "OSMagics",
                "hist": "Other",
                "qtconsole": "KernelMagics",
                "rm": "Other",
                "dirs": "OSMagics",
                "run": "ExecutionMagics",
                "reset_selective": "NamespaceMagics",
                "pinfo2": "NamespaceMagics",
                "matplotlib": "PylabMagics",
                "unload_ext": "ExtensionMagics",
                "doctest_mode": "BasicMagics",
                "logoff": "LoggingMagics",
                "reload_ext": "ExtensionMagics",
                "pdb": "ExecutionMagics",
                "load": "CodeMagics",
                "lsmagic": "BasicMagics",
                "autosave": "KernelMagics",
                "cd": "OSMagics",
                "pastebin": "CodeMagics",
                "alias_magic": "BasicMagics",
                "cp": "Other",
                "autocall": "AutoMagics",
                "ldir": "Other",
                "bookmark": "OSMagics",
                "connect_info": "KernelMagics",
                "mkdir": "Other",
                "system": "OSMagics",
                "whos": "NamespaceMagics",
                "rmdir": "Other",
                "automagic": "AutoMagics",
                "store": "StoreMagics",
                "more": "KernelMagics",
                "shell": "Other",
                "pdef": "NamespaceMagics",
                "precision": "BasicMagics",
                "pinfo": "NamespaceMagics",
                "pwd": "OSMagics",
                "psearch": "NamespaceMagics",
                "reset": "NamespaceMagics",
                "recall": "HistoryMagics",
                "xdel": "NamespaceMagics",
                "xmode": "BasicMagics",
                "cat": "Other",
                "mv": "Other",
                "rerun": "HistoryMagics",
                "logon": "LoggingMagics",
                "history": "HistoryMagics",
                "pycat": "OSMagics",
                "pip": "Other",
                "unalias": "OSMagics",
                "env": "OSMagics",
                "load_ext": "ExtensionMagics",
                "config": "ConfigMagics",
                "profile": "BasicMagics",
                "pfile": "NamespaceMagics",
                "less": "KernelMagics",
                "who": "NamespaceMagics",
                "notebook": "BasicMagics",
                "man": "KernelMagics",
                "sx": "OSMagics",
                "macro": "ExecutionMagics",
                "clear": "KernelMagics",
                "alias": "OSMagics",
                "time": "ExecutionMagics",
                "sc": "OSMagics",
                "rep": "Other",
                "pdoc": "NamespaceMagics"
              }
            },
            "text/plain": [
              "Available line magics:\n",
              "%alias  %alias_magic  %autocall  %automagic  %autosave  %bookmark  %cat  %cd  %clear  %colors  %config  %connect_info  %cp  %debug  %dhist  %dirs  %doctest_mode  %ed  %edit  %env  %gui  %hist  %history  %killbgscripts  %ldir  %less  %lf  %lk  %ll  %load  %load_ext  %loadpy  %logoff  %logon  %logstart  %logstate  %logstop  %ls  %lsmagic  %lx  %macro  %magic  %man  %matplotlib  %mkdir  %more  %mv  %notebook  %page  %pastebin  %pdb  %pdef  %pdoc  %pfile  %pinfo  %pinfo2  %pip  %popd  %pprint  %precision  %profile  %prun  %psearch  %psource  %pushd  %pwd  %pycat  %pylab  %qtconsole  %quickref  %recall  %rehashx  %reload_ext  %rep  %rerun  %reset  %reset_selective  %rm  %rmdir  %run  %save  %sc  %set_env  %shell  %store  %sx  %system  %tb  %tensorflow_version  %time  %timeit  %unalias  %unload_ext  %who  %who_ls  %whos  %xdel  %xmode\n",
              "\n",
              "Available cell magics:\n",
              "%%!  %%HTML  %%SVG  %%bash  %%bigquery  %%capture  %%debug  %%file  %%html  %%javascript  %%js  %%latex  %%perl  %%prun  %%pypy  %%python  %%python2  %%python3  %%ruby  %%script  %%sh  %%shell  %%svg  %%sx  %%system  %%time  %%timeit  %%writefile\n",
              "\n",
              "Automagic is ON, % prefix IS NOT needed for line magics."
            ]
          },
          "metadata": {
            "tags": []
          },
          "execution_count": 44
        }
      ]
    },
    {
      "cell_type": "code",
      "metadata": {
        "id": "QaTs5KrnAq-n",
        "colab_type": "code",
        "colab": {}
      },
      "source": [
        "%%bash?\n",
        "# bash 설명"
      ],
      "execution_count": 0,
      "outputs": []
    },
    {
      "cell_type": "code",
      "metadata": {
        "id": "dXQDcK5zAq-q",
        "colab_type": "code",
        "colab": {
          "base_uri": "https://localhost:8080/",
          "height": 53
        },
        "outputId": "a8506080-404d-44f5-c1ea-53f5b00cb379"
      },
      "source": [
        "%reset # 작업 내용을 지우고 싶을 때"
      ],
      "execution_count": 46,
      "outputs": [
        {
          "output_type": "stream",
          "text": [
            "Once deleted, variables cannot be recovered. Proceed (y/[n])? ㅛ\n",
            "Once deleted, variables cannot be recovered. Proceed (y/[n])? y\n"
          ],
          "name": "stdout"
        }
      ]
    },
    {
      "cell_type": "markdown",
      "metadata": {
        "id": "dFxpnp8LAq-s",
        "colab_type": "text"
      },
      "source": [
        "## Running scripts from the IPython console"
      ]
    },
    {
      "cell_type": "code",
      "metadata": {
        "id": "twDnGtNwAq-t",
        "colab_type": "code",
        "colab": {
          "base_uri": "https://localhost:8080/",
          "height": 35
        },
        "outputId": "f8e5f0bb-7a87-4c83-ac5b-f8b2a5521b8a"
      },
      "source": [
        "%%writefile ./files/fib.py\n",
        "\n",
        "def fib(N): \n",
        "    \"\"\" \n",
        "    Return a list of the first N Fibonacci numbers.\n",
        "    \"\"\" \n",
        "    f0, f1 = 0, 1\n",
        "    f = [1] * N\n",
        "    for n in range(1, N):\n",
        "        f[n] = f0 + f1\n",
        "        f0, f1 = f1, f[n]\n",
        "\n",
        "    return f\n",
        "\n",
        "print(fib(10))\n",
        "\n",
        "# 피보나치 수열 계산"
      ],
      "execution_count": 47,
      "outputs": [
        {
          "output_type": "stream",
          "text": [
            "Writing ./files/fib.py\n"
          ],
          "name": "stdout"
        }
      ]
    },
    {
      "cell_type": "code",
      "metadata": {
        "id": "ySfSyT02Aq-v",
        "colab_type": "code",
        "colab": {
          "base_uri": "https://localhost:8080/",
          "height": 35
        },
        "outputId": "ed6958d4-327f-4ecf-fd5d-856a2cb5795c"
      },
      "source": [
        "!python ./files/fib.py"
      ],
      "execution_count": 48,
      "outputs": [
        {
          "output_type": "stream",
          "text": [
            "[1, 1, 2, 3, 5, 8, 13, 21, 34, 55]\n"
          ],
          "name": "stdout"
        }
      ]
    },
    {
      "cell_type": "code",
      "metadata": {
        "id": "Ks1XJoJdAq-y",
        "colab_type": "code",
        "colab": {
          "base_uri": "https://localhost:8080/",
          "height": 172
        },
        "outputId": "b181b382-2b34-4113-8dcf-8303fa607561"
      },
      "source": [
        "fib(5) # 파일에 저장만 했기 때문에 에러"
      ],
      "execution_count": 49,
      "outputs": [
        {
          "output_type": "error",
          "ename": "NameError",
          "evalue": "ignored",
          "traceback": [
            "\u001b[0;31m---------------------------------------------------------------------------\u001b[0m",
            "\u001b[0;31mNameError\u001b[0m                                 Traceback (most recent call last)",
            "\u001b[0;32m<ipython-input-49-4220ac7d826f>\u001b[0m in \u001b[0;36m<module>\u001b[0;34m()\u001b[0m\n\u001b[0;32m----> 1\u001b[0;31m \u001b[0mfib\u001b[0m\u001b[0;34m(\u001b[0m\u001b[0;36m5\u001b[0m\u001b[0;34m)\u001b[0m\u001b[0;34m\u001b[0m\u001b[0;34m\u001b[0m\u001b[0m\n\u001b[0m",
            "\u001b[0;31mNameError\u001b[0m: name 'fib' is not defined"
          ]
        }
      ]
    },
    {
      "cell_type": "code",
      "metadata": {
        "id": "Qi1oSchrHx2q",
        "colab_type": "code",
        "colab": {}
      },
      "source": [
        "a=1\n",
        "b=2"
      ],
      "execution_count": 0,
      "outputs": []
    },
    {
      "cell_type": "code",
      "metadata": {
        "id": "fs5FGQ3vAq-z",
        "colab_type": "code",
        "colab": {
          "base_uri": "https://localhost:8080/",
          "height": 35
        },
        "outputId": "c2afb95f-4cd7-4be3-f2da-aec0b967da19"
      },
      "source": [
        "%who # 현재 메모리에 있는 함수와 변수의 이름을 리스트업"
      ],
      "execution_count": 56,
      "outputs": [
        {
          "output_type": "stream",
          "text": [
            "a\t b\t fib\t \n"
          ],
          "name": "stdout"
        }
      ]
    },
    {
      "cell_type": "code",
      "metadata": {
        "id": "GNZWX9aeAq-1",
        "colab_type": "code",
        "colab": {
          "base_uri": "https://localhost:8080/",
          "height": 35
        },
        "outputId": "3a6402c9-871c-42c0-8c8c-54091dd6370c"
      },
      "source": [
        "%run ./files/fib.py # fib.py를 실행"
      ],
      "execution_count": 51,
      "outputs": [
        {
          "output_type": "stream",
          "text": [
            "[1, 1, 2, 3, 5, 8, 13, 21, 34, 55]\n"
          ],
          "name": "stdout"
        }
      ]
    },
    {
      "cell_type": "code",
      "metadata": {
        "id": "rvfi4Sl5Aq-3",
        "colab_type": "code",
        "colab": {
          "base_uri": "https://localhost:8080/",
          "height": 35
        },
        "outputId": "6bf95f33-e002-46f2-cd96-014f6ef76e57"
      },
      "source": [
        "%who"
      ],
      "execution_count": 52,
      "outputs": [
        {
          "output_type": "stream",
          "text": [
            "fib\t \n"
          ],
          "name": "stdout"
        }
      ]
    },
    {
      "cell_type": "code",
      "metadata": {
        "id": "c2WyoS7UAq-5",
        "colab_type": "code",
        "colab": {
          "base_uri": "https://localhost:8080/",
          "height": 35
        },
        "outputId": "2174782b-3073-41e7-d589-48afdd70620f"
      },
      "source": [
        "fib(6) # run을 하면 나옴. 함수를 가져오는 것인가 봄"
      ],
      "execution_count": 53,
      "outputs": [
        {
          "output_type": "execute_result",
          "data": {
            "text/plain": [
              "[1, 1, 2, 3, 5, 8]"
            ]
          },
          "metadata": {
            "tags": []
          },
          "execution_count": 53
        }
      ]
    },
    {
      "cell_type": "markdown",
      "metadata": {
        "id": "cj-jILFRAq-8",
        "colab_type": "text"
      },
      "source": [
        "## Debugger"
      ]
    },
    {
      "cell_type": "code",
      "metadata": {
        "id": "BjtyI49KAq-8",
        "colab_type": "code",
        "colab": {
          "base_uri": "https://localhost:8080/",
          "height": 298
        },
        "outputId": "df930744-d81a-4a82-ccd0-5c52cf871ce0"
      },
      "source": [
        "fib(2.0)"
      ],
      "execution_count": 57,
      "outputs": [
        {
          "output_type": "error",
          "ename": "TypeError",
          "evalue": "ignored",
          "traceback": [
            "\u001b[0;31m---------------------------------------------------------------------------\u001b[0m",
            "\u001b[0;31mTypeError\u001b[0m                                 Traceback (most recent call last)",
            "\u001b[0;32m<ipython-input-57-1676211dbb8d>\u001b[0m in \u001b[0;36m<module>\u001b[0;34m()\u001b[0m\n\u001b[0;32m----> 1\u001b[0;31m \u001b[0mfib\u001b[0m\u001b[0;34m(\u001b[0m\u001b[0;36m2.0\u001b[0m\u001b[0;34m)\u001b[0m\u001b[0;34m\u001b[0m\u001b[0;34m\u001b[0m\u001b[0m\n\u001b[0m",
            "\u001b[0;32m/content/files/fib.py\u001b[0m in \u001b[0;36mfib\u001b[0;34m(N)\u001b[0m\n\u001b[1;32m      5\u001b[0m     \"\"\" \n\u001b[1;32m      6\u001b[0m     \u001b[0mf0\u001b[0m\u001b[0;34m,\u001b[0m \u001b[0mf1\u001b[0m \u001b[0;34m=\u001b[0m \u001b[0;36m0\u001b[0m\u001b[0;34m,\u001b[0m \u001b[0;36m1\u001b[0m\u001b[0;34m\u001b[0m\u001b[0;34m\u001b[0m\u001b[0m\n\u001b[0;32m----> 7\u001b[0;31m     \u001b[0mf\u001b[0m \u001b[0;34m=\u001b[0m \u001b[0;34m[\u001b[0m\u001b[0;36m1\u001b[0m\u001b[0;34m]\u001b[0m \u001b[0;34m*\u001b[0m \u001b[0mN\u001b[0m\u001b[0;34m\u001b[0m\u001b[0;34m\u001b[0m\u001b[0m\n\u001b[0m\u001b[1;32m      8\u001b[0m     \u001b[0;32mfor\u001b[0m \u001b[0mn\u001b[0m \u001b[0;32min\u001b[0m \u001b[0mrange\u001b[0m\u001b[0;34m(\u001b[0m\u001b[0;36m1\u001b[0m\u001b[0;34m,\u001b[0m \u001b[0mN\u001b[0m\u001b[0;34m)\u001b[0m\u001b[0;34m:\u001b[0m\u001b[0;34m\u001b[0m\u001b[0;34m\u001b[0m\u001b[0m\n\u001b[1;32m      9\u001b[0m         \u001b[0mf\u001b[0m\u001b[0;34m[\u001b[0m\u001b[0mn\u001b[0m\u001b[0;34m]\u001b[0m \u001b[0;34m=\u001b[0m \u001b[0mf0\u001b[0m \u001b[0;34m+\u001b[0m \u001b[0mf1\u001b[0m\u001b[0;34m\u001b[0m\u001b[0;34m\u001b[0m\u001b[0m\n",
            "\u001b[0;31mTypeError\u001b[0m: can't multiply sequence by non-int of type 'float'"
          ]
        }
      ]
    },
    {
      "cell_type": "code",
      "metadata": {
        "id": "rxqg5XlmIO7z",
        "colab_type": "code",
        "colab": {
          "base_uri": "https://localhost:8080/",
          "height": 35
        },
        "outputId": "8000752f-8641-4ae8-f7e4-d823b3b23614"
      },
      "source": [
        "[1]*5"
      ],
      "execution_count": 59,
      "outputs": [
        {
          "output_type": "execute_result",
          "data": {
            "text/plain": [
              "[1, 1, 1, 1, 1]"
            ]
          },
          "metadata": {
            "tags": []
          },
          "execution_count": 59
        }
      ]
    },
    {
      "cell_type": "code",
      "metadata": {
        "id": "hYha0R15Aq_A",
        "colab_type": "code",
        "colab": {
          "base_uri": "https://localhost:8080/",
          "height": 323
        },
        "outputId": "8a9711be-0534-40f7-89bc-849051f5d9f4"
      },
      "source": [
        "%debug # 오류가 난 위치를 보여줌"
      ],
      "execution_count": 58,
      "outputs": [
        {
          "output_type": "stream",
          "text": [
            "> \u001b[0;32m/content/files/fib.py\u001b[0m(7)\u001b[0;36mfib\u001b[0;34m()\u001b[0m\n",
            "\u001b[0;32m      5 \u001b[0;31m    \"\"\" \n",
            "\u001b[0m\u001b[0;32m      6 \u001b[0;31m    \u001b[0mf0\u001b[0m\u001b[0;34m,\u001b[0m \u001b[0mf1\u001b[0m \u001b[0;34m=\u001b[0m \u001b[0;36m0\u001b[0m\u001b[0;34m,\u001b[0m \u001b[0;36m1\u001b[0m\u001b[0;34m\u001b[0m\u001b[0;34m\u001b[0m\u001b[0m\n",
            "\u001b[0m\u001b[0;32m----> 7 \u001b[0;31m    \u001b[0mf\u001b[0m \u001b[0;34m=\u001b[0m \u001b[0;34m[\u001b[0m\u001b[0;36m1\u001b[0m\u001b[0;34m]\u001b[0m \u001b[0;34m*\u001b[0m \u001b[0mN\u001b[0m\u001b[0;34m\u001b[0m\u001b[0;34m\u001b[0m\u001b[0m\n",
            "\u001b[0m\u001b[0;32m      8 \u001b[0;31m    \u001b[0;32mfor\u001b[0m \u001b[0mn\u001b[0m \u001b[0;32min\u001b[0m \u001b[0mrange\u001b[0m\u001b[0;34m(\u001b[0m\u001b[0;36m1\u001b[0m\u001b[0;34m,\u001b[0m \u001b[0mN\u001b[0m\u001b[0;34m)\u001b[0m\u001b[0;34m:\u001b[0m\u001b[0;34m\u001b[0m\u001b[0;34m\u001b[0m\u001b[0m\n",
            "\u001b[0m\u001b[0;32m      9 \u001b[0;31m        \u001b[0mf\u001b[0m\u001b[0;34m[\u001b[0m\u001b[0mn\u001b[0m\u001b[0;34m]\u001b[0m \u001b[0;34m=\u001b[0m \u001b[0mf0\u001b[0m \u001b[0;34m+\u001b[0m \u001b[0mf1\u001b[0m\u001b[0;34m\u001b[0m\u001b[0;34m\u001b[0m\u001b[0m\n",
            "\u001b[0m\n",
            "--KeyboardInterrupt--\n",
            "--KeyboardInterrupt--\n",
            "--KeyboardInterrupt--\n",
            "ipdb> ㅜ\n",
            "*** NameError: name 'ᅮ' is not defined\n",
            "ipdb> N\n",
            "2.0\n",
            "ipdb> f\n",
            "*** NameError: name 'f' is not defined\n",
            "ipdb> quit\n"
          ],
          "name": "stdout"
        }
      ]
    },
    {
      "cell_type": "markdown",
      "metadata": {
        "id": "eU4BIXUFAq_B",
        "colab_type": "text"
      },
      "source": [
        "## Timing and profiling code"
      ]
    },
    {
      "cell_type": "code",
      "metadata": {
        "id": "oebQvmI8Aq_C",
        "colab_type": "code",
        "colab": {
          "base_uri": "https://localhost:8080/",
          "height": 35
        },
        "outputId": "aab58da8-3fdd-4516-ee29-aac19e758aaf"
      },
      "source": [
        "%timeit fib(10000) # 성능 실험, 100번 돌려서 3.2ms걸림(시간)"
      ],
      "execution_count": 60,
      "outputs": [
        {
          "output_type": "stream",
          "text": [
            "100 loops, best of 3: 3.2 ms per loop\n"
          ],
          "name": "stdout"
        }
      ]
    },
    {
      "cell_type": "code",
      "metadata": {
        "id": "PYmFo738Aq_G",
        "colab_type": "code",
        "colab": {
          "base_uri": "https://localhost:8080/",
          "height": 53
        },
        "outputId": "40582587-03af-4a72-c1d8-ca77e0ac26a9"
      },
      "source": [
        "result = %time fib(10000) # 실행하는데 cpu를 유저랑 시스템이 각각 얼마나 쓴지(배분)"
      ],
      "execution_count": 61,
      "outputs": [
        {
          "output_type": "stream",
          "text": [
            "CPU times: user 3.63 ms, sys: 2.14 ms, total: 5.78 ms\n",
            "Wall time: 6.71 ms\n"
          ],
          "name": "stdout"
        }
      ]
    },
    {
      "cell_type": "code",
      "metadata": {
        "id": "ZLp1dXK_Aq_J",
        "colab_type": "code",
        "colab": {
          "base_uri": "https://localhost:8080/",
          "height": 35
        },
        "outputId": "42e9e57d-66fc-421b-dc05-2837b2c8739e"
      },
      "source": [
        "len(result)"
      ],
      "execution_count": 62,
      "outputs": [
        {
          "output_type": "execute_result",
          "data": {
            "text/plain": [
              "10000"
            ]
          },
          "metadata": {
            "tags": []
          },
          "execution_count": 62
        }
      ]
    },
    {
      "cell_type": "code",
      "metadata": {
        "id": "Xbq2zNhpAq_L",
        "colab_type": "code",
        "colab": {}
      },
      "source": [
        "import numpy as np\n",
        "\n",
        "def random_walker_max_distance(M, N):\n",
        "    \"\"\"\n",
        "    Simulate N random walkers taking M steps, and return the largest distance\n",
        "    from the starting point achieved by any of the random walkers.\n",
        "    \"\"\"\n",
        "    trajectories = [np.random.randn(M).cumsum() for _ in range(N)]\n",
        "    return np.max(np.abs(trajectories))"
      ],
      "execution_count": 0,
      "outputs": []
    },
    {
      "cell_type": "code",
      "metadata": {
        "id": "COXaIuJEAq_N",
        "colab_type": "code",
        "colab": {
          "base_uri": "https://localhost:8080/",
          "height": 35
        },
        "outputId": "968bb6d2-afc5-4b8d-e09a-696061b22589"
      },
      "source": [
        "%prun random_walker_max_distance(400, 10000) # 실행하는데 걸리는 시간을 checking"
      ],
      "execution_count": 64,
      "outputs": [
        {
          "output_type": "stream",
          "text": [
            " "
          ],
          "name": "stdout"
        }
      ]
    },
    {
      "cell_type": "markdown",
      "metadata": {
        "id": "jOSmaGLXAq_O",
        "colab_type": "text"
      },
      "source": [
        "## Reset"
      ]
    },
    {
      "cell_type": "code",
      "metadata": {
        "id": "KlqrEzXeAq_P",
        "colab_type": "code",
        "colab": {}
      },
      "source": [
        "%who"
      ],
      "execution_count": 0,
      "outputs": []
    },
    {
      "cell_type": "code",
      "metadata": {
        "id": "D_UMc4qyAq_Q",
        "colab_type": "code",
        "colab": {}
      },
      "source": [
        "%reset"
      ],
      "execution_count": 0,
      "outputs": []
    },
    {
      "cell_type": "code",
      "metadata": {
        "id": "cWmerIMXAq_U",
        "colab_type": "code",
        "colab": {}
      },
      "source": [
        "%who"
      ],
      "execution_count": 0,
      "outputs": []
    },
    {
      "cell_type": "markdown",
      "metadata": {
        "id": "04CELMn8Aq_W",
        "colab_type": "text"
      },
      "source": [
        "## Jupyter notebook Markdown summary"
      ]
    },
    {
      "cell_type": "markdown",
      "metadata": {
        "id": "r7Vhg9n0Aq_W",
        "colab_type": "text"
      },
      "source": [
        "### Italics"
      ]
    },
    {
      "cell_type": "markdown",
      "metadata": {
        "id": "UA8_fsMaAq_W",
        "colab_type": "text"
      },
      "source": [
        "Text that is surrounded by asterisks `*text*` is displayed as italics: *text*"
      ]
    },
    {
      "cell_type": "markdown",
      "metadata": {
        "id": "M5vgADyKAq_X",
        "colab_type": "text"
      },
      "source": [
        "### Bold"
      ]
    },
    {
      "cell_type": "markdown",
      "metadata": {
        "id": "77UJdTL3Aq_X",
        "colab_type": "text"
      },
      "source": [
        "Text that is surrounded by double asterisks `**text**` is displayed as bold: **text**"
      ]
    },
    {
      "cell_type": "markdown",
      "metadata": {
        "id": "ghbDV0IfAq_Y",
        "colab_type": "text"
      },
      "source": [
        "### Strike-through"
      ]
    },
    {
      "cell_type": "markdown",
      "metadata": {
        "id": "58F2GvAiAq_Y",
        "colab_type": "text"
      },
      "source": [
        "Text that is surrounded by double tidle `~~text~~` is displayed as strike-through: ~~text~~"
      ]
    },
    {
      "cell_type": "markdown",
      "metadata": {
        "id": "sMPVT5ybAq_Z",
        "colab_type": "text"
      },
      "source": [
        "### Fixed-width font"
      ]
    },
    {
      "cell_type": "markdown",
      "metadata": {
        "id": "eHKNowekAq_Z",
        "colab_type": "text"
      },
      "source": [
        "Text that is surrounded by backticks `` `text` ``is displayed as fixed-width font: `text`\n",
        "\n",
        "글자의 폭을 동일하게 해야 코드가 이쁘다"
      ]
    },
    {
      "cell_type": "markdown",
      "metadata": {
        "id": "c8j-dihOAq_Z",
        "colab_type": "text"
      },
      "source": [
        "### URLs "
      ]
    },
    {
      "cell_type": "markdown",
      "metadata": {
        "id": "1m9Ps3gVAq_a",
        "colab_type": "text"
      },
      "source": [
        "URLs are written as\t`[URL text](http://www.seoultech.ac.kr)`: [URL text](http://www.seoultech.ac.kr) "
      ]
    },
    {
      "cell_type": "markdown",
      "metadata": {
        "id": "bz0HD1XdAq_a",
        "colab_type": "text"
      },
      "source": [
        "###  New paragraph"
      ]
    },
    {
      "cell_type": "markdown",
      "metadata": {
        "id": "vebM7-sOAq_b",
        "colab_type": "text"
      },
      "source": [
        "Separate the text of two paragraphs with an empty line.\n",
        "\n",
        "This is a new paragraph."
      ]
    },
    {
      "cell_type": "markdown",
      "metadata": {
        "id": "1Tndz87LAq_b",
        "colab_type": "text"
      },
      "source": [
        "### Verbatim"
      ]
    },
    {
      "cell_type": "markdown",
      "metadata": {
        "id": "k3Bnj49EAq_b",
        "colab_type": "text"
      },
      "source": [
        "Text that starts with four spaces is displayed as verbatim:\n",
        "\n",
        "    def func(x):\n",
        "        return x ** 2"
      ]
    },
    {
      "cell_type": "markdown",
      "metadata": {
        "id": "RHC1Uh5_Aq_c",
        "colab_type": "text"
      },
      "source": [
        "### Table"
      ]
    },
    {
      "cell_type": "markdown",
      "metadata": {
        "id": "4V8A2p61Aq_d",
        "colab_type": "text"
      },
      "source": [
        "The format for tables are as follows:\n",
        "\n",
        "    | A | B | C |\n",
        "    |---|---|---|\n",
        "    | 1 | 2 | 3 |\n",
        "    | 4 | 5 | 6 |\n",
        "\n",
        "| A | B | C |\n",
        "|---|---|---|\n",
        "| 1 | 2 | 3 |\n",
        "| 4 | 5 | 6 |"
      ]
    },
    {
      "cell_type": "markdown",
      "metadata": {
        "id": "_llaiiZUAq_d",
        "colab_type": "text"
      },
      "source": [
        "### Horizontal line"
      ]
    },
    {
      "cell_type": "markdown",
      "metadata": {
        "id": "vhUOD3VzAq_d",
        "colab_type": "text"
      },
      "source": [
        "A line with three dashes `---` is shown as a horizontal line:\n",
        "\n",
        "---"
      ]
    },
    {
      "cell_type": "markdown",
      "metadata": {
        "id": "bZ33ZWi1Aq_e",
        "colab_type": "text"
      },
      "source": [
        "### Headings"
      ]
    },
    {
      "cell_type": "markdown",
      "metadata": {
        "id": "mlCjaZAmAq_e",
        "colab_type": "text"
      },
      "source": [
        "Lines starting with one `#` is a heading level 1, `##` is heading level 2, `###` is heading level 3, etc.\n",
        "\n",
        "# Level 1 heading\n",
        "## Level 2 heading\n",
        "### Level 3 heading"
      ]
    },
    {
      "cell_type": "markdown",
      "metadata": {
        "id": "JRVLSxjKAq_e",
        "colab_type": "text"
      },
      "source": [
        "### Block quote"
      ]
    },
    {
      "cell_type": "markdown",
      "metadata": {
        "id": "7u3gPdvSAq_f",
        "colab_type": "text"
      },
      "source": [
        "Lines that start with `>` are displayed as a block quote:\n",
        "\n",
        "> Text here is indented and offset\n",
        "> from the main text body."
      ]
    },
    {
      "cell_type": "markdown",
      "metadata": {
        "id": "8ffSZd-iAq_f",
        "colab_type": "text"
      },
      "source": [
        "### Unordered list"
      ]
    },
    {
      "cell_type": "markdown",
      "metadata": {
        "id": "gUpG3M0eAq_f",
        "colab_type": "text"
      },
      "source": [
        "Unordered lists are created by starting lines with `*`\n",
        "\n",
        "* Item one\n",
        "* Item two\n",
        "* Item three"
      ]
    },
    {
      "cell_type": "markdown",
      "metadata": {
        "id": "4XAUjQM1Aq_g",
        "colab_type": "text"
      },
      "source": [
        "### Ordered list"
      ]
    },
    {
      "cell_type": "markdown",
      "metadata": {
        "id": "_Nl5fBG5Aq_g",
        "colab_type": "text"
      },
      "source": [
        "Ordered lists are created by simply enumerating lines with numbers followed a period: 1. ..., 2. ..., etc.\n",
        "1. Item one\n",
        "2. Item two\n",
        "3. Item three"
      ]
    },
    {
      "cell_type": "markdown",
      "metadata": {
        "id": "kHvAMmESAq_h",
        "colab_type": "text"
      },
      "source": [
        "### Image"
      ]
    },
    {
      "cell_type": "markdown",
      "metadata": {
        "id": "bMpRt5HlAq_h",
        "colab_type": "text"
      },
      "source": [
        "Images can be included using `![Alternative text](image-file.png)` or `![Alternative text](http://www.example.com/image.png)`:\n",
        "\n",
        "![SeoulTech1](https://github.com/SeoulTechPSE/EngNm/blob/master/figs/SeoulTechLogo.png?raw=1)\n",
        "\n",
        "![SeoulTech2](http://www.seoultech.ac.kr/site/ko/res/img/tail_logo.png)"
      ]
    },
    {
      "cell_type": "markdown",
      "metadata": {
        "id": "2G21zvHyAq_h",
        "colab_type": "text"
      },
      "source": [
        "## LaTeX\n",
        "\n",
        "[latex equation editor]('https://www.codecogs.com/latex/eqneditor.php')로 들어가자"
      ]
    },
    {
      "cell_type": "markdown",
      "metadata": {
        "id": "lfc6rzCNAq_i",
        "colab_type": "text"
      },
      "source": [
        "Inline LaTeX equations can be included using `$\\LaTeX$`: $\\LaTeX$\n",
        "\n",
        "Displayed LaTeX equations (centered, and on a new line): `$$\\LaTeX$$`\n",
        "\n",
        "$$\\LaTeX$$ \n",
        "\n",
        "It is also possible to use latex environments like equation, eqnarray, align:\n",
        "\n",
        "`\\begin{equation} x = 1 \\end{equation}`\n",
        "\n",
        "\\begin{equation} x = 1 \\end{equation}\n",
        "\n",
        "`\\begin{eqnarray*}\n",
        "x &=& 2\\\\ \n",
        "y &=& 3\\\\ \n",
        "z &=& 4\n",
        "\\end{eqnarray*}`\n",
        "\n",
        "\\begin{eqnarray*}\n",
        "x &=& 2\\\\ \n",
        "y &=& 3\\\\ \n",
        "z &=& 4\n",
        "\\end{eqnarray*}\n",
        "\n",
        "`\\begin{align*}\n",
        "x &= 3\\\\ \n",
        "y &= 4\\\\ \n",
        "z &= 5\n",
        "\\end{align*}`\n",
        "\n",
        "\\begin{align*}\n",
        "x &= 3\\\\ \n",
        "y &= 4\\\\ \n",
        "z &= 5\n",
        "\\end{align*}"
      ]
    },
    {
      "cell_type": "markdown",
      "metadata": {
        "id": "ILHvzcYSAq_i",
        "colab_type": "text"
      },
      "source": [
        "## Jupyter nbconvert\n",
        "\n",
        "생략"
      ]
    },
    {
      "cell_type": "code",
      "metadata": {
        "collapsed": true,
        "id": "JitjkqcSAq_j",
        "colab_type": "code",
        "colab": {}
      },
      "source": [
        "!jupyter nbconvert --to html ch01_code.ipynb"
      ],
      "execution_count": 0,
      "outputs": []
    },
    {
      "cell_type": "code",
      "metadata": {
        "collapsed": true,
        "id": "NtJpbE6BAq_m",
        "colab_type": "code",
        "colab": {}
      },
      "source": [
        "#!jupyter nbconvert --to pdf ch01_code.ipynb (not recommended: KYYoo)"
      ],
      "execution_count": 0,
      "outputs": []
    },
    {
      "cell_type": "code",
      "metadata": {
        "collapsed": true,
        "id": "ACfnx2qQAq_o",
        "colab_type": "code",
        "colab": {}
      },
      "source": [
        "!jupyter nbconvert --to python ch01_code.ipynb"
      ],
      "execution_count": 0,
      "outputs": []
    },
    {
      "cell_type": "markdown",
      "metadata": {
        "id": "AaDFyf9HAq_p",
        "colab_type": "text"
      },
      "source": [
        "## IPython magic extension: %version_information\n",
        "\n",
        "생략"
      ]
    },
    {
      "cell_type": "markdown",
      "metadata": {
        "id": "YBXtbFwOAq_p",
        "colab_type": "text"
      },
      "source": [
        "Use the `%version_information`(or `%watermark`) IPython magic extension in a notebook to display information about which versions of dependency package that was used to run the notebook."
      ]
    },
    {
      "cell_type": "markdown",
      "metadata": {
        "id": "2eyBD7D_Aq_p",
        "colab_type": "text"
      },
      "source": [
        "### Installation"
      ]
    },
    {
      "cell_type": "markdown",
      "metadata": {
        "id": "WZj2snW9Aq_q",
        "colab_type": "text"
      },
      "source": [
        "Install `version_information` or `watermark'using` packages `pip`:\n",
        "\n",
        "    pip install version_information\n",
        "        \n",
        "or\n",
        "\n",
        "    pip install watermark  "
      ]
    },
    {
      "cell_type": "code",
      "metadata": {
        "collapsed": true,
        "id": "_HIFsZoBAq_q",
        "colab_type": "code",
        "colab": {}
      },
      "source": [
        "!pip install version_information"
      ],
      "execution_count": 0,
      "outputs": []
    },
    {
      "cell_type": "code",
      "metadata": {
        "collapsed": true,
        "id": "lrwWmr8hAq_r",
        "colab_type": "code",
        "colab": {}
      },
      "source": [
        "%load_ext version_information\n",
        "%version_information numpy"
      ],
      "execution_count": 0,
      "outputs": []
    },
    {
      "cell_type": "code",
      "metadata": {
        "collapsed": true,
        "id": "89-qTrdoAq_u",
        "colab_type": "code",
        "colab": {}
      },
      "source": [
        "! pip install watermark"
      ],
      "execution_count": 0,
      "outputs": []
    },
    {
      "cell_type": "code",
      "metadata": {
        "collapsed": true,
        "id": "7xt_Y1YjAq_w",
        "colab_type": "code",
        "colab": {}
      },
      "source": [
        "%load_ext watermark\n",
        "%watermark -v -p numpy"
      ],
      "execution_count": 0,
      "outputs": []
    }
  ]
}
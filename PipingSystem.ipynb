{
  "nbformat": 4,
  "nbformat_minor": 0,
  "metadata": {
    "colab": {
      "name": "PipingSystem.ipynb",
      "provenance": [],
      "authorship_tag": "ABX9TyPje2wk4QK9OVkf89/ercQU",
      "include_colab_link": true
    },
    "kernelspec": {
      "name": "python3",
      "display_name": "Python 3"
    }
  },
  "cells": [
    {
      "cell_type": "markdown",
      "metadata": {
        "id": "view-in-github",
        "colab_type": "text"
      },
      "source": [
        "<a href=\"https://colab.research.google.com/github/leegyuhi/oooooooooooooh/blob/master/PipingSystem.ipynb\" target=\"_parent\"><img src=\"https://colab.research.google.com/assets/colab-badge.svg\" alt=\"Open In Colab\"/></a>"
      ]
    },
    {
      "cell_type": "markdown",
      "metadata": {
        "id": "-zBDZ8M9izSs",
        "colab_type": "text"
      },
      "source": [
        "# 배관 유동의 주요 변수계산을 위한 소프트웨어 시스템의 개발\n",
        "\n",
        "- 배관 설계의 필요성\n",
        "  > 다양한 산업 공정에서 배관은 각 단위공정 사이의 연결 매개체의 역할을 하며, 내부의 유동에 있어서 필수적인 장치이다. 따라서 배관의 최적설계는 안전과 비용적 측면에서 매우 중요하다.\n",
        "  >\n",
        "  > 개발된 소프트웨어를 통해 단상 및 2상에 대한 압력강하, 유속 및 배관 지름에 대한 계산을 손쉽고 정확하게 할 수 있다. 따라서 화학, 가스, 정유 산업 등 다양한 산업 분야에 적용이 가능하며, 공정의 설계와 보수, 개선에 유용하게 사용될 것으로 기대된다.\n",
        "\n",
        "- 단상 유동과 2상 유동\n",
        "  > 배관 흐름은 유체의 상에 따라 단상 유동과 2상 유동으로 구분된다. 단상 유동에서는 기체 또른 액체 중 한가지 상의 유체가, 2상 유동에서는 기상과 액상이 공존한 상태의 유체가 배관을 따라 흐른다.\n",
        "  >\n",
        "  > 단상 유동의 경우 비압축성 유체에 대한 베르누이 방정식을 활용하여 설계하였고, 2상 유동의 경우 균질 유동 모델과 분리 유동 모델에 대한 수식을 활용하였다."
      ]
    },
    {
      "cell_type": "markdown",
      "metadata": {
        "id": "0--jjyWHjleI",
        "colab_type": "text"
      },
      "source": [
        "## 1. 계산 알고리즘\n",
        "\n",
        "단상과 2상 유동 배관에서 계산되는 주요 변수는 **압력강하, 유속 및 배관 지름**이 있다. 따라서 배관 내 유동 문제는 다음의 3가지 type으로 구분할 수 있다.\n",
        "\n",
        "> Type 1 : Calculate pressure drop\n",
        ">\n",
        "> Type 2 : Calculate flow rate\n",
        ">\n",
        "> Type 3 : Calculate diameter\n",
        "\n"
      ]
    },
    {
      "cell_type": "markdown",
      "metadata": {
        "id": "Ufqt3B3DkiHz",
        "colab_type": "text"
      },
      "source": [
        "## 2. 소프트웨어 구조 및 사용자 인터페이스\n",
        "\n",
        "- 소프트웨어 : Window platform, Visual studio C#, GUI\n",
        "\n",
        "![Fig  4](https://user-images.githubusercontent.com/52767505/72251073-6ba4f100-3640-11ea-8c2a-f56ebc3d39fa.PNG)\n",
        "\n",
        "- Module\n",
        "  - Input module\n",
        "  > 사용자 인터페이스를 통해 배관 계산을 위한 입력 조건을 받아들이고, 이를 Calculation module로 보낸다.\n",
        "    - 운전 조건\n",
        "    - 유체의 물성\n",
        "    - 배관 재질\n",
        "    - 배관 규격\n",
        "    - 유체 및 배관의 종류\n",
        "\n",
        "  - Calculation module\n",
        "    > Input module로부터 계산을 위한 입력 값을 받아 계산을 수행한 후 Output module로 결과를 보낸다. 계산 중 필요한 자료는 Pipe library module에 수록된 정보를 받아 수행한다.\n",
        "\n",
        "  - Pipe library module\n",
        "  > 사용자의 편의를 위해 소프트웨어에 배관 관련 라이브러리를 내장한다.\n",
        "    - 유체의 물성\n",
        "    - 배관 거칠기\n",
        "    - 배관 비용\n",
        "    - 단위 : 사용자 편의에 따른 단위 체계 선택\n",
        "\n",
        "  - Output module\n",
        "  > Calculation module을 통해 계산된 값을 사용자 인터페이스를 통해 보여준다. 배관 유동에 대한 압력강하, 유체의 속력, 배관 지름, 배관 비용 등을 출력한다.\n",
        "\n",
        "- 소프트웨어 사용자 인터페이스\n",
        "\n",
        "![Fig  5](https://user-images.githubusercontent.com/52767505/72252835-78771400-3643-11ea-914d-d5f833fb76e8.PNG)\n"
      ]
    },
    {
      "cell_type": "markdown",
      "metadata": {
        "id": "rLJdW4aFpzqK",
        "colab_type": "text"
      },
      "source": [
        "## 3. 실증적 예제 수행 결과\n",
        "\n",
        "- 문헌 상 보고된 자료를 통한 검증\n",
        "- 실 공정 자료를 통한 검증\n",
        "  - LPG 공정\n",
        "  "
      ]
    },
    {
      "cell_type": "markdown",
      "metadata": {
        "id": "f5wex1PFq48B",
        "colab_type": "text"
      },
      "source": [
        ""
      ]
    }
  ]
}
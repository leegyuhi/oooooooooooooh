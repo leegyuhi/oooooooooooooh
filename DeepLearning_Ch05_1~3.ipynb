{
  "nbformat": 4,
  "nbformat_minor": 0,
  "metadata": {
    "colab": {
      "name": "DeepLearning_Ch05.1~3.ipynb",
      "provenance": [],
      "toc_visible": true,
      "include_colab_link": true
    },
    "kernelspec": {
      "name": "python3",
      "display_name": "Python 3"
    }
  },
  "cells": [
    {
      "cell_type": "markdown",
      "metadata": {
        "id": "view-in-github",
        "colab_type": "text"
      },
      "source": [
        "<a href=\"https://colab.research.google.com/github/leegyuhi/oooooooooooooh/blob/master/DeepLearning_Ch05_1~3.ipynb\" target=\"_parent\"><img src=\"https://colab.research.google.com/assets/colab-badge.svg\" alt=\"Open In Colab\"/></a>"
      ]
    },
    {
      "cell_type": "markdown",
      "metadata": {
        "id": "zcA7VGODqf_n",
        "colab_type": "text"
      },
      "source": [
        " # Ch.5 오차역전파법\n",
        "\n",
        "  - 수치 미분\n",
        "    - 단순하고 구현하기 쉬움\n",
        "   - 계산 시간이 오래 걸림\n",
        "  - **오차역전파법**(backpropagation)\n",
        "    - 오차를 역으로 전파하는 방법\n",
        "    - 가중치 매개변수의 기울기를 효율적으로 계산\n",
        "    - 이해하는 방법\n",
        "     - 수식\n",
        "     - **계산 그래프**\n",
        "\n",
        "\n"
      ]
    },
    {
      "cell_type": "markdown",
      "metadata": {
        "id": "91gO1fMZ_C8c",
        "colab_type": "text"
      },
      "source": [
        "## 5.1 계산 그래프\n",
        "  - 노드(node)\n",
        "  - 에지(edge)\n",
        "\n"
      ]
    },
    {
      "cell_type": "markdown",
      "metadata": {
        "id": "kYwYeRArG2Eu",
        "colab_type": "text"
      },
      "source": [
        "### 5.1.1 계산 그래프로 풀다\n",
        "  - 계산 그래프를 이용한 문제풀이\n",
        "    1. 계산 그래프를 구성한다.\n",
        "      1. 노드는 원으로 표기\n",
        "      2. 원 안에 연산 내용 표기\n",
        "      3. 화살표 위에 계산 결과 표기\n",
        "    2. 그래프에서 계산을 왼쪽에서 오른쪽으로 진행한다.\n",
        "      - 순전파\n",
        "      - cf) 역전파\n",
        "\n",
        "*문제1 : 규희는 슈퍼에서 1개에 100원인 사과를 2개 샀습니다. 이때 지불 금액을 구하세요. 단, 소비세가 10% 부과됩니다.*\n",
        "\n",
        "*문제2 : 규희는 슈퍼에서 사과를 2개, 귤을 3개 샀습니다 사과는 1개에 100원, 귤은 1개 150원입니다. 소비세가 10%일 때 지불 금액을 구하세요.*\n",
        "\n"
      ]
    },
    {
      "cell_type": "markdown",
      "metadata": {
        "id": "ruZ0KJs-G2IE",
        "colab_type": "text"
      },
      "source": [
        "### 5.1.2 국소적 계산\n",
        "  - 전체에서 어떤 일이 벌어지든 상관없이 자신과 관계된 정보만으로 결과를 출력할 수 있다.\n",
        "  - 계산 그래프의 각 노드에서의 계산은 국소적이다.\n",
        "\n"
      ]
    },
    {
      "cell_type": "markdown",
      "metadata": {
        "id": "lCMZCyEuG2Ky",
        "colab_type": "text"
      },
      "source": [
        "### 5.1.3 왜 계산 그래프로 푸는가?\n",
        "  1. 국소적 계산 $\\rightarrow $ 문제의 단순화\n",
        "  2. 중간 계산 결과를 모두 보관\n",
        "  3. **역전파를 통해 '미분'을 효율적으로 계산**\n",
        " "
      ]
    },
    {
      "cell_type": "markdown",
      "metadata": {
        "id": "uaQSXUEqy6G6",
        "colab_type": "text"
      },
      "source": [
        "## 5.2 연쇄법칙\n"
      ]
    },
    {
      "cell_type": "markdown",
      "metadata": {
        "id": "rLhiYs0RG_sB",
        "colab_type": "text"
      },
      "source": [
        "### 5.2.1 계산 그래프의 역전파\n",
        "  - $y=f(x)$라는 계산의 역전파\n",
        "    - 신호 E에 노드의 국소적 미분($\\frac{\\partial y}{\\partial x}$)을 곱한 후 다음 노드로 전달\n",
        "    \n"
      ]
    },
    {
      "cell_type": "markdown",
      "metadata": {
        "id": "pvGyAI-dG_u_",
        "colab_type": "text"
      },
      "source": [
        "### 5.2.2 연쇄법칙이란?\n",
        "  - 연쇄법칙(chain rule)\n",
        "    - 합성 함수 : 여러 함수로 구성된 함수\n",
        "    \n",
        "      $\\left\\{\\begin{matrix}\n",
        "      z = t^{2}\\\\ \n",
        "      t = x + y\n",
        "      \\end{matrix}\\right.$\n",
        "\n",
        "    - 합성 함수의 미분은 합성 함수를 구성하는 각 함수의 미분의 곱으로 나타낼 수 있다.\n",
        "      \n",
        "      $\\frac{\\partial z}{\\partial x}=\\frac{\\partial z}{\\partial t}\\frac{\\partial t}{\\partial x}\n",
        "      \\\\\n",
        "      \\\\ \\frac{\\partial z}{\\partial t}=2t\n",
        "      \\\\\n",
        "      \\\\ \\frac{\\partial t}{\\partial x}=1\n",
        "      \\\\\n",
        "      \\\\ \\frac{\\partial z}{\\partial x}=\\frac{\\partial z}{\\partial t}\\frac{\\partial t}{\\partial x}=2t\\times 1=2(x+y)$\n",
        "      \n"
      ]
    },
    {
      "cell_type": "markdown",
      "metadata": {
        "id": "6oxX2d0pG_yZ",
        "colab_type": "text"
      },
      "source": [
        "### 5.2.3 연쇄법칙과 계산 그래프\n",
        "  - 역전파가 하는 일은 연쇄 법칙의 원리와 같다.\n",
        "  \n",
        "    $\\frac{\\partial z}{\\partial z}\\frac{\\partial z}{\\partial t}\\frac{\\partial t}{\\partial x}=\\frac{\\partial z}{\\partial t}\\frac{\\partial t}{\\partial x}=\\frac{\\partial z}{\\partial x}$\n",
        "    \n",
        "    "
      ]
    },
    {
      "cell_type": "markdown",
      "metadata": {
        "id": "HkkHYhI2-4MM",
        "colab_type": "text"
      },
      "source": [
        "## 5.3 역전파\n"
      ]
    },
    {
      "cell_type": "markdown",
      "metadata": {
        "id": "0bSLwpV4HGXf",
        "colab_type": "text"
      },
      "source": [
        "### 5.3.1 덧셈 노드의 역전파\n",
        "  - 덧셈 노드의 역전파는 1을 곱하기만 할 뿐이므로 상류에서 전해진 미분에 1을 곱하여 하류로 흘립니다.\n",
        "  \n",
        "  $z=x+y \n",
        "  \\\\ \\frac{\\partial z}{\\partial x}=1\n",
        "  \\\\ \\frac{\\partial z}{\\partial y}=1$\n",
        "  \n"
      ]
    },
    {
      "cell_type": "markdown",
      "metadata": {
        "id": "jpwqATydHGZz",
        "colab_type": "text"
      },
      "source": [
        "### 5.3.2 곱셈 노드의 역전파\n",
        "  - 곱셈 노드의 역전파는 상류의 값에 순전파 때의 입력 신호들을 '서로 바꾼 값'을 곱해서 하류로 보냅니다.\n",
        "  \n",
        "    $z = xy\n",
        "    \\\\ \\\\ \\frac{\\partial z}{\\partial x}=x\n",
        "    \\\\ \\frac{\\partial z}{\\partial y}=y$\n",
        "  \n",
        "  - 순방향 입력 신호의 값이 필요 $\\rightarrow$ 순전파의 입력 신호를 변수에 저장\n",
        "  "
      ]
    },
    {
      "cell_type": "markdown",
      "metadata": {
        "id": "j0zduhr-IXyq",
        "colab_type": "text"
      },
      "source": [
        "### 5.3.3 사과 쇼핑의 예\n",
        "  - 사과와 귤 쇼핑"
      ]
    }
  ]
}
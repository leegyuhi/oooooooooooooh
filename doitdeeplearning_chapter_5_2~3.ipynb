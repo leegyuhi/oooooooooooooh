{
  "nbformat": 4,
  "nbformat_minor": 0,
  "metadata": {
    "colab": {
      "name": "doitdeeplearning_chapter.5_2~3.ipynb",
      "provenance": [],
      "collapsed_sections": [],
      "include_colab_link": true
    },
    "kernelspec": {
      "name": "python3",
      "display_name": "Python 3"
    }
  },
  "cells": [
    {
      "cell_type": "markdown",
      "metadata": {
        "id": "view-in-github",
        "colab_type": "text"
      },
      "source": [
        "<a href=\"https://colab.research.google.com/github/leegyuhi/oooooooooooooh/blob/master/doitdeeplearning_chapter_5_2~3.ipynb\" target=\"_parent\"><img src=\"https://colab.research.google.com/assets/colab-badge.svg\" alt=\"Open In Colab\"/></a>"
      ]
    },
    {
      "cell_type": "markdown",
      "metadata": {
        "id": "wdYx_5bkaCWD",
        "colab_type": "text"
      },
      "source": [
        "# 5장 훈련 노하우를 배웁니다.  \n",
        "## 5.1 검증 세트를 나누고 전처리 과정을 배웁니다.  \n",
        "* 4장 복습  \n",
        "    1. 유방암 데이터 세트 $\\rightarrow$ '훈련세트'와 '테스트 세트'로 나눔  \n",
        "    2. 훈련세트 $\\rightarrow$ fit()메서드에 전달되어 모델을 훈련  \n",
        "    3. 테스트세트 $\\rightarrow$ score()메서드에 전달되어 모델의 성능 평가  \n",
        "\n",
        "* 5장의 목표  \n",
        "    '어느 데이터 세트에만 치우친 모델을 만들지 않는 것' $\\rightarrow$ __범용능력__을 기르는 것.  \n",
        "\n",
        "### 테스트 세트로 모델을 튜닝합니다.  \n",
        "__로지스틱 회귀로 모델 훈련하고 평가하기__"
      ]
    },
    {
      "cell_type": "code",
      "metadata": {
        "id": "bCBRWZrFW02J",
        "colab_type": "code",
        "colab": {}
      },
      "source": [
        "#cancer dataset을 불러 훈련 세트와 테스트 세트 나누기\n",
        "from sklearn.datasets import load_breast_cancer\n",
        "from sklearn.model_selection import train_test_split\n",
        "cancer = load_breast_cancer()\n",
        "x = cancer.data\n",
        "y = cancer.target\n",
        "x_train_all, x_test, y_train_all, y_test = train_test_split(x, y, stratify=y, test_size=0.2, random_state=42)"
      ],
      "execution_count": 0,
      "outputs": []
    },
    {
      "cell_type": "code",
      "metadata": {
        "id": "lPxY3xbWXct4",
        "colab_type": "code",
        "outputId": "34f72110-b95e-494a-dde6-3434fe851e46",
        "colab": {
          "base_uri": "https://localhost:8080/"
        }
      },
      "source": [
        "#모델의 성능 평가\n",
        "from sklearn.linear_model import SGDClassifier\n",
        "sgd = SGDClassifier(loss='log', random_state=42)\n",
        "sgd.fit(x_train_all, y_train_all)\n",
        "sgd.score(x_test, y_test)"
      ],
      "execution_count": 0,
      "outputs": [
        {
          "output_type": "execute_result",
          "data": {
            "text/plain": [
              "0.8333333333333334"
            ]
          },
          "metadata": {
            "tags": []
          },
          "execution_count": 2
        }
      ]
    },
    {
      "cell_type": "markdown",
      "metadata": {
        "id": "cHFk7swSbptc",
        "colab_type": "text"
      },
      "source": [
        "테스트 세트에서 정확도는 약 83%입니다.  \n",
        "이 성능이 만족스럽지 않다면 다른 손실 함수를 사용하여도 됩니다.  \n",
        "* 하이퍼파라미터(Hyperparameter)  \n",
        "    loss와 같은 매개변수 값은 가중치나 절편처럼 알아서 학습되는 것이 아닌 사용자가 직접 선택해야 합니다.  \n",
        "    이러한 파라미터들을 __하이퍼파라미터__라 합니다.  \n",
        "\n",
        "__서포트 벡터 머신으로 모델 훈련하고 평가하기__  \n",
        "SGDClassifier 클래스의 loss 매개변수를 'log'$\\rightarrow$'hinge'로 바꾸면 서포트 벡터 머신(SVM) 문제를 푸는 모델이 만들어집니다.  \n",
        "(SVM은 '훈련데이터의 클래스를 구분하는 경계선을 찾는 작업')"
      ]
    },
    {
      "cell_type": "code",
      "metadata": {
        "id": "qoKeuVPdX45d",
        "colab_type": "code",
        "outputId": "85f20712-8ca2-4b4b-ba90-b33d2a54e7bb",
        "colab": {
          "base_uri": "https://localhost:8080/"
        }
      },
      "source": [
        "from sklearn.linear_model import SGDClassifier\n",
        "sgd = SGDClassifier(loss='hinge', random_state=42)\n",
        "sgd.fit(x_train_all, y_train_all)\n",
        "#책의 오타(x_train이 아닌 x_train_all)\n",
        "sgd.score(x_test, y_test)"
      ],
      "execution_count": 0,
      "outputs": [
        {
          "output_type": "execute_result",
          "data": {
            "text/plain": [
              "0.9385964912280702"
            ]
          },
          "metadata": {
            "tags": []
          },
          "execution_count": 3
        }
      ]
    },
    {
      "cell_type": "markdown",
      "metadata": {
        "id": "Q-cd2vfjd8Bq",
        "colab_type": "text"
      },
      "source": [
        "성능 평가 결과를 보니 93%입니다.  \n",
        "이렇게 모델의 하이퍼파라미터를 조정하는 작업을 __'모델을 튜닝한다'__라고 합니다. \n",
        "모델을 튜닝하여 테스트 세트에 대해 좋은 성능을 내는 모델을 만들어 보았습니다.  \n",
        "하지만 이 모델은 실전에서 좋은 성능을 내지 못할 확률이 높습니다.  "
      ]
    },
    {
      "cell_type": "markdown",
      "metadata": {
        "id": "3QRqftsGh9Lc",
        "colab_type": "text"
      },
      "source": [
        "### 테스트 세트로 모델을 튜닝하면 실전에서 좋은 성능을 기대하기 어렵습니다.  \n",
        "테스트 세트: 실전에 투입된 모델의 성능을 측정하기 위해 사용  \n",
        "테스트 세트로 모델을 튜닝하게 되면 __'테스트 세트에만 좋은 성능을 보여주는 모델'__이 만들어집니다.  \n",
        "Ex) 개념을 공부 안하고 답안지만을 외운 사람.  \n",
        "$\\therefore$ 테스트 세트로 모델을 튜닝하면 테스트 세트의 정보가 모델로 새어 나가므로 모델의 일반화 성능이 왜곡됩니다.  \n",
        "\n",
        "### 검증 세트를 준비합니다.  \n",
        "이러한 문제의 해결방안으로 모델을 튜닝할 때 테스트 세트를 사용하지 않으면 됩니다.  \n",
        "즉 모델 튜닝을 위한 세트를 따로 준비하여 모델을 튜닝 합니다. 이 때 테스트 세트는 모델 튜닝을 모두 마치고 실전에 투입되기 전에 딱 한번만 사용하는 것이 좋습니다.  \n",
        "모델을 튜닝하는 용도의 세트는 __'검증 세트'__라고 하며 훈련 세트를 조금 떼어 만듭니다.  \n",
        "이 책에서는 훈련세트 80% & 테스트 세트 20% $\\rightarrow$ 훈련세트 60% & 검증세트 20% & 테스트 세트20%로 나누었습니다.  "
      ]
    },
    {
      "cell_type": "code",
      "metadata": {
        "id": "0rm1rswnnKfK",
        "colab_type": "code",
        "colab": {}
      },
      "source": [
        "# 데이터 세트 준비하기\n",
        "from sklearn.datasets import load_breast_cancer\n",
        "from sklearn.model_selection import train_test_split\n",
        "cancer = load_breast_cancer()\n",
        "x = cancer.data\n",
        "y = cancer.target\n",
        "x_train_all, x_test, y_train_all, y_test = train_test_split(x, y, stratify=y, test_size=0.2, random_state=42)"
      ],
      "execution_count": 0,
      "outputs": []
    },
    {
      "cell_type": "code",
      "metadata": {
        "id": "XoHzTKx3dkd3",
        "colab_type": "code",
        "outputId": "887d2f08-b885-4e35-e436-f5ee1bfbd450",
        "colab": {
          "base_uri": "https://localhost:8080/"
        }
      },
      "source": [
        "#검증 세트 분할하기\n",
        "x_train, x_val, y_train, y_val = train_test_split(x_train_all, y_train_all, stratify=y_train_all, test_size=0.2, random_state=42)\n",
        "print(len(x_train), len(x_val))\n",
        "#(전체 data가 100이면 64:20:16으로 나눔)"
      ],
      "execution_count": 0,
      "outputs": [
        {
          "output_type": "stream",
          "text": [
            "364 91\n"
          ],
          "name": "stdout"
        }
      ]
    },
    {
      "cell_type": "code",
      "metadata": {
        "id": "rUZOB2oVoPDI",
        "colab_type": "code",
        "outputId": "d3e93618-1d10-4170-83e2-e8cb02b1da76",
        "colab": {
          "base_uri": "https://localhost:8080/"
        }
      },
      "source": [
        "#검증 세트 사용해 모델 평가하기\n",
        "sgd = SGDClassifier(loss='log', random_state=42)\n",
        "sgd.fit(x_train, y_train)\n",
        "sgd.score(x_val, y_val)"
      ],
      "execution_count": 0,
      "outputs": [
        {
          "output_type": "execute_result",
          "data": {
            "text/plain": [
              "0.6923076923076923"
            ]
          },
          "metadata": {
            "tags": []
          },
          "execution_count": 6
        }
      ]
    },
    {
      "cell_type": "markdown",
      "metadata": {
        "id": "ueZqxE7mw5VU",
        "colab_type": "text"
      },
      "source": [
        "검증 세트로 모델을 평가해보았습니다.  \n",
        "결과를 보니 그 전에 얻은 평가보다 낮아진 걸 확인할 수 있습니다. 그 이유로는 훈련 세트의 크기가 줄어들었기 때문입니다.  \n",
        "위스콘신 유방암 데이터 세트의 샘플 수는 적은 편입니다.  \n",
        "데이터 양이 적으면 검증세트의 비율이나 random_state 매개변수의 값을 조금만 조절해도 성능 평가 점수가 크게 변하는 것입니다.  \n",
        "이렇게 데이터 양이 적은 경우 검증 세트를 나누지 않고 __'교차검증'__이라는 방법을 사용하기도 합니다.  \n",
        "일반적으로 검증과 테스트 세트의 샘플 수를 1만 개 이상 확보할 수 있다면 훈련 세트에 많은 샘플을 할당하는 것이 좋습니다.  \n",
        "Ex) 10만 개 정도의 데이터가 있다면 8:1:1 정도로 분할합니다. 100만 개 이상의 데이터는 98:1:1 정도의 비율로 샘플을 나눕니다.  "
      ]
    },
    {
      "cell_type": "markdown",
      "metadata": {
        "id": "cgXRqWKdyI8_",
        "colab_type": "text"
      },
      "source": [
        "### 데이터 전처리와 특성의 스케일을 알아봅니다.  \n",
        "실제 데이터를 수집하면 머신러닝 패키지에 준비되어 있는 데이터와 달리 잘 가공되어 있지 않습니다.  \n",
        "누락된 값이 있을 수 있고, 데이터의 형태가 균일하지 않을 수도 있습니다.  \n",
        "이러한 문제의 해결방안으로 데이터를 적절히 가공하는 __'데이터 전처리'__과정이 필요합니다.  \n",
        "\n",
        "__특성의 스케일은 알고리즘에 영향을 줍니다.__  \n",
        "아쉽게도 이 책에서는 제대로 가공되지 않은 데이터를 다루지 않습니다.  \n",
        "하지만 잘 정리된 데이터도 __특성의 스케일__이 다른 경우 전처리를 해야 합니다.  \n",
        "__특성의 스케일__이란 어떤 특성이 가지고 있는 값의 범위를 말합니다.  \n",
        "Ex)사과의 당도/무게\n",
        "\n",
        "blank|당도|무게\n",
        "---|---|---\n",
        "사과1|4|540\n",
        "사과2|8|700\n",
        "사과3|2|480\n",
        "\n",
        "위 표를 보면 사과의 당도의 범위는 1\\~10이고 사과의 무게 범위는 500\\~1000입니다. 이러한 경우를 __'두 특성의 스케일 차이가 크다'__라고 합니다.  \n",
        "어떤 알고리즘들은 스케일에 민감하여 모델의 성능에 영향을 줍니다. 이 책에는 신경망 알고리즘들은 모두 경사 하강법을 사용합니다.  \n",
        "경사 하강법은 스케일에 민감한 알고리즘이므로 특성의 스케일을 맞추는 등의 전처리를 해야합니다.  \n",
        "\n",
        "### 스케일을 조정하지 않고 모델을 훈련해 볼까요?  \n",
        "#### 1. 훈련 데이터 준비하고 스케일 비교하기  \n",
        "특성의 스케일을 비교해야 하므로 유방암 데이터의 __mean perimeter__와 __mean area__ 특성을 가져오겠습니다."
      ]
    },
    {
      "cell_type": "code",
      "metadata": {
        "id": "rcUTiLXSw3rz",
        "colab_type": "code",
        "outputId": "5673c11b-e6fa-4ff1-a339-05af58372594",
        "colab": {
          "base_uri": "https://localhost:8080/"
        }
      },
      "source": [
        "import matplotlib.pyplot as plt\n",
        "print(cancer.feature_names[[2,3]])\n",
        "plt.boxplot(x_train[:, 2:4])\n",
        "plt.xlabel('feature')\n",
        "plt.ylabel('value')\n",
        "plt.show()\n",
        "['mean perimeter', 'mean area']"
      ],
      "execution_count": 0,
      "outputs": [
        {
          "output_type": "stream",
          "text": [
            "['mean perimeter' 'mean area']\n"
          ],
          "name": "stdout"
        },
        {
          "output_type": "display_data",
          "data": {
            "image/png": "[encoded data removed]",
            "text/plain": [
              "<Figure size 432x288 with 1 Axes>"
            ]
          },
          "metadata": {
            "tags": []
          }
        },
        {
          "output_type": "execute_result",
          "data": {
            "text/plain": [
              "['mean perimeter', 'mean area']"
            ]
          },
          "metadata": {
            "tags": []
          },
          "execution_count": 7
        }
      ]
    },
    {
      "cell_type": "markdown",
      "metadata": {
        "id": "BjXqf4Snmkgq",
        "colab_type": "text"
      },
      "source": [
        "그래프를 보시다싶이 mean perimeter은 주로 100\\~200사이에 위치해 있고, mean area는 200\\~2000 사이에 값들이 집중되어 있습니다.  \n",
        "스케일이 다른 두 특성에 경사 하강법 알고리즘을 적용하여 가중치가 어떻게 변할지 보겠습니다.  \n",
        "\n",
        "#### 2. 가중치를 기록할 변수와 학습률 파라미터 추가하기  \n",
        "SingleLayer 클래스에 인스턴스 변수를 추가하여 에포크마다 가중치의 값을 저장하여 가중치의 변화를 관찰할 때 사용하겠습니다.  \n",
        "또 학습률이라는 개념도 도입하겠습니다.\n"
      ]
    },
    {
      "cell_type": "code",
      "metadata": {
        "id": "OQRhROvhmLv_",
        "colab_type": "code",
        "colab": {}
      },
      "source": [
        "def __init__(self, learning_rate=0.1):\n",
        "  self.w=None\n",
        "  self.b=None\n",
        "  self.losser=[]\n",
        "  self.w_history=[]\n",
        "  self.lr=learning_rate\n",
        "#learning rate는 하이퍼파라미터;'학습률'(가중치의 업데이트 양 조절)"
      ],
      "execution_count": 0,
      "outputs": []
    },
    {
      "cell_type": "markdown",
      "metadata": {
        "id": "075ubRkeoYbC",
        "colab_type": "text"
      },
      "source": [
        "일반적으로 손실 함수는 복잡한 굴곡을 가진 다차원 공간의 초평면입니다.  \n",
        "만약 가중치를 큰 폭으로 업데이트(학습률을 크게하여) 손실 함수가 최솟값인 점을 지나쳐 버리게 되면 최적의 가중치와 절편을 구할 수 없습니다.  \n",
        "![KakaoTalk_20191113_162541405](https://user-images.githubusercontent.com/53211502/68741988-68868800-0632-11ea-93ee-89e152cc1817.jpg)  \n",
        "위의 그림을 보고 __'손실 함수의 표면을 천천히 이동하며 전역 최솟값을 찾는다.'__라고 말하기도 합니다.  \n",
        "적절한 학습률은 주어진 문제마다 다르지만 보통 0.001, 0.01등의 로그 스케일로 학습률을 지정하여 테스트합니다.  \n",
        "\n",
        "#### 3. 가중치 기록하고 업데이트 양 조절하기  \n",
        "이제 fit()메서드에서 가중치가 바뀔 때마다 w\\_history 리스트에 가중치를 기록하겠습니다.  \n",
        "self.w의 값이 바뀔 때마다 그 값을 복사하여 w\\_history 리스트에 추가 합니다.  \n",
        " w_grad에 학습률 self.lr을 곱하는 연산이 추가되어 가중치 업데이트 양을 조절합니다.\n"
      ]
    },
    {
      "cell_type": "code",
      "metadata": {
        "id": "6MabLgauNbGU",
        "colab_type": "code",
        "colab": {}
      },
      "source": [
        "import numpy as np\n",
        "def fit(self, x, y, epochs=100):\n",
        "  self.w = np.ones(x.shape[1])                         #가중치를 초기화합니다.\n",
        "  self.b=0                                             #절편을 초기화합니다. \n",
        "  self.w_history.append(self.w.copy())                 #가중치를 기록합니다.\n",
        "  np.random.seed(42)                                   #무작위로 시드를 지정합니다.\n",
        "  for i in range(epochs):                              #epochs만큼 반복합니다.\n",
        "    loss = 0 \n",
        "    indexes = np.random.permutation(np.arange(len(x))) #인덱스를 섞습니다.\n",
        "    for i in indexes:                                  #모든 샘플에 대해 반복합니다. \n",
        "      z = self.forpass(x[i])                           #정방향 계산\n",
        "      a = self.activation(z)                           #활성화 함수 적용\n",
        "      err = -(y[i] - a)                                #오차계산\n",
        "      w_gard, b_grad = self.backprop(x[i], err)        #역방향 계산\n",
        "      self.w -= self.lr * w_gard                       #가중치 업데이트 (학습률 적용)\n",
        "      self.b -= b_grad                                 #절편 업데이트\n",
        "      self.w_history.append(self.w.copy())             #가중치 기록\n",
        "      a=np.clip(a, 1e-10, 1-1e-10)                     #클리핑한 후 손실 누적(안전한 로그 계산)\n",
        "      loss += -(y[i]*np.log(a)+(1-y[i])*np.log(1-a)) \n",
        "    self.losses.append(loss/len(y))                    #에폭마다 평균 손실 저장"
      ],
      "execution_count": 0,
      "outputs": []
    },
    {
      "cell_type": "code",
      "metadata": {
        "id": "91RigZEtnwIa",
        "colab_type": "code",
        "colab": {}
      },
      "source": [
        "class SingleLayer:\n",
        "    \n",
        "    def __init__(self, learning_rate=0.1, l1=0, l2=0):\n",
        "        self.w = None\n",
        "        self.b = None\n",
        "        self.losses = []\n",
        "        self.val_losses = []\n",
        "        self.w_history = []\n",
        "        self.lr = learning_rate\n",
        "        self.l1 = l1\n",
        "        self.l2 = l2\n",
        "\n",
        "    def forpass(self, x):\n",
        "        z = np.sum(x * self.w) + self.b    # 직선 방정식을 계산합니다\n",
        "        return z\n",
        "\n",
        "    def backprop(self, x, err):\n",
        "        w_grad = x * err          # 가중치에 대한 그래디언트를 계산합니다\n",
        "        b_grad = 1 * err    # 절편에 대한 그래디언트를 계산합니다\n",
        "        return w_grad, b_grad\n",
        "\n",
        "    def activation(self, z):\n",
        "        a = 1 / (1 + np.exp(-z))  # 시그모이드 계산\n",
        "        return a\n",
        "        \n",
        "    def fit(self, x, y, epochs=100, x_val=None, y_val=None):\n",
        "        self.w = np.ones(x.shape[1])               # 가중치를 초기화합니다.\n",
        "        self.b = 0                                 # 절편을 초기화합니다.\n",
        "        self.w_history.append(self.w.copy())       # 가중치를 기록합니다.\n",
        "        np.random.seed(42)                         # 랜덤 시드를 지정합니다.\n",
        "        for i in range(epochs):                    # epochs만큼 반복합니다.\n",
        "            loss = 0\n",
        "            # 인덱스를 섞습니다\n",
        "            indexes = np.random.permutation(np.arange(len(x)))\n",
        "            for i in indexes:                      # 모든 샘플에 대해 반복합니다\n",
        "                z = self.forpass(x[i])             # 정방향 계산\n",
        "                a = self.activation(z)             # 활성화 함수 적용\n",
        "                err = -(y[i] - a)                  # 오차 계산\n",
        "                w_grad, b_grad = self.backprop(x[i], err) # 역방향 계산\n",
        "                # 그래디언트에서 페널티 항의 미분 값을 더합니다\n",
        "                w_grad += self.l1 * np.sign(self.w) + self.l2 * self.w\n",
        "                self.w -= self.lr * w_grad         # 가중치 업데이트\n",
        "                self.b -= b_grad                   # 절편 업데이트\n",
        "                # 가중치를 기록합니다.\n",
        "                self.w_history.append(self.w.copy())\n",
        "                # 안전한 로그 계산을 위해 클리핑한 후 손실을 누적합니다\n",
        "                a = np.clip(a, 1e-10, 1-1e-10)\n",
        "                loss += -(y[i]*np.log(a)+(1-y[i])*np.log(1-a))\n",
        "            # 에포크마다 평균 손실을 저장합니다\n",
        "            self.losses.append(loss/len(y) + self.reg_loss())\n",
        "            # 검증 세트에 대한 손실을 계산합니다\n",
        "            self.update_val_loss(x_val, y_val)\n",
        "    \n",
        "    def predict(self, x):\n",
        "        z = [self.forpass(x_i) for x_i in x]     # 정방향 계산\n",
        "        return np.array(z) >= 0                   # 스텝 함수 적용\n",
        "    \n",
        "    def score(self, x, y):\n",
        "        return np.mean(self.predict(x) == y)\n",
        "    \n",
        "    def reg_loss(self):\n",
        "        return self.l1 * np.sum(np.abs(self.w)) + self.l2 / 2 * np.sum(self.w**2)\n",
        "    \n",
        "    def update_val_loss(self, x_val, y_val):\n",
        "        if x_val is None:\n",
        "            return\n",
        "        val_loss = 0\n",
        "        for i in range(len(x_val)):\n",
        "            z = self.forpass(x_val[i])     # 정방향 계산\n",
        "            a = self.activation(z)         # 활성화 함수 적용\n",
        "            a = np.clip(a, 1e-10, 1-1e-10)\n",
        "            val_loss += -(y_val[i]*np.log(a)+(1-y_val[i])*np.log(1-a))\n",
        "        self.val_losses.append(val_loss/len(y_val) + self.reg_loss())\n",
        "\n",
        "  "
      ],
      "execution_count": 0,
      "outputs": []
    },
    {
      "cell_type": "markdown",
      "metadata": {
        "id": "_YQ9QkNHHcl4",
        "colab_type": "text"
      },
      "source": [
        "#### 4. 모델 훈련하고 평가하기"
      ]
    },
    {
      "cell_type": "code",
      "metadata": {
        "id": "5DYTGhynvE-x",
        "colab_type": "code",
        "outputId": "d1af42cc-af50-4bc1-e44f-aff42fc772b0",
        "colab": {
          "base_uri": "https://localhost:8080/"
        }
      },
      "source": [
        " layer1 = SingleLayer()\n",
        " layer1.fit(x_train, y_train)\n",
        " layer1.score(x_val, y_val)"
      ],
      "execution_count": 0,
      "outputs": [
        {
          "output_type": "stream",
          "text": [
            "/usr/local/lib/python3.6/dist-packages/ipykernel_launcher.py:23: RuntimeWarning: overflow encountered in exp\n"
          ],
          "name": "stderr"
        },
        {
          "output_type": "execute_result",
          "data": {
            "text/plain": [
              "0.9120879120879121"
            ]
          },
          "metadata": {
            "tags": []
          },
          "execution_count": 11
        }
      ]
    },
    {
      "cell_type": "markdown",
      "metadata": {
        "id": "nNnaP7iLLzIp",
        "colab_type": "text"
      },
      "source": [
        "#### 5. 가중치 그래프 그리기  \n",
        "가중치의 세 번째, 네 번째 요소는 각각 mean perimeter와 mean area 특성에 대한 가중치입니다. 이 요소로 그래프를 그려보겠습니다."
      ]
    },
    {
      "cell_type": "code",
      "metadata": {
        "id": "WFbDmHz_J3wl",
        "colab_type": "code",
        "outputId": "3a6a6e3f-8985-4c71-9c09-401bac5a7ae4",
        "colab": {
          "base_uri": "https://localhost:8080/"
        }
      },
      "source": [
        "w2 = [] #mean perimeter\n",
        "w3 = [] #mean area\n",
        "for w in layer1.w_history:\n",
        "    w2.append(w[2])\n",
        "    w3.append(w[3])\n",
        "plt.plot(w2, w3)\n",
        "plt.plot(w2[-1], w3[-1], 'ro')\n",
        "plt.xlabel('w[2]')\n",
        "plt.ylabel('w[3]')\n",
        "plt.show()"
      ],
      "execution_count": 0,
      "outputs": [
        {
          "output_type": "display_data",
          "data": {
            "image/png": "[encoded data removed]",
            "text/plain": [
              "<Figure size 432x288 with 1 Axes>"
            ]
          },
          "metadata": {
            "tags": []
          }
        }
      ]
    },
    {
      "cell_type": "markdown",
      "metadata": {
        "id": "r62hXtstNhvb",
        "colab_type": "text"
      },
      "source": [
        "그래프를 보면 가로 축인 mean perimeter에 비해 세로 축인mean area의 스케일이 크므로 w3 값이 학습 과정에서 큰 폭으로 흔드리며 변화하고 있습니다.  \n",
        "반면에 w2값은 0부터 시작하여 조금씩 최적값에 가까워집니다.  \n",
        "이러한 그래프 현상을 __'w3에 대한 그레디언트가 크기 때문에 w3 축을 따라 가중치가 크게 요동치고 있다'__라고 합니다.  \n",
        "즉 w3값이 크게 요동치므로 모델이 불안정하게 수렴한다는 것을 알 수 있습니다.  \n",
        "이러한 현상을 줄일 수 있는 방법이 바로 __스케일 조정__입니다."
      ]
    },
    {
      "cell_type": "markdown",
      "metadata": {
        "id": "l_OC4E_BQV3E",
        "colab_type": "text"
      },
      "source": [
        "### 스케일을 조정해 모델을 훈련합니다.  \n",
        "신경망에서 자주 사용하는 스케일 조정 방법 중 하나는 표준화입니다.  \n",
        "표준화는 특성값에서 평균을 빼고 표준 편차로 나누면 됩니다.  \n",
        "표준화를 하면 평균이 0이고 분산이 1인 특성이 만들어집니다.  \n",
        "$$z={{x-\\mu} \\over s}$$"
      ]
    },
    {
      "cell_type": "markdown",
      "metadata": {
        "id": "-i0Nt7ZORypa",
        "colab_type": "text"
      },
      "source": [
        "#### 1. 넘파이로 표준화 구현하기    \n",
        "넘파이의 mean(), std()함수를 사용하여 쉽게 표준화를 구현할 수 있습니다.  \n",
        "mean(), std()함수의 axis 매개변수를 0으로 지정하면 2차원 배열의 열을 기준으로 통계치를 계산하여 하나의 행 벡터로 반환해 줍니다."
      ]
    },
    {
      "cell_type": "code",
      "metadata": {
        "id": "zTc5x9BqM-Vv",
        "colab_type": "code",
        "outputId": "648e7a8f-f823-4962-ef9f-451bfe07a76c",
        "colab": {
          "base_uri": "https://localhost:8080/"
        }
      },
      "source": [
        "#평균값 구하기\n",
        "np.mean([1,2,3,4,5], axis=0)"
      ],
      "execution_count": 0,
      "outputs": [
        {
          "output_type": "execute_result",
          "data": {
            "text/plain": [
              "3.0"
            ]
          },
          "metadata": {
            "tags": []
          },
          "execution_count": 13
        }
      ]
    },
    {
      "cell_type": "code",
      "metadata": {
        "id": "6feXjPmrSjwA",
        "colab_type": "code",
        "outputId": "0edb6bdb-50c0-48c4-d7f0-dd68db591553",
        "colab": {
          "base_uri": "https://localhost:8080/"
        }
      },
      "source": [
        "#표준 편차 구하기\n",
        "np.std([1,2,3,4,5], axis=0)"
      ],
      "execution_count": 0,
      "outputs": [
        {
          "output_type": "execute_result",
          "data": {
            "text/plain": [
              "1.4142135623730951"
            ]
          },
          "metadata": {
            "tags": []
          },
          "execution_count": 14
        }
      ]
    },
    {
      "cell_type": "code",
      "metadata": {
        "id": "o1GaxZElS6EN",
        "colab_type": "code",
        "colab": {}
      },
      "source": [
        "train_mean = np.mean(x_train, axis=0)\n",
        "train_std = np.std(x_train, axis=0)\n",
        "x_train_scaled = (x_train - train_mean) / train_std"
      ],
      "execution_count": 0,
      "outputs": []
    },
    {
      "cell_type": "markdown",
      "metadata": {
        "id": "i-k3s6ETUnii",
        "colab_type": "text"
      },
      "source": [
        "#### 2.모델 훈련하기  \n",
        "스케일을 조정한 데이터 세트로 단일층 신경망을 다시 훈련시키고 가중치를 그래프로 그려보겠습니다."
      ]
    },
    {
      "cell_type": "code",
      "metadata": {
        "id": "2zSLupKcThyy",
        "colab_type": "code",
        "outputId": "48fb4f3c-8568-4ccc-f79f-6b9c718f2dd3",
        "colab": {
          "base_uri": "https://localhost:8080/"
        }
      },
      "source": [
        "layer2 = SingleLayer()\n",
        "layer2.fit(x_train_scaled, y_train)\n",
        "w2 = []\n",
        "w3 = []\n",
        "for w in layer2.w_history:\n",
        "    w2.append(w[2])\n",
        "    w3.append(w[3])\n",
        "plt.plot(w2, w3)\n",
        "plt.plot(w2[-1], w3[-1], 'ro')\n",
        "plt.xlabel('w[2]')\n",
        "plt.ylabel('w[3]')\n",
        "plt.show()"
      ],
      "execution_count": 0,
      "outputs": [
        {
          "output_type": "display_data",
          "data": {
            "image/png": "[encoded data removed]",
            "text/plain": [
              "<Figure size 432x288 with 1 Axes>"
            ]
          },
          "metadata": {
            "tags": []
          }
        }
      ]
    },
    {
      "cell_type": "markdown",
      "metadata": {
        "id": "JwWuMUVDVPYs",
        "colab_type": "text"
      },
      "source": [
        "#### 3.모델 성능 평가하기  "
      ]
    },
    {
      "cell_type": "code",
      "metadata": {
        "id": "ReZepV5QU-dy",
        "colab_type": "code",
        "outputId": "fc405a41-c0d6-4ff2-f71e-7090e19f0b39",
        "colab": {
          "base_uri": "https://localhost:8080/"
        }
      },
      "source": [
        "layer2.score(x_val, y_val)"
      ],
      "execution_count": 0,
      "outputs": [
        {
          "output_type": "execute_result",
          "data": {
            "text/plain": [
              "0.37362637362637363"
            ]
          },
          "metadata": {
            "tags": []
          },
          "execution_count": 17
        }
      ]
    },
    {
      "cell_type": "markdown",
      "metadata": {
        "id": "Fxqd3IpRW2Wg",
        "colab_type": "text"
      },
      "source": [
        "#### 4.왜 이런 결과가??!!  \n",
        "성능이 매우 좋지 않습니다. 그 이유로는 검증 세트의 스케일을 바꾸지 않기 때문입니다.  \n",
        "검증 세트도 표준화 전처리를 적용하여 정확도를 알아보겠습니다."
      ]
    },
    {
      "cell_type": "code",
      "metadata": {
        "id": "bDnc7DeeVYrO",
        "colab_type": "code",
        "outputId": "db429cd7-246b-48e8-89aa-e5a82bed4818",
        "colab": {
          "base_uri": "https://localhost:8080/"
        }
      },
      "source": [
        "val_mean = np.mean(x_val, axis=0)\n",
        "val_std = np.std(x_val, axis=0)\n",
        "x_val_scaled = (x_val - val_mean) / val_std\n",
        "layer2.score(x_val_scaled, y_val)"
      ],
      "execution_count": 0,
      "outputs": [
        {
          "output_type": "execute_result",
          "data": {
            "text/plain": [
              "0.967032967032967"
            ]
          },
          "metadata": {
            "tags": []
          },
          "execution_count": 18
        }
      ]
    },
    {
      "cell_type": "markdown",
      "metadata": {
        "id": "oiKRE3fQX125",
        "colab_type": "text"
      },
      "source": [
        "나쁘지 않은 정확도를 얻었습니다. 하지만 개선할 점들이 아직 남아있습니다."
      ]
    },
    {
      "cell_type": "markdown",
      "metadata": {
        "id": "OJusCl9mYbj8",
        "colab_type": "text"
      },
      "source": [
        "### 스케일을 조정한 다음에 실수하기 쉬운 함정을 알아봅니다.  \n",
        "여기서 언급한 함정이란 __'훈련 세트와 검증 세트가 다른 비율로 스케일이 조정된 경우'__를 말합니다.  \n",
        "이해를 돕기 위해 원본 세트와 전처리된 세트에서 데이터를 50개 씩 뽑아 산점도를 그린 후 비교해보며 이 함정에 대해 설명하겠습니다.  \n",
        "\n",
        "#### 1.원본 훈련 세트와 검증 세트로 산점도 그리기"
      ]
    },
    {
      "cell_type": "code",
      "metadata": {
        "id": "NyMHQoPoXRGn",
        "colab_type": "code",
        "outputId": "0edb4602-05b0-4c57-90dc-949d61f20d1d",
        "colab": {
          "base_uri": "https://localhost:8080/"
        }
      },
      "source": [
        "plt.plot(x_train[:50, 0], x_train[:50, 1], 'bo')\n",
        "plt.plot(x_val[:50, 0], x_val[:50, 1], 'ro')\n",
        "plt.xlabel('fature 1')\n",
        "plt.ylabel('fature 2')\n",
        "plt.legend(['train set', 'val. set'])\n",
        "plt.show()"
      ],
      "execution_count": 0,
      "outputs": [
        {
          "output_type": "display_data",
          "data": {
            "image/png": "[encoded data removed]",
            "text/plain": [
              "<Figure size 432x288 with 1 Axes>"
            ]
          },
          "metadata": {
            "tags": []
          }
        }
      ]
    },
    {
      "cell_type": "markdown",
      "metadata": {
        "id": "cUtOZDUPZde4",
        "colab_type": "text"
      },
      "source": [
        "#### 2.전처리한 훈련 세트와 검증 세트로 산점도 그리기"
      ]
    },
    {
      "cell_type": "code",
      "metadata": {
        "id": "qrd7v526ZaeQ",
        "colab_type": "code",
        "outputId": "f3b610fe-7b98-421c-9341-a8471d01681d",
        "colab": {
          "base_uri": "https://localhost:8080/"
        }
      },
      "source": [
        "plt.plot(x_train_scaled[:50, 0], x_train_scaled[:50, 1], 'bo')\n",
        "plt.plot(x_val_scaled[:50, 0], x_val_scaled[:50, 1], 'ro')\n",
        "plt.xlabel('fature 1')\n",
        "plt.ylabel('fature 2')\n",
        "plt.legend(['train set', 'val. set'])\n",
        "plt.show()"
      ],
      "execution_count": 0,
      "outputs": [
        {
          "output_type": "display_data",
          "data": {
            "image/png": "[encoded data removed]",
            "text/plain": [
              "<Figure size 432x288 with 1 Axes>"
            ]
          },
          "metadata": {
            "tags": []
          }
        }
      ]
    },
    {
      "cell_type": "markdown",
      "metadata": {
        "id": "lOqaOc9PZm14",
        "colab_type": "text"
      },
      "source": [
        "<img width=\"280\" alt=\"1\" src=\"https://user-images.githubusercontent.com/53211502/68757922-253b1200-0650-11ea-9a40-cc3735aa2cf3.PNG\">\n",
        "<img width=\"284\" alt=\"2\" src=\"https://user-images.githubusercontent.com/53211502/68757923-25d3a880-0650-11ea-833e-6ebdeda25f25.PNG\">\n",
        "\n",
        "원본과 전처리 후의 훈련, 검증 세트를 보시면 미세하지만 각각 다른비율로 변환되었음을 알 수 있습니다.  \n",
        "즉 점과 점사이의 거리가 변환된 이후에 그대로 유지되지 않았습니다.  \n",
        "점과 점사이의 거리가 달라진 이유는 훈련 세트와 검증 세트를 각각 다른 비율로 전처리했기 때문입니다."
      ]
    },
    {
      "cell_type": "markdown",
      "metadata": {
        "id": "v9HT8b6YcR-M",
        "colab_type": "text"
      },
      "source": [
        "#### 3.올바르게 검증 세트 전처리하기  \n",
        "검증 세트의 스케일이 훈련 세트의 스케일과 다른 비율로 조정되면 모델에 적용된 알고리즘들이 검증 세트와 샘플 데이터를 잘못 인식합니다.  \n",
        "따라서 검증 세트를 훈련 세트와 같은 비율로 전처리해야 합니다.  \n",
        "테스트 세트 또한 마찬가지 입니다.  \n",
        "$\\therefore$ 검증세트의 평균, 표준편차를 이용하는 것이 아닌 훈련 세트의 평균, 표준 편차를 사용하여 검증 세트를 변환하면 됩니다."
      ]
    },
    {
      "cell_type": "code",
      "metadata": {
        "id": "ENDcelAeZk2r",
        "colab_type": "code",
        "outputId": "0661e320-b9eb-4e40-97c5-83c09ced1761",
        "colab": {
          "base_uri": "https://localhost:8080/"
        }
      },
      "source": [
        "x_val_scaled = (x_val - train_mean) / train_std\n",
        "\n",
        "plt.plot(x_train_scaled[:50, 0], x_train_scaled[:50, 1], 'bo')\n",
        "plt.plot(x_val_scaled[:50, 0], x_val_scaled[:50, 1], 'ro')\n",
        "plt.xlabel('fature 1')\n",
        "plt.ylabel('fature 2')\n",
        "plt.legend(['train set', 'val. set'])\n",
        "plt.show()"
      ],
      "execution_count": 0,
      "outputs": [
        {
          "output_type": "display_data",
          "data": {
            "image/png": "[encoded data removed]",
            "text/plain": [
              "<Figure size 432x288 with 1 Axes>"
            ]
          },
          "metadata": {
            "tags": []
          }
        }
      ]
    },
    {
      "cell_type": "markdown",
      "metadata": {
        "id": "qWS1jbJpdZI-",
        "colab_type": "text"
      },
      "source": [
        "<img width=\"284\" alt=\"4\" src=\"https://user-images.githubusercontent.com/53211502/68758754-beb6f380-0651-11ea-81d7-d7f38e1316df.PNG\">\n",
        "<img width=\"283\" alt=\"3\" src=\"https://user-images.githubusercontent.com/53211502/68758755-beb6f380-0651-11ea-964c-ef034a706a28.PNG\">\n",
        "\n",
        "이제 원본 데이터의 산점도와 스케일 조정 후의 산점도 가 같아졌습니다.  \n",
        "즉 검증 세트와 훈련 세트가 동일한 비율로 변환되었습니다."
      ]
    },
    {
      "cell_type": "markdown",
      "metadata": {
        "id": "sm4YBkBmd_7v",
        "colab_type": "text"
      },
      "source": [
        "#### 4.모델 평가하기  \n",
        "이 검증 세트로 모델의 성능을 평가해 보겠습니다.  \n",
        "현재의 데이터 세트는 크지 않기 때문에 검증 세트를 올바르게 전처리하기 전과 후의 성능이 동일합니다.  \n",
        "만약 검증 세트가 클 경우 성능에 차이가 나타날 수 있습니다.   "
      ]
    },
    {
      "cell_type": "code",
      "metadata": {
        "id": "mQNAQVtidFWR",
        "colab_type": "code",
        "outputId": "1196ed01-5958-433b-89f1-bcde3361cf5e",
        "colab": {
          "base_uri": "https://localhost:8080/"
        }
      },
      "source": [
        "layer2.score(x_val_scaled, y_val)"
      ],
      "execution_count": 0,
      "outputs": [
        {
          "output_type": "execute_result",
          "data": {
            "text/plain": [
              "0.967032967032967"
            ]
          },
          "metadata": {
            "tags": []
          },
          "execution_count": 22
        }
      ]
    },
    {
      "cell_type": "markdown",
      "metadata": {
        "id": "kZgy4Mhye7Ci",
        "colab_type": "text"
      },
      "source": [
        "## 5.2 과대적합과 과소적합을 알아봅시다.  \n",
        "훈련 세트와 검증 세트는 모델의 __과대적합(overfitting)__, __과소적합(underfitting)__이라는 문제와 깊은 연관이 있습니다.  \n",
        "\n",
        "### 학습 곡선을 통해 과대적합과 과소적합을 알아봅니다.  \n",
        "* 과대적합  \n",
        "    모델이 훈련 세트에서는 좋은 성능을 내지만 검증 세트에서는 낮은 성능을 내는 경우를 말합니다.  \n",
        "    구체적인 예로는 훈련 세트의 정확도가 99%이고 검증 세트의 정확도가 80% 수준이라면 과대적합을 의심할 수 있습니다.  \n",
        "* 과소적합  \n",
        "    훈련 세트와 검증 세트의 성능에는 차이가 크지 않지만 모두 낮은 성능을 내는 경우입니다.  \n",
        "\n",
        "__훈련 세트의 크기와 과대적합, 과소적합 분석하기__  \n",
        "훈련 세트의 크기에 따라 과대적합과 과소적합이 어떻게 나타나는지 그래프를 통해 알아 보겠습니다. 다음과 같은 그래프를 학습 곡선(learning curve)이라고 부릅니다.  \n",
        "![과대적합](https://user-images.githubusercontent.com/53211502/68759959-15bdc800-0654-11ea-99db-95eb2976ccfc.jpg)  \n",
        "* 첫 번째 학습 곡선 : 과대적합의 전형적인 모습입니다.  \n",
        "    훈련 세트와 검증세트에서 측정한 성능의 간격이 큽니다.  \n",
        "    $\\rightarrow$ 과대적합된 모델을 __'분산이 크다(high variance)'__라고도 말합니다.  \n",
        "    과대적합의 주요 원인 중 하나는 훈련 세트에 충분히 다양한 패턴의 샘플이 포함되지 않은 경우입니다.  \n",
        "    이런 경우에는 더 많은 훈련 샘플을 모아 검증 세트의 성능을 향상시킬 수 있습니다.  \n",
        "    하지만 현실적인 한계로 훈련 샘플을 더 모을 수 없는 경우에는 모델이 훈련 세트에 집착하지 않도록 가중치를 제한할 수 있습니다.  \n",
        "    $\\rightarrow$  이를__'모델의 복잡도를 낮춘다'__라고 말하기도 합니다.  \n",
        "    이 방법은 5.3절에서 자세히 알아보겠습니다.  \n",
        "* 두 번째 학습곡선 : 과소적합의 전형적인 모습입니다.  \n",
        "    훈련 세트와 검증 세트에서 측정한 성능의 간격은 점점 가까워지지만 성능 자체가 낮습니다.  \n",
        "    $\\rightarrow$ 과소적합된 모델을 __'편향이 크다'__라고도 말합니다.  \n",
        "    과소적합은 모델이 충분히 복잡하지 않아 훈련 데이터에 있는 패턴을 모두 잡아내지 못하는 현상입니다.  \n",
        "    과소적합을 해결하는 대표적인 방법은 복잡도가 더 높은 모델을 사용하거나 가중치의 규제를 완화하는 것 입니다.  \n",
        "* 세 번째 학습곡선 : 과대적합과 과소적합 사이에서 절충점을 찾은 모습"
      ]
    },
    {
      "cell_type": "markdown",
      "metadata": {
        "id": "_CS_NT2ClzA9",
        "colab_type": "text"
      },
      "source": [
        "__에프크와 손실 함수의 그래프로 과대적합과 과소적합 분석하기__  \n",
        "4장에서 배운 에포크와 손실 함수의 그래프를 사용하여 과대적합과 과소적합을 분석하기도 합니다.  \n",
        "<img width=\"239\" alt=\"8\" src=\"https://user-images.githubusercontent.com/53211502/68761564-a944c800-0657-11ea-80e1-509b1171bafb.PNG\">  \n",
        "\n",
        "그래서 에포크에 대한 손실 함수의 그래프를 __학습 곡선__이라고 부르는 경우도 종종 있습니다. 다음은 에포크와 손실 함수에 대한 그래프와 __에포크__와 __정확도__에 대한 그래프입니다.  \n",
        "![25](https://user-images.githubusercontent.com/53211502/68762008-95e62c80-0658-11ea-9aea-bf773a8f5595.jpg)\n",
        "* 왼쪽 그래프  \n",
        "검증 세트의 손실과 훈련 세트의 손실을 나타낸 것입니다.  \n",
        "훈련 세트의 손실은 에포크가 진행될수록 감소하지만  \n",
        "검증 세트의 손실운 에포크의 횟수가 최적점을 지나면 오히려 상승합니다.  \n",
        "최적점 이후에도 계속해서 훈련 세트로 모델을 학습시키면 모델이 훈련 세트의 샘플에 더 밀착하여 학습하기 때문입니다.  \n",
        "즉, 모델이 과대적합되기 시작합니다.  \n",
        "반대로 최적점 이전에는 훈련 세트와 검증 세트의 손실이 비슷한 간격을 유지하면서 함께 줄어드는데, 이 영역에서 학습을 중지하면 과소적합된 모델이 만들어 집니다.  \n",
        "* 오른쪽 그래프  \n",
        "오른쪽 그래프는 y축에 손실 대신 정확도를 사용하였습니다.  \n",
        "낮은 손실이 높은 정확도를 뜻하므로 그래프가 뒤집혔을 뿐 해석은 동일합니다.  \n",
        "\n",
        "__모델 복잡도와 손실 함수의 그래프로 과대적합과 과소적합 분석하기__  \n",
        "가로 축에 에포크 대신 __'모델 복잡도'__를 넣어 그래프를 표현하기도 합니다.  \n",
        "![51](https://user-images.githubusercontent.com/53211502/68762007-95e62c80-0658-11ea-84d7-f077e925a82b.jpg)  \n",
        "\n",
        "* __모델 복잡도__  \n",
        "    모델이 가진 학습 가능한 가중치 개수를 말하는데, 층의 개수나 유닛의 개수가 많아지면 높은 모델이 만들어집니다.  \n",
        "    모델이 복잡해지면 항상 좋을 것 같지만 모델이 훈련 세트에만 잘 맞는 형태로 만들어지면 훈련 세트에만 좋은 성능을 냅니다.  \n",
        "\n",
        "다음으로는 적절한 에포크 횟수를 찾아보겠습니다."
      ]
    },
    {
      "cell_type": "markdown",
      "metadata": {
        "id": "bWNz4cB7ri9L",
        "colab_type": "text"
      },
      "source": [
        "### 적절한 편향-분산 트레이드오프를 선택합니다.  \n",
        "과소적합된 모델 $\\rightarrow$ __'편향되었다'__  \n",
        "과대적합된 모델 $\\rightarrow$ __'분산이 크다'__  \n",
        "과소적합된 모델(편향)과 과대적합된 모델(분산)사이의 관계를 편향-분산 트레이드 오프라고 합니다.  \n",
        "트레이드오프라는 말이 들어간 이유는 __'하나를 얻기 위해서는 다른 하나를 희생해야 하기 때문'__입니다.  \n",
        "이 말은 즉슨 편향을 줄이면(훈련 세트의 성능을 높이면) 분산이 커지고(검증 세트와 성능 차이가 커지고)  \n",
        "반대로 분산을 줄이면(검증 세트와 성능차이를 줄이면) 편향이 커지는(훈련 세트의 성능이 낮아진다는) 것을 뜻합니다.  \n",
        "$\\therefore$ 분산이나 편향이 너무 커지지 않도록 적절한 중간 지점을 선택해야 합니다.  \n",
        "이러한 행위를 __'적절한 편향-분산 트레이드오프를 선택했다.'__라고 합니다.  \n",
        "경사 하강법의 에포크 횟수에 대한 모델의 손실을 그래프로 그려 '적절한 편향-분산 트레이드오프'를 선택해 보겠습니다.  "
      ]
    },
    {
      "cell_type": "markdown",
      "metadata": {
        "id": "3jrK1UyduBGQ",
        "colab_type": "text"
      },
      "source": [
        "#### 1.검증 손실을 기록하기 위한 변수 추가하기  \n",
        "훈련 세트의 손실을 기록했듯이 검증 세트에 대한 손실을 기록한 다음 기록한 값으로 그려보겠습니다.  \n",
        "이를 위해 SingleLayer 클래스의 \\_\\_init__()메서드에 self.val\\_losses를 추가합니다."
      ]
    },
    {
      "cell_type": "code",
      "metadata": {
        "id": "mY8R7IItehvn",
        "colab_type": "code",
        "colab": {}
      },
      "source": [
        "def __init__(self, learning_rate=0.1):\n",
        "  self.w = None\n",
        "  self.b = None\n",
        "  self.losses = []\n",
        "  self.val_losses = []\n",
        "  self.w_history = []\n",
        "  self.lr = learning_rate"
      ],
      "execution_count": 0,
      "outputs": []
    },
    {
      "cell_type": "markdown",
      "metadata": {
        "id": "WKEwWp_Vvh9e",
        "colab_type": "text"
      },
      "source": [
        "#### 2.fit()메서드에 검증 세트를 전달받을 수 있도록 x_val, y_val 매개변수를 추가합니다.  "
      ]
    },
    {
      "cell_type": "code",
      "metadata": {
        "id": "0UlfyL1pvf-j",
        "colab_type": "code",
        "colab": {}
      },
      "source": [
        "def fit(self, x, y, epochs=100, x_val=None, y_val=None):\n",
        "  self.w = np.ones(x.shape[1])                         #가중치를 초기화합니다. \n",
        "  self.b = 0                                           #절편을 초기화합니다.\n",
        "  self.w_history.append(self.w.copy())                 #가중치를 기록합니다.\n",
        "  np.random.seed(42)                                   #무작위로 시드를 지정합니다. \n",
        "  for i in range(epochs):                              #epochs만큼 반복합니다. \n",
        "    loss = 0\n",
        "    indexes = np.random.permutation(np.arrange(len(x)))#인덱스를 섞습니다. \n",
        "    for i in indexes:                                  #모든 샘플에 대해 반복합니다. \n",
        "      z = self.forpass(x[i])                           #정방향 계산\n",
        "      a = self.activation(z)                           #활성화 함수 적용\n",
        "      err = -(y[i] - a)                                #오차 계산\n",
        "      w_grad, b_grad = self.backprop(x[i], err)        #역방향 계산\n",
        "      self.w -= self.lr * w_grad                       #가중치 업데이트\n",
        "      self.b -= b_grad                                 #절편 업데이트\n",
        "      self.w_history.append(self.w.copy())             #가중치를 기록\n",
        "      a = np.clip(a, 1e-10, 1-1e-10)\n",
        "      loss += -(y[i]*np.log(a)+(1-y[i])*np.log(1-a))\n",
        "    self.losses.append(loss/len(y))                    #에포크마다 평균 손실을 저장\n",
        "    self.update_val_loss(x_val, y_val)                 #검증 세트에 대한 손실 계산"
      ],
      "execution_count": 0,
      "outputs": []
    },
    {
      "cell_type": "markdown",
      "metadata": {
        "id": "aqjJ_fVtznfh",
        "colab_type": "text"
      },
      "source": [
        "#### 3.검증 손실 계산하기  \n",
        "검증 세트의 손실은 다음과 같이 update_val_loss() 메서드에서 계산합니다.  "
      ]
    },
    {
      "cell_type": "code",
      "metadata": {
        "id": "TbWUYDB5xWOS",
        "colab_type": "code",
        "colab": {}
      },
      "source": [
        "def update_val_loss(self, x_val, y_val):\n",
        "  if x_val is None:\n",
        "    return\n",
        "  val_loss = 0\n",
        "  for i in range(len(x_val)):\n",
        "    z = self.forpass(x_val[i]) #정방향 계산\n",
        "    a = self.activation(z)     #활성화 함수 적용\n",
        "    a = np.clip(a, 1e-10, 1-1e-10)\n",
        "    val_loss += -(y_val[i]*np.log(a)+(1-y_val[i])*np.log(1-a))\n",
        "  self.val_losses.append(val_loss/len(y_val))"
      ],
      "execution_count": 0,
      "outputs": []
    },
    {
      "cell_type": "markdown",
      "metadata": {
        "id": "q1h-pXpM1Mml",
        "colab_type": "text"
      },
      "source": [
        "이 계산은 fit()메서드에서 훈련 세트의 손실을 계산하는 방식과 동일합니다.  \n",
        "검증 세트 샘플을 정방향으로 계산한 다음 활성화 함수를 통과시켜 출력 값을 계산합니다.  \n",
        "이 값을 사용하여 로지스틱 손실 함수의 값을 계산해서 val_losses 리스에 추가합니다.  \n",
        "그 후 검증 세트에 대한 손실 함수 값을 계산하기 위해 fit() 메서드에서 에포크마다 1번씩 update\\_val\\_loss()메서드를 호출합니다.\n"
      ]
    },
    {
      "cell_type": "code",
      "metadata": {
        "id": "m-1eZmGL3mei",
        "colab_type": "code",
        "colab": {}
      },
      "source": [
        "class SingleLayer:\n",
        "    \n",
        "    def __init__(self, learning_rate=0.1, l1=0, l2=0):\n",
        "        self.w = None\n",
        "        self.b = None\n",
        "        self.losses = []\n",
        "        self.val_losses = []\n",
        "        self.w_history = []\n",
        "        self.lr = learning_rate\n",
        "        self.l1 = l1\n",
        "        self.l2 = l2\n",
        "\n",
        "    def forpass(self, x):\n",
        "        z = np.sum(x * self.w) + self.b    # 직선 방정식을 계산합니다\n",
        "        return z\n",
        "\n",
        "    def backprop(self, x, err):\n",
        "        w_grad = x * err          # 가중치에 대한 그래디언트를 계산합니다\n",
        "        b_grad = 1 * err    # 절편에 대한 그래디언트를 계산합니다\n",
        "        return w_grad, b_grad\n",
        "\n",
        "    def activation(self, z):\n",
        "        a = 1 / (1 + np.exp(-z))  # 시그모이드 계산\n",
        "        return a\n",
        "        \n",
        "    def fit(self, x, y, epochs=100, x_val=None, y_val=None):\n",
        "        self.w = np.ones(x.shape[1])               # 가중치를 초기화합니다.\n",
        "        self.b = 0                                 # 절편을 초기화합니다.\n",
        "        self.w_history.append(self.w.copy())       # 가중치를 기록합니다.\n",
        "        np.random.seed(42)                         # 랜덤 시드를 지정합니다.\n",
        "        for i in range(epochs):                    # epochs만큼 반복합니다.\n",
        "            loss = 0\n",
        "            # 인덱스를 섞습니다\n",
        "            indexes = np.random.permutation(np.arange(len(x)))\n",
        "            for i in indexes:                      # 모든 샘플에 대해 반복합니다\n",
        "                z = self.forpass(x[i])             # 정방향 계산\n",
        "                a = self.activation(z)             # 활성화 함수 적용\n",
        "                err = -(y[i] - a)                  # 오차 계산\n",
        "                w_grad, b_grad = self.backprop(x[i], err) # 역방향 계산\n",
        "                # 그래디언트에서 페널티 항의 미분 값을 더합니다\n",
        "                w_grad += self.l1 * np.sign(self.w) + self.l2 * self.w\n",
        "                self.w -= self.lr * w_grad         # 가중치 업데이트\n",
        "                self.b -= b_grad                   # 절편 업데이트\n",
        "                # 가중치를 기록합니다.\n",
        "                self.w_history.append(self.w.copy())\n",
        "                # 안전한 로그 계산을 위해 클리핑한 후 손실을 누적합니다\n",
        "                a = np.clip(a, 1e-10, 1-1e-10)\n",
        "                loss += -(y[i]*np.log(a)+(1-y[i])*np.log(1-a))\n",
        "            # 에포크마다 평균 손실을 저장합니다\n",
        "            self.losses.append(loss/len(y) + self.reg_loss())\n",
        "            # 검증 세트에 대한 손실을 계산합니다\n",
        "            self.update_val_loss(x_val, y_val)\n",
        "    \n",
        "    def predict(self, x):\n",
        "        z = [self.forpass(x_i) for x_i in x]     # 정방향 계산\n",
        "        return np.array(z) >= 0                   # 스텝 함수 적용\n",
        "    \n",
        "    def score(self, x, y):\n",
        "        return np.mean(self.predict(x) == y)\n",
        "    \n",
        "    def reg_loss(self):\n",
        "        return self.l1 * np.sum(np.abs(self.w)) + self.l2 / 2 * np.sum(self.w**2)\n",
        "    \n",
        "    def update_val_loss(self, x_val, y_val):\n",
        "        if x_val is None:\n",
        "            return\n",
        "        val_loss = 0\n",
        "        for i in range(len(x_val)):\n",
        "            z = self.forpass(x_val[i])     # 정방향 계산\n",
        "            a = self.activation(z)         # 활성화 함수 적용\n",
        "            a = np.clip(a, 1e-10, 1-1e-10)\n",
        "            val_loss += -(y_val[i]*np.log(a)+(1-y_val[i])*np.log(1-a))\n",
        "        self.val_losses.append(val_loss/len(y_val) + self.reg_loss())"
      ],
      "execution_count": 0,
      "outputs": []
    },
    {
      "cell_type": "markdown",
      "metadata": {
        "id": "KvqhAsRh3ioo",
        "colab_type": "text"
      },
      "source": [
        "#### 4.모델 훈련하기  \n",
        "이제 모델의 수정을 완료했음으로 표준화(전처리)된 훈련 세트와 검증 세트를 이용하여 단일층 신경망을 훈련해 보겠습니다."
      ]
    },
    {
      "cell_type": "code",
      "metadata": {
        "id": "EEbvTM6w0bw9",
        "colab_type": "code",
        "colab": {}
      },
      "source": [
        "layer3 = SingleLayer()\n",
        "layer3.fit(x_train_scaled, y_train, x_val=x_val_scaled, y_val=y_val)"
      ],
      "execution_count": 0,
      "outputs": []
    },
    {
      "cell_type": "markdown",
      "metadata": {
        "id": "F7141wuY2ucm",
        "colab_type": "text"
      },
      "source": [
        "#### 5.손실값으로 그래프 그려 에포크 횟수 지정하기  \n",
        "위의 값들을 이용하여 그래프를 그려보겠습니다.  "
      ]
    },
    {
      "cell_type": "code",
      "metadata": {
        "id": "9abDzzKm28pF",
        "colab_type": "code",
        "outputId": "07ce974a-6557-433e-da1c-9493dd40c001",
        "colab": {
          "base_uri": "https://localhost:8080/"
        }
      },
      "source": [
        "plt.ylim(0, 0.3)\n",
        "plt.plot(layer3.losses)\n",
        "plt.plot(layer3.val_losses)\n",
        "plt.ylabel('loss')\n",
        "plt.xlabel('epoch')\n",
        "plt.legend(['train_loss', 'val_loss'])\n",
        "plt.show()"
      ],
      "execution_count": 0,
      "outputs": [
        {
          "output_type": "display_data",
          "data": {
            "image/png": "[encoded data removed]",
            "text/plain": [
              "<Figure size 432x288 with 1 Axes>"
            ]
          },
          "metadata": {
            "tags": []
          }
        }
      ]
    },
    {
      "cell_type": "markdown",
      "metadata": {
        "id": "0Xvc00ij31cI",
        "colab_type": "text"
      },
      "source": [
        "이 그래프를 보면 검증 손실이 대략 20번째 에포크 이후에 훈련 세트보다 높아지는 것을 알 수 있습니다.  \n",
        "즉 이 모델은 20번의 에포크 이후에는 훈련할 필요가 없는 것 같습니다.  \n",
        "\n",
        "#### 6.훈련 조기 종료하기  \n",
        "20번의 에포크까지 모델을 훈련한 다음 검증 세트의 성능을 확인해 보겠습니다.  "
      ]
    },
    {
      "cell_type": "code",
      "metadata": {
        "id": "LKUU1IaR3xdT",
        "colab_type": "code",
        "outputId": "8f1d7b93-760c-4b2c-ccc2-f119e8a44cf9",
        "colab": {
          "base_uri": "https://localhost:8080/"
        }
      },
      "source": [
        "layer4 = SingleLayer()\n",
        "layer4.fit(x_train_scaled, y_train, epochs=20)\n",
        "layer4.score(x_val_scaled, y_val)"
      ],
      "execution_count": 0,
      "outputs": [
        {
          "output_type": "execute_result",
          "data": {
            "text/plain": [
              "0.978021978021978"
            ]
          },
          "metadata": {
            "tags": []
          },
          "execution_count": 29
        }
      ]
    },
    {
      "cell_type": "code",
      "metadata": {
        "id": "8Hb6DnsW4QVi",
        "colab_type": "code",
        "outputId": "8664c0b8-7cb7-4b8e-f060-db64ee0a2389",
        "colab": {
          "base_uri": "https://localhost:8080/"
        }
      },
      "source": [
        "layer5 = SingleLayer()\n",
        "layer5.fit(x_train_scaled, y_train, epochs=30)\n",
        "layer5.score(x_val_scaled, y_val)"
      ],
      "execution_count": 0,
      "outputs": [
        {
          "output_type": "execute_result",
          "data": {
            "text/plain": [
              "0.978021978021978"
            ]
          },
          "metadata": {
            "tags": []
          },
          "execution_count": 30
        }
      ]
    },
    {
      "cell_type": "code",
      "metadata": {
        "id": "U7PGJb2b4Sc5",
        "colab_type": "code",
        "outputId": "1a1083ba-7f21-441b-bacd-f2e4cc8dc9df",
        "colab": {
          "base_uri": "https://localhost:8080/"
        }
      },
      "source": [
        "layer6 = SingleLayer()\n",
        "layer6.fit(x_train_scaled, y_train, epochs=40)\n",
        "layer6.score(x_val_scaled, y_val)"
      ],
      "execution_count": 0,
      "outputs": [
        {
          "output_type": "execute_result",
          "data": {
            "text/plain": [
              "0.978021978021978"
            ]
          },
          "metadata": {
            "tags": []
          },
          "execution_count": 31
        }
      ]
    },
    {
      "cell_type": "markdown",
      "metadata": {
        "id": "BtTB-kj35pz7",
        "colab_type": "text"
      },
      "source": [
        "이렇게 훈련을 일찍 멈추는 기법을 조기 종료라고 부릅니다.  \n",
        "과대적합되기 전에 훈련을 멈추었으므로 검증 세트의 성능이 0.967 $\\rightarrow$ 0.978로 조금 더 향상되었습니다."
      ]
    },
    {
      "cell_type": "markdown",
      "metadata": {
        "colab_type": "text",
        "id": "xT56K2LhDRVx"
      },
      "source": [
        "# Ch.5 훈련 노하우를 배웁니다."
      ]
    },
    {
      "cell_type": "markdown",
      "metadata": {
        "id": "CDa_IDQs1vnN",
        "colab_type": "text"
      },
      "source": [
        "## 05-3 규제 방법을 배우고 단일층 신경망에 적용합니다\n",
        "- 가중치 규제(regulariztion) : 가중치의 값이 커지지 않도록 제한하는 기법\n",
        "  - 과대적합을 해결하는 대표적인 방법 중 하나\n",
        "  - 모델의 일반화 성능 향상\n",
        "- '모델이 일반화되지 않았다' \n",
        "\n",
        "![graph](https://user-images.githubusercontent.com/52767505/68754705-8bbd3180-064a-11ea-94e2-94046b1b7bee.PNG)![graph_2](https://user-images.githubusercontent.com/52767505/68754732-98da2080-064a-11ea-912b-d5ffd13655e1.PNG)\n",
        "  - 모델이 몇 개의 데이터에 집착하면 새로운 데이터에 적응하지 못하므로 좋은 성능을 가졌다고 할 수 없다.\n",
        "- L1 규제와 L2 규제"
      ]
    },
    {
      "cell_type": "markdown",
      "metadata": {
        "id": "r0YTL7wT9JYY",
        "colab_type": "text"
      },
      "source": [
        "### L1 규제\n",
        "- 손실 함수에 가중치의 절댓값인 L1 노름(norm) 추가\n",
        "  $$\\left \\| \\omega  \\right \\|_{1}=\\sum_{i=1}^{n}\\left | \\omega _{i} \\right |$$\n",
        "- 로지스틱 손실 함수\n",
        "  $$L=-(ylog(a)+(1-y)log(1-a))$$\n",
        "  - $\\alpha$ : 규제의 양을 조절하는 파라미터\n",
        "    $$L=-(ylog(a)+(1-y)log(1-a))+\\alpha \\sum_{i=1}^{n}\\left | \\omega _{i} \\right |$$\n",
        "    - $\\alpha$ 증가 $\\rightarrow$ $\\omega$ 값의 합 감소 $\\rightarrow$ 규제 강화\n",
        "    - $\\alpha$ 감소 $\\rightarrow$ $\\omega$ 값의 합 증가, 손실 함수 값의 증가폭 low $\\rightarrow$ 규제 약화\n"
      ]
    },
    {
      "cell_type": "markdown",
      "metadata": {
        "id": "FSPrtE3ghuoX",
        "colab_type": "text"
      },
      "source": [
        "### L1 규제의 미분\n",
        "- 경사 하강법으로 가중치를 업데이트하기 위해 L1 규제를 적용한 로지스틱 손실 함수 미분\n",
        "- 로지스틱 손실 함수 미분 (04장)\n",
        "$$\\frac{\\partial }{\\partial \\omega _{i}}L=-(y-a)x_{i}$$\n",
        "$$\\frac{\\partial }{\\partial b}L=-(y-a)1$$\n",
        "- L1 규제 미분\n",
        "  $$\\frac{\\partial }{\\partial \\omega }L=-(y-a)x+\\alpha\\times sign(\\omega )$$\n",
        "  - sign($\\omega$) : $\\omega$ 값을 미분한 결과인 $\\omega$의 부호\n",
        "  - 가중치 업데이트\n",
        "  $$\\omega =\\omega -\\eta \\frac{\\partial L}{\\partial \\omega }=\\omega +\\eta ((y-a)x-\\alpha\\times sign(\\omega ))$$\n",
        "- L1 규제를 추가한 로지스틱 손실 함수를 경사 하강법으로 최적화\n",
        "```\n",
        "w_grad += alpha * np.sign(w)\n",
        "```\n",
        "  - 절편에 대한 규제 $\\times$\n",
        "    - 절편을 규제하면 모델을 어떤 방향으로 이동시킬 뿐, 복잡도에는 영향을 주지 않는다."
      ]
    },
    {
      "cell_type": "markdown",
      "metadata": {
        "id": "bzqZPX7bXb5q",
        "colab_type": "text"
      },
      "source": [
        "- 라쏘 모델(Lasso model) : 회귀 모델에 L1 규제를 추가한 것\n",
        "  - 사이킷런 : sklearn.linear_model.Lasso 클래스\n",
        "  - SGDClassifier 클래스 : penalty 매개변수 값을 l1으로 지정\n",
        "  - 규제의 강도는 alpha 매개변수로 제어\n",
        "  - 가중치가 0인 특성 : 특성 선택 가능\n",
        "  - L1 규제는 규제 하이퍼파라미터 $\\alpha$에 의존\n",
        "    - 가중치 크기에 따른 규제의 양이 변하지 않음\n",
        "    - 규제 효과가 좋지 않음"
      ]
    },
    {
      "cell_type": "markdown",
      "metadata": {
        "id": "GXxIFmIlYsBU",
        "colab_type": "text"
      },
      "source": [
        "### L2 규제\n",
        "- 손실 함수에 가중치에 대한 L2 노름의 제곱을 더함\n",
        "$$\\left \\| \\omega  \\right \\|_{2}=\\sqrt{\\sum_{i=1}^{n}\\left | \\omega _{i} \\right |^{2}}$$\n",
        "- 로지스틱 손실 함수\n",
        "$$L=-(ylog(a)+(1-y)log(1-a))+\\frac{1}{2}\\alpha \\sum_{i=1}^{n}\\left | \\omega_{i}  \\right |^{2}$$\n",
        "\n",
        "### L2 규제의 미분\n",
        "- L2 규제 미분\n",
        "$$\\frac{\\partial }{\\partial \\omega x}L=(y-a)x+\\alpha \\times \\omega $$\n",
        "- 가중치 업데이트\n",
        "$$\\omega =\\omega -\\eta \\frac{\\partial L}{\\partial \\omega }=\\omega +\\eta ((y-a)x+\\alpha \\times \\omega )$$\n",
        "- L2 규제를 경사 하강법 알고리즘에 적용\n",
        "```\n",
        "w_grad += alpha * w\n",
        "```\n",
        "  - gradient 계산에 가중치 값 자체를 포함\n",
        "  - 가중치를 완전히 0으로 만들지 않음 $\\rightarrow$ 모델의 복잡도 증가\n"
      ]
    },
    {
      "cell_type": "markdown",
      "metadata": {
        "id": "QwqhUiCjap_8",
        "colab_type": "text"
      },
      "source": [
        "- 릿지 모델(Ridge model) : 회귀 모델에 L2 규제를 적용한 것\n",
        "  - 사이킷런 : sklearn.linear_model.Ridge 클래스\n",
        "  - SDGClassifier 클래스 : penalty 매개변수를 l2로 지정\n",
        "  - 규제의 강도는 alpha 매개변수로 제어"
      ]
    },
    {
      "cell_type": "markdown",
      "metadata": {
        "id": "mzf7NSHacFw0",
        "colab_type": "text"
      },
      "source": [
        "### L1 규제와 L2 규제 정리\n",
        "- L1 규제 : gradient에서 alpha에 가중치의 부호를 곱하여 gradient에 더한다.\n",
        "```\n",
        "w_grad += alpha * np.sign(w)\n",
        "```\n",
        "- L2 규제 : gradient에서 alpha에 가중치를 곱하여 gradient에 더한다.\n",
        "```\n",
        "w_grad += alpha * w\n",
        "```"
      ]
    },
    {
      "cell_type": "markdown",
      "metadata": {
        "id": "fJFVQBRuebQv",
        "colab_type": "text"
      },
      "source": [
        "### 로지스틱 회귀에 규제를 적용합니다.\n",
        "#### 1. 그레디언트 업데이트 수식에 페널티 항 반영하기\n",
        "  - `__init__()`메서드에 L1 규제와 L2 규제의 강도를 조절하는 매개변수 l1과 l2를 추가\n",
        "  - l1과 l2의 기본값은 0 : 규제 적용 안 함"
      ]
    },
    {
      "cell_type": "code",
      "metadata": {
        "id": "D68Fzc3QfGn2",
        "colab_type": "code",
        "colab": {}
      },
      "source": [
        "    def __init__(self, learning_rate=0.1, l1=0, l2=0):\n",
        "        self.w = None\n",
        "        self.b = None\n",
        "        self.losses = []\n",
        "        self.val_losses = []\n",
        "        self.w_history = []\n",
        "        self.l1 = l1\n",
        "        self.l2 = l2"
      ],
      "execution_count": 0,
      "outputs": []
    },
    {
      "cell_type": "markdown",
      "metadata": {
        "id": "XMkzIpX2iZ2K",
        "colab_type": "text"
      },
      "source": [
        "#### 2. `fit()` 메서드에서 역방향 계산을 수행할 때, 그레디언트에 페널티 항의 미분값을 더함\n",
        "  - L1 규제와 L2 규제 동시 수행 가능"
      ]
    },
    {
      "cell_type": "code",
      "metadata": {
        "id": "ZH6YKhvYiXE3",
        "colab_type": "code",
        "colab": {}
      },
      "source": [
        "    def fit(self, x, y, epochs=100, x_val=None, y_val=None):\n",
        "        self.w = np.ones(x.shape[1])                #가중치 초기화\n",
        "        self.b = 0                                  #절편 초기화\n",
        "        self.w_history.append(self.w.copy())        #가중치 기록\n",
        "        np.random.seed(42)                          #무작위로 시드 지정\n",
        "        for i in range(epochs):                     #에포크만큼 반복\n",
        "            loss = 0\n",
        "\n",
        "            #인덱스를 섞습니다.\n",
        "            indexes = np.random.permutation(np.arange(len(x)))\n",
        "            for i in indexes:                       #모든 샘플에 대해 반복\n",
        "                z = self.forpass(x[i])              #정방향 계산\n",
        "                a = self.activation(z)              #활성화 함수 적용\n",
        "                err = -(y[i] - a)                   #오차 계산\n",
        "                w_grad, b_grad = self.backprop(x[i], err)     #역방향 계산\n",
        "\n",
        "                #그레디언트에서 패널티 항의 미분값을 더합니다.\n",
        "                w_grad += self.l1 * np.sign(self.w) + self.l2 * self.w\n",
        "                self.w -= self.lr * w_grad          #가중치 업데이트\n",
        "                self.b -= b_grad                    #절편 업데이트\n",
        "\n",
        "                #가중치를 기록합니다.\n",
        "                self.w_history.append(self.w.copy())\n",
        "\n",
        "                #안전한 로그 계산을 위해 클리핑한 후 손실을 누적합니다.\n",
        "                a = np.clop(a, 1e-10, 1-1e-10)\n",
        "                loss += -(y[i] * np.log(a) + (1 - y[i]) * np.log(1-a))\n",
        "\n",
        "            #에포크마다 평균 손실을 저장합니다.\n",
        "            self.losses.append(loss / len(y) + self.reg_loss())\n",
        "\n",
        "            #검증 세트에 대한 손실을 계산합니다.\n",
        "            self.update_val_loss(x_val, y_val)"
      ],
      "execution_count": 0,
      "outputs": []
    },
    {
      "cell_type": "markdown",
      "metadata": {
        "id": "-9le332Fm12r",
        "colab_type": "text"
      },
      "source": [
        "#### 3. 로지스틱 손실 함수 계산에 페널티 항 추가\n",
        "  - `reg_loss()` 메서드를 추가\n",
        "    - 훈련 세트의 로지스틱 손실 함수의 값 계산\n",
        "    - 검증 세트의 로지스틱 손실 함수의 값 계산"
      ]
    },
    {
      "cell_type": "code",
      "metadata": {
        "id": "kFmJNPxRmXRu",
        "colab_type": "code",
        "colab": {}
      },
      "source": [
        "    def reg_loss(self):\n",
        "        return self.l1 * np.sum(np.abs(self.w)) + self.l2 / 2 * np.sum(self.w**2)"
      ],
      "execution_count": 0,
      "outputs": []
    },
    {
      "cell_type": "markdown",
      "metadata": {
        "id": "SZMZ9X1ippR9",
        "colab_type": "text"
      },
      "source": [
        "#### 4. 검증 세트의 손실을 계산하는 `update_val_loss()` 메서드에서 `reg_loss()`를 호출하도록 수정"
      ]
    },
    {
      "cell_type": "code",
      "metadata": {
        "id": "iE9Rc5UIqAAI",
        "colab_type": "code",
        "colab": {}
      },
      "source": [
        "    def update_val_loss(self, x_val, y_val):\n",
        "        if x_val is None:\n",
        "            return\n",
        "        val_loss = 0\n",
        "        for i in range(len(x_val)):\n",
        "            z = self.forpass(x_val[i])\n",
        "            a = self.activation(z)\n",
        "            a = np.clip(a, 1e-10, 1-1e-10)\n",
        "            val_loss += -(y_val[i]*np.log(a) + (1-y_val[i]) * np.log(1-a))\n",
        "        self.val_losses.append(val_loss/len(y_val) + self.reg_loss())"
      ],
      "execution_count": 0,
      "outputs": []
    },
    {
      "cell_type": "code",
      "metadata": {
        "id": "bH5AI1z8r6j0",
        "colab_type": "code",
        "colab": {}
      },
      "source": [
        "class SingleLayer:\n",
        "    def __init__(self, lr=0.1, l1=0, l2=0):\n",
        "        self.w = None\n",
        "        self.b = None\n",
        "        self.losses = []\n",
        "        self.val_losses = []\n",
        "        self.w_history = []\n",
        "        self.lr = lr\n",
        "        self.l1 = l1\n",
        "        self.l2 = l2\n",
        "\n",
        "    def forpass(self, x):\n",
        "        z = np.sum(x * self.w) + self.b  \n",
        "        return z\n",
        "\n",
        "    def backprop(self, x, err):\n",
        "        w_grad = x * err  \n",
        "        b_grad = 1 * err  \n",
        "        return w_grad, b_grad\n",
        "\n",
        "    def activation(self, z):\n",
        "        a = 1 / (1 + np.exp(-z))  \n",
        "        return a\n",
        "        \n",
        "    def fit(self, x, y, epochs=100, x_val=None, y_val=None):\n",
        "        self.w = np.ones(x.shape[1])                \n",
        "        self.b = 0                                 \n",
        "        self.w_history.append(self.w.copy())       \n",
        "        np.random.seed(42)                         \n",
        "        for i in range(epochs):                    \n",
        "            loss = 0\n",
        "            indexes = np.random.permutation(np.arange(len(x)))\n",
        "            for i in indexes:                      \n",
        "                z = self.forpass(x[i])           \n",
        "                a = self.activation(z)          \n",
        "                err = -(y[i] - a)                 \n",
        "                w_grad, b_grad = self.backprop(x[i], err)     \n",
        "                w_grad += self.l1 * np.sign(self.w) + self.l2 * self.w\n",
        "                self.w -= self.lr * w_grad         \n",
        "                self.b -= b_grad                   \n",
        "                self.w_history.append(self.w.copy())\n",
        "                a = np.clip(a, 1e-10, 1-1e-10)\n",
        "                loss += -(y[i] * np.log(a) + (1 - y[i]) * np.log(1-a))\n",
        "            self.losses.append(loss / len(y) + self.reg_loss())\n",
        "            self.update_val_loss(x_val, y_val)\n",
        "\n",
        "    def predict(self, x):\n",
        "        z = [self.forpass(x_i) for x_i in x]    \n",
        "        return np.array(z) > 0                  \n",
        "    \n",
        "    def score(self, x, y):\n",
        "        return np.mean(self.predict(x) == y)\n",
        "\n",
        "    def reg_loss(self):\n",
        "        return self.l1 * np.sum(np.abs(self.w)) + self.l2 / 2 * np.sum(self.w**2)\n",
        "        \n",
        "    def update_val_loss(self, x_val, y_val):\n",
        "        if x_val is None:\n",
        "            return\n",
        "        val_loss = 0\n",
        "        for i in range(len(x_val)):\n",
        "            z = self.forpass(x_val[i])\n",
        "            a = self.activation(z)\n",
        "            a = np.clip(a, 1e-10, 1-1e-10)\n",
        "            val_loss += -(y_val[i]*np.log(a) + (1-y_val[i]) * np.log(1-a))\n",
        "        self.val_losses.append(val_loss/len(y_val) + self.reg_loss())"
      ],
      "execution_count": 0,
      "outputs": []
    },
    {
      "cell_type": "markdown",
      "metadata": {
        "id": "J8tb3lK7q2lz",
        "colab_type": "text"
      },
      "source": [
        "#### 5. cancer 데이터 세트에 L1 규제 적용하기\n",
        "- L1 규제의 강도에 따른 모델의 학습 곡선과 가중치의 변화\n",
        "  - 학습 곡선 그래프 : 규제 증가 $\\rightarrow$ 훈련 세트와 검증 세트의 손실 모두 증가 (과소적합 현상)\n",
        "  - 가중치 그래프 : 규제 강도 l1 값 증가 $\\rightarrow$ 가중치 값이 0에 가까워짐\n"
      ]
    },
    {
      "cell_type": "code",
      "metadata": {
        "id": "LfMuUYG8raiX",
        "colab_type": "code",
        "outputId": "fef77a6d-3f07-47d5-b2ca-1bb74f695f09",
        "colab": {
          "base_uri": "https://localhost:8080/",
          "height": 1000
        }
      },
      "source": [
        "l1_list = [0.0001, 0.001, 0.01]\n",
        "\n",
        "for l1 in l1_list:\n",
        "    lyr = SingleLayer(l1=l1)\n",
        "    lyr.fit(x_train_scaled, y_train, x_val=x_val_scaled, y_val=y_val)\n",
        "    \n",
        "    plt.plot(lyr.losses)\n",
        "    plt.plot(lyr.val_losses)\n",
        "    plt.title('Learning Curve (l1={})'.format(l1))\n",
        "    plt.ylabel('loss')\n",
        "    plt.xlabel('epoch')\n",
        "    plt.legend(['train_loss', 'val_loss'])\n",
        "    plt.ylim(0, 0.3)\n",
        "    plt.show()\n",
        "    \n",
        "    plt.plot(lyr.w, 'bo')\n",
        "    plt.title('Weight (l1={})'.format(l1))\n",
        "    plt.ylabel('value')\n",
        "    plt.xlabel('weight')\n",
        "    plt.ylim(-4, 4)\n",
        "    plt.show()"
      ],
      "execution_count": 0,
      "outputs": [
        {
          "output_type": "display_data",
          "data": {
            "image/png": "[encoded data removed]",
            "text/plain": [
              "<Figure size 432x288 with 1 Axes>"
            ]
          },
          "metadata": {
            "tags": []
          }
        },
        {
          "output_type": "display_data",
          "data": {
            "image/png": "[encoded data removed]",
            "text/plain": [
              "<Figure size 432x288 with 1 Axes>"
            ]
          },
          "metadata": {
            "tags": []
          }
        },
        {
          "output_type": "display_data",
          "data": {
            "image/png": "[encoded data removed]",
            "text/plain": [
              "<Figure size 432x288 with 1 Axes>"
            ]
          },
          "metadata": {
            "tags": []
          }
        },
        {
          "output_type": "display_data",
          "data": {
            "image/png": "[encoded data removed]",
            "text/plain": [
              "<Figure size 432x288 with 1 Axes>"
            ]
          },
          "metadata": {
            "tags": []
          }
        },
        {
          "output_type": "display_data",
          "data": {
            "image/png": "[encoded data removed]",
            "text/plain": [
              "<Figure size 432x288 with 1 Axes>"
            ]
          },
          "metadata": {
            "tags": []
          }
        },
        {
          "output_type": "display_data",
          "data": {
            "image/png": "[encoded data removed]",
            "text/plain": [
              "<Figure size 432x288 with 1 Axes>"
            ]
          },
          "metadata": {
            "tags": []
          }
        }
      ]
    },
    {
      "cell_type": "markdown",
      "metadata": {
        "id": "Ld8uvF-sHVif",
        "colab_type": "text"
      },
      "source": [
        "- 적절한 l1 하이퍼파라미터 값 : `l1 = 0.01`"
      ]
    },
    {
      "cell_type": "code",
      "metadata": {
        "id": "TXo11unFrj0C",
        "colab_type": "code",
        "outputId": "620dda78-cd19-471b-91b7-8dc5ad4dbd04",
        "colab": {
          "base_uri": "https://localhost:8080/",
          "height": 35
        }
      },
      "source": [
        "layer5 = SingleLayer(lr=0.01)\n",
        "layer5.fit(x_train_scaled, y_train, epochs=20)\n",
        "layer5.score(x_val_scaled, y_val)"
      ],
      "execution_count": 0,
      "outputs": [
        {
          "output_type": "execute_result",
          "data": {
            "text/plain": [
              "0.978021978021978"
            ]
          },
          "metadata": {
            "tags": []
          },
          "execution_count": 48
        }
      ]
    },
    {
      "cell_type": "markdown",
      "metadata": {
        "id": "B-3I0XjbKVo7",
        "colab_type": "text"
      },
      "source": [
        "#### 6. cancer 데이터 세트에 L2 규제 적용하기\n",
        "- L2 규제도 L1 규제와 비슷한 양상을 보임\n",
        "- 규제 강도가 강해져도(l2=0.01) 과소적합이 심해지지는 않음, 가중치가 너무 0에 가깝게 가지 않음"
      ]
    },
    {
      "cell_type": "code",
      "metadata": {
        "id": "5apgbLD3JZQo",
        "colab_type": "code",
        "outputId": "3e8df49a-6978-45e2-f84a-9e21f77afc6b",
        "colab": {
          "base_uri": "https://localhost:8080/",
          "height": 1000
        }
      },
      "source": [
        "l2_list = [0.0001, 0.001, 0.01]\n",
        "\n",
        "for l2 in l2_list:\n",
        "    lyr = SingleLayer(l2=l2)\n",
        "    lyr.fit(x_train_scaled, y_train, x_val=x_val_scaled, y_val=y_val)\n",
        "    \n",
        "    plt.plot(lyr.losses)\n",
        "    plt.plot(lyr.val_losses)\n",
        "    plt.title('Learning Curve (l2={})'.format(l2))\n",
        "    plt.ylabel('loss')\n",
        "    plt.xlabel('epoch')\n",
        "    plt.legend(['train_loss', 'val_loss'])\n",
        "    plt.ylim(0, 0.3)\n",
        "    plt.show()\n",
        "    \n",
        "    plt.plot(lyr.w, 'bo')\n",
        "    plt.title('Weight (l2={})'.format(l2))\n",
        "    plt.ylabel('value')\n",
        "    plt.xlabel('weight')\n",
        "    plt.ylim(-4, 4)\n",
        "    plt.show()"
      ],
      "execution_count": 0,
      "outputs": [
        {
          "output_type": "display_data",
          "data": {
            "image/png": "[encoded data removed]",
            "text/plain": [
              "<Figure size 432x288 with 1 Axes>"
            ]
          },
          "metadata": {
            "tags": []
          }
        },
        {
          "output_type": "display_data",
          "data": {
            "image/png": "[encoded data removed]",
            "text/plain": [
              "<Figure size 432x288 with 1 Axes>"
            ]
          },
          "metadata": {
            "tags": []
          }
        },
        {
          "output_type": "display_data",
          "data": {
            "image/png": "[encoded data removed]",
            "text/plain": [
              "<Figure size 432x288 with 1 Axes>"
            ]
          },
          "metadata": {
            "tags": []
          }
        },
        {
          "output_type": "display_data",
          "data": {
            "image/png": "[encoded data removed]",
            "text/plain": [
              "<Figure size 432x288 with 1 Axes>"
            ]
          },
          "metadata": {
            "tags": []
          }
        },
        {
          "output_type": "display_data",
          "data": {
            "image/png": "[encoded data removed]",
            "text/plain": [
              "<Figure size 432x288 with 1 Axes>"
            ]
          },
          "metadata": {
            "tags": []
          }
        },
        {
          "output_type": "display_data",
          "data": {
            "image/png": "[encoded data removed]",
            "text/plain": [
              "<Figure size 432x288 with 1 Axes>"
            ]
          },
          "metadata": {
            "tags": []
          }
        }
      ]
    },
    {
      "cell_type": "markdown",
      "metadata": {
        "id": "rz4pK0VENIsy",
        "colab_type": "text"
      },
      "source": [
        "- 성능 평가 : l2=0.01, epochs=50\n",
        "  - 샘플의 갯수가 적어 L1 규제와 L2 규제에 큰 차이 없음"
      ]
    },
    {
      "cell_type": "code",
      "metadata": {
        "id": "cYSJSnp7M9zo",
        "colab_type": "code",
        "outputId": "b2f6d50a-2b70-4e31-f868-693e6a9bbded",
        "colab": {
          "base_uri": "https://localhost:8080/",
          "height": 35
        }
      },
      "source": [
        "layer6 = SingleLayer(l2=0.01)\n",
        "layer6.fit(x_train_scaled, y_train, epochs=50)\n",
        "layer6.score(x_val_scaled, y_val)"
      ],
      "execution_count": 0,
      "outputs": [
        {
          "output_type": "execute_result",
          "data": {
            "text/plain": [
              "0.978021978021978"
            ]
          },
          "metadata": {
            "tags": []
          },
          "execution_count": 40
        }
      ]
    },
    {
      "cell_type": "markdown",
      "metadata": {
        "id": "m80Hh8TzM8-Z",
        "colab_type": "text"
      },
      "source": [
        "- 옳게 예측한 샘플의 개수"
      ]
    },
    {
      "cell_type": "code",
      "metadata": {
        "id": "DCUryjiAKq6Y",
        "colab_type": "code",
        "outputId": "aa16602b-bbd2-400e-df52-f8affcd8e15b",
        "colab": {
          "base_uri": "https://localhost:8080/",
          "height": 35
        }
      },
      "source": [
        "np.sum(layer6.predict(x_val_scaled) == y_val)"
      ],
      "execution_count": 0,
      "outputs": [
        {
          "output_type": "execute_result",
          "data": {
            "text/plain": [
              "89"
            ]
          },
          "metadata": {
            "tags": []
          },
          "execution_count": 41
        }
      ]
    },
    {
      "cell_type": "markdown",
      "metadata": {
        "id": "E4BOihCPO5Yx",
        "colab_type": "text"
      },
      "source": [
        "#### 7. SGDClassifier에서 규제 사용하기\n",
        "- penalty 매개변수에 l1이나 l2를 매개변수 값으로 전달\n",
        "- alpha 매개변수에 규제의 강도 지정\n",
        "- cancer 데이터 세트를 사용, SGDClassifier 모델에 L2 규제 적용"
      ]
    },
    {
      "cell_type": "code",
      "metadata": {
        "id": "0jXYw-heNd3T",
        "colab_type": "code",
        "outputId": "dbf27166-182e-4310-8754-182f608438d5",
        "colab": {
          "base_uri": "https://localhost:8080/",
          "height": 35
        }
      },
      "source": [
        "from sklearn.linear_model import SGDClassifier\n",
        "\n",
        "sgd = SGDClassifier(loss='log', penalty='l2', alpha=0.001, random_state=42)\n",
        "sgd.fit(x_train_scaled, y_train)\n",
        "sgd.score(x_val_scaled, y_val)"
      ],
      "execution_count": 0,
      "outputs": [
        {
          "output_type": "execute_result",
          "data": {
            "text/plain": [
              "0.978021978021978"
            ]
          },
          "metadata": {
            "tags": []
          },
          "execution_count": 42
        }
      ]
    },
    {
      "cell_type": "markdown",
      "metadata": {
        "id": "u0zYllJISmy2",
        "colab_type": "text"
      },
      "source": [
        "## 05-4 교차 검증을 알아보고 사이킷런으로 수행해 봅니다.\n",
        "- 모델을 훈련시킬 데이터가 부족한 경우, 교차 검증(cross validation) 이용"
      ]
    },
    {
      "cell_type": "markdown",
      "metadata": {
        "id": "7q6Z7z7dS7og",
        "colab_type": "text"
      },
      "source": [
        "### 교차 검증의 원리를 알아봅시다.\n",
        "- 폴드(fold) : 훈련 세트를 나눈 작은 덩어리\n",
        "\n",
        "![폴드](https://user-images.githubusercontent.com/52767505/68755399-c7a4c680-064b-11ea-8b96-5c9f44ef4ad7.PNG)\n",
        "  - 교차검증\n",
        "    - 전체 데이터 세트 8:2\n",
        "    - 8에 해당하는 훈련 세트 / 5\n",
        "    - 작은 덩어리를 1번씩 검증에 사용, 나머지 덩어리를 훈련에 사용\n",
        "- 교차 검증 과정\n",
        "     1. 훈련 세트를 k개의 폴드로 나눕니다. : k-폴드 교차 검증\n",
        "     2. 첫 번째 폴드를 검증 세트로 사용하고 나머지 폴드(k-1개)를 훈련 세트로 사용합니다.\n",
        "     3. 모델을 훈련한 다음에 검증 세트로 평가합니다.\n",
        "     4. 차례대로 다음 폴드를 검증 세트로 사용하여 반복합니다.\n",
        "     5. k개의 검증 세트로 k번 성능을 평가한 후 계산된 성능의 평균을 내어 최종 성능을 계산합니다.\n",
        "\n",
        "- k-폴드 교차 검증\n",
        "  - 모든 훈련 세트가 평가에 1번씩 사용 $\\rightarrow$ 검증 점수가 안정적\n",
        "  - 기존의 훈련 방법보다 더 많은 데이터로 훈련 가능\n",
        "      - ex) k=10 : 10개의 폴드, 90% 샘플을 훈련에 사용\n",
        "      - 기존) 훈련 : 검증 : 데이터 = 6 : 2 : 2 $\\rightarrow$ 60% 샘플을 훈련에 사용"
      ]
    },
    {
      "cell_type": "markdown",
      "metadata": {
        "id": "GWlmpOwhVhUX",
        "colab_type": "text"
      },
      "source": [
        "### k-폴드 교차 검증을 구현합니다.\n",
        "#### 1. 훈련 세트 사용하기\n",
        "- 기존\n",
        "  - 전체 데이터 세트 $\\rightarrow$ 훈련 세트 : 테스트 세트 = 8 : 2\n",
        "  - 훈련 세트 $\\rightarrow$ 훈련 세트 : 검증 세트 = 8 : 2\n",
        "- k-폴드 교차 검증 : 검증 세트가 훈련 세트에 포함\n",
        "  - x_train_all와 y_train_all를 훈련과 검증에 사용\n",
        "  - validation_scores 리스트 정의, 각 폴드의 검증 점수 저장\n",
        "  - validation_scores 리스트의 값 평균으로 최종 검증 점수 계산"
      ]
    },
    {
      "cell_type": "code",
      "metadata": {
        "id": "VbXK8OmHPpuF",
        "colab_type": "code",
        "colab": {}
      },
      "source": [
        "validation_scores = []"
      ],
      "execution_count": 0,
      "outputs": []
    },
    {
      "cell_type": "markdown",
      "metadata": {
        "id": "stati4TNXUKD",
        "colab_type": "text"
      },
      "source": [
        "#### 2. k-폴드 교차 검증 구현하기\n",
        "- k-폴드 교차 검증을 위한 반복문 구현\n",
        "  - k = 10\n",
        "  - bins 변수 : 한 폴드에 들어갈 샘플의 개수\n",
        "    - 전체 훈련 세트의 샘플 개수를 k로 나눈 것\n",
        "  - bins 변수의 개수만큼 건너뛰며 검증 폴드와 훈련 폴드를 구분하여 모델 훈련\n",
        "  - 성능 평가의 평균 점수 np.mean(validation_scores"
      ]
    },
    {
      "cell_type": "code",
      "metadata": {
        "id": "AKWiwZZeX60A",
        "colab_type": "code",
        "outputId": "2b7c659b-df11-4f73-a6ad-68adef304b26",
        "colab": {
          "base_uri": "https://localhost:8080/",
          "height": 35
        }
      },
      "source": [
        "k = 10\n",
        "bins = len(x_train_all) // k\n",
        "\n",
        "for i in range(k):\n",
        "    start = i*bins\n",
        "    end = (i+1)*bins\n",
        "    val_fold = x_train_all[start:end]\n",
        "    val_target = y_train_all[start:end]\n",
        "    \n",
        "    train_index = list(range(0, start))+list(range(end, len(x_train)))\n",
        "    train_fold = x_train_all[train_index]\n",
        "    train_target = y_train_all[train_index]\n",
        "    \n",
        "    train_mean = np.mean(train_fold, axis=0)\n",
        "    train_std = np.std(train_fold, axis=0)\n",
        "    train_fold_scaled = (train_fold - train_mean) / train_std\n",
        "    val_fold_scaled = (val_fold - train_mean) / train_std\n",
        "    \n",
        "    lyr = SingleLayer(l2=0.01)\n",
        "    lyr.fit(train_fold_scaled, train_target, epochs=50)\n",
        "    score = lyr.score(val_fold_scaled, val_target)\n",
        "    validation_scores.append(score)\n",
        "\n",
        "print(np.mean(validation_scores))"
      ],
      "execution_count": 0,
      "outputs": [
        {
          "output_type": "stream",
          "text": [
            "0.9711111111111113\n"
          ],
          "name": "stdout"
        }
      ]
    },
    {
      "cell_type": "markdown",
      "metadata": {
        "id": "XGUtqkGDYD2G",
        "colab_type": "text"
      },
      "source": [
        "- start, end : 검증 폴드 샘플의 시작과 끝 인덱스\n",
        "- 그 외 : 훈련 폴드 샘플의 인덱스\n",
        "  - train_index에 list( ) 함수를 이용하여 훈련 폴드의 인덱스 저장\n",
        "\n",
        "  ![폴드_인덱스](https://user-images.githubusercontent.com/52767505/68757601-8b736500-064f-11ea-8673-0095582f0af0.PNG)\n",
        "- 훈련 데이터의 표준화 전처리 : 폴드를 나눈 뒤 수행\n",
        "  - 폴드를 나누기 전 수행 : 검증 폴드의 정보 누설\n",
        "- validation_scores 리스트 : 반복문은 진행하며 10개의 검증 폴드로 측정한 성능 점수는 저장\n",
        "- np.mean( ) 함수 : 성능 점수들의 평균 계산"
      ]
    },
    {
      "cell_type": "markdown",
      "metadata": {
        "id": "yR3y_z6da6rn",
        "colab_type": "text"
      },
      "source": [
        "### 사이킷런으로 교차 검증을 합니다.\n",
        "#### 1. cross_validate( ) 함수로 교차 검증 점수 계산하기\n",
        "- 매개변수 값 : 교차 검증 모델의 객체와 훈련 데이터, 타깃 데이터\n",
        "- cv 매개변수 : 교차 검증을 수행할 폴드 수 지정\n"
      ]
    },
    {
      "cell_type": "code",
      "metadata": {
        "id": "SL_4wNg3cTcY",
        "colab_type": "code",
        "outputId": "28408e06-875b-4b5e-ee95-a5169073e423",
        "colab": {
          "base_uri": "https://localhost:8080/",
          "height": 35
        }
      },
      "source": [
        "from sklearn.model_selection import cross_validate\n",
        "\n",
        "sgd = SGDClassifier(loss='log', penalty='l2', alpha=0.001, random_state=42)\n",
        "scores = cross_validate(sgd, x_train_all, y_train_all, cv=10)\n",
        "print(np.mean(scores['test_score']))"
      ],
      "execution_count": 0,
      "outputs": [
        {
          "output_type": "stream",
          "text": [
            "0.850096618357488\n"
          ],
          "name": "stdout"
        }
      ]
    },
    {
      "cell_type": "markdown",
      "metadata": {
        "id": "pOrYW2PIcVlO",
        "colab_type": "text"
      },
      "source": [
        "- cross_validate( ) 함수 : 파이썬 딕셔너리 반환\n",
        "- scores['test_score'] : 검증 점수 저장\n",
        "- 교차 검증의 평균 점수 = 85%\n",
        "  - 낮은 점수\n",
        "  - 표준화 전처리 수행 $\\times$"
      ]
    },
    {
      "cell_type": "markdown",
      "metadata": {
        "id": "Pk7mS5YNdI9Z",
        "colab_type": "text"
      },
      "source": [
        "### 전처리 단계를 포함해 교차 검증을 수행합니다.\n",
        "- 훈련 세트 전체를 전처리한 후 cross_validate( ) 함수에 매개변수 값으로 전달 $\\rightarrow$ 검증 폴드가 표준화 전처리 단계에서 누설\n",
        "\n",
        "#### Pipeline 클래스를 사용해서 교차 검증 수행하기\n",
        "- Pipeline 클래스 : 검증 폴드가 전처리 단계에서 누설되지 않도록 전처리 단계와 모델 클래스를 하나로 연결해 주는 클래스\n",
        "- Pipeline 클래스와 SGDClassifier 클래스의 작동 과정\n",
        "  1. 표준화 전처리 단계와 SGDClassifier 클래스 객체를 Pipeline 클래스로 감싸 cross_validate( ) 함수에 전달\n",
        "  2. cross_validate( ) 함수가 훈련 세트를 훈련 폴드와 검증 폴드로 나눔\n",
        "  3. Pipeline 클래스 객체에서 전처리 단계와 SGDClassifier 클래스 객체의 수행\n",
        "- 파이프라인 객체 생성 : 사이킷런에서 제공하는 make_pipeline( ) 함수에 전처리 단계와 모델 객체 전달\n",
        "- 표준화 전처리 수행 : preprocessing 모듈 밑 StandardScaler 클래스\n",
        "- 파이프라인 객체 생성 후, 교차 검증 점수 출력\n",
        "  - 평균 검증 점수 증가\n",
        "    - 표준화 전처리 단계가 훈련 폴드와 검증 폴드에 적절히 적용"
      ]
    },
    {
      "cell_type": "code",
      "metadata": {
        "id": "k2gw1Z7Egl5L",
        "colab_type": "code",
        "outputId": "f0017922-88db-4067-864d-d3e0371cd445",
        "colab": {
          "base_uri": "https://localhost:8080/",
          "height": 35
        }
      },
      "source": [
        "from sklearn.pipeline import make_pipeline\n",
        "from sklearn.preprocessing import StandardScaler\n",
        "\n",
        "pipe = make_pipeline(StandardScaler(), sgd)\n",
        "scores = cross_validate(pipe, x_train_all, y_train_all, cv=10, return_train_score=True)\n",
        "print(np.mean(scores['test_score']))"
      ],
      "execution_count": 0,
      "outputs": [
        {
          "output_type": "stream",
          "text": [
            "0.9694202898550724\n"
          ],
          "name": "stdout"
        }
      ]
    },
    {
      "cell_type": "markdown",
      "metadata": {
        "id": "gPgT70Iigqif",
        "colab_type": "text"
      },
      "source": [
        "- 훈련 폴드의 점수 출력\n",
        "  - cross_validate( ) 함수에 return_train_score 매개변수를 True로 설정"
      ]
    },
    {
      "cell_type": "code",
      "metadata": {
        "id": "zH64ZiM0go0l",
        "colab_type": "code",
        "outputId": "d4ddbc51-b9be-4621-beaa-5b3675daea7f",
        "colab": {
          "base_uri": "https://localhost:8080/",
          "height": 35
        }
      },
      "source": [
        "print(np.mean(scores['train_score']))"
      ],
      "execution_count": 0,
      "outputs": [
        {
          "output_type": "stream",
          "text": [
            "0.9875478561631581\n"
          ],
          "name": "stdout"
        }
      ]
    }
  ]
}
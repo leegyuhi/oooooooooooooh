{
  "nbformat": 4,
  "nbformat_minor": 0,
  "metadata": {
    "colab": {
      "name": "10/17 homework.ipynb",
      "provenance": [],
      "collapsed_sections": [],
      "include_colab_link": true
    },
    "kernelspec": {
      "name": "python3",
      "display_name": "Python 3"
    }
  },
  "cells": [
    {
      "cell_type": "markdown",
      "metadata": {
        "id": "view-in-github",
        "colab_type": "text"
      },
      "source": [
        "<a href=\"https://colab.research.google.com/github/leegyuhi/oooooooooooooh/blob/master/10_17_homework.ipynb\" target=\"_parent\"><img src=\"https://colab.research.google.com/assets/colab-badge.svg\" alt=\"Open In Colab\"/></a>"
      ]
    },
    {
      "cell_type": "code",
      "metadata": {
        "id": "Vo8duBEVLTHb",
        "colab_type": "code",
        "outputId": "28804734-a775-4281-f6c3-ee105c7b5e5e",
        "colab": {
          "base_uri": "https://localhost:8080/",
          "height": 172
        }
      },
      "source": [
        "a=bin(0.1); a"
      ],
      "execution_count": 0,
      "outputs": [
        {
          "output_type": "error",
          "ename": "TypeError",
          "evalue": "ignored",
          "traceback": [
            "\u001b[0;31m---------------------------------------------------------------------------\u001b[0m",
            "\u001b[0;31mTypeError\u001b[0m                                 Traceback (most recent call last)",
            "\u001b[0;32m<ipython-input-1-e6f56e8dcc3b>\u001b[0m in \u001b[0;36m<module>\u001b[0;34m()\u001b[0m\n\u001b[0;32m----> 1\u001b[0;31m \u001b[0ma\u001b[0m\u001b[0;34m=\u001b[0m\u001b[0mbin\u001b[0m\u001b[0;34m(\u001b[0m\u001b[0;36m0.1\u001b[0m\u001b[0;34m)\u001b[0m\u001b[0;34m;\u001b[0m \u001b[0ma\u001b[0m\u001b[0;34m\u001b[0m\u001b[0;34m\u001b[0m\u001b[0m\n\u001b[0m",
            "\u001b[0;31mTypeError\u001b[0m: 'float' object cannot be interpreted as an integer"
          ]
        }
      ]
    },
    {
      "cell_type": "markdown",
      "metadata": {
        "id": "ybxSqufUs2zq",
        "colab_type": "text"
      },
      "source": [
        "python 함수 bin()을 이용해 0.1을 이진수로 표현하려 했으나 TypeError로 실패했다."
      ]
    },
    {
      "cell_type": "markdown",
      "metadata": {
        "id": "n2NDmcbJpSep",
        "colab_type": "text"
      },
      "source": [
        "실수의 소수부분을 이진수로 바꾸는 법은 다음과 같다.\n",
        "\n",
        "> 10진수 소수부분이 1이 될때까지 2를 곱한다.\n",
        ">\n",
        "> 여기서 2를 곱했을 시 1미만이면 0을, 1초과면 1를 사용한다.\n",
        ">\n",
        "> (1을 초과하는 경우, 소수점 윗부분 1를 지우고 다시 소수점에 2를 곱한다.)\n",
        ">\n",
        "> 1이 나오지 않는 무한 반복이 되는 수도 존재한다.\n",
        "\n",
        "예를 들어, 9.6875를 이진수로 바꿔보자.\n",
        "\n",
        "먼저 진수부분 9를 이진수로 나타내면 1001이다.\n",
        "\n",
        "소수부분 0.6875을 이진수로 나타내어 보자.\n",
        "\n",
        "$$0.6875*2=1.3750 \\:\\rightarrow 1$$\n",
        "\n",
        "$$0.3750*2=0.750 \\:\\:\\:\\rightarrow 0$$\n",
        "\n",
        "$$0.750*2=1.5 \\:\\:\\:\\:\\:\\:\\:\\:\\:\\rightarrow 1$$\n",
        "\n",
        "$$0.5*2=1 \\:\\:\\:\\:\\:\\:\\:\\:\\:\\:\\:\\:\\:\\:\\:\\:\\rightarrow 1$$\n",
        "\n",
        "따라서 9.6875를 이진수로 변환한 값은 1001.1011이다.\n",
        "\n"
      ]
    },
    {
      "cell_type": "markdown",
      "metadata": {
        "id": "6mxBN5hNs3-g",
        "colab_type": "text"
      },
      "source": [
        "이제 0.1을 이진수로 바꿔보자.\n",
        "\n",
        "$$0.1*2=0.2 \\:\\rightarrow 0$$\n",
        "\n",
        "$$0.2*2=0.4 \\:\\rightarrow 0$$\n",
        "\n",
        "$$0.4*2=0.8 \\:\\rightarrow 0$$\n",
        "\n",
        "$$0.8*2=1.6 \\:\\rightarrow 1$$\n",
        "\n",
        "$$0.6*2=1.2 \\:\\rightarrow 1$$\n",
        "\n",
        "$$0.2*2=0.4 \\:\\rightarrow 0$$\n",
        "\n",
        "위와같이 '00011'이 반복되는 구조임을 알 수 있다.\n",
        "\n",
        "따라서 0.1을 이진수로 변환한 값은 0.000110001100011...이다.\n"
      ]
    }
  ]
}
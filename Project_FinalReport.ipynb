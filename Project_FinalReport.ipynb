{
  "nbformat": 4,
  "nbformat_minor": 0,
  "metadata": {
    "colab": {
      "name": "Project_FinalReport.ipynb",
      "provenance": [],
      "include_colab_link": true
    },
    "kernelspec": {
      "name": "python3",
      "display_name": "Python 3"
    }
  },
  "cells": [
    {
      "cell_type": "markdown",
      "metadata": {
        "id": "view-in-github",
        "colab_type": "text"
      },
      "source": [
        "<a href=\"https://colab.research.google.com/github/leegyuhi/oooooooooooooh/blob/master/Project_FinalReport.ipynb\" target=\"_parent\"><img src=\"https://colab.research.google.com/assets/colab-badge.svg\" alt=\"Open In Colab\"/></a>"
      ]
    },
    {
      "cell_type": "code",
      "metadata": {
        "id": "jL9YUjCC_11x",
        "colab_type": "code",
        "outputId": "fb76f865-c85c-4480-80df-b64d4a1ab010",
        "colab": {
          "base_uri": "https://localhost:8080/",
          "height": 199
        }
      },
      "source": [
        "import sys\n",
        "import os\n",
        "import requests\n",
        "import subprocess\n",
        "import shutil\n",
        "from logging import getLogger, StreamHandler, INFO\n",
        "\n",
        "\n",
        "logger = getLogger(__name__)\n",
        "logger.addHandler(StreamHandler())\n",
        "logger.setLevel(INFO)\n",
        "\n",
        "\n",
        "def install(\n",
        "        chunk_size=4096,\n",
        "        file_name=\"Miniconda3-latest-Linux-x86_64.sh\",\n",
        "        url_base=\"https://repo.continuum.io/miniconda/\",\n",
        "        conda_path=os.path.expanduser(os.path.join(\"~\", \"miniconda\")),\n",
        "        rdkit_version=None,\n",
        "        add_python_path=True,\n",
        "        force=False):\n",
        "    \"\"\"install rdkit from miniconda\n",
        "    ```\n",
        "    import rdkit_installer\n",
        "    rdkit_installer.install()\n",
        "    ```\n",
        "    \"\"\"\n",
        "\n",
        "    python_path = os.path.join(\n",
        "        conda_path,\n",
        "        \"lib\",\n",
        "        \"python{0}.{1}\".format(*sys.version_info),\n",
        "        \"site-packages\",\n",
        "    )\n",
        "\n",
        "    if add_python_path and python_path not in sys.path:\n",
        "        logger.info(\"add {} to PYTHONPATH\".format(python_path))\n",
        "        sys.path.append(python_path)\n",
        "\n",
        "    if os.path.isdir(os.path.join(python_path, \"rdkit\")):\n",
        "        logger.info(\"rdkit is already installed\")\n",
        "        if not force:\n",
        "            return\n",
        "\n",
        "        logger.info(\"force re-install\")\n",
        "\n",
        "    url = url_base + file_name\n",
        "    python_version = \"{0}.{1}.{2}\".format(*sys.version_info)\n",
        "\n",
        "    logger.info(\"python version: {}\".format(python_version))\n",
        "\n",
        "    if os.path.isdir(conda_path):\n",
        "        logger.warning(\"remove current miniconda\")\n",
        "        shutil.rmtree(conda_path)\n",
        "    elif os.path.isfile(conda_path):\n",
        "        logger.warning(\"remove {}\".format(conda_path))\n",
        "        os.remove(conda_path)\n",
        "\n",
        "    logger.info('fetching installer from {}'.format(url))\n",
        "    res = requests.get(url, stream=True)\n",
        "    res.raise_for_status()\n",
        "    with open(file_name, 'wb') as f:\n",
        "        for chunk in res.iter_content(chunk_size):\n",
        "            f.write(chunk)\n",
        "    logger.info('done')\n",
        "\n",
        "    logger.info('installing miniconda to {}'.format(conda_path))\n",
        "    subprocess.check_call([\"bash\", file_name, \"-b\", \"-p\", conda_path])\n",
        "    logger.info('done')\n",
        "\n",
        "    logger.info(\"installing rdkit\")\n",
        "    subprocess.check_call([\n",
        "        os.path.join(conda_path, \"bin\", \"conda\"),\n",
        "        \"install\",\n",
        "        \"--yes\",\n",
        "        \"-c\", \"rdkit\",\n",
        "        \"python=={}\".format(python_version),\n",
        "        \"rdkit\" if rdkit_version is None else \"rdkit=={}\".format(rdkit_version)])\n",
        "    logger.info(\"done\")\n",
        "\n",
        "    import rdkit\n",
        "    logger.info(\"rdkit-{} installation finished!\".format(rdkit.__version__))\n",
        "\n",
        "\n",
        "if __name__ == \"__main__\":\n",
        "    install()"
      ],
      "execution_count": 0,
      "outputs": [
        {
          "output_type": "stream",
          "text": [
            "add /root/miniconda/lib/python3.6/site-packages to PYTHONPATH\n",
            "python version: 3.6.9\n",
            "fetching installer from https://repo.continuum.io/miniconda/Miniconda3-latest-Linux-x86_64.sh\n",
            "done\n",
            "installing miniconda to /root/miniconda\n",
            "done\n",
            "installing rdkit\n",
            "done\n",
            "rdkit-2017.09.1 installation finished!\n"
          ],
          "name": "stderr"
        }
      ]
    },
    {
      "cell_type": "code",
      "metadata": {
        "id": "9WcT_Cc3Jh_y",
        "colab_type": "code",
        "colab": {}
      },
      "source": [
        "#RDkit 적용\n",
        "from __future__ import print_function\n",
        "from rdkit import Chem\n",
        "from rdkit.Chem import AllChem\n",
        "from rdkit.Chem.Draw import IPythonConsole\n",
        "from rdkit.Chem import Draw"
      ],
      "execution_count": 0,
      "outputs": []
    },
    {
      "cell_type": "markdown",
      "metadata": {
        "id": "GouPk2u-KrM4",
        "colab_type": "text"
      },
      "source": [
        "##ⅠSMILES-A Simplified Chemical Language\n",
        "SMILES(Simplified Moledcular Input Line Entry System)\n",
        "<br> 분자와 반응을 입력하고 나타내는 줄 표기법입니다.\n",
        "SMILES는 컴퓨터 데이터 구조가 아니라 언어 구조이기 때문에 유용하게 쓰입니다. 구조에 대한 SMILES 표현은 많은 화학 정보를 포함하고 있습니다. 각 분자는 고유한 SMILES가 존재함으로 인하여 이것으로 인해 이 분자의 모양을 알 수 있습니다. 또한 SMILES를 이용하면 같은 구조를 나타내는데에 필요한 용량이 적습니다.\n",
        "###SMILES의 예시\n",
        "\n",
        "\n",
        "\n",
        "\n"
      ]
    },
    {
      "cell_type": "code",
      "metadata": {
        "id": "71auulHyyt--",
        "colab_type": "code",
        "outputId": "b8125ce9-4574-42ad-e238-54b7e79dbd8e",
        "colab": {
          "base_uri": "https://localhost:8080/",
          "height": 167
        }
      },
      "source": [
        "Chem.MolFromSmiles('CC') #ethane"
      ],
      "execution_count": 0,
      "outputs": [
        {
          "output_type": "execute_result",
          "data": {
            "image/png": "[encoded data removed]",
            "text/plain": [
              "<rdkit.Chem.rdchem.Mol at 0x7f2204d55cb0>"
            ]
          },
          "metadata": {
            "tags": []
          },
          "execution_count": 7
        }
      ]
    },
    {
      "cell_type": "code",
      "metadata": {
        "id": "41D5F64s01pP",
        "colab_type": "code",
        "outputId": "d52ce406-570f-4733-c3f7-88688d287ab1",
        "colab": {
          "base_uri": "https://localhost:8080/",
          "height": 167
        }
      },
      "source": [
        "Chem.MolFromSmiles('O=C=O') #carbon dioxide"
      ],
      "execution_count": 0,
      "outputs": [
        {
          "output_type": "execute_result",
          "data": {
            "image/png": "[encoded data removed]",
            "text/plain": [
              "<rdkit.Chem.rdchem.Mol at 0x7f2203405530>"
            ]
          },
          "metadata": {
            "tags": []
          },
          "execution_count": 8
        }
      ]
    },
    {
      "cell_type": "code",
      "metadata": {
        "id": "feIvpU5A0_nd",
        "colab_type": "code",
        "outputId": "c0b05972-475c-4c8e-cc60-f9fc72031e00",
        "colab": {
          "base_uri": "https://localhost:8080/",
          "height": 167
        }
      },
      "source": [
        "Chem.MolFromSmiles('[OH3+]') #hydronium ion"
      ],
      "execution_count": 0,
      "outputs": [
        {
          "output_type": "execute_result",
          "data": {
            "image/png": "[encoded data removed]",
            "text/plain": [
              "<rdkit.Chem.rdchem.Mol at 0x7f220340fc10>"
            ]
          },
          "metadata": {
            "tags": []
          },
          "execution_count": 10
        }
      ]
    },
    {
      "cell_type": "code",
      "metadata": {
        "id": "-3ySZVS91FxX",
        "colab_type": "code",
        "outputId": "eb78cb5e-bab5-422c-b662-e45c1fff3e35",
        "colab": {
          "base_uri": "https://localhost:8080/",
          "height": 167
        }
      },
      "source": [
        "Chem.MolFromSmiles('[235U]') #uranium-235"
      ],
      "execution_count": 0,
      "outputs": [
        {
          "output_type": "execute_result",
          "data": {
            "image/png": "[encoded data removed]",
            "text/plain": [
              "<rdkit.Chem.rdchem.Mol at 0x7f2203418490>"
            ]
          },
          "metadata": {
            "tags": []
          },
          "execution_count": 12
        }
      ]
    },
    {
      "cell_type": "code",
      "metadata": {
        "id": "TSqf-QGX1N2f",
        "colab_type": "code",
        "outputId": "c6c10fd9-55c8-47a9-f04d-e9c98593172c",
        "colab": {
          "base_uri": "https://localhost:8080/",
          "height": 167
        }
      },
      "source": [
        "AllChem.ReactionFromSmarts('(C(=O)O).(OCC)>>(C(=O)OCC).(O)')"
      ],
      "execution_count": 0,
      "outputs": [
        {
          "output_type": "execute_result",
          "data": {
            "image/png": "[encoded data removed]",
            "text/plain": [
              "<rdkit.Chem.rdChemReactions.ChemicalReaction at 0x7f2203418670>"
            ]
          },
          "metadata": {
            "tags": []
          },
          "execution_count": 15
        }
      ]
    },
    {
      "cell_type": "markdown",
      "metadata": {
        "id": "YLHrGf7cykwq",
        "colab_type": "text"
      },
      "source": [
        "###SMILES를 사용하는 예시\n",
        "\n",
        "\n",
        "1.   데이터베이스 액세스를 위한 키\n",
        "2.   연구원들이 화학 정보를 교환하는 메커니즘\n",
        "3.   화학 데이터 입력 시스템\n",
        "4.   인공 지능 또는 화학 전문가 시스템 언어의 일부 \n"
      ]
    },
    {
      "cell_type": "markdown",
      "metadata": {
        "id": "jPWdfpbvR7KX",
        "colab_type": "text"
      },
      "source": [
        "##Canoncalization(정규화)\n",
        "  SMILES는 분자 구조를 선 2차원 그림으로써 분자 구조를 나타냅니다. 카이랄 또는 동위 원소 정보는 없이 원자 및 결합만 나타내는 SMILES를 generic SMILES이라고 하고 하나의 특수한 일반 SMILES를 생성하기 위한 표준화 알고리즘을 Unique SMILES, 동위 원소 및 카이랄을 나타내는 SMILES를 isomeric SMILES라고 합니다. Unique isomeric SMILES를 absolute SMILES라고 합니다.\n"
      ]
    },
    {
      "cell_type": "code",
      "metadata": {
        "id": "176EJmeV1qyE",
        "colab_type": "code",
        "outputId": "e10d714d-181f-4526-d16f-7a52fe69ddbb",
        "colab": {
          "base_uri": "https://localhost:8080/",
          "height": 167
        }
      },
      "source": [
        "Chem.MolFromSmiles('OCC')"
      ],
      "execution_count": 0,
      "outputs": [
        {
          "output_type": "execute_result",
          "data": {
            "image/png": "[encoded data removed]",
            "text/plain": [
              "<rdkit.Chem.rdchem.Mol at 0x7f220339c210>"
            ]
          },
          "metadata": {
            "tags": []
          },
          "execution_count": 16
        }
      ]
    },
    {
      "cell_type": "code",
      "metadata": {
        "id": "r8EZuv511wfZ",
        "colab_type": "code",
        "outputId": "39341866-1085-4d07-c44f-9d3fdaac1947",
        "colab": {
          "base_uri": "https://localhost:8080/",
          "height": 167
        }
      },
      "source": [
        "Chem.MolFromSmiles('[CH3][CH2][OH]')"
      ],
      "execution_count": 0,
      "outputs": [
        {
          "output_type": "execute_result",
          "data": {
            "image/png": "[encoded data removed]",
            "text/plain": [
              "<rdkit.Chem.rdchem.Mol at 0x7f220339c440>"
            ]
          },
          "metadata": {
            "tags": []
          },
          "execution_count": 17
        }
      ]
    },
    {
      "cell_type": "code",
      "metadata": {
        "id": "iPNwH7oG104l",
        "colab_type": "code",
        "outputId": "550337c3-7f42-40e0-f689-02fe26e600d6",
        "colab": {
          "base_uri": "https://localhost:8080/",
          "height": 167
        }
      },
      "source": [
        "Chem.MolFromSmiles('OC(=O)C(Br)(Cl)N')"
      ],
      "execution_count": 0,
      "outputs": [
        {
          "output_type": "execute_result",
          "data": {
            "image/png": "[encoded data removed]",
            "text/plain": [
              "<rdkit.Chem.rdchem.Mol at 0x7f220339c120>"
            ]
          },
          "metadata": {
            "tags": []
          },
          "execution_count": 18
        }
      ]
    },
    {
      "cell_type": "code",
      "metadata": {
        "id": "j-n3Xx7d15wm",
        "colab_type": "code",
        "outputId": "dd8437b7-611a-4cd2-e9df-27c1686055d6",
        "colab": {
          "base_uri": "https://localhost:8080/",
          "height": 167
        }
      },
      "source": [
        "Chem.MolFromSmiles('O=C(O)C(N)(Br)Cl')"
      ],
      "execution_count": 0,
      "outputs": [
        {
          "output_type": "execute_result",
          "data": {
            "image/png": "[encoded data removed]",
            "text/plain": [
              "<rdkit.Chem.rdchem.Mol at 0x7f220339c5d0>"
            ]
          },
          "metadata": {
            "tags": []
          },
          "execution_count": 20
        }
      ]
    },
    {
      "cell_type": "markdown",
      "metadata": {
        "id": "NUug9ZNY3ix-",
        "colab_type": "text"
      },
      "source": [
        "다른 SMILES를 입력하였으나 나타내는 분자구조는 같습니다."
      ]
    },
    {
      "cell_type": "markdown",
      "metadata": {
        "id": "B0MRZDFf3NJ6",
        "colab_type": "text"
      },
      "source": [
        "### Unique SMILES 확인하는 방법"
      ]
    },
    {
      "cell_type": "code",
      "metadata": {
        "id": "84FXd_VA2KQQ",
        "colab_type": "code",
        "outputId": "643046ae-2fe4-426c-a6a4-95e1f1dd96cb",
        "colab": {
          "base_uri": "https://localhost:8080/",
          "height": 35
        }
      },
      "source": [
        "Chem.MolToSmiles(Chem.MolFromSmiles('OCC'))"
      ],
      "execution_count": 0,
      "outputs": [
        {
          "output_type": "execute_result",
          "data": {
            "text/plain": [
              "'CCO'"
            ]
          },
          "metadata": {
            "tags": []
          },
          "execution_count": 21
        }
      ]
    },
    {
      "cell_type": "code",
      "metadata": {
        "id": "zRMwWXC-3Rfm",
        "colab_type": "code",
        "outputId": "4e846e6b-a5b5-420f-daef-6c1d099e4909",
        "colab": {
          "base_uri": "https://localhost:8080/",
          "height": 35
        }
      },
      "source": [
        "Chem.MolToSmiles(Chem.MolFromSmiles('[CH3][CH2][OH]'))"
      ],
      "execution_count": 0,
      "outputs": [
        {
          "output_type": "execute_result",
          "data": {
            "text/plain": [
              "'CCO'"
            ]
          },
          "metadata": {
            "tags": []
          },
          "execution_count": 22
        }
      ]
    },
    {
      "cell_type": "code",
      "metadata": {
        "id": "tSn2EtAT3YdE",
        "colab_type": "code",
        "outputId": "607a2af0-bb85-4164-ff91-5648caf3915c",
        "colab": {
          "base_uri": "https://localhost:8080/",
          "height": 35
        }
      },
      "source": [
        "Chem.MolToSmiles(Chem.MolFromSmiles('OC(=O)C(Br)(Cl)N'))"
      ],
      "execution_count": 0,
      "outputs": [
        {
          "output_type": "execute_result",
          "data": {
            "text/plain": [
              "'NC(Cl)(Br)C(=O)O'"
            ]
          },
          "metadata": {
            "tags": []
          },
          "execution_count": 24
        }
      ]
    },
    {
      "cell_type": "code",
      "metadata": {
        "id": "-C7NgD063VoI",
        "colab_type": "code",
        "outputId": "c3c0577a-e065-470f-c68f-276c003ed77a",
        "colab": {
          "base_uri": "https://localhost:8080/",
          "height": 35
        }
      },
      "source": [
        "Chem.MolToSmiles(Chem.MolFromSmiles('O=C(O)C(N)(Br)Cl'))"
      ],
      "execution_count": 0,
      "outputs": [
        {
          "output_type": "execute_result",
          "data": {
            "text/plain": [
              "'NC(Cl)(Br)C(=O)O'"
            ]
          },
          "metadata": {
            "tags": []
          },
          "execution_count": 23
        }
      ]
    },
    {
      "cell_type": "markdown",
      "metadata": {
        "id": "gsr3uhM-Y6bA",
        "colab_type": "text"
      },
      "source": [
        "##2 SMILES Specification Rules(SMILES 명시 규칙)\n",
        "\n",
        "SMILES 표기법은 공백이 없는 일련의 문자로 구성되고 수소 원자는 생략되거나 포함 될 수 있습니다. 방향족 구조는 직접  또는 Kekule 방식으로 나타낼 수 있습니다. SMILES 인코딩 규칙에는 일반적으로 원자, 결합, 가지, 고리 닫힘, 단절 다섯 가지가 있습니다.\n",
        "\n",
        "\n"
      ]
    },
    {
      "cell_type": "markdown",
      "metadata": {
        "id": "bfaRbQ_TbB9M",
        "colab_type": "text"
      },
      "source": [
        "###2.1 Atom(원자)\n",
        "\n",
        "원자는 원자 기호로 표시되어지고 SMILES에서 유일하게 필요한 문자 사용입니다. 수소가 아닌 원자는 []로 묶인 원자 기호로 독립적으로 나타낼 수 있습니다. organic subset인 B,C,N,O,P,S,F,Cl,Br,I 는 부착된 수소의 수가 최저 원자가를 따르는 경우 괄호 없이 나타낼 수 있습니다. 여기서 최저 원자가는 B(3),C(4),N(3,5),O(2),P(3,5),S(2,4,6),할로젠 원소(1)으로 나타내어 지는 것을 말합니다. 지방족 탄소는 대문자 C로 나타내어지고 방향족 탄소는 소문자 c로 나타냅니다.\n",
        "\n"
      ]
    },
    {
      "cell_type": "markdown",
      "metadata": {
        "id": "bidhhdr73zGU",
        "colab_type": "text"
      },
      "source": [
        "ex)괄호없이 쓸 수 있는 SMILES\n"
      ]
    },
    {
      "cell_type": "code",
      "metadata": {
        "id": "TAWuK5C230CG",
        "colab_type": "code",
        "outputId": "a168c165-ae92-464f-f51a-255dad6590ed",
        "colab": {
          "base_uri": "https://localhost:8080/",
          "height": 167
        }
      },
      "source": [
        "Chem.MolFromSmiles('C')#methane"
      ],
      "execution_count": 0,
      "outputs": [
        {
          "output_type": "execute_result",
          "data": {
            "image/png": "[encoded data removed]",
            "text/plain": [
              "<rdkit.Chem.rdchem.Mol at 0x7f220339cc60>"
            ]
          },
          "metadata": {
            "tags": []
          },
          "execution_count": 25
        }
      ]
    },
    {
      "cell_type": "code",
      "metadata": {
        "id": "gFEnKBQj48dm",
        "colab_type": "code",
        "outputId": "80767d97-d2e5-456a-a612-1e2cc1ceae59",
        "colab": {
          "base_uri": "https://localhost:8080/",
          "height": 167
        }
      },
      "source": [
        "Chem.MolFromSmiles('P')#phosphine"
      ],
      "execution_count": 0,
      "outputs": [
        {
          "output_type": "execute_result",
          "data": {
            "image/png": "[encoded data removed]",
            "text/plain": [
              "<rdkit.Chem.rdchem.Mol at 0x7f220339ce90>"
            ]
          },
          "metadata": {
            "tags": []
          },
          "execution_count": 26
        }
      ]
    },
    {
      "cell_type": "code",
      "metadata": {
        "id": "RM0SuAFb4_iU",
        "colab_type": "code",
        "outputId": "6546a61b-e75a-4abe-a644-a88bf97aaa59",
        "colab": {
          "base_uri": "https://localhost:8080/",
          "height": 167
        }
      },
      "source": [
        "Chem.MolFromSmiles('N')#ammonia"
      ],
      "execution_count": 0,
      "outputs": [
        {
          "output_type": "execute_result",
          "data": {
            "image/png": "[encoded data removed]",
            "text/plain": [
              "<rdkit.Chem.rdchem.Mol at 0x7f22033a2080>"
            ]
          },
          "metadata": {
            "tags": []
          },
          "execution_count": 27
        }
      ]
    },
    {
      "cell_type": "code",
      "metadata": {
        "id": "dT5dRdSb5CHY",
        "colab_type": "code",
        "outputId": "9e6f4546-3f0e-4ec8-9e75-b7ded752fd0c",
        "colab": {
          "base_uri": "https://localhost:8080/",
          "height": 167
        }
      },
      "source": [
        "Chem.MolFromSmiles('S')#hydrogen sulfide"
      ],
      "execution_count": 0,
      "outputs": [
        {
          "output_type": "execute_result",
          "data": {
            "image/png": "[encoded data removed]",
            "text/plain": [
              "<rdkit.Chem.rdchem.Mol at 0x7f22033a2210>"
            ]
          },
          "metadata": {
            "tags": []
          },
          "execution_count": 28
        }
      ]
    },
    {
      "cell_type": "code",
      "metadata": {
        "id": "DTmgB-jZ5Di1",
        "colab_type": "code",
        "outputId": "2036b4bf-5a13-44db-c079-fcce68f35be8",
        "colab": {
          "base_uri": "https://localhost:8080/",
          "height": 167
        }
      },
      "source": [
        "Chem.MolFromSmiles('O')#water"
      ],
      "execution_count": 0,
      "outputs": [
        {
          "output_type": "execute_result",
          "data": {
            "image/png": "[encoded data removed]",
            "text/plain": [
              "<rdkit.Chem.rdchem.Mol at 0x7f22033a2350>"
            ]
          },
          "metadata": {
            "tags": []
          },
          "execution_count": 29
        }
      ]
    },
    {
      "cell_type": "code",
      "metadata": {
        "id": "upcW98wZ5Fb0",
        "colab_type": "code",
        "outputId": "5f1e0be0-d4bb-46c7-ebb3-e5c1bda42c36",
        "colab": {
          "base_uri": "https://localhost:8080/",
          "height": 167
        }
      },
      "source": [
        "Chem.MolFromSmiles('Cl')#hydrochloric acid"
      ],
      "execution_count": 0,
      "outputs": [
        {
          "output_type": "execute_result",
          "data": {
            "image/png": "[encoded data removed]",
            "text/plain": [
              "<rdkit.Chem.rdchem.Mol at 0x7f22033a25d0>"
            ]
          },
          "metadata": {
            "tags": []
          },
          "execution_count": 30
        }
      ]
    },
    {
      "cell_type": "markdown",
      "metadata": {
        "id": "5tudJu_m30dB",
        "colab_type": "text"
      },
      "source": [
        "ex)괄호가 있어야 쓸 수 있는 SMILES"
      ]
    },
    {
      "cell_type": "code",
      "metadata": {
        "id": "ygxSHXXF35MO",
        "colab_type": "code",
        "outputId": "eccf021c-66e0-4bf2-a804-beff80f44d6d",
        "colab": {
          "base_uri": "https://localhost:8080/",
          "height": 167
        }
      },
      "source": [
        "Chem.MolFromSmiles('[S]')#elemental sulfur"
      ],
      "execution_count": 0,
      "outputs": [
        {
          "output_type": "execute_result",
          "data": {
            "image/png": "[encoded data removed]",
            "text/plain": [
              "<rdkit.Chem.rdchem.Mol at 0x7f22033a2580>"
            ]
          },
          "metadata": {
            "tags": []
          },
          "execution_count": 31
        }
      ]
    },
    {
      "cell_type": "code",
      "metadata": {
        "id": "AQ5lPDq85e8L",
        "colab_type": "code",
        "outputId": "16a2779e-7af1-4f5e-8827-02126dff8e3b",
        "colab": {
          "base_uri": "https://localhost:8080/",
          "height": 167
        }
      },
      "source": [
        "Chem.MolFromSmiles('[Au]')#elemental gold"
      ],
      "execution_count": 0,
      "outputs": [
        {
          "output_type": "execute_result",
          "data": {
            "image/png": "[encoded data removed]",
            "text/plain": [
              "<rdkit.Chem.rdchem.Mol at 0x7f22033a2850>"
            ]
          },
          "metadata": {
            "tags": []
          },
          "execution_count": 32
        }
      ]
    },
    {
      "cell_type": "code",
      "metadata": {
        "id": "IaxFSsDl5ktr",
        "colab_type": "code",
        "outputId": "c855de32-e764-4df6-e7cf-9f4dcb742ae8",
        "colab": {
          "base_uri": "https://localhost:8080/",
          "height": 35
        }
      },
      "source": [
        "Chem.MolFromSmiles('Au')"
      ],
      "execution_count": 0,
      "outputs": [
        {
          "output_type": "stream",
          "text": [
            "RDKit ERROR: [11:37:36] SMILES Parse Error: syntax error for input: 'Au'\n"
          ],
          "name": "stderr"
        }
      ]
    },
    {
      "cell_type": "markdown",
      "metadata": {
        "id": "QaKwhAoB5nA7",
        "colab_type": "text"
      },
      "source": [
        "이런식으로 []를 사용하지 않으면 오류가 나온다"
      ]
    },
    {
      "cell_type": "code",
      "metadata": {
        "id": "tG8KX1Zg5p-J",
        "colab_type": "code",
        "outputId": "ef10772c-6f44-4514-dbec-096f313d113b",
        "colab": {
          "base_uri": "https://localhost:8080/",
          "height": 167
        }
      },
      "source": [
        "Chem.MolFromSmiles('[H]')#Hydrogen Atom"
      ],
      "execution_count": 0,
      "outputs": [
        {
          "output_type": "execute_result",
          "data": {
            "image/png": "[encoded data removed]",
            "text/plain": [
              "<rdkit.Chem.rdchem.Mol at 0x7f22033a29e0>"
            ]
          },
          "metadata": {
            "tags": []
          },
          "execution_count": 35
        }
      ]
    },
    {
      "cell_type": "code",
      "metadata": {
        "id": "WV0a74gg5vhL",
        "colab_type": "code",
        "outputId": "d161953c-d831-4798-a2c0-8931bca7ce6a",
        "colab": {
          "base_uri": "https://localhost:8080/",
          "height": 167
        }
      },
      "source": [
        "Chem.MolFromSmiles('[C]')#elemental carbon(Graphite)"
      ],
      "execution_count": 0,
      "outputs": [
        {
          "output_type": "execute_result",
          "data": {
            "image/png": "[encoded data removed]",
            "text/plain": [
              "<rdkit.Chem.rdchem.Mol at 0x7f22033a2da0>"
            ]
          },
          "metadata": {
            "tags": []
          },
          "execution_count": 36
        }
      ]
    },
    {
      "cell_type": "markdown",
      "metadata": {
        "id": "q_ZLljog35mT",
        "colab_type": "text"
      },
      "source": [
        "괄호안에서 부착 된 수소와 전하는 항상 지정되어야합니다. 부착 된 수소의 수는 기호 H와 선택적 숫자로 표시가 되고 전하는 +또는 - 기호 중 한나와 숫자로 표시되어집니다. 지정되지 않은 경우 전하는 0으로 가정되어지고 숫자를 이용하지 않고 +나 -를 그 수만큼 사용하여 나타내어도 됩니다. ex) [Fe++]=[Fe+2]\n",
        "\n",
        "ex)SMILES로 나타낸 전하\n"
      ]
    },
    {
      "cell_type": "code",
      "metadata": {
        "id": "4x6twbLb520V",
        "colab_type": "code",
        "outputId": "403d79c1-ec4d-4677-beeb-f2adba6279e1",
        "colab": {
          "base_uri": "https://localhost:8080/",
          "height": 167
        }
      },
      "source": [
        "Chem.MolFromSmiles('[Fe++]')#iron(ll)cation"
      ],
      "execution_count": 0,
      "outputs": [
        {
          "output_type": "execute_result",
          "data": {
            "image/png": "[encoded data removed]",
            "text/plain": [
              "<rdkit.Chem.rdchem.Mol at 0x7f22033a2b20>"
            ]
          },
          "metadata": {
            "tags": []
          },
          "execution_count": 37
        }
      ]
    },
    {
      "cell_type": "code",
      "metadata": {
        "id": "bsTT3xNW6CnR",
        "colab_type": "code",
        "outputId": "2b02d240-ac3a-47a8-ee55-065aad6f0e09",
        "colab": {
          "base_uri": "https://localhost:8080/",
          "height": 167
        }
      },
      "source": [
        "Chem.MolFromSmiles('[Fe+2]')#iron(ll)cation"
      ],
      "execution_count": 0,
      "outputs": [
        {
          "output_type": "execute_result",
          "data": {
            "image/png": "[encoded data removed]",
            "text/plain": [
              "<rdkit.Chem.rdchem.Mol at 0x7f22033a2e90>"
            ]
          },
          "metadata": {
            "tags": []
          },
          "execution_count": 38
        }
      ]
    },
    {
      "cell_type": "code",
      "metadata": {
        "id": "TZuriyyI6EVr",
        "colab_type": "code",
        "outputId": "ea057a47-13f4-4d99-b665-27d8434ebac7",
        "colab": {
          "base_uri": "https://localhost:8080/",
          "height": 167
        }
      },
      "source": [
        "Chem.MolFromSmiles('[OH-]')#hydroxyl anion"
      ],
      "execution_count": 0,
      "outputs": [
        {
          "output_type": "execute_result",
          "data": {
            "image/png": "[encoded data removed]",
            "text/plain": [
              "<rdkit.Chem.rdchem.Mol at 0x7f22033a4260>"
            ]
          },
          "metadata": {
            "tags": []
          },
          "execution_count": 40
        }
      ]
    },
    {
      "cell_type": "code",
      "metadata": {
        "id": "efkaug8R6Yes",
        "colab_type": "code",
        "outputId": "54ce50c8-a5e9-42e1-e662-d8f0dd66eec6",
        "colab": {
          "base_uri": "https://localhost:8080/",
          "height": 167
        }
      },
      "source": [
        "Chem.MolFromSmiles('[H+]')#proton"
      ],
      "execution_count": 0,
      "outputs": [
        {
          "output_type": "execute_result",
          "data": {
            "image/png": "[encoded data removed]",
            "text/plain": [
              "<rdkit.Chem.rdchem.Mol at 0x7f22033a41c0>"
            ]
          },
          "metadata": {
            "tags": []
          },
          "execution_count": 41
        }
      ]
    },
    {
      "cell_type": "code",
      "metadata": {
        "id": "X-5McFHp6dMA",
        "colab_type": "code",
        "outputId": "4cc9d7d4-652e-4ca1-d3b7-29c8dc2d236a",
        "colab": {
          "base_uri": "https://localhost:8080/",
          "height": 167
        }
      },
      "source": [
        "Chem.MolFromSmiles('[OH3+]')#hydronium cation"
      ],
      "execution_count": 0,
      "outputs": [
        {
          "output_type": "execute_result",
          "data": {
            "image/png": "[encoded data removed]",
            "text/plain": [
              "<rdkit.Chem.rdchem.Mol at 0x7f22033a4490>"
            ]
          },
          "metadata": {
            "tags": []
          },
          "execution_count": 42
        }
      ]
    },
    {
      "cell_type": "code",
      "metadata": {
        "id": "TFiUK4sW6jkL",
        "colab_type": "code",
        "outputId": "11d7186f-7d79-4f48-83a7-2ddc74b91536",
        "colab": {
          "base_uri": "https://localhost:8080/",
          "height": 167
        }
      },
      "source": [
        "Chem.MolFromSmiles('[NH4+]')#\tammonium cation"
      ],
      "execution_count": 0,
      "outputs": [
        {
          "output_type": "execute_result",
          "data": {
            "image/png": "[encoded data removed]",
            "text/plain": [
              "<rdkit.Chem.rdchem.Mol at 0x7f22033a46c0>"
            ]
          },
          "metadata": {
            "tags": []
          },
          "execution_count": 43
        }
      ]
    },
    {
      "cell_type": "markdown",
      "metadata": {
        "id": "Jd8f2Q8DeY2N",
        "colab_type": "text"
      },
      "source": [
        "###2.2 Bonds(결합)\n",
        "단일, 이중, 삼중 및 방향족 결합은 각각 -,=,# 및 : 으로 표시됩니다. 인접 원자는 단일 또는 방향족 결합에 의해 서로 연결되어 있는 것으로 가정됩니다. 단일 및 방향족 결합은 항상 생략 될 수 있습니다.\n",
        "\n",
        "ex) 결합을 나타내는 SMILES\n"
      ]
    },
    {
      "cell_type": "code",
      "metadata": {
        "id": "GQxoCgKm39G0",
        "colab_type": "code",
        "outputId": "6fc0a6e0-3919-4242-8d9c-8c3e6d9c4773",
        "colab": {
          "base_uri": "https://localhost:8080/",
          "height": 167
        }
      },
      "source": [
        "Chem.MolFromSmiles('CC')#ethane"
      ],
      "execution_count": 0,
      "outputs": [
        {
          "output_type": "execute_result",
          "data": {
            "image/png": "[encoded data removed]",
            "text/plain": [
              "<rdkit.Chem.rdchem.Mol at 0x7f22033a4580>"
            ]
          },
          "metadata": {
            "tags": []
          },
          "execution_count": 44
        }
      ]
    },
    {
      "cell_type": "code",
      "metadata": {
        "id": "ermtM1247KFz",
        "colab_type": "code",
        "outputId": "5c2fb5f1-96d7-4aca-90b8-054afe8caaa8",
        "colab": {
          "base_uri": "https://localhost:8080/",
          "height": 167
        }
      },
      "source": [
        "Chem.MolFromSmiles('C-C')#ethane"
      ],
      "execution_count": 0,
      "outputs": [
        {
          "output_type": "execute_result",
          "data": {
            "image/png": "[encoded data removed]",
            "text/plain": [
              "<rdkit.Chem.rdchem.Mol at 0x7f22033a4760>"
            ]
          },
          "metadata": {
            "tags": []
          },
          "execution_count": 45
        }
      ]
    },
    {
      "cell_type": "code",
      "metadata": {
        "id": "VNBeUrqX7L7f",
        "colab_type": "code",
        "outputId": "815353d2-4648-4129-926e-1caf3cce61c5",
        "colab": {
          "base_uri": "https://localhost:8080/",
          "height": 167
        }
      },
      "source": [
        "Chem.MolFromSmiles('C=O')#formaldehyde"
      ],
      "execution_count": 0,
      "outputs": [
        {
          "output_type": "execute_result",
          "data": {
            "image/png": "[encoded data removed]",
            "text/plain": [
              "<rdkit.Chem.rdchem.Mol at 0x7f22033a4b20>"
            ]
          },
          "metadata": {
            "tags": []
          },
          "execution_count": 46
        }
      ]
    },
    {
      "cell_type": "code",
      "metadata": {
        "id": "69Gu07ew7Qta",
        "colab_type": "code",
        "outputId": "8e081570-e882-4de8-92d3-5842be92914a",
        "colab": {
          "base_uri": "https://localhost:8080/",
          "height": 167
        }
      },
      "source": [
        "Chem.MolFromSmiles('O=C=O')#carbon dioxide"
      ],
      "execution_count": 0,
      "outputs": [
        {
          "output_type": "execute_result",
          "data": {
            "image/png": "[encoded data removed]",
            "text/plain": [
              "<rdkit.Chem.rdchem.Mol at 0x7f22033a4710>"
            ]
          },
          "metadata": {
            "tags": []
          },
          "execution_count": 47
        }
      ]
    },
    {
      "cell_type": "code",
      "metadata": {
        "id": "Dyt8_iY27WrJ",
        "colab_type": "code",
        "outputId": "337c8639-4271-487a-d1cf-22b29454cddc",
        "colab": {
          "base_uri": "https://localhost:8080/",
          "height": 167
        }
      },
      "source": [
        "Chem.MolFromSmiles('COC')#\tdimethyl ether"
      ],
      "execution_count": 0,
      "outputs": [
        {
          "output_type": "execute_result",
          "data": {
            "image/png": "[encoded data removed]",
            "text/plain": [
              "<rdkit.Chem.rdchem.Mol at 0x7f22033a4990>"
            ]
          },
          "metadata": {
            "tags": []
          },
          "execution_count": 48
        }
      ]
    },
    {
      "cell_type": "code",
      "metadata": {
        "id": "Wioz6c5Q7b_6",
        "colab_type": "code",
        "outputId": "c1ee2ce6-9fd6-406f-9ad8-3bd6309941a0",
        "colab": {
          "base_uri": "https://localhost:8080/",
          "height": 167
        }
      },
      "source": [
        "Chem.MolFromSmiles('C#N')#hydrogen cyanide"
      ],
      "execution_count": 0,
      "outputs": [
        {
          "output_type": "execute_result",
          "data": {
            "image/png": "[encoded data removed]",
            "text/plain": [
              "<rdkit.Chem.rdchem.Mol at 0x7f22033a4d00>"
            ]
          },
          "metadata": {
            "tags": []
          },
          "execution_count": 49
        }
      ]
    },
    {
      "cell_type": "code",
      "metadata": {
        "id": "YU5__otq7hpS",
        "colab_type": "code",
        "outputId": "582b400e-5dfd-46c6-911f-2c726de35fa0",
        "colab": {
          "base_uri": "https://localhost:8080/",
          "height": 167
        }
      },
      "source": [
        "Chem.MolFromSmiles('[H][H]')#molecular hydrogen\n"
      ],
      "execution_count": 0,
      "outputs": [
        {
          "output_type": "execute_result",
          "data": {
            "image/png": "[encoded data removed]",
            "text/plain": [
              "<rdkit.Chem.rdchem.Mol at 0x7f22033a4f30>"
            ]
          },
          "metadata": {
            "tags": []
          },
          "execution_count": 50
        }
      ]
    },
    {
      "cell_type": "markdown",
      "metadata": {
        "id": "QR1jDFyXlWSk",
        "colab_type": "text"
      },
      "source": [
        "선형 구조의 경우, SMILES 표기법은 수소 및 단일 결합이 일반적으로 생략된다는 점을 제외하고는 일반적인 표기법에 해당됩니다. ex) 6-hydroxy-1,4-hexadiene은 여러가지의 SMILES로 나타낼 수 있습니다."
      ]
    },
    {
      "cell_type": "code",
      "metadata": {
        "id": "0CX1-EH08LqI",
        "colab_type": "code",
        "outputId": "77aff0d7-3111-4aaf-c1dc-b7b3a0d59818",
        "colab": {
          "base_uri": "https://localhost:8080/",
          "height": 167
        }
      },
      "source": [
        "Chem.MolFromSmiles('C=C-C-C=C-C-O')"
      ],
      "execution_count": 0,
      "outputs": [
        {
          "output_type": "execute_result",
          "data": {
            "image/png": "[encoded data removed]",
            "text/plain": [
              "<rdkit.Chem.rdchem.Mol at 0x7f22033a5170>"
            ]
          },
          "metadata": {
            "tags": []
          },
          "execution_count": 52
        }
      ]
    },
    {
      "cell_type": "code",
      "metadata": {
        "id": "K_4lCtke8S-E",
        "colab_type": "code",
        "outputId": "95eeda27-9b45-4fe8-d25a-df6eee43de70",
        "colab": {
          "base_uri": "https://localhost:8080/",
          "height": 167
        }
      },
      "source": [
        "Chem.MolFromSmiles('C=CCC=CCO')"
      ],
      "execution_count": 0,
      "outputs": [
        {
          "output_type": "execute_result",
          "data": {
            "image/png": "[encoded data removed]",
            "text/plain": [
              "<rdkit.Chem.rdchem.Mol at 0x7f22033a5300>"
            ]
          },
          "metadata": {
            "tags": []
          },
          "execution_count": 53
        }
      ]
    },
    {
      "cell_type": "code",
      "metadata": {
        "id": "2vQf2nOZ8XTB",
        "colab_type": "code",
        "outputId": "c0e4f9ee-2a65-4512-a4c7-2975d082fd6b",
        "colab": {
          "base_uri": "https://localhost:8080/",
          "height": 167
        }
      },
      "source": [
        "Chem.MolFromSmiles('OCC=CCC=C')"
      ],
      "execution_count": 0,
      "outputs": [
        {
          "output_type": "execute_result",
          "data": {
            "image/png": "[encoded data removed]",
            "text/plain": [
              "<rdkit.Chem.rdchem.Mol at 0x7f22033a5760>"
            ]
          },
          "metadata": {
            "tags": []
          },
          "execution_count": 55
        }
      ]
    },
    {
      "cell_type": "markdown",
      "metadata": {
        "id": "a69xYswunOEU",
        "colab_type": "text"
      },
      "source": [
        "###2.3 Branch(가지)\n",
        "\n",
        "가지는 소괄호로 묶어 지정되고 중첩되거나 쌓일 수 있습니다. 소괄호로 묶은 식에 대한 연결은 왼쪽에 있는 원자상에 있습니다.\n"
      ]
    },
    {
      "cell_type": "code",
      "metadata": {
        "id": "rhD7K43M8mbL",
        "colab_type": "code",
        "outputId": "87acc89e-7317-4f51-b1dc-6578c497c204",
        "colab": {
          "base_uri": "https://localhost:8080/",
          "height": 167
        }
      },
      "source": [
        "Chem.MolFromSmiles('CCN(CC)CC')#Triethylamine"
      ],
      "execution_count": 0,
      "outputs": [
        {
          "output_type": "execute_result",
          "data": {
            "image/png": "[encoded data removed]",
            "text/plain": [
              "<rdkit.Chem.rdchem.Mol at 0x7f22033a58f0>"
            ]
          },
          "metadata": {
            "tags": []
          },
          "execution_count": 56
        }
      ]
    },
    {
      "cell_type": "code",
      "metadata": {
        "id": "a5TOuovK8p_0",
        "colab_type": "code",
        "outputId": "2f603851-5ecf-4f89-f332-dec6d49100e1",
        "colab": {
          "base_uri": "https://localhost:8080/",
          "height": 167
        }
      },
      "source": [
        "Chem.MolFromSmiles('CC(C)C(=O)O')#Isobutyric acid"
      ],
      "execution_count": 0,
      "outputs": [
        {
          "output_type": "execute_result",
          "data": {
            "image/png": "[encoded data removed]",
            "text/plain": [
              "<rdkit.Chem.rdchem.Mol at 0x7f22033a53f0>"
            ]
          },
          "metadata": {
            "tags": []
          },
          "execution_count": 57
        }
      ]
    },
    {
      "cell_type": "code",
      "metadata": {
        "id": "qCnPlRNk8uV0",
        "colab_type": "code",
        "outputId": "9d210033-405f-4921-9469-4d38d08336e4",
        "colab": {
          "base_uri": "https://localhost:8080/",
          "height": 167
        }
      },
      "source": [
        "Chem.MolFromSmiles('C=CC(CCC)C(C(C)C)CCC')#3-propyl-4-isopropyl-1-heptene(가지속의 가지 표현가능)"
      ],
      "execution_count": 0,
      "outputs": [
        {
          "output_type": "execute_result",
          "data": {
            "image/png": "[encoded data removed]",
            "text/plain": [
              "<rdkit.Chem.rdchem.Mol at 0x7f22033a5b20>"
            ]
          },
          "metadata": {
            "tags": []
          },
          "execution_count": 58
        }
      ]
    },
    {
      "cell_type": "markdown",
      "metadata": {
        "id": "va7ybSeSo11K",
        "colab_type": "text"
      },
      "source": [
        "### 2.4 Cyclic Structures(순환 구조)\n",
        "고리 구조는 각 고리에서 하나의 결합을 끊는 것으로 표현되어집니다. 고리 폐쇄를 원자 기호 바로 다음에 숫자를 넣어주는것으로 고리 개방을 나타내어 줍니다. \n",
        "\n",
        "ex)Cyclohexane\n",
        "\n",
        "![Cyclohexane](http://www.daylight.com/dayhtml/doc/theory/theory4.gif)\n",
        "\n"
      ]
    },
    {
      "cell_type": "code",
      "metadata": {
        "id": "2QtXcw1D8-wr",
        "colab_type": "code",
        "outputId": "8ee0cc41-9666-4c4a-db8c-e48e890fbb71",
        "colab": {
          "base_uri": "https://localhost:8080/",
          "height": 167
        }
      },
      "source": [
        "Chem.MolFromSmiles('c1ccccc1')#Cyclohexane"
      ],
      "execution_count": 0,
      "outputs": [
        {
          "output_type": "execute_result",
          "data": {
            "image/png": "[encoded data removed]",
            "text/plain": [
              "<rdkit.Chem.rdchem.Mol at 0x7f22033a5d50>"
            ]
          },
          "metadata": {
            "tags": []
          },
          "execution_count": 59
        }
      ]
    },
    {
      "cell_type": "markdown",
      "metadata": {
        "id": "AZHCJ4pIq82c",
        "colab_type": "text"
      },
      "source": [
        "단일 원자는 둘 이상의 고리 폐쇄를 가질 수 있습니다.\n",
        "\n",
        "ex)cubane\n",
        "\n",
        "![Atom with 2ring](http://www.daylight.com/dayhtml/doc/theory/theory6.gif) <br><br>\n"
      ]
    },
    {
      "cell_type": "code",
      "metadata": {
        "id": "asCh-4aJ-RY5",
        "colab_type": "code",
        "outputId": "eaf94633-f023-41ce-c171-18217bf00092",
        "colab": {
          "base_uri": "https://localhost:8080/",
          "height": 167
        }
      },
      "source": [
        "Chem.MolFromSmiles('c12c3c4c1c5c4c3c25')#Cubane"
      ],
      "execution_count": 0,
      "outputs": [
        {
          "output_type": "execute_result",
          "data": {
            "image/png": "[encoded data removed]",
            "text/plain": [
              "<rdkit.Chem.rdchem.Mol at 0x7f22033ac210>"
            ]
          },
          "metadata": {
            "tags": []
          },
          "execution_count": 69
        }
      ]
    },
    {
      "cell_type": "markdown",
      "metadata": {
        "id": "KzDNoF3E-hWg",
        "colab_type": "text"
      },
      "source": [
        "필요한 경우, 고리 닫힘을 나타내는 숫자를 재사용 할 수 있습니다. \n",
        "\n",
        "![reuse#](http://www.daylight.com/dayhtml/doc/theory/theory7.gif)\n",
        "<br><br>\n",
        "O1CCCCC1N1CCCCC1"
      ]
    },
    {
      "cell_type": "code",
      "metadata": {
        "id": "XFYVa7zr-iI6",
        "colab_type": "code",
        "outputId": "9da56451-7c91-4c7b-a009-50f2008e5e80",
        "colab": {
          "base_uri": "https://localhost:8080/",
          "height": 167
        }
      },
      "source": [
        "Chem.MolFromSmiles('O1CCCCC1N1CCCCC1')"
      ],
      "execution_count": 0,
      "outputs": [
        {
          "output_type": "execute_result",
          "data": {
            "image/png": "[encoded data removed]",
            "text/plain": [
              "<rdkit.Chem.rdchem.Mol at 0x7f22033ac8f0>"
            ]
          },
          "metadata": {
            "tags": []
          },
          "execution_count": 70
        }
      ]
    },
    {
      "cell_type": "code",
      "metadata": {
        "id": "W2vPttUoA9Zv",
        "colab_type": "code",
        "outputId": "ba854908-273b-4446-e927-33a1684a2e10",
        "colab": {
          "base_uri": "https://localhost:8080/",
          "height": 167
        }
      },
      "source": [
        "Chem.MolFromSmiles('C12CCCCC1CCCC2')#Decalin"
      ],
      "execution_count": 0,
      "outputs": [
        {
          "output_type": "execute_result",
          "data": {
            "image/png": "[encoded data removed]",
            "text/plain": [
              "<rdkit.Chem.rdchem.Mol at 0x7f22033acad0>"
            ]
          },
          "metadata": {
            "tags": []
          },
          "execution_count": 73
        }
      ]
    },
    {
      "cell_type": "code",
      "metadata": {
        "id": "v7UZxcn8BFvk",
        "colab_type": "code",
        "outputId": "00938edf-8ace-4509-f4a5-be6e5cf1eefa",
        "colab": {
          "base_uri": "https://localhost:8080/",
          "height": 167
        }
      },
      "source": [
        "Chem.MolFromSmiles('C1CCCCC1C1CCCCC1')#Bicyclohexane"
      ],
      "execution_count": 0,
      "outputs": [
        {
          "output_type": "execute_result",
          "data": {
            "image/png": "[encoded data removed]",
            "text/plain": [
              "<rdkit.Chem.rdchem.Mol at 0x7f22033acb20>"
            ]
          },
          "metadata": {
            "tags": []
          },
          "execution_count": 74
        }
      ]
    },
    {
      "cell_type": "code",
      "metadata": {
        "id": "QZqS2RzGBK-q",
        "colab_type": "code",
        "outputId": "385a4497-11b0-4d83-85a8-5319a80fc232",
        "colab": {
          "base_uri": "https://localhost:8080/",
          "height": 167
        }
      },
      "source": [
        "Chem.MolFromSmiles('C1=CCCCC1')#Cyclohexene"
      ],
      "execution_count": 0,
      "outputs": [
        {
          "output_type": "execute_result",
          "data": {
            "image/png": "[encoded data removed]",
            "text/plain": [
              "<rdkit.Chem.rdchem.Mol at 0x7f22033ad030>"
            ]
          },
          "metadata": {
            "tags": []
          },
          "execution_count": 75
        }
      ]
    },
    {
      "cell_type": "markdown",
      "metadata": {
        "id": "F89tDbRVt1Nm",
        "colab_type": "text"
      },
      "source": [
        "###2.5 Disconnected Structures(분리된 구조)\n",
        "분리된 화합물은 \".\"을 이용하여 구분 된 개별 구조로 작성됩니다. 이온 또는 리간드(ligand)가 나열되는 순서는 임의적입니다. 한 전하와 다른 전하가 연결되어 있지 않으며 또한 전하를 가지고 있지 않아도 됩니다. 하나의 이온 SMILES는 다른 이온 내에 매립 될 수 있습니다. \n"
      ]
    },
    {
      "cell_type": "code",
      "metadata": {
        "id": "DynATFbABX2k",
        "colab_type": "code",
        "outputId": "bd6c5b9f-c4bc-454c-b829-d04b7affc01b",
        "colab": {
          "base_uri": "https://localhost:8080/",
          "height": 167
        }
      },
      "source": [
        "Chem.MolFromSmiles('c1cc([O-].[Na+])ccc1')#sodium phenoxide"
      ],
      "execution_count": 0,
      "outputs": [
        {
          "output_type": "execute_result",
          "data": {
            "image/png": "[encoded data removed]",
            "text/plain": [
              "<rdkit.Chem.rdchem.Mol at 0x7f22033ad0d0>"
            ]
          },
          "metadata": {
            "tags": []
          },
          "execution_count": 76
        }
      ]
    },
    {
      "cell_type": "code",
      "metadata": {
        "id": "YQeqZDfDB4GA",
        "colab_type": "code",
        "outputId": "0a6c11f2-c0ea-45a0-d313-1f18ebaffb04",
        "colab": {
          "base_uri": "https://localhost:8080/",
          "height": 167
        }
      },
      "source": [
        "Chem.MolFromSmiles('CCO.O')#Ethanol and Water"
      ],
      "execution_count": 0,
      "outputs": [
        {
          "output_type": "execute_result",
          "data": {
            "image/png": "[encoded data removed]",
            "text/plain": [
              "<rdkit.Chem.rdchem.Mol at 0x7f22033ad2b0>"
            ]
          },
          "metadata": {
            "tags": []
          },
          "execution_count": 77
        }
      ]
    },
    {
      "cell_type": "code",
      "metadata": {
        "id": "ddyzjjoRB9l8",
        "colab_type": "code",
        "outputId": "bbe2c561-5207-49d4-c4ad-998aedf7ed92",
        "colab": {
          "base_uri": "https://localhost:8080/",
          "height": 167
        }
      },
      "source": [
        "Chem.MolFromSmiles('[Na+].[Cl-]')#Sodium Chloride"
      ],
      "execution_count": 0,
      "outputs": [
        {
          "output_type": "execute_result",
          "data": {
            "image/png": "[encoded data removed]",
            "text/plain": [
              "<rdkit.Chem.rdchem.Mol at 0x7f22033ad3a0>"
            ]
          },
          "metadata": {
            "tags": []
          },
          "execution_count": 78
        }
      ]
    },
    {
      "cell_type": "markdown",
      "metadata": {
        "id": "klaIk8Xowe1k",
        "colab_type": "text"
      },
      "source": [
        "##3 Isomeric SMILES(이성질체 SMILES)\n",
        "\n",
        "SMILES의 이성질체 규칙을 사용하면 알려진 구조에 대해 카이랄성을 지정할 수 있습니다. CIP 및 IUPAC와 같은 대부분의 기존 화학 명명법과 달리 이 규칙은 엄격한 카이랄성 부분SMILES의 이성질체 규칙을 사용하면 알려진 구조에 대해 카이랄성을 지정할 수 있습니다. CIP 및 IUPAC와 같은 대부분의 기존 화학 명명법과 달리 이 규칙은 엄격한 카이랄성 부분적 명SMILES의 이성질체 규칙을 사용하면 알려진 구조에 대해 카이랄성을 지정할 수 있습니다. CIP 및 IUPAC와 같은 대부분의 기존 화학 명명법과 달리 이 규칙은 엄격한 카이랄성 부분SMILES의 이성질체 규칙을 사용하면 알려진 구조에 대해 카이랄성을 지정할 수 있습니다. CIP 및 IUPAC와 같은 대부분의 기존 화학 명명법과 달리 이 규칙은 엄격한 카이랄성 부분적 명시를 할 수 있습니다. SMILES의 모든 이성질체 규칙은 선택 사항이고 이러한 내용이 들어가 있지 않는다면 지정된 값이 없다는 것을 의미합니다.\n"
      ]
    },
    {
      "cell_type": "markdown",
      "metadata": {
        "id": "3iWbXhnAxpam",
        "colab_type": "text"
      },
      "source": [
        "###3.1 Isotopic Specification(동위원소)\n",
        "\n",
        "동위 원소는 동위원소의 질량을 숫자로 원자 기호 앞에 표시합니다.\n"
      ]
    },
    {
      "cell_type": "code",
      "metadata": {
        "id": "S4zbZv_0CPgt",
        "colab_type": "code",
        "outputId": "5a7da7d6-e924-4b23-fd17-64bd0ba0902d",
        "colab": {
          "base_uri": "https://localhost:8080/",
          "height": 167
        }
      },
      "source": [
        "Chem.MolFromSmiles('[12C]')#carbon-12"
      ],
      "execution_count": 0,
      "outputs": [
        {
          "output_type": "execute_result",
          "data": {
            "image/png": "[encoded data removed]",
            "text/plain": [
              "<rdkit.Chem.rdchem.Mol at 0x7f22033ad580>"
            ]
          },
          "metadata": {
            "tags": []
          },
          "execution_count": 79
        }
      ]
    },
    {
      "cell_type": "code",
      "metadata": {
        "id": "euQGwZkPCaYi",
        "colab_type": "code",
        "outputId": "a4926b1c-7fb2-4da4-df51-51535a6ea2be",
        "colab": {
          "base_uri": "https://localhost:8080/",
          "height": 167
        }
      },
      "source": [
        "Chem.MolFromSmiles('[13C]')#carbon-13"
      ],
      "execution_count": 0,
      "outputs": [
        {
          "output_type": "execute_result",
          "data": {
            "image/png": "[encoded data removed]",
            "text/plain": [
              "<rdkit.Chem.rdchem.Mol at 0x7f22033ad4e0>"
            ]
          },
          "metadata": {
            "tags": []
          },
          "execution_count": 80
        }
      ]
    },
    {
      "cell_type": "code",
      "metadata": {
        "id": "AUTVX72SCe4u",
        "colab_type": "code",
        "outputId": "cbe6f11e-5da9-4e46-b92b-fd864854af68",
        "colab": {
          "base_uri": "https://localhost:8080/",
          "height": 167
        }
      },
      "source": [
        "Chem.MolFromSmiles('[C]')#carbon"
      ],
      "execution_count": 0,
      "outputs": [
        {
          "output_type": "execute_result",
          "data": {
            "image/png": "[encoded data removed]",
            "text/plain": [
              "<rdkit.Chem.rdchem.Mol at 0x7f22033ad620>"
            ]
          },
          "metadata": {
            "tags": []
          },
          "execution_count": 81
        }
      ]
    },
    {
      "cell_type": "code",
      "metadata": {
        "id": "qaIoKLUdCh3h",
        "colab_type": "code",
        "outputId": "474a2448-924d-4654-d197-9fa15249c4d7",
        "colab": {
          "base_uri": "https://localhost:8080/",
          "height": 167
        }
      },
      "source": [
        "Chem.MolFromSmiles('[13CH4]')#C-13 methane"
      ],
      "execution_count": 0,
      "outputs": [
        {
          "output_type": "execute_result",
          "data": {
            "image/png": "[encoded data removed]",
            "text/plain": [
              "<rdkit.Chem.rdchem.Mol at 0x7f22033ad990>"
            ]
          },
          "metadata": {
            "tags": []
          },
          "execution_count": 82
        }
      ]
    },
    {
      "cell_type": "markdown",
      "metadata": {
        "id": "sOy3_biS4ifB",
        "colab_type": "text"
      },
      "source": [
        "###3.2 Configuration Around Double Bonds(이중결합을 둘러싼 배열)\n",
        "\n",
        "이중결합을 둘러싼 배열은 \"directional bonds(방향결합)\"을 나타내는 문자인 /와\\를 이용하여 나타낼 수 있고 단일 또는 방향족  결합의 종류로 생각할 수 있습니다. 기호는 연결된 원자 사이의 상대적인 방향성을 나타내며, 이중 결합 된 두 원자 모두에서 발생하는 경우에만 의미가 있습니다. \n",
        "\n",
        "\n"
      ]
    },
    {
      "cell_type": "code",
      "metadata": {
        "id": "5bw92VgSDMBt",
        "colab_type": "code",
        "outputId": "44b6c115-95c7-44ea-925c-c5deffc08389",
        "colab": {
          "base_uri": "https://localhost:8080/",
          "height": 167
        }
      },
      "source": [
        "Chem.MolFromSmiles('F/C=C/F')#E-1,2-difluoroethene\n"
      ],
      "execution_count": 0,
      "outputs": [
        {
          "output_type": "execute_result",
          "data": {
            "image/png": "[encoded data removed]",
            "text/plain": [
              "<rdkit.Chem.rdchem.Mol at 0x7f22033ad9e0>"
            ]
          },
          "metadata": {
            "tags": []
          },
          "execution_count": 83
        }
      ]
    },
    {
      "cell_type": "code",
      "metadata": {
        "id": "SQgSE3T_DRNf",
        "colab_type": "code",
        "outputId": "34cad4f9-032f-4e61-c516-c3cf1b85d500",
        "colab": {
          "base_uri": "https://localhost:8080/",
          "height": 167
        }
      },
      "source": [
        "Chem.MolFromSmiles('F/C=C\\F')#Z-1,2-difluoroethene"
      ],
      "execution_count": 0,
      "outputs": [
        {
          "output_type": "execute_result",
          "data": {
            "image/png": "[encoded data removed]",
            "text/plain": [
              "<rdkit.Chem.rdchem.Mol at 0x7f22033ad760>"
            ]
          },
          "metadata": {
            "tags": []
          },
          "execution_count": 84
        }
      ]
    },
    {
      "cell_type": "markdown",
      "metadata": {
        "id": "Lba13nszCuiT",
        "colab_type": "text"
      },
      "source": [
        "SMILES의 카이랄성 규약과 CIP같은 규약의 차이점은 SMILES는 부분적인 명시를 통하여 국부적으로 카이랄성을 나타낼 수 있다는 것입니다.\n"
      ]
    },
    {
      "cell_type": "code",
      "metadata": {
        "id": "qlPU2J4XDb8C",
        "colab_type": "code",
        "outputId": "5e9653a6-1ef9-4b43-8b40-81b3ea705921",
        "colab": {
          "base_uri": "https://localhost:8080/",
          "height": 167
        }
      },
      "source": [
        "Chem.MolFromSmiles('F/C=C/C=C/CF')#completely specified"
      ],
      "execution_count": 0,
      "outputs": [
        {
          "output_type": "execute_result",
          "data": {
            "image/png": "[encoded data removed]",
            "text/plain": [
              "<rdkit.Chem.rdchem.Mol at 0x7f22033ade40>"
            ]
          },
          "metadata": {
            "tags": []
          },
          "execution_count": 86
        }
      ]
    },
    {
      "cell_type": "code",
      "metadata": {
        "id": "0vlgFDmLDgSX",
        "colab_type": "code",
        "outputId": "d7c16506-4504-4637-c2f2-ba5b65bc9e6c",
        "colab": {
          "base_uri": "https://localhost:8080/",
          "height": 167
        }
      },
      "source": [
        "Chem.MolFromSmiles('F/C=C/C=CC')#partially specified"
      ],
      "execution_count": 0,
      "outputs": [
        {
          "output_type": "execute_result",
          "data": {
            "image/png": "[encoded data removed]",
            "text/plain": [
              "<rdkit.Chem.rdchem.Mol at 0x7f22033adcb0>"
            ]
          },
          "metadata": {
            "tags": []
          },
          "execution_count": 87
        }
      ]
    },
    {
      "cell_type": "markdown",
      "metadata": {
        "id": "I235ZJSo8Jdj",
        "colab_type": "text"
      },
      "source": [
        "###3.3. Configuration Around Tetrahedral Centers(사면체의 중심을 포함하는 구조)\n",
        "\n",
        "SMILES는 국부적 카이랄성에 기반한 매우 일반적인 카이랄성 명시법을 사용합니다. 방향은 SMILES 문자열에서 인접 항목 순으로 나타냅니다. SMILES에서 사면체의 중심은 카이랄 원자의 원자 기호 다음에 @ 또는 @@ 두개를 사용하여 표시합니다. 카이랄 원자에 대해 명시가 되지 않을 경우 카이랄성은 지정되지 않습니다. \n",
        " \" @ \"는 이웃하는 원자들이 시계 반대 방향으로 나열됨을 나타내고 \" @@ \"는 이웃하는 원자들이 시계 방향으로 나열되어 있음을 나타냅니다.\n",
        "\n",
        " 중심 탄소가 SMILES에 첫 번째 원자가 아니고 수소가 부착되어 있으면 수소는 다음에 나오는 세 이웃 원자들 중 첫 번째 원자로 간주되어집니다. 중심 탄소가 SMILES에서 첫 번째 원자라면 내제 된 수소는 원자로 간주되어집니다. 수소가 명시적으로 나타내어 질 경우 다른 원자와 같이 취급됩니다.\n",
        "\n",
        "\n"
      ]
    },
    {
      "cell_type": "code",
      "metadata": {
        "id": "eHNCIAhLDxhV",
        "colab_type": "code",
        "outputId": "7707b597-4efd-4c66-b455-5b25f28cf280",
        "colab": {
          "base_uri": "https://localhost:8080/",
          "height": 167
        }
      },
      "source": [
        "Chem.MolFromSmiles('NC(C)(F)C(=O)O')#unspecified chirality"
      ],
      "execution_count": 0,
      "outputs": [
        {
          "output_type": "execute_result",
          "data": {
            "image/png": "[encoded data removed]",
            "text/plain": [
              "<rdkit.Chem.rdchem.Mol at 0x7f22033addf0>"
            ]
          },
          "metadata": {
            "tags": []
          },
          "execution_count": 88
        }
      ]
    },
    {
      "cell_type": "code",
      "metadata": {
        "id": "VB1U7pUxD1bd",
        "colab_type": "code",
        "outputId": "b0f215da-3f57-47a6-ba40-28199784449d",
        "colab": {
          "base_uri": "https://localhost:8080/",
          "height": 167
        }
      },
      "source": [
        "Chem.MolFromSmiles('N[C@](C)(F)C(=O)O')#specified chirality"
      ],
      "execution_count": 0,
      "outputs": [
        {
          "output_type": "execute_result",
          "data": {
            "image/png": "[encoded data removed]",
            "text/plain": [
              "<rdkit.Chem.rdchem.Mol at 0x7f22033b11c0>"
            ]
          },
          "metadata": {
            "tags": []
          },
          "execution_count": 89
        }
      ]
    },
    {
      "cell_type": "code",
      "metadata": {
        "id": "3qs3bVrFD-D4",
        "colab_type": "code",
        "outputId": "d65a2eff-9a40-4ad6-c6dc-85c5d4c5c7b4",
        "colab": {
          "base_uri": "https://localhost:8080/",
          "height": 167
        }
      },
      "source": [
        "Chem.MolFromSmiles('N[C@@](C)(F)C(=O)O')#specified chirality"
      ],
      "execution_count": 0,
      "outputs": [
        {
          "output_type": "execute_result",
          "data": {
            "image/png": "[encoded data removed]",
            "text/plain": [
              "<rdkit.Chem.rdchem.Mol at 0x7f22033b12b0>"
            ]
          },
          "metadata": {
            "tags": []
          },
          "execution_count": 90
        }
      ]
    },
    {
      "cell_type": "markdown",
      "metadata": {
        "id": "T1M0lwufDwSh",
        "colab_type": "text"
      },
      "source": [
        "고리 닫힘 결합의 카이랄 순서는 고리 닫힘 숫자가 카이랄 원자 상에 나타나는 순서에 의해 나타내어 집니다."
      ]
    },
    {
      "cell_type": "code",
      "metadata": {
        "id": "q5E5U9DbEN-F",
        "colab_type": "code",
        "outputId": "4527abc7-9ad6-444a-f24f-e6936a87b5e5",
        "colab": {
          "base_uri": "https://localhost:8080/",
          "height": 167
        }
      },
      "source": [
        "Chem.MolFromSmiles('C[C@H]1CCCCO1')"
      ],
      "execution_count": 0,
      "outputs": [
        {
          "output_type": "execute_result",
          "data": {
            "image/png": "[encoded data removed]",
            "text/plain": [
              "<rdkit.Chem.rdchem.Mol at 0x7f22033b13f0>"
            ]
          },
          "metadata": {
            "tags": []
          },
          "execution_count": 91
        }
      ]
    },
    {
      "cell_type": "code",
      "metadata": {
        "id": "o9OMn2hAESYq",
        "colab_type": "code",
        "outputId": "2c202673-376c-4aee-de47-0253cf2ad492",
        "colab": {
          "base_uri": "https://localhost:8080/",
          "height": 167
        }
      },
      "source": [
        "Chem.MolFromSmiles('O1CCCC[C@@H]1C')"
      ],
      "execution_count": 0,
      "outputs": [
        {
          "output_type": "execute_result",
          "data": {
            "image/png": "[encoded data removed]",
            "text/plain": [
              "<rdkit.Chem.rdchem.Mol at 0x7f22033b1580>"
            ]
          },
          "metadata": {
            "tags": []
          },
          "execution_count": 92
        }
      ]
    },
    {
      "cell_type": "markdown",
      "metadata": {
        "id": "W93oduLHDGic",
        "colab_type": "text"
      },
      "source": [
        "###3.4 General Chiral Specification(일반적 카이랄 사양)\n",
        "\n",
        "사면체 구조 외에 많은 종류의 카이랄성이 존재합니다. 위에서 사용하였던 \"@\"기호는 일반적인 카이랄 사양 중 특별한 경우에 사용합니다.\n",
        "\n",
        "일반적 카이랄 사양에는 \"@\"기호, 2문자 카이랄 클래스 표시  지표, 수적 순열 지정이 있습니다. 기본적인 카이랄 클래스는 각각의 차수 즉 연결 수에 따라 할당 됩니다. 4개의 연결에 대한 기본 클래스는 위에서 보았던 4면체(TH)입니다.\n",
        "대부분의 경우 @1표시는 SMILE의 순서를 기준으로한 축에 반시계 방향으로 @2표시는 시계방향을 의미합니다.\n",
        "'@@'와 '@@@'는 '@2'와'@3'으로 해석됩니다.\n",
        "\"@@\"및 \"@@@\" 형식의 표기법은 앞에서 전하를 나타낸 것과 같이 \"@2\"및 \"@3\"을 나타냅니다.위에서 사용된 '@'와 '@@'는 '@TH1'과 '@TH2'를 간략하게 표현한 것입니다. SMILES는 대칭으로 인하여 감소된 거울상 이성질체를 뜻하는 \"감소된 카이랄성\"과 중심치환으로 인해 중심이 비카이랄성이 되는 \"퇴화한 카이랄성\"을 포함하여 넓은 범위를 다룰 수 있습니다. SMILES 시스템은 특정 사양에 대해 고유한 이성질체 SMILES를 생성하며 모든 유형의 키랄성에서 인식이 올바르게 작동하도록 합니다.\n",
        "\n",
        " 사면체, 유사 알렌(allen-like), 정사각형, 삼각뿔, 팔면체 등의 카이랄이 있고 이 5가지는 매우 흔하고 자주 다루어 집니다.\n",
        "\n",
        "\n"
      ]
    },
    {
      "cell_type": "markdown",
      "metadata": {
        "id": "jf1_9LkYZj9W",
        "colab_type": "text"
      },
      "source": [
        "####유사 알렌(allen-like) \n",
        "\n",
        "유사 엘렌 클래스의 기호는 AL로 나타낸다. 2차수의 카이랄 클래스 default이고 중심원자는 이중 결합을 가집니다. 치환된 C = C = C 구조가 가장 흔하지만, C = C = C = C = C 구조와 같이 홀수 개의 일련의 이중 결합 원자원자도 유사 알렌에 포함됩니다. @ AL1 (@)과 @ AL2 (@@)을 사용하여 나타내고 치환된 원자의 중첩과 각각의 사면체의 평가에 의해 해석됩니다. 치환된 유사알렌 원자에 부착된 수소는 그 원자 바로 뒤에 있는 것으로 간주되어 집니다.\n"
      ]
    },
    {
      "cell_type": "code",
      "metadata": {
        "id": "vX_u7eNGEofw",
        "colab_type": "code",
        "outputId": "acb65a05-3bab-4034-d5b5-044de3392542",
        "colab": {
          "base_uri": "https://localhost:8080/",
          "height": 167
        }
      },
      "source": [
        "Chem.MolFromSmiles('OC(Cl)=[C@]=C(C)F')"
      ],
      "execution_count": 0,
      "outputs": [
        {
          "output_type": "execute_result",
          "data": {
            "image/png": "[encoded data removed]",
            "text/plain": [
              "<rdkit.Chem.rdchem.Mol at 0x7f22033b17b0>"
            ]
          },
          "metadata": {
            "tags": []
          },
          "execution_count": 94
        }
      ]
    },
    {
      "cell_type": "code",
      "metadata": {
        "id": "eB4-TAj1Esiw",
        "colab_type": "code",
        "outputId": "ca36fd02-77a3-4589-c8c5-7927110ee46f",
        "colab": {
          "base_uri": "https://localhost:8080/",
          "height": 167
        }
      },
      "source": [
        "Chem.MolFromSmiles('OC=[C@]=CF')"
      ],
      "execution_count": 0,
      "outputs": [
        {
          "output_type": "execute_result",
          "data": {
            "image/png": "[encoded data removed]",
            "text/plain": [
              "<rdkit.Chem.rdchem.Mol at 0x7f22033b1030>"
            ]
          },
          "metadata": {
            "tags": []
          },
          "execution_count": 95
        }
      ]
    },
    {
      "cell_type": "markdown",
      "metadata": {
        "id": "fFwCsc14ZUAt",
        "colab_type": "text"
      },
      "source": [
        "####정사각형\n",
        "\n",
        "정사각형 클래스의 기호는 SP로 나타냅니다. "
      ]
    },
    {
      "cell_type": "code",
      "metadata": {
        "id": "HfPb_B5qFJjF",
        "colab_type": "code",
        "outputId": "ac15f0e1-c67e-422a-bb30-5a91244a83ff",
        "colab": {
          "base_uri": "https://localhost:8080/",
          "height": 167
        }
      },
      "source": [
        "Chem.MolFromSmiles('F[P@](Cl)(Br)I')"
      ],
      "execution_count": 0,
      "outputs": [
        {
          "output_type": "execute_result",
          "data": {
            "image/png": "[encoded data removed]",
            "text/plain": [
              "<rdkit.Chem.rdchem.Mol at 0x7f22033b1710>"
            ]
          },
          "metadata": {
            "tags": []
          },
          "execution_count": 113
        }
      ]
    },
    {
      "cell_type": "code",
      "metadata": {
        "id": "qUKLDlt8GKp0",
        "colab_type": "code",
        "outputId": "d1c712d7-2ee4-4355-e915-c269fdbbccbd",
        "colab": {
          "base_uri": "https://localhost:8080/",
          "height": 167
        }
      },
      "source": [
        "Chem.MolFromSmiles('F[P@@](Cl)(Br)I')"
      ],
      "execution_count": 0,
      "outputs": [
        {
          "output_type": "execute_result",
          "data": {
            "image/png": "[encoded data removed]",
            "text/plain": [
              "<rdkit.Chem.rdchem.Mol at 0x7f22033b0710>"
            ]
          },
          "metadata": {
            "tags": []
          },
          "execution_count": 114
        }
      ]
    },
    {
      "cell_type": "markdown",
      "metadata": {
        "id": "TKSBl8cldLVX",
        "colab_type": "text"
      },
      "source": [
        "####삼각뿔형\n",
        "\n",
        "삼격뿔 형의 클래스 기호는 TB입니다. 이것은 차수가 5인 기본 카이랄 클래스입니다. 가능한 값은 @TB1 ~ @TB20까지 있습니다. @TB1(@)은 한 축 연결에서 다른 축 연결로 나열 될 때 3개의 수평적으로 연결된 중간원자가 시계 반대 방향으로 나열됨을 나타내고 @TB2(@@)는 시계 방향으로 나열됨을 나타냅니다."
      ]
    },
    {
      "cell_type": "code",
      "metadata": {
        "colab_type": "code",
        "outputId": "20ab3beb-5d39-440e-aaf2-4295de8270af",
        "id": "O57YPGusL1XE",
        "colab": {
          "base_uri": "https://localhost:8080/",
          "height": 167
        }
      },
      "source": [
        "Chem.MolFromSmiles('S[As@](F)(Cl)(Br)C=O')"
      ],
      "execution_count": 0,
      "outputs": [
        {
          "output_type": "execute_result",
          "data": {
            "image/png": "[encoded data removed]",
            "text/plain": [
              "<rdkit.Chem.rdchem.Mol at 0x7f18dfbd21c0>"
            ]
          },
          "metadata": {
            "tags": []
          },
          "execution_count": 6
        }
      ]
    },
    {
      "cell_type": "code",
      "metadata": {
        "id": "NH9lNb6GGY0v",
        "colab_type": "code",
        "outputId": "36618371-8aa7-44bf-8ec4-626b0dc58227",
        "colab": {
          "base_uri": "https://localhost:8080/",
          "height": 167
        }
      },
      "source": [
        "Chem.MolFromSmiles('O=C[As@](F)(Cl)(Br)S')"
      ],
      "execution_count": 0,
      "outputs": [
        {
          "output_type": "execute_result",
          "data": {
            "image/png": "[encoded data removed]",
            "text/plain": [
              "<rdkit.Chem.rdchem.Mol at 0x7f22033b0d50>"
            ]
          },
          "metadata": {
            "tags": []
          },
          "execution_count": 120
        }
      ]
    },
    {
      "cell_type": "markdown",
      "metadata": {
        "id": "YGRf1SC3eNp1",
        "colab_type": "text"
      },
      "source": [
        "####8면체\n",
        "\n",
        "8면체 클래스의 기호는 OH입니다. 차수 6을 가지는 기본 카이랄 클래스이고 사용하는 값은 @OH1 ~ @OH30을 사용합니다. @OH1(@)는 한 축연결에서 다른 축 연결로 나열될때 수평적으로 연결된 4개의 중간 원자가 반 시계 방향으로 나열됨을 나타냅니다. @OH2(@@)는 시계 방향을 나타냅니다."
      ]
    },
    {
      "cell_type": "code",
      "metadata": {
        "id": "9olLe9f3Gh10",
        "colab_type": "code",
        "outputId": "47a42d13-8d7a-44db-d18f-5fad1c8bbc1a",
        "colab": {
          "base_uri": "https://localhost:8080/",
          "height": 167
        }
      },
      "source": [
        "Chem.MolFromSmiles('S[Co@@](F)(Cl)(Br)(I)C=O')"
      ],
      "execution_count": 0,
      "outputs": [
        {
          "output_type": "execute_result",
          "data": {
            "image/png": "[encoded data removed]",
            "text/plain": [
              "<rdkit.Chem.rdchem.Mol at 0x7f22033b0f80>"
            ]
          },
          "metadata": {
            "tags": []
          },
          "execution_count": 121
        }
      ]
    },
    {
      "cell_type": "code",
      "metadata": {
        "id": "tYMi_M4vGk2v",
        "colab_type": "code",
        "outputId": "58226b1a-d71e-4e54-b12a-0dc0d0003150",
        "colab": {
          "base_uri": "https://localhost:8080/",
          "height": 167
        }
      },
      "source": [
        "Chem.MolFromSmiles('O=C[Co@](F)(Cl)(Br)(I)S')"
      ],
      "execution_count": 0,
      "outputs": [
        {
          "output_type": "execute_result",
          "data": {
            "image/png": "[encoded data removed]",
            "text/plain": [
              "<rdkit.Chem.rdchem.Mol at 0x7f22033b0f30>"
            ]
          },
          "metadata": {
            "tags": []
          },
          "execution_count": 122
        }
      ]
    },
    {
      "cell_type": "markdown",
      "metadata": {
        "id": "dbFvpa45NpFl",
        "colab_type": "text"
      },
      "source": [
        "## 4. SMILES Conventions(관례)\n",
        "앞의 규칙 외에도 SMILES에서 사용되는 몇가지 관례들이 있습니다."
      ]
    },
    {
      "cell_type": "markdown",
      "metadata": {
        "id": "W9w4_GzrOzU5",
        "colab_type": "text"
      },
      "source": [
        "###4.1 Hydrogens(수소)\n",
        "SMILES로 작성할 때 대부분의 유기 구조에서 수소 원자는 일반적으로 생략됩니다. 수소의 존재는 세가지 방식으로 표시될 수 있습니다.\n",
        " * 암시적인 방식 : 일반적인 원자가 가정으로부터 대괄호([ ])로 표시되지 않은 원자\n",
        " * 명시적인 방식 : 대괄호([ ])안에 수소의 수를 표시\n",
        " * 수소 원자 : **[H]**원자\n",
        "\n",
        "또한 유기 및 무기 명명법에는 차이가 없습니다."
      ]
    },
    {
      "cell_type": "markdown",
      "metadata": {
        "id": "dVUt27hWTisw",
        "colab_type": "text"
      },
      "source": [
        "수소를 명확하게 표시해줘야 하는 4가지 경우가 있습니다.\n",
        " * 전하를 가지는 수소 : **[H+]**\n",
        " * 다른 수소와 연결된 수소 : 분자수소(**[H][H]**)\n",
        " * 두개 이상의 다른 원자와 연결된 수소 : bridging hydrogens\n",
        " * 동위원소 수소 : 중수(**[2H]O[2H]**)"
      ]
    },
    {
      "cell_type": "code",
      "metadata": {
        "id": "oHmSB0PRWERQ",
        "colab_type": "code",
        "outputId": "6364e050-bec1-4a06-ba9a-cec6ba622bc2",
        "colab": {
          "base_uri": "https://localhost:8080/",
          "height": 185
        }
      },
      "source": [
        "Chem.MolFromSmiles('[H+]')"
      ],
      "execution_count": 0,
      "outputs": [
        {
          "output_type": "stream",
          "text": [
            "RDKit WARNING: [16:08:38] WARNING: not removing hydrogen atom without neighbors\n"
          ],
          "name": "stderr"
        },
        {
          "output_type": "execute_result",
          "data": {
            "image/png": "[encoded data removed]",
            "text/plain": [
              "<rdkit.Chem.rdchem.Mol at 0x7fe61e579a80>"
            ]
          },
          "metadata": {
            "tags": []
          },
          "execution_count": 56
        }
      ]
    },
    {
      "cell_type": "code",
      "metadata": {
        "id": "CFGdqvUHM4lu",
        "colab_type": "code",
        "outputId": "a7520428-381b-4a90-bac4-40e03749224d",
        "colab": {
          "base_uri": "https://localhost:8080/",
          "height": 167
        }
      },
      "source": [
        "Chem.MolFromSmiles('[H][H]')\n"
      ],
      "execution_count": 0,
      "outputs": [
        {
          "output_type": "execute_result",
          "data": {
            "image/png": "[encoded data removed]",
            "text/plain": [
              "<rdkit.Chem.rdchem.Mol at 0x7fe61e5791c0>"
            ]
          },
          "metadata": {
            "tags": []
          },
          "execution_count": 57
        }
      ]
    },
    {
      "cell_type": "code",
      "metadata": {
        "id": "8UvLUOdyVvZa",
        "colab_type": "code",
        "outputId": "450abab0-9d34-465f-ceed-9a98d80afa14",
        "colab": {
          "base_uri": "https://localhost:8080/",
          "height": 167
        }
      },
      "source": [
        "Chem.MolFromSmiles('[2H]O[2H]')"
      ],
      "execution_count": 0,
      "outputs": [
        {
          "output_type": "execute_result",
          "data": {
            "image/png": "[encoded data removed]",
            "text/plain": [
              "<rdkit.Chem.rdchem.Mol at 0x7fe61e579b70>"
            ]
          },
          "metadata": {
            "tags": []
          },
          "execution_count": 58
        }
      ]
    },
    {
      "cell_type": "markdown",
      "metadata": {
        "id": "egBHaLraXC6s",
        "colab_type": "text"
      },
      "source": [
        "### 4.2 Aromaticity(방향성)\n",
        "분자의 대칭성을 특징짓기 위해 SMILES와 같은 시스템에서 방향성에 대한 명확한 화학 명명법이 추론되어야 합니다. 효과적인 방향족 검출 알고리즘이 주어지면, 사용자가 지방족(Kekulé-like) 구조입력을 선호하는 경우 방향성으로 입력할 필요가 없습니다. 방향성으로 구조물을 입력하면 짧게 입력해서 정확한 화학구조를 얻을 수 있습니다."
      ]
    },
    {
      "cell_type": "markdown",
      "metadata": {
        "id": "WK0ym3U0ctxo",
        "colab_type": "text"
      },
      "source": [
        "SMILES 알고리즘은 확장된 버전의 Hueckel 규칙을 사용하여 방향족 분자 및 이온을 식별합니다.\n",
        "> 방향족으로서 자격을 갖기 위해서는\n",
        "> 1. 고리의 모든 원자가 $sp^{2}$ 혼성화 되어있어야 한다.\n",
        "> 2. 고리에 (4N+2)개의 $\\pi$전자를 가져야한다."
      ]
    },
    {
      "cell_type": "code",
      "metadata": {
        "id": "Yu-RYqUJlGRT",
        "colab_type": "code",
        "outputId": "bc624a29-229d-46a4-c65f-3fb26e78f194",
        "colab": {
          "base_uri": "https://localhost:8080/",
          "height": 167
        }
      },
      "source": [
        "Chem.MolFromSmiles('c1ccccc1') #aromatic"
      ],
      "execution_count": 0,
      "outputs": [
        {
          "output_type": "execute_result",
          "data": {
            "image/png": "[encoded data removed]",
            "text/plain": [
              "<rdkit.Chem.rdchem.Mol at 0x7fe62454cdf0>"
            ]
          },
          "metadata": {
            "tags": []
          },
          "execution_count": 59
        }
      ]
    },
    {
      "cell_type": "code",
      "metadata": {
        "id": "5JhVGiqRdMAJ",
        "colab_type": "code",
        "outputId": "c1572d93-b7c3-4621-f032-e8d050eb1556",
        "colab": {
          "base_uri": "https://localhost:8080/",
          "height": 167
        }
      },
      "source": [
        "Chem.MolFromSmiles('C1=CC=CC=C1') #aliphatic"
      ],
      "execution_count": 0,
      "outputs": [
        {
          "output_type": "execute_result",
          "data": {
            "image/png": "[encoded data removed]",
            "text/plain": [
              "<rdkit.Chem.rdchem.Mol at 0x7fe61e572710>"
            ]
          },
          "metadata": {
            "tags": []
          },
          "execution_count": 60
        }
      ]
    },
    {
      "cell_type": "markdown",
      "metadata": {
        "id": "4AaU1s_2lcNp",
        "colab_type": "text"
      },
      "source": [
        "조건에서 2번을 만족하지 않는것을 anti-aromatic이라고 한다 c1ccc1, c1ccccccc1 같은 경우가 있는데 SMILES 시스템에서 내재된 $sp^{2}$혼성화, 수소 수 및 지정된 공식전하(있는 경우)를 보존하는 구조를 찾습니다. 따라서 C1=CC=C1와 C1=CC=CC=CC=C1에 대한 정확한 anti-aromatic 구조를 생성합니다."
      ]
    },
    {
      "cell_type": "code",
      "metadata": {
        "id": "KZwoV8AafDkS",
        "colab_type": "code",
        "outputId": "7eb84929-c1b8-496c-86a2-e16ee5b13e16",
        "colab": {
          "base_uri": "https://localhost:8080/",
          "height": 167
        }
      },
      "source": [
        "Chem.MolFromSmiles('c1ccc1') #anti-aromatic"
      ],
      "execution_count": 0,
      "outputs": [
        {
          "output_type": "execute_result",
          "data": {
            "image/png": "[encoded data removed]",
            "text/plain": [
              "<rdkit.Chem.rdchem.Mol at 0x7fe61e572940>"
            ]
          },
          "metadata": {
            "tags": []
          },
          "execution_count": 61
        }
      ]
    },
    {
      "cell_type": "code",
      "metadata": {
        "id": "9P_qqs1hmyES",
        "colab_type": "code",
        "outputId": "0a8bd5a5-1bc2-4da8-cd66-e1c2d734aaae",
        "colab": {
          "base_uri": "https://localhost:8080/",
          "height": 167
        }
      },
      "source": [
        "Chem.MolFromSmiles('c1ccccccc1') #anti-aromatic"
      ],
      "execution_count": 0,
      "outputs": [
        {
          "output_type": "execute_result",
          "data": {
            "image/png": "[encoded data removed]",
            "text/plain": [
              "<rdkit.Chem.rdchem.Mol at 0x7fe61e580c10>"
            ]
          },
          "metadata": {
            "tags": []
          },
          "execution_count": 62
        }
      ]
    },
    {
      "cell_type": "markdown",
      "metadata": {
        "id": "K9GDGbGQnH0_",
        "colab_type": "text"
      },
      "source": [
        "그러나 c1cccc1과 같은 일부 입력은 정확하지 않을 수도 있고 불가능할 수도 있습니다. 여기서 탄소 원자 중 하나가 2개의 수소가 부착된 $sp^{3}$이기 때문에 c1cccc1은 C1=CCC=C1으로 전환될 수 없다. 이러한 구조에서 단일 및 이중결합이 교대로 이루어질 수 없기 때문에 SMILES 시스템은 이를 \"불가능한\" 입력이라고 표시합니다. 또한 고리 밖에 있는 이중결합은 방향성을 파괴하지 않는다."
      ]
    },
    {
      "cell_type": "code",
      "metadata": {
        "id": "FRvrMY9Em0JG",
        "colab_type": "code",
        "outputId": "a4f416ad-ebe2-4a83-dd63-a48bc41ad8b4",
        "colab": {
          "base_uri": "https://localhost:8080/",
          "height": 52
        }
      },
      "source": [
        "Chem.MolFromSmiles('c1cccc1') #aromatic으로 입력했지만 aromatic이 아니기에 오류가 발생"
      ],
      "execution_count": 0,
      "outputs": [
        {
          "output_type": "stream",
          "text": [
            "RDKit ERROR: [16:08:38] Can't kekulize mol.  Unkekulized atoms: 0 1 2 3 4\n",
            "RDKit ERROR: \n"
          ],
          "name": "stderr"
        }
      ]
    },
    {
      "cell_type": "code",
      "metadata": {
        "id": "28jC0UAQoUhh",
        "colab_type": "code",
        "outputId": "b9b25602-8331-423f-a242-e576f595fe1d",
        "colab": {
          "base_uri": "https://localhost:8080/",
          "height": 167
        }
      },
      "source": [
        "Chem.MolFromSmiles('C1=CCC=C1') #aliphatic"
      ],
      "execution_count": 0,
      "outputs": [
        {
          "output_type": "execute_result",
          "data": {
            "image/png": "[encoded data removed]",
            "text/plain": [
              "<rdkit.Chem.rdchem.Mol at 0x7fe61e580490>"
            ]
          },
          "metadata": {
            "tags": []
          },
          "execution_count": 64
        }
      ]
    },
    {
      "cell_type": "markdown",
      "metadata": {
        "id": "eKwtBEQrooRk",
        "colab_type": "text"
      },
      "source": [
        "몇가지 추가적인 aromatic"
      ]
    },
    {
      "cell_type": "code",
      "metadata": {
        "id": "iqo0mEcQonTW",
        "colab_type": "code",
        "outputId": "70c6c93a-2d21-4862-ed45-ec7b7bd66ad3",
        "colab": {
          "base_uri": "https://localhost:8080/",
          "height": 167
        }
      },
      "source": [
        "Chem.MolFromSmiles('c1cocc1')"
      ],
      "execution_count": 0,
      "outputs": [
        {
          "output_type": "execute_result",
          "data": {
            "image/png": "[encoded data removed]",
            "text/plain": [
              "<rdkit.Chem.rdchem.Mol at 0x7fe61e5804e0>"
            ]
          },
          "metadata": {
            "tags": []
          },
          "execution_count": 65
        }
      ]
    },
    {
      "cell_type": "code",
      "metadata": {
        "id": "DYuq5qjVoigr",
        "colab_type": "code",
        "outputId": "c30ca59e-cd43-4f67-8a59-a7a337ce66a7",
        "colab": {
          "base_uri": "https://localhost:8080/",
          "height": 167
        }
      },
      "source": [
        "Chem.MolFromSmiles('c1cnc[nH]c(=O)1')"
      ],
      "execution_count": 0,
      "outputs": [
        {
          "output_type": "execute_result",
          "data": {
            "image/png": "[encoded data removed]",
            "text/plain": [
              "<rdkit.Chem.rdchem.Mol at 0x7fe61e572ad0>"
            ]
          },
          "metadata": {
            "tags": []
          },
          "execution_count": 66
        }
      ]
    },
    {
      "cell_type": "code",
      "metadata": {
        "id": "fnQmgS50o64e",
        "colab_type": "code",
        "outputId": "7162e341-6754-4e20-ec19-6df893f1131c",
        "colab": {
          "base_uri": "https://localhost:8080/",
          "height": 167
        }
      },
      "source": [
        "Chem.MolFromSmiles('c1c*ccc1') # *은 와일드카드"
      ],
      "execution_count": 0,
      "outputs": [
        {
          "output_type": "execute_result",
          "data": {
            "image/png": "[encoded data removed]",
            "text/plain": [
              "<rdkit.Chem.rdchem.Mol at 0x7fe61e579a30>"
            ]
          },
          "metadata": {
            "tags": []
          },
          "execution_count": 67
        }
      ]
    },
    {
      "cell_type": "code",
      "metadata": {
        "id": "l_r_OUakpCBo",
        "colab_type": "code",
        "outputId": "023e57ef-706d-4863-fa23-e8a0037f120f",
        "colab": {
          "base_uri": "https://localhost:8080/",
          "height": 167
        }
      },
      "source": [
        "Chem.MolFromSmiles('[cH-]1cccc1')"
      ],
      "execution_count": 0,
      "outputs": [
        {
          "output_type": "execute_result",
          "data": {
            "image/png": "[encoded data removed]",
            "text/plain": [
              "<rdkit.Chem.rdchem.Mol at 0x7fe61e588300>"
            ]
          },
          "metadata": {
            "tags": []
          },
          "execution_count": 68
        }
      ]
    },
    {
      "cell_type": "markdown",
      "metadata": {
        "id": "7pOhwEzepcWk",
        "colab_type": "text"
      },
      "source": [
        "### 4.3 Aromatic Nitrogen Compounds(방향족 질소 화합물)\n",
        "방향족 질소의 경우 방향족 질소 기호인 n으로 지정될 수 있다."
      ]
    },
    {
      "cell_type": "code",
      "metadata": {
        "id": "s920sZz5pNOl",
        "colab_type": "code",
        "outputId": "fac2f566-c47d-4c9c-8551-c09bf964cf36",
        "colab": {
          "base_uri": "https://localhost:8080/",
          "height": 167
        }
      },
      "source": [
        "Chem.MolFromSmiles('n1ccccc1') # pyridine"
      ],
      "execution_count": 0,
      "outputs": [
        {
          "output_type": "execute_result",
          "data": {
            "image/png": "[encoded data removed]",
            "text/plain": [
              "<rdkit.Chem.rdchem.Mol at 0x7fe61e588440>"
            ]
          },
          "metadata": {
            "tags": []
          },
          "execution_count": 69
        }
      ]
    },
    {
      "cell_type": "code",
      "metadata": {
        "id": "86d8tNInqAqq",
        "colab_type": "code",
        "outputId": "e07880de-6220-47f6-98d9-5e600b1dd02b",
        "colab": {
          "base_uri": "https://localhost:8080/",
          "height": 167
        }
      },
      "source": [
        "Chem.MolFromSmiles('O=n1ccccc1') # pyridine-N-oxide"
      ],
      "execution_count": 0,
      "outputs": [
        {
          "output_type": "execute_result",
          "data": {
            "image/png": "[encoded data removed]",
            "text/plain": [
              "<rdkit.Chem.rdchem.Mol at 0x7fe61e588580>"
            ]
          },
          "metadata": {
            "tags": []
          },
          "execution_count": 70
        }
      ]
    },
    {
      "cell_type": "code",
      "metadata": {
        "id": "HHY23UWPqJSo",
        "colab_type": "code",
        "outputId": "9bc9c914-de58-40e9-f87c-9b7c59943df4",
        "colab": {
          "base_uri": "https://localhost:8080/",
          "height": 167
        }
      },
      "source": [
        "Chem.MolFromSmiles('Cn1cccc1') # methylpyrrole"
      ],
      "execution_count": 0,
      "outputs": [
        {
          "output_type": "execute_result",
          "data": {
            "image/png": "[encoded data removed]",
            "text/plain": [
              "<rdkit.Chem.rdchem.Mol at 0x7fe61e588350>"
            ]
          },
          "metadata": {
            "tags": []
          },
          "execution_count": 71
        }
      ]
    },
    {
      "cell_type": "code",
      "metadata": {
        "id": "sNO49F9HqZ8i",
        "colab_type": "code",
        "outputId": "a96ea2e0-05f0-471e-be1a-e3fcc1c8f484",
        "colab": {
          "base_uri": "https://localhost:8080/",
          "height": 167
        }
      },
      "source": [
        "Chem.MolFromSmiles('[nH]1cccc1') # pyrrole"
      ],
      "execution_count": 0,
      "outputs": [
        {
          "output_type": "execute_result",
          "data": {
            "image/png": "[encoded data removed]",
            "text/plain": [
              "<rdkit.Chem.rdchem.Mol at 0x7fe61e588530>"
            ]
          },
          "metadata": {
            "tags": []
          },
          "execution_count": 72
        }
      ]
    },
    {
      "cell_type": "code",
      "metadata": {
        "id": "UJdUFmpJHUA8",
        "colab_type": "code",
        "outputId": "c492b722-731b-42bb-a1d7-75f6add3e5c1",
        "colab": {
          "base_uri": "https://localhost:8080/",
          "height": 53
        }
      },
      "source": [
        "Chem.MolFromSmiles('n1cccc1') # pyrrole"
      ],
      "execution_count": 0,
      "outputs": [
        {
          "output_type": "stream",
          "text": [
            "RDKit ERROR: [12:37:37] Can't kekulize mol.  Unkekulized atoms: 0 1 2 3 4\n",
            "RDKit ERROR: \n"
          ],
          "name": "stderr"
        }
      ]
    },
    {
      "cell_type": "markdown",
      "metadata": {
        "id": "5SwIzNsSHWeR",
        "colab_type": "text"
      },
      "source": [
        "nH를 사용하지 않으면 결합을 확실히 알 수 없기 문에 오류가 난다."
      ]
    },
    {
      "cell_type": "markdown",
      "metadata": {
        "id": "0EKBMImQs9-d",
        "colab_type": "text"
      },
      "source": [
        "pyrrole의 질소는 pyridine의 질소와 구별하기 위해서 **[nH]**라고 쓴다."
      ]
    },
    {
      "cell_type": "markdown",
      "metadata": {
        "id": "IIJcaQX4vFhL",
        "colab_type": "text"
      },
      "source": [
        "### 4.4 Bonding Conventions (결합 관례)\n",
        "SMILES는 분자 구조를 모델링하기 위해 어떤 원자가 규칙을 사용해야하는지 지시하지 않습니다.SMILES를 사용하면 동일한 구조를 다양한 모델로 설명할 수 있고 원하는대로 원자의 전하를 나타낼 수 있다는 장점이 있습니다."
      ]
    },
    {
      "cell_type": "code",
      "metadata": {
        "id": "A8n7B8kGrQCK",
        "colab_type": "code",
        "outputId": "cdef3aee-5b62-4c79-dd12-e4c355b0dd8c",
        "colab": {
          "base_uri": "https://localhost:8080/",
          "height": 167
        }
      },
      "source": [
        "Chem.MolFromSmiles('CN(=O)=O') # nitromethane"
      ],
      "execution_count": 0,
      "outputs": [
        {
          "output_type": "execute_result",
          "data": {
            "image/png": "[encoded data removed]",
            "text/plain": [
              "<rdkit.Chem.rdchem.Mol at 0x7fe61e588990>"
            ]
          },
          "metadata": {
            "tags": []
          },
          "execution_count": 73
        }
      ]
    },
    {
      "cell_type": "code",
      "metadata": {
        "id": "-3nmsnthxaQV",
        "colab_type": "code",
        "outputId": "022877c5-73b0-4ddc-b4dd-09d11549c6b2",
        "colab": {
          "base_uri": "https://localhost:8080/",
          "height": 167
        }
      },
      "source": [
        "Chem.MolFromSmiles('C[N+](=O)[O-]') # nitromethane"
      ],
      "execution_count": 0,
      "outputs": [
        {
          "output_type": "execute_result",
          "data": {
            "image/png": "[encoded data removed]",
            "text/plain": [
              "<rdkit.Chem.rdchem.Mol at 0x7fe61e588a80>"
            ]
          },
          "metadata": {
            "tags": []
          },
          "execution_count": 74
        }
      ]
    },
    {
      "cell_type": "markdown",
      "metadata": {
        "id": "RcNwXQV4h-55",
        "colab_type": "text"
      },
      "source": [
        "일반적으로 대칭성이 문제가 되지 않는 경우 특이한 원자가 상태에서 원자를 나타내는 것을 피할 수 있으면 전하 분리 구조를 선호합니다. 예를 들어 diazomethane은 C=[N]=[N]보다 C=[N+]=[N-]로 하는 것을 선호합니다."
      ]
    },
    {
      "cell_type": "code",
      "metadata": {
        "id": "DvA3LY_WHGkG",
        "colab_type": "code",
        "outputId": "0d5b0ff9-a912-4a90-cbec-d0d9f622fb74",
        "colab": {
          "base_uri": "https://localhost:8080/",
          "height": 35
        }
      },
      "source": [
        "Chem.MolFromSmiles('C=N=N') # diazomethane"
      ],
      "execution_count": 0,
      "outputs": [
        {
          "output_type": "stream",
          "text": [
            "RDKit ERROR: [12:37:03] Explicit valence for atom # 1 N, 4, is greater than permitted\n"
          ],
          "name": "stderr"
        }
      ]
    },
    {
      "cell_type": "code",
      "metadata": {
        "id": "NPLxuVZdxeyd",
        "colab_type": "code",
        "outputId": "8a171319-9372-43a1-cd4a-e18daea330bd",
        "colab": {
          "base_uri": "https://localhost:8080/",
          "height": 167
        }
      },
      "source": [
        "Chem.MolFromSmiles('C=[N+]=[N-]') # diazomethane"
      ],
      "execution_count": 0,
      "outputs": [
        {
          "output_type": "execute_result",
          "data": {
            "image/png": "[encoded data removed]",
            "text/plain": [
              "<rdkit.Chem.rdchem.Mol at 0x7fe61e580210>"
            ]
          },
          "metadata": {
            "tags": []
          },
          "execution_count": 75
        }
      ]
    },
    {
      "cell_type": "markdown",
      "metadata": {
        "id": "BfArgUR-j1eD",
        "colab_type": "text"
      },
      "source": [
        "### 4.5 Tautomers\n",
        "Tautomeric 구조는 SMILES에서 명확하게 지정된다. \"tautomeric bond\", \"mobile hydrogen\", \"mobile charge\"에 대해 정해진 것은 없다. 하나의 tautomeric form을 고려할 때 대부분의 화학 정보 시스템은 필요한 경우 알려진 모든 tautomer에 대한 데이터를 보고할 것이다. SMILES의 역할은 요청된 tautomeric form과 데이터가 있는 위치를 정확히 지정하는 것이다."
      ]
    },
    {
      "cell_type": "code",
      "metadata": {
        "id": "NoHoHqaUiqji",
        "colab_type": "code",
        "outputId": "33168137-df2e-4bbc-d163-5f4cbe0178a8",
        "colab": {
          "base_uri": "https://localhost:8080/",
          "height": 167
        }
      },
      "source": [
        "Chem.MolFromSmiles('O=c1[nH]cccc1') # 2-pyridone"
      ],
      "execution_count": 0,
      "outputs": [
        {
          "output_type": "execute_result",
          "data": {
            "image/png": "[encoded data removed]",
            "text/plain": [
              "<rdkit.Chem.rdchem.Mol at 0x7fe61e572c60>"
            ]
          },
          "metadata": {
            "tags": []
          },
          "execution_count": 76
        }
      ]
    },
    {
      "cell_type": "code",
      "metadata": {
        "id": "wUk3NCZNkyoR",
        "colab_type": "code",
        "outputId": "6c345448-3362-4fe7-98ca-151bd3682257",
        "colab": {
          "base_uri": "https://localhost:8080/",
          "height": 167
        }
      },
      "source": [
        "Chem.MolFromSmiles('Oc1ncccc1') # 2-pyridinol"
      ],
      "execution_count": 0,
      "outputs": [
        {
          "output_type": "execute_result",
          "data": {
            "image/png": "[encoded data removed]",
            "text/plain": [
              "<rdkit.Chem.rdchem.Mol at 0x7fe61e588ad0>"
            ]
          },
          "metadata": {
            "tags": []
          },
          "execution_count": 78
        }
      ]
    },
    {
      "cell_type": "markdown",
      "metadata": {
        "id": "fti7qHBNIDz1",
        "colab_type": "text"
      },
      "source": [
        "SMILES Database\n",
        "\n",
        "- [GDB Databases](http://gdb.unibe.ch/downloads/)\n",
        "\n",
        "- [DrugCentral](http://drugcentral.org/download)\n",
        "\n"
      ]
    },
    {
      "cell_type": "code",
      "metadata": {
        "id": "mk3SLb4L6yMg",
        "colab_type": "code",
        "outputId": "1d815ed5-5219-4b03-8796-a33f2e71b226",
        "colab": {
          "base_uri": "https://localhost:8080/",
          "height": 269
        }
      },
      "source": [
        "import pandas as pd\n",
        "\n",
        "dataset = pd.read_csv(\"structures.smiles.tsv\", delimiter='\\t', header=0)\n",
        "\n",
        "print(dataset)"
      ],
      "execution_count": 0,
      "outputs": [
        {
          "output_type": "stream",
          "text": [
            "                                                 SMILES  ...        CAS_RN\n",
            "0                 CCCCN1CCCC[C@H]1C(=O)NC1=C(C)C=CC=C1C  ...    27262-47-1\n",
            "1     COC(=O)C1=C(C)NC(C)=C([C@H]1C1=CC(=CC=C1)[N+](...  ...    76093-36-2\n",
            "2     CCOC(=O)C1=C(C)NC(C)=C([C@@H]1C1=CC(=CC=C1)[N+...  ...    80873-62-7\n",
            "3         C[C@@H](CCC1=CC=C(O)C=C1)NCCC1=CC=C(O)C(O)=C1  ...    61661-06-1\n",
            "4     NC1=NC2=NC=C(CNC3=CC=C(C=C3)C(=O)N[C@@H](CCC(O...  ...       54-62-6\n",
            "...                                                 ...  ...           ...\n",
            "3976  CC[C@H](C)[C@H](NC(=O)[C@H](CC1=CC=C(O)C=C1)NC...  ...     4474-91-3\n",
            "3977  OC1=C2N(C[C@H]3O[C@@H]4CC[C@@H](C4)N3C2=O)C=C(...  ...  1611493-60-7\n",
            "3978  CC(C)(CO)C1=CC2=C(C=C(F)C(NC(=O)C3(CC3)C3=CC=C...  ...  1152311-62-0\n",
            "3979  CCCCC1(CCCC)CN(C2=CC=CC=C2)C2=C(C=C(OCC(=O)N[C...  ...   439087-18-0\n",
            "3980  CNC(=O)C1=CC=C(C=C1F)N1C(=S)N(C(=O)C11CCC1)C1=...  ...   956104-40-8\n",
            "\n",
            "[3981 rows x 6 columns]\n"
          ],
          "name": "stdout"
        }
      ]
    },
    {
      "cell_type": "code",
      "metadata": {
        "id": "4dTTvDhwOFSr",
        "colab_type": "code",
        "outputId": "7f7be0cb-e1a4-4752-9dff-fe728b080a16",
        "colab": {
          "base_uri": "https://localhost:8080/",
          "height": 167
        }
      },
      "source": [
        "Chem.MolFromSmiles('CCCCN1CCCC[C@H]1C(=O)NC1=C(C)C=CC=C1C') "
      ],
      "execution_count": 0,
      "outputs": [
        {
          "output_type": "execute_result",
          "data": {
            "image/png": "[encoded data removed]",
            "text/plain": [
              "<rdkit.Chem.rdchem.Mol at 0x7f18dfbd2440>"
            ]
          },
          "metadata": {
            "tags": []
          },
          "execution_count": 9
        }
      ]
    },
    {
      "cell_type": "markdown",
      "metadata": {
        "id": "RY45KdjrHSU8",
        "colab_type": "text"
      },
      "source": [
        "# Ⅱ. Sequence to Sequence\n",
        "## 1. seq2seq \n",
        "시퀀스-투-시퀀스(Sequence-to-Sequence)는 입력된 시퀀스로부터 다른 도메인의 시퀀스를 출력하는 다양한 분야에서 사용되는 모델입니다. 예를 들어 챗봇(Chatbot)과 기계 번역(Machine Translation)이 그러한 대표적인 예인데, 입력 시퀀스와 출력 시퀀스를 각각 질문과 대답으로 구성하면 챗봇으로 만들 수 있고, 입력 시퀀스와 출력 시퀀스를 각각 입력 문장과 번역 문장으로 만들면 번역기로 만들 수 있습니다."
      ]
    },
    {
      "cell_type": "markdown",
      "metadata": {
        "id": "u-Vl60WvIN7j",
        "colab_type": "text"
      },
      "source": [
        "![seq2seq_01](https://user-images.githubusercontent.com/52767505/70228477-c3c21b00-1797-11ea-8140-840c0aee2ddb.png)\n",
        "\n",
        "위의 그림은 seq2seq 모델로 만들어진 번역기가 'I love you'라는 영어 문장을 받아서, 'Nan nul saranghey(난 널 사랑해)'라는 한국어 문장을 출력하는 모습을 보여줍니다. 지금부터 seq2seq 모델 내부 구성을 알아보겠습니다."
      ]
    },
    {
      "cell_type": "markdown",
      "metadata": {
        "id": "slzFkoEpQcDw",
        "colab_type": "text"
      },
      "source": [
        "![seq2seq_02](https://user-images.githubusercontent.com/52767505/70228479-c45ab180-1797-11ea-9e70-87c6e0077258.png)\n",
        "\n",
        "seq2seq는 크게 인코더와 디코더로 구성되어 있습니다. 인코더는 입력 문장의 모든 단어들을 순차적으로 입력받은 뒤, 마지막에 이 모든 단어 정보들을 압축해서 하나의 벡터로 만듭니다. 이 벡터를 context vector라고 합니다. 입력 문장의 정보가 하나의 context vector로 모두 압축되면, 이 벡터를 디코더로 전송합니다. 디코더는 context vector를 받아서 번역된 단어를 한 개씩 순차적으로 출력합니다."
      ]
    },
    {
      "cell_type": "markdown",
      "metadata": {
        "id": "ayPbWYYLQiST",
        "colab_type": "text"
      },
      "source": [
        "![seq2seq_03](https://user-images.githubusercontent.com/52767505/70228480-c45ab180-1797-11ea-986f-e71968240e26.png)\n",
        "\n",
        "인코더와 디코더는 각각 여러개의 RNN 셀로 구성되어 있습니다. 입력 문장을 받는 RNN 셀을 인코더라고 하고, 출력 문장을 내보내는 RNN 셀을 디코더라고 합니다. 일반적으로 RNN 셀의 성능문제 때문에 LSTM 셀이나 GRU 셀을 사용합니다. \n",
        "\n",
        "우선 인코더에서 입력 문장은 단어 단위로 쪼개져서 RNN 셀 각각의 입력이 됩니다. 인코더의 마지막 RNN 셀의 은닉 상태를 디코더의 RNN 셀로 넘겨주는데, 이를 컨텍스트 벡터라고 합니다. 이렇게 만들어진 컨텍스트 벡터는 앞에서 받은 모든 입력 값의 데이터를 함축적으로 가지고 있습니다. 컨텍스트 벡터는 다시 디코더 RNN 셀의 첫번째 은닉 상태로 사용됩니다.\n",
        "\n",
        "컨텍스트 벡터를 받은 디코더는 초기 입력으로 문장의 시작을 의미하는 ```<start> ```심볼을 받습니다. 디코더가 ```<start>``` 심볼을 받으면 현재 시점에서 등장할 확률이 높은 단어를 예측합니다. 디코더의 첫번째 RNN 셀은 예측된 단어를 다음 시점의 RNN 셀의 입력으로 보냅니다. 그다음 RNN 셀은 입력된 단어로부터 다시 다음에 올 단어를 예측합니다. 디코더는 이런 식으로 입력된 단어의 다음에 올 단어를 예측하고 다음 시점의 RNN 셀의 입력으로 넣는 과정을 반복합니다. 문장의 끝을 의미하는 ```<end>``` 심볼이 다음 단어로 예측될 때 까지 이 과정을 반복합니다."
      ]
    },
    {
      "cell_type": "markdown",
      "metadata": {
        "id": "rIKHhSJ5bVJO",
        "colab_type": "text"
      },
      "source": [
        "## 2. Encoder\n",
        "\n",
        "### 2.1 Encoder\n",
        "\n",
        "![seq2seq_07](https://user-images.githubusercontent.com/52767505/70231538-ddfef780-179d-11ea-9483-67391f9d59f3.png)\n",
        "\n",
        "인코더에서 각각의 RNN 셀이 받은 입력을 어떻게 다음 RNN 셀로 넘기는지 좀 더 자세히 알아보도록 하겠습니다. \n",
        "\n",
        "현재 시점(time step)을 t라고 할 때, RNN 셀은 t-1에서의 은닉 상태와 t에서의 입력 벡터를 입력으로 받고, t에서의 은닉 상태를 만듭니다. 이때 t에서의 은닉 상태는 바로 위에 또 다른 은닉층이나 출력층이 존재할 경우에는 위의 층으로 보내거나, 필요없으면 값을 무시할 수 있습니다. 그리고 RNN 셀은 다음 시점에 해당하는 t+1의 RNN 셀의 입력으로 현재 t에서의 은닉 상태를 입력으로 보냅니다.\n",
        "\n",
        "RNN 챕터에서도 언급했지만, 이런 구조에서 현재 시점 t에서의 은닉 상태는 과거 시점의 동일한 RNN 셀에서의 모든 은닉 상태의 값들의 영향을 누적해서 받아온 값이라고 할 수 있습니다. 그렇기 때문에 앞서 우리가 언급했던 컨텍스트 벡터는 사실 인코더에서의 마지막 RNN 셀의 은닉 상태값을 말하는 것이며, 이는 입력 문장의 모든 단어 토큰들의 정보를 요약해서 담고있다고 할 수 있습니다."
      ]
    },
    {
      "cell_type": "markdown",
      "metadata": {
        "id": "TkhI9WljtcoA",
        "colab_type": "text"
      },
      "source": [
        "### 2.2 Embedding Layer\n",
        "\n",
        "텍스트를 컴퓨터가 이해하고, 효율적으로 처리하게 하기 위해서는 컴퓨터가 이해할 수 있도록 텍스트를 적절히 변환할 필요가 있습니다. 단어를 표현하는 방법에 따라서 텍스트 처리의 성능이 크게 달라지기 때문입니다. 텍스트를 변환하는 방법으로는 'Word Embedding', 'Word2Vec', 'Glove'가 일반적으로 사용되고 있습니다.\n",
        "\n",
        "![seq2seq_05](https://user-images.githubusercontent.com/52767505/70232056-e277e000-179e-11ea-860f-c045d157a2fb.png)\n",
        "\n",
        "Seq2seq에서는 텍스트를 숫자로 변환하는 워드 임베딩을 이용합니다. 워드 임베딩은 단어를 벡터로 표현하는 것을 말합니다. 즉, seq2seq에서 사용되는 모든 단어들은 워드 임베딩을 통해 임베딩 벡터로 표현된 임베딩 벡터입니다. \n",
        "\n",
        "![seq2seq_06](https://user-images.githubusercontent.com/52767505/70231575-f242f480-179d-11ea-9a48-fb3726c3b8be.png)\n",
        "\n",
        "예를 들어 I, love, you라는 단어들에 대한 임베딩 벡터는 위와 같은 모습을 가집니다. 여기서는 그림으로 표현하고자 사이즈를 4로 했지만, 일반적으로 임베딩 벡터는 수백 개의 차원을 가질 수 있습니다.\n"
      ]
    },
    {
      "cell_type": "markdown",
      "metadata": {
        "id": "GQcV1r9oq1QJ",
        "colab_type": "text"
      },
      "source": [
        "## 3. Decoder\n",
        "\n",
        "### 3.1 Teacher Forcing\n",
        "\n",
        "![seq2seq_08](https://user-images.githubusercontent.com/52767505/70232055-e277e000-179e-11ea-9bc1-83b63383049c.png)\n",
        "\n",
        "Seq2seq는 훈련 과정과 테스트 과정의 작동 방식이 조금 다릅니다. 앞에서 설명한 과정은 테스트 과정에 해당됩니다. 반면, 훈련 과정에서는 교사 강요(teacher forcing)라는 방법을 이용합니다. 교사 강요란 디코더에게 인코더가 보낸 컨텍스트 벡터와 실제 정답인 \"<start> I love you\"를 입력 받았을 때, \"Nan nul saranghey <end>\"가 나와야 된다고 정답을 알려주면서 훈련하는 것입니다.\n",
        "\n",
        "교사 강요를 사용하는 이유는 이전 시점의 디코더 셀의 예측이 틀렸는데 이를 현재 시점의 디코더 셀의 입력으로 사용하면 현재 시점의 디코더 셀의 예측도 잘못될 가능성이 높기 때문입니다. 이는 연쇄 작용으로 디코더 전체의 예측을 어렵게하고, 이런 상황이 반복되면 훈련 시간이 느려집니다."
      ]
    },
    {
      "cell_type": "markdown",
      "metadata": {
        "id": "MRvuU-_o2R60",
        "colab_type": "text"
      },
      "source": [
        "### 3.2 Decoder\n",
        "\n",
        "디코더에서 RNN 셀이 입력을 다음 RNN 셀로 넘기는 방법은 인코더와 동일합니다. 단, 첫번째 은닉 상태의 값으로 인코더의 마지막 RNN 셀의 은닉 상태인 컨텍스트 벡터를 사용한다는 점이 다릅니다. 디코더의 첫번째 RNN 셀은 이 첫번째 은닉 상태의 값과, 현재 t에서의 입력값인 ```<start>```로부터, 다음에 등장할 단어를 예측합니다. 그리고 이 예측된 단어는 다음 시점인 t+1 RNN에서의 입력값이 되고, 이 t+1에서의 RNN 또한 이 입력값과 t에서의 은닉 상태로부터 t+1에서의 출력 벡터. 즉, 또 다시 다음에 등장할 단어를 예측하게 될 것입니다. "
      ]
    },
    {
      "cell_type": "markdown",
      "metadata": {
        "id": "BtMH_HcX271a",
        "colab_type": "text"
      },
      "source": [
        "### 3.3 Softmax Equation\n",
        "\n",
        "![seq2seq_09](https://user-images.githubusercontent.com/52767505/70232845-a9d90600-17a0-11ea-8577-ef6b8fcd2707.png)\n",
        "\n",
        "출력 단어로 나올 수 있는 단어들은 다양한 단어들이 있습니다. seq2seq 모델은 선택될 수 있는 모든 단어들로부터 하나의 단어를 골라서 예측해야 합니다. 이를 예측하기 위해 소프트맥스 함수를 이용합니다. 디코더에서 각 시점(time step)의 RNN 셀에서 출력 벡터가 나오면, 해당 벡터는 소프트맥스 함수를 통해 출력 시퀀스의 각 단어별 확률값을 반환하고, 디코더는 출력 단어를 결정합니다."
      ]
    },
    {
      "cell_type": "markdown",
      "metadata": {
        "id": "zjYqyVzk4SO0",
        "colab_type": "text"
      },
      "source": [
        "# Ⅲ Seq2seq와 SMILES를 이용한 Drug Discovery"
      ]
    },
    {
      "cell_type": "markdown",
      "metadata": {
        "id": "O7NunNEBVj5I",
        "colab_type": "text"
      },
      "source": [
        "##1. Seq2seq Fingerprint Model\n",
        "\n",
        "화학 특성을 자동으로 예측하기 위해 기계 학습 방법을 사용하는 것은 최근 약물 발견 커뮤니티에 큰 관심을 불러일으켰다. 그러나 대부분의 기계 학습 알고리즘은 고정된 길이의 연속 특성 벡터를 입력으로 사용한다. 따라서 분자들을 고정된 길이의 벡터로 표현하는 방법이 필요하다. \n",
        "\n",
        "이러한 문제를 해결하기 위해 'seq2seq fingerprint'를 사용한다. seq2seq fingerprint는 비지도 데이터와 딥러닝에 기반하는 분자 지문 방법이다. 이 방법은 전문적인 지식을 요구하지 않는 데이터를 기반으로 하고, 다시 분자 표현 형태로 전환할 수 있으며, 충분한 양의 데이터를 보장한다는 장점이 있다. 또한 레이블이 없기 때문에 고도의 인력과 비용을 필요로 하지 않는다.\n",
        "\n",
        "모델이 잘 훈련된다면, 특성 벡터가 원본 분자의 모든 정보를 코드화 했다고 볼 수 있다. 따라서 seq2seq fingerprint는 엄밀한 정보를 모두 담고 있다고 추측하고, 이를 통해 분자의 특성을 예측할 수 있다. \n",
        "\n",
        "![xu2017_02](https://user-images.githubusercontent.com/52767505/70285828-3371ed80-180c-11ea-9643-cd01cb90784b.PNG)\n",
        "\n",
        "첫번째로 seq2seq fingerprint 모델을 레이블이 없는 방대한 양의 샘플로 훈련시킨다. 그 다음 훈련된 모델로 레이블이 있는 데이터에서 seq2seq fingerprint를 생성한다. 예측 모델을 훈련하기 위해, 생성된 fingerprint와 레이블이 있는 데이터를 지도 학습 방법에 적용시킨다.\n",
        "\n",
        "이러한 방법은 방대한 양의 레이블이 없는 데이터에서 상대적으로 적은 레이블이 있는 데이터에 대한 지도 훈련으로 지식을 전달할 수 있도록 한다. 즉, 최종적으로 예측 모델의 성능을 향상시키도록 한다.\n",
        "\n",
        "비지도 seq2seq fingerprint 방법의 핵심은 입력과 출력을 SMILE로 설정한다는 것이다. 즉, SMILE 스트링을 SMILE로 번역한다. 이러한 과정의 중간 단계에서 고정된 길이의 벡터를 fingerprint로 추출한다.\n",
        "\n",
        "이 논문에서는 seq2seq fingerprint로 불리는 새로운 비지도 분자 표현 시스템에 대해서 논의한다. 영어를 프랑스어로 번역하는 모델인 sequence to sequence 학습 모델에 기반한다. 이 모델은 분자의 SMILE 스트링을 SMILE로 변환함과 동시에 고정된 길이의 fingerprint 벡터를 생성한다. 분류 작업에 관한 실험에서 뛰어난 성능을 나타낸다. 또한, 데이터 기반 라벨이 없는 모델의 특성은 우리에게 훨씬 더 많은 이점을 가져다 준다. seq2seq fingerprint 시스템은 완전한 비지도 시스템이기 때문에, 고비용의 레이블 수집 과정이 필요없다. 즉, 각각의 유효한 분자를 이용할 수 있으며, 이론적으로는 무한의 양에 도달한다. 매우 제한된 데이터 샘플로 훈련한 지도학습모델과는 다르게, seq2seq fingerprint는 충분히 많은 양의 샘플로 훈련하기 때문에 보다 특정한 분야에 강하다."
      ]
    },
    {
      "cell_type": "markdown",
      "metadata": {
        "id": "WKTMYP1CNGKn",
        "colab_type": "text"
      },
      "source": [
        "## 2. Keras를 이용한 RNN 기반 자동 인코더\n",
        "\n",
        "지금부터 Keras를 이용하여 RNN 기반의 자동 인코더를 만들어 보고자 한다. 훈련된 자동 인코더는 인코더와 디코더로 사용될 수 있다. 디코더는 관심 있는 특성을 지닌 분자와 유사한 분자를 생성한다.\n",
        "\n",
        "데이터 셋은 ```http://gdb.unibe.ch/downloads/```에서 다운로드했다.\n"
      ]
    },
    {
      "cell_type": "code",
      "metadata": {
        "id": "O9cDSNC9CFVL",
        "colab_type": "code",
        "colab": {}
      },
      "source": [
        "# General Imports\n",
        "import os\n",
        "import pandas as pd\n",
        "import numpy as np\n",
        "from rdkit import Chem\n",
        "from rdkit.Chem import Draw, Descriptors\n",
        "from matplotlib import pyplot as plt\n",
        "%matplotlib inline"
      ],
      "execution_count": 0,
      "outputs": []
    },
    {
      "cell_type": "code",
      "metadata": {
        "id": "oolT8t80d19s",
        "colab_type": "code",
        "outputId": "b2a9cf7d-d6d4-479c-c2fc-9a0ac02e2bf0",
        "colab": {
          "base_uri": "https://localhost:8080/",
          "height": 125
        }
      },
      "source": [
        "try:\n",
        "\n",
        "    %tensorflow_version 1.x  # %tensorflow_version only exists in Colab\n",
        "\n",
        "except Exception:\n",
        "\n",
        "    pass"
      ],
      "execution_count": 0,
      "outputs": [
        {
          "output_type": "stream",
          "text": [
            "`%tensorflow_version` only switches the major version: `1.x` or `2.x`.\n",
            "You set: `1.x  # %tensorflow_version only exists in Colab`. This will be interpreted as: `1.x`.\n",
            "\n",
            "\n",
            "TensorFlow 1.x selected.\n"
          ],
          "name": "stdout"
        }
      ]
    },
    {
      "cell_type": "code",
      "metadata": {
        "id": "SrajNPFAd5Q6",
        "colab_type": "code",
        "outputId": "e140663e-9d7c-40dc-e2f7-5c75e71dcb86",
        "colab": {
          "base_uri": "https://localhost:8080/",
          "height": 52
        }
      },
      "source": [
        "smifile = \"GDBMedChem.smi\"\n",
        "data = pd.read_csv(smifile, delimiter = \" \", names = [\"smiles\",\"No\"])\n",
        "data=data[0:200000]\n",
        "from sklearn.model_selection import train_test_split\n",
        "smiles_train, smiles_test = train_test_split(data[\"smiles\"], random_state=42)\n",
        "print(smiles_train.shape)\n",
        "print(smiles_test.shape)"
      ],
      "execution_count": 0,
      "outputs": [
        {
          "output_type": "stream",
          "text": [
            "(150000,)\n",
            "(50000,)\n"
          ],
          "name": "stdout"
        }
      ]
    },
    {
      "cell_type": "code",
      "metadata": {
        "id": "-p2WAUeIi-JZ",
        "colab_type": "code",
        "outputId": "dea0c20c-066c-49bc-9259-3503f983cc15",
        "colab": {
          "base_uri": "https://localhost:8080/",
          "height": 72
        }
      },
      "source": [
        "charset = set(\"\".join(list(data.smiles))+\"!E\")\n",
        "char_to_int = dict((c,i) for i,c in enumerate(charset))\n",
        "int_to_char = dict((i,c) for i,c in enumerate(charset))\n",
        "embed = max([len(smile) for smile in data.smiles]) + 5\n",
        "print(str( charset))\n",
        "print(len(charset), embed)"
      ],
      "execution_count": 0,
      "outputs": [
        {
          "output_type": "stream",
          "text": [
            "{'F', 'o', 'N', 'n', '-', 'l', '1', '=', '!', '(', 'C', '[', 's', 'E', '3', 'O', 'S', '#', ']', '2', ')', 'H', '+', 'c'}\n",
            "24 58\n"
          ],
          "name": "stdout"
        }
      ]
    },
    {
      "cell_type": "code",
      "metadata": {
        "id": "lqcD5vh-jBGZ",
        "colab_type": "code",
        "outputId": "a7156fbf-4ad5-4244-854c-1214aadd2db0",
        "colab": {
          "base_uri": "https://localhost:8080/",
          "height": 310
        }
      },
      "source": [
        "def vectorize(smiles):\n",
        "        one_hot =  np.zeros((smiles.shape[0], embed , len(charset)),dtype=np.int8)\n",
        "        for i,smile in enumerate(smiles):\n",
        "            #encode the startchar\n",
        "            one_hot[i,0,char_to_int[\"!\"]] = 1\n",
        "            #encode the rest of the chars\n",
        "            for j,c in enumerate(smile):\n",
        "                one_hot[i,j+1,char_to_int[c]] = 1\n",
        "            #Encode endchar\n",
        "            one_hot[i,len(smile)+1:,char_to_int[\"E\"]] = 1\n",
        "        #Return two, one for input and the other for output\n",
        "        return one_hot[:,0:-1,:], one_hot[:,1:,:]\n",
        "X_train, Y_train = vectorize(smiles_train.values)\n",
        "X_test,Y_test = vectorize(smiles_test.values)\n",
        "print(smiles_train.iloc[0])\n",
        "plt.matshow(X_train[0].T)\n",
        "#print X_train.shape"
      ],
      "execution_count": 0,
      "outputs": [
        {
          "output_type": "stream",
          "text": [
            "CC1C([NH3+])C1NC1(C)CCC[NH2+]C1\n"
          ],
          "name": "stdout"
        },
        {
          "output_type": "execute_result",
          "data": {
            "text/plain": [
              "<matplotlib.image.AxesImage at 0x7fea71614630>"
            ]
          },
          "metadata": {
            "tags": []
          },
          "execution_count": 6
        },
        {
          "output_type": "display_data",
          "data": {
            "image/png": "[encoded data removed]",
            "text/plain": [
              "<Figure size 684x288 with 1 Axes>"
            ]
          },
          "metadata": {
            "tags": []
          }
        }
      ]
    },
    {
      "cell_type": "code",
      "metadata": {
        "id": "JyrbEqyFjCkW",
        "colab_type": "code",
        "outputId": "afb7dcaa-5066-4411-daf1-ab43ef7a8a3f",
        "colab": {
          "base_uri": "https://localhost:8080/",
          "height": 34
        }
      },
      "source": [
        "\"\".join([int_to_char[idx] for idx in np.argmax(X_train[0,:,:], axis=1)])"
      ],
      "execution_count": 0,
      "outputs": [
        {
          "output_type": "execute_result",
          "data": {
            "text/plain": [
              "'!CC1C([NH3+])C1NC1(C)CCC[NH2+]C1EEEEEEEEEEEEEEEEEEEEEEEEE'"
            ]
          },
          "metadata": {
            "tags": []
          },
          "execution_count": 7
        }
      ]
    },
    {
      "cell_type": "code",
      "metadata": {
        "id": "v6ZTxDvyjT8Q",
        "colab_type": "code",
        "outputId": "e07cd6e7-efd1-4a8b-95c0-f2eec38c3409",
        "colab": {
          "base_uri": "https://localhost:8080/",
          "height": 34
        }
      },
      "source": [
        "#Import Keras objects\n",
        "from keras.models import Model\n",
        "from keras.layers import Input\n",
        "from keras.layers import LSTM\n",
        "from keras.layers import Dense\n",
        "from keras.layers import Concatenate\n",
        "from keras import regularizers\n",
        "input_shape = X_train.shape[1:]\n",
        "output_dim = Y_train.shape[-1]\n",
        "latent_dim = 64\n",
        "lstm_dim = 64"
      ],
      "execution_count": 0,
      "outputs": [
        {
          "output_type": "stream",
          "text": [
            "Using TensorFlow backend.\n"
          ],
          "name": "stderr"
        }
      ]
    },
    {
      "cell_type": "code",
      "metadata": {
        "id": "MguHU6zRjWCH",
        "colab_type": "code",
        "outputId": "9f44b088-f0da-4c01-f68c-aeeeb20b4d96",
        "colab": {
          "base_uri": "https://localhost:8080/",
          "height": 142
        }
      },
      "source": [
        "unroll = False\n",
        "encoder_inputs = Input(shape=input_shape)\n",
        "encoder = LSTM(lstm_dim, return_state=True,\n",
        "                unroll=unroll)\n",
        "encoder_outputs, state_h, state_c = encoder(encoder_inputs)\n",
        "states = Concatenate(axis=-1)([state_h, state_c])\n",
        "neck = Dense(latent_dim, activation=\"relu\")\n",
        "neck_outputs = neck(states)"
      ],
      "execution_count": 0,
      "outputs": [
        {
          "output_type": "stream",
          "text": [
            "WARNING:tensorflow:From /usr/local/lib/python3.6/dist-packages/keras/backend/tensorflow_backend.py:66: The name tf.get_default_graph is deprecated. Please use tf.compat.v1.get_default_graph instead.\n",
            "\n",
            "WARNING:tensorflow:From /usr/local/lib/python3.6/dist-packages/keras/backend/tensorflow_backend.py:541: The name tf.placeholder is deprecated. Please use tf.compat.v1.placeholder instead.\n",
            "\n",
            "WARNING:tensorflow:From /usr/local/lib/python3.6/dist-packages/keras/backend/tensorflow_backend.py:4432: The name tf.random_uniform is deprecated. Please use tf.random.uniform instead.\n",
            "\n"
          ],
          "name": "stdout"
        }
      ]
    },
    {
      "cell_type": "code",
      "metadata": {
        "id": "36Ebx-rkjYOP",
        "colab_type": "code",
        "outputId": "d2af9228-ba1e-4597-e4b7-2d2affb331b9",
        "colab": {
          "base_uri": "https://localhost:8080/",
          "height": 565
        }
      },
      "source": [
        "decode_h = Dense(lstm_dim, activation=\"relu\")\n",
        "decode_c = Dense(lstm_dim, activation=\"relu\")\n",
        "state_h_decoded =  decode_h(neck_outputs)\n",
        "state_c_decoded =  decode_c(neck_outputs)\n",
        "encoder_states = [state_h_decoded, state_c_decoded]\n",
        "decoder_inputs = Input(shape=input_shape)\n",
        "decoder_lstm = LSTM(lstm_dim,\n",
        "                    return_sequences=True,\n",
        "                    unroll=unroll\n",
        "                   )\n",
        "decoder_outputs = decoder_lstm(decoder_inputs, initial_state=encoder_states)\n",
        "decoder_dense = Dense(output_dim, activation='softmax')\n",
        "decoder_outputs = decoder_dense(decoder_outputs)\n",
        "#Define the model, that inputs the training vector for two places, and predicts one character ahead of the input\n",
        "model = Model([encoder_inputs, decoder_inputs], decoder_outputs)\n",
        "print(model.summary())"
      ],
      "execution_count": 0,
      "outputs": [
        {
          "output_type": "stream",
          "text": [
            "Model: \"model_1\"\n",
            "__________________________________________________________________________________________________\n",
            "Layer (type)                    Output Shape         Param #     Connected to                     \n",
            "==================================================================================================\n",
            "input_1 (InputLayer)            (None, 57, 24)       0                                            \n",
            "__________________________________________________________________________________________________\n",
            "lstm_1 (LSTM)                   [(None, 64), (None,  22784       input_1[0][0]                    \n",
            "__________________________________________________________________________________________________\n",
            "concatenate_1 (Concatenate)     (None, 128)          0           lstm_1[0][1]                     \n",
            "                                                                 lstm_1[0][2]                     \n",
            "__________________________________________________________________________________________________\n",
            "dense_1 (Dense)                 (None, 64)           8256        concatenate_1[0][0]              \n",
            "__________________________________________________________________________________________________\n",
            "input_2 (InputLayer)            (None, 57, 24)       0                                            \n",
            "__________________________________________________________________________________________________\n",
            "dense_2 (Dense)                 (None, 64)           4160        dense_1[0][0]                    \n",
            "__________________________________________________________________________________________________\n",
            "dense_3 (Dense)                 (None, 64)           4160        dense_1[0][0]                    \n",
            "__________________________________________________________________________________________________\n",
            "lstm_2 (LSTM)                   (None, 57, 64)       22784       input_2[0][0]                    \n",
            "                                                                 dense_2[0][0]                    \n",
            "                                                                 dense_3[0][0]                    \n",
            "__________________________________________________________________________________________________\n",
            "dense_4 (Dense)                 (None, 57, 24)       1560        lstm_2[0][0]                     \n",
            "==================================================================================================\n",
            "Total params: 63,704\n",
            "Trainable params: 63,704\n",
            "Non-trainable params: 0\n",
            "__________________________________________________________________________________________________\n",
            "None\n"
          ],
          "name": "stdout"
        }
      ]
    },
    {
      "cell_type": "code",
      "metadata": {
        "id": "cEurv3c5kSep",
        "colab_type": "code",
        "outputId": "e9bc716d-3a76-4769-a85c-091939e36331",
        "colab": {
          "base_uri": "https://localhost:8080/",
          "height": 72
        }
      },
      "source": [
        "from keras.callbacks import History, ReduceLROnPlateau\n",
        "h = History()\n",
        "rlr = ReduceLROnPlateau(monitor='val_loss', factor=0.5,patience=10, min_lr=0.000001, verbose=1, epsilon=1e-5)\n"
      ],
      "execution_count": 0,
      "outputs": [
        {
          "output_type": "stream",
          "text": [
            "/usr/local/lib/python3.6/dist-packages/keras/callbacks.py:1335: UserWarning: `epsilon` argument is deprecated and will be removed, use `min_delta` instead.\n",
            "  warnings.warn('`epsilon` argument is deprecated and '\n"
          ],
          "name": "stderr"
        }
      ]
    },
    {
      "cell_type": "code",
      "metadata": {
        "id": "Ts-w_ppTkUV-",
        "colab_type": "code",
        "outputId": "250e0024-337d-4b10-b594-034f7de45640",
        "colab": {
          "base_uri": "https://localhost:8080/",
          "height": 107
        }
      },
      "source": [
        "from keras.optimizers import RMSprop, Adam\n",
        "opt=Adam(lr=0.005) #Default 0.001\n",
        "model.compile(optimizer=opt, loss='categorical_crossentropy')"
      ],
      "execution_count": 0,
      "outputs": [
        {
          "output_type": "stream",
          "text": [
            "WARNING:tensorflow:From /usr/local/lib/python3.6/dist-packages/keras/optimizers.py:793: The name tf.train.Optimizer is deprecated. Please use tf.compat.v1.train.Optimizer instead.\n",
            "\n",
            "WARNING:tensorflow:From /usr/local/lib/python3.6/dist-packages/keras/backend/tensorflow_backend.py:3576: The name tf.log is deprecated. Please use tf.math.log instead.\n",
            "\n"
          ],
          "name": "stdout"
        }
      ]
    },
    {
      "cell_type": "code",
      "metadata": {
        "id": "NS6l_JwMkVZr",
        "colab_type": "code",
        "outputId": "baad420a-c99f-46aa-e75f-5b0d61be5157",
        "colab": {
          "base_uri": "https://localhost:8080/",
          "height": 758
        }
      },
      "source": [
        "model.fit([X_train,X_train],Y_train,\n",
        "                    epochs=10,\n",
        "                    batch_size=256,\n",
        "                    shuffle=True,\n",
        "                    callbacks=[h, rlr],\n",
        "                    validation_data=[[X_test,X_test],Y_test ])\n"
      ],
      "execution_count": 0,
      "outputs": [
        {
          "output_type": "stream",
          "text": [
            "WARNING:tensorflow:From /usr/local/lib/python3.6/dist-packages/tensorflow_core/python/ops/math_grad.py:1424: where (from tensorflow.python.ops.array_ops) is deprecated and will be removed in a future version.\n",
            "Instructions for updating:\n",
            "Use tf.where in 2.0, which has the same broadcast rule as np.where\n",
            "WARNING:tensorflow:From /usr/local/lib/python3.6/dist-packages/keras/backend/tensorflow_backend.py:1033: The name tf.assign_add is deprecated. Please use tf.compat.v1.assign_add instead.\n",
            "\n",
            "WARNING:tensorflow:From /usr/local/lib/python3.6/dist-packages/keras/backend/tensorflow_backend.py:1020: The name tf.assign is deprecated. Please use tf.compat.v1.assign instead.\n",
            "\n",
            "WARNING:tensorflow:From /usr/local/lib/python3.6/dist-packages/keras/backend/tensorflow_backend.py:3005: The name tf.Session is deprecated. Please use tf.compat.v1.Session instead.\n",
            "\n",
            "Train on 150000 samples, validate on 50000 samples\n",
            "Epoch 1/10\n",
            "WARNING:tensorflow:From /usr/local/lib/python3.6/dist-packages/keras/backend/tensorflow_backend.py:190: The name tf.get_default_session is deprecated. Please use tf.compat.v1.get_default_session instead.\n",
            "\n",
            "WARNING:tensorflow:From /usr/local/lib/python3.6/dist-packages/keras/backend/tensorflow_backend.py:197: The name tf.ConfigProto is deprecated. Please use tf.compat.v1.ConfigProto instead.\n",
            "\n",
            "WARNING:tensorflow:From /usr/local/lib/python3.6/dist-packages/keras/backend/tensorflow_backend.py:207: The name tf.global_variables is deprecated. Please use tf.compat.v1.global_variables instead.\n",
            "\n",
            "WARNING:tensorflow:From /usr/local/lib/python3.6/dist-packages/keras/backend/tensorflow_backend.py:216: The name tf.is_variable_initialized is deprecated. Please use tf.compat.v1.is_variable_initialized instead.\n",
            "\n",
            "WARNING:tensorflow:From /usr/local/lib/python3.6/dist-packages/keras/backend/tensorflow_backend.py:223: The name tf.variables_initializer is deprecated. Please use tf.compat.v1.variables_initializer instead.\n",
            "\n",
            "150000/150000 [==============================] - 106s 707us/step - loss: 0.6487 - val_loss: 0.4939\n",
            "Epoch 2/10\n",
            "150000/150000 [==============================] - 101s 673us/step - loss: 0.4571 - val_loss: 0.4233\n",
            "Epoch 3/10\n",
            "150000/150000 [==============================] - 99s 661us/step - loss: 0.4103 - val_loss: 0.3873\n",
            "Epoch 4/10\n",
            "150000/150000 [==============================] - 99s 659us/step - loss: 0.3773 - val_loss: 0.3576\n",
            "Epoch 5/10\n",
            "150000/150000 [==============================] - 99s 659us/step - loss: 0.3474 - val_loss: 0.3664\n",
            "Epoch 6/10\n",
            "150000/150000 [==============================] - 98s 656us/step - loss: 0.3192 - val_loss: 0.3009\n",
            "Epoch 7/10\n",
            "150000/150000 [==============================] - 98s 654us/step - loss: 0.2958 - val_loss: 0.2852\n",
            "Epoch 8/10\n",
            "150000/150000 [==============================] - 98s 656us/step - loss: 0.2810 - val_loss: 0.2721\n",
            "Epoch 9/10\n",
            "150000/150000 [==============================] - 98s 655us/step - loss: 0.2705 - val_loss: 0.2653\n",
            "Epoch 10/10\n",
            "150000/150000 [==============================] - 98s 656us/step - loss: 0.2624 - val_loss: 0.2699\n"
          ],
          "name": "stdout"
        },
        {
          "output_type": "execute_result",
          "data": {
            "text/plain": [
              "<keras.callbacks.History at 0x7fea35918978>"
            ]
          },
          "metadata": {
            "tags": []
          },
          "execution_count": 13
        }
      ]
    },
    {
      "cell_type": "code",
      "metadata": {
        "id": "D6_9mRnzwGTK",
        "colab_type": "code",
        "outputId": "9273add3-7623-4072-c40b-5413fe7f3377",
        "colab": {
          "base_uri": "https://localhost:8080/",
          "height": 282
        }
      },
      "source": [
        "plt.plot(h.history[\"loss\"], label=\"Loss\")\n",
        "plt.plot(h.history[\"val_loss\"], label=\"Val_Loss\")\n",
        "plt.yscale(\"log\")\n",
        "plt.legend()"
      ],
      "execution_count": 0,
      "outputs": [
        {
          "output_type": "execute_result",
          "data": {
            "text/plain": [
              "<matplotlib.legend.Legend at 0x7fea357a27f0>"
            ]
          },
          "metadata": {
            "tags": []
          },
          "execution_count": 14
        },
        {
          "output_type": "display_data",
          "data": {
            "image/png": "[encoded data removed]",
            "text/plain": [
              "<Figure size 432x288 with 1 Axes>"
            ]
          },
          "metadata": {
            "tags": []
          }
        }
      ]
    },
    {
      "cell_type": "code",
      "metadata": {
        "id": "jJ-EdpoEwI6g",
        "colab_type": "code",
        "outputId": "10b64ff4-cf0e-42b7-9f9a-46de7bdb1d48",
        "colab": {
          "base_uri": "https://localhost:8080/",
          "height": 1000
        }
      },
      "source": [
        "for i in range(100):\n",
        "    v = model.predict([X_test[i:i+1], X_test[i:i+1]]) #Can't be done as output not necessarely 1\n",
        "    idxs = np.argmax(v, axis=2)\n",
        "    pred=  \"\".join([int_to_char[h] for h in idxs[0]])[:-1]\n",
        "    idxs2 = np.argmax(X_test[i:i+1], axis=2)\n",
        "    true =  \"\".join([int_to_char[k] for k in idxs2[0]])[1:]\n",
        "    if true != pred:\n",
        "        print(true, pred)"
      ],
      "execution_count": 0,
      "outputs": [
        {
          "output_type": "stream",
          "text": [
            "CC(O)C(O)C1=CCC(O)C1C#CEEEEEEEEEEEEEEEEEEEEEEEEEEEEEEEEE CC(O)C(C)C1CCC((C)C1C#CEEEEEEEEEEEEEEEEEEEEEEEEEEEEEEEEE\n",
            "CC1=CC2N(C1)C(=O)CNC(=O)C2(C)CEEEEEEEEEEEEEEEEEEEEEEEEEE CC1=CC2((CC)C(=O)C(C(=O)CCCC)CEEEEEEEEEEEEEEEEEEEEEEEEEE\n",
            "CC1(CC1)C1=C2NCC=CC=C2NC1=OEEEEEEEEEEEEEEEEEEEEEEEEEEEEE CC1(CCC)C1=CCCCC=CC2CCCC1=OEEEEEEEEEEEEEEEEEEEEEEEEEEEEE\n",
            "CC1=CCC=CC2C=CC1C2=OEEEEEEEEEEEEEEEEEEEEEEEEEEEEEEEEEEEE CC1=CCC=CCCCCCCCC2=OEEEEEEEEEEEEEEEEEEEEEEEEEEEEEEEEEEEE\n",
            "CC(O)(CNC=O)C([NH3+])C=CC#NEEEEEEEEEEEEEEEEEEEEEEEEEEEEE CC(O)(CCCCO)C(CNH3+])CCCC#NEEEEEEEEEEEEEEEEEEEEEEEEEEEEE\n",
            "CC1(C)CCC2=C1CCCC(C2)=NOEEEEEEEEEEEEEEEEEEEEEEEEEEEEEEEE CC1(C)CC==CCCC((((=))=NOEEEEEEEEEEEEEEEEEEEEEEEEEEEEEEEE\n",
            "CC(O)C1CC2C[NH+]1CCCOC2CEEEEEEEEEEEEEEEEEEEEEEEEEEEEEEEE CC(O)C1CCC([NH2](CCCCCC=EEEEEEEEEEEEEEEEEEEEEEEEEEEEEEEE\n",
            "CC(C)c1n[nH]c(NCC(=O)C#C)c1CEEEEEEEEEEEEEEEEEEEEEEEEEEEE CC(C)(1ccnH]c(CCC#=O)C#C)c1CEEEEEEEEEEEEEEEEEEEEEEEEEEEE\n",
            "CC1=CCC2CC=CCC1C2C(O)C1CC1EEEEEEEEEEEEEEEEEEEEEEEEEEEEEE CC1=CCC==CCCC((((((C)CCCC1EEEEEEEEEEEEEEEEEEEEEEEEEEEEEE\n",
            "Cc1sc2NCCC#CC(C)=CCOc1n2EEEEEEEEEEEEEEEEEEEEEEEEEEEEEEEE Cc1occcCCCCCCC=)=CCcc1c2EEEEEEEEEEEEEEEEEEEEEEEEEEEEEEEE\n",
            "CC1C2CC2C(C)C1(O)C1=CCCCC=C1EEEEEEEEEEEEEEEEEEEEEEEEEEEE CC1C2CC(((C)(((C)C1=CCCC=CC1EEEEEEEEEEEEEEEEEEEEEEEEEEEE\n",
            "CC(O)C1=C(C[NH2+]C1)C(O)C(O)C[NH3+]EEEEEEEEEEEEEEEEEEEEE CC(O)C1CC(C[NH3+]C1)C(C)C(C)C[NH3+]EEEEEEEEEEEEEEEEEEEEE\n",
            "CC(NC(=O)C[NH3+])C1CCO1EEEEEEEEEEEEEEEEEEEEEEEEEEEEEEEEE CC(CC(CO)C(NH3+])C1CC11EEEEEEEEEEEEEEEEEEEEEEEEEEEEEEEEE\n",
            "CC12CCC(C1)CC(CCCCCOC2)C#CEEEEEEEEEEEEEEEEEEEEEEEEEEEEEE CC12CC((CC)C((CC#C##)2)C#CEEEEEEEEEEEEEEEEEEEEEEEEEEEEEE\n",
            "Cc1ccc2sc(CC#CC3CC3)cnc12EEEEEEEEEEEEEEEEEEEEEEEEEEEEEEE Cc1ccc2CccCCCC)=CC3)c2c12EEEEEEEEEEEEEEEEEEEEEEEEEEEEEEE\n",
            "CC(CC#CC[NH3+])Oc1nn[nH]c1N(C)CEEEEEEEEEEEEEEEEEEEEEEEEE CC(C)1C)(NH3+])CC1cccnH]c1CCC)CEEEEEEEEEEEEEEEEEEEEEEEEE\n",
            "C1C2C=CC3=C(COC3)C=CC12EEEEEEEEEEEEEEEEEEEEEEEEEEEEEEEEE CCC2C=CC=CCCCCC3)C=CC12EEEEEEEEEEEEEEEEEEEEEEEEEEEEEEEEE\n",
            "CC12CCC(C1)=CC=CC(=O)NCC([NH3+])C2EEEEEEEEEEEEEEEEEEEEEE CC12CCC1====CC=CC(CO)CC(([NH3+])C2EEEEEEEEEEEEEEEEEEEEEE\n",
            "CC1([NH3+])C(CC=CC1C([O-])=O)C1CCC1EEEEEEEEEEEEEEEEEEEEE CC1([NH3+])CCCCCC1([([N-])=O)C1CCC1EEEEEEEEEEEEEEEEEEEEE\n",
            "CC(CNC(=O)CO)C1CC1EEEEEEEEEEEEEEEEEEEEEEEEEEEEEEEEEEEEEE CC(C)C(=O)C#)C1CC1EEEEEEEEEEEEEEEEEEEEEEEEEEEEEEEEEEEEEE\n",
            "CC(C)C(C)(C)COCC(C)C(C)CCC#CEEEEEEEEEEEEEEEEEEEEEEEEEEEE CC(C)((C)(C)C(C((C)((C)(CC#CEEEEEEEEEEEEEEEEEEEEEEEEEEEE\n",
            "CC(O)(C[NH3+])CC1(C)COC(=O)C1NEEEEEEEEEEEEEEEEEEEEEEEEEE CC(O)(C[NH3+])C(((C)CCCC=O)C1OEEEEEEEEEEEEEEEEEEEEEEEEEE\n",
            "Cc1cnc(s1)-c1sc(nc1C)C#NEEEEEEEEEEEEEEEEEEEEEEEEEEEEEEEE Cc1ccc(C1)Cc1cccCc1C)C#CEEEEEEEEEEEEEEEEEEEEEEEEEEEEEEEE\n",
            "CC1C2CCC(=O)C3CCC123EEEEEEEEEEEEEEEEEEEEEEEEEEEEEEEEEEEE CC1C2CCC(CO)CCCCC123EEEEEEEEEEEEEEEEEEEEEEEEEEEEEEEEEEEE\n",
            "CC(O)C1(C#C)C2C[NH2+]C1C(C)=CC=C2EEEEEEEEEEEEEEEEEEEEEEE CC(O)C1(CCC)C(((NH++]CCC(=)=CC=C2EEEEEEEEEEEEEEEEEEEEEEE\n",
            "Cc1ccc2C3CCC3Cc2n1EEEEEEEEEEEEEEEEEEEEEEEEEEEEEEEEEEEEEE Cc1ccc2CCCC33Cc2c1EEEEEEEEEEEEEEEEEEEEEEEEEEEEEEEEEEEEEE\n",
            "CC12CC(CC=CC1)C([NH3+])C[NH2+]2EEEEEEEEEEEEEEEEEEEEEEEEE CC12CCCCC1C1[[[([NH3+])C[NH2+]2EEEEEEEEEEEEEEEEEEEEEEEEE\n",
            "CC1=C2CC([NH3+])C1CC(C)(O)CC#CC2EEEEEEEEEEEEEEEEEEEEEEEE CC1=C2C(([NH3+])C((((C)(C)CCCCC2EEEEEEEEEEEEEEEEEEEEEEEE\n",
            "Cc1cccn1C1CC([NH3+])C1EEEEEEEEEEEEEEEEEEEEEEEEEEEEEEEEEE Cc1cccc1CCCC([NH3+])C1EEEEEEEEEEEEEEEEEEEEEEEEEEEEEEEEEE\n",
            "CC1=C2CCC1(CCCCC=C2)OC1CC1EEEEEEEEEEEEEEEEEEEEEEEEEEEEEE CC1=CCCCC((C)22==C2)CCCCC1EEEEEEEEEEEEEEEEEEEEEEEEEEEEEE\n",
            "CC1=CC=CCCC(C[NH2+]CC=C1)C(N)=OEEEEEEEEEEEEEEEEEEEEEEEEE CC1=CC=CCCC(C)NH3+]111C1)C(N)=OEEEEEEEEEEEEEEEEEEEEEEEEE\n",
            "CC1C(C)C1C1OCC=CC=C1EEEEEEEEEEEEEEEEEEEEEEEEEEEEEEEEEEEE CC1C(C)C111CCC=CC=C1EEEEEEEEEEEEEEEEEEEEEEEEEEEEEEEEEEEE\n",
            "CC(O)C(C)CC1CCC1OEEEEEEEEEEEEEEEEEEEEEEEEEEEEEEEEEEEEEEE CC(O)C(C)C11CCC1OEEEEEEEEEEEEEEEEEEEEEEEEEEEEEEEEEEEEEEE\n",
            "CC(O)CCC1=CC(C)=CC(C)OC(=O)N1EEEEEEEEEEEEEEEEEEEEEEEEEEE CC(O)C111CC((C)(C((C)(C1=O)N1EEEEEEEEEEEEEEEEEEEEEEEEEEE\n",
            "CC1(CC#N)CC1C1CCC1OEEEEEEEEEEEEEEEEEEEEEEEEEEEEEEEEEEEEE CC1(CCCN)CCCC1CCC1EEEEEEEEEEEEEEEEEEEEEEEEEEEEEEEEEEEEEE\n",
            "CC1(C)CC=CN2CCCNC2=[NH+]C1EEEEEEEEEEEEEEEEEEEEEEEEEEEEEE CC1(C)CC=CCCCCC(C2C[NH+]C1EEEEEEEEEEEEEEEEEEEEEEEEEEEEEE\n",
            "CC(O)C1(CC(C[NH3+])O1)C#NEEEEEEEEEEEEEEEEEEEEEEEEEEEEEEE CC(O)CC(C[[[[NH3+])C1)C#NEEEEEEEEEEEEEEEEEEEEEEEEEEEEEEE\n",
            "CC12OC(=O)CNC1C2C(CCO)C#CEEEEEEEEEEEEEEEEEEEEEEEEEEEEEEE CC12OCCCO)CCC(C(C(C)#)C#CEEEEEEEEEEEEEEEEEEEEEEEEEEEEEEE\n",
            "CC1=CC2(CC2)[NH+]2CC=CC12EEEEEEEEEEEEEEEEEEEEEEEEEEEEEEE CC1=CCCCCC2)CNH2]2CCCCC12EEEEEEEEEEEEEEEEEEEEEEEEEEEEEEE\n",
            "CC(O)C12CC=CCCCC1C[NH2+]2EEEEEEEEEEEEEEEEEEEEEEEEEEEEEEE CC(O)C1=CC=CCC1112[NH2+]2EEEEEEEEEEEEEEEEEEEEEEEEEEEEEEE\n",
            "CC1=CC(C(N)=O)C(C)(C)C([NH3+])C1NEEEEEEEEEEEEEEEEEEEEEEE CC1=CC(C[[)=O)C([[(C)[([NH3+])C1OEEEEEEEEEEEEEEEEEEEEEEE\n",
            "CC1=CC(C)=CC=CC(C1)[NH+]1CCC1EEEEEEEEEEEEEEEEEEEEEEEEEEE CC1=CCCCC=CC2C(([[)[NH+](CCC1EEEEEEEEEEEEEEEEEEEEEEEEEEE\n",
            "CC12CC([NH2+]CCC1C2O)C#CEEEEEEEEEEEEEEEEEEEEEEEEEEEEEEEE CC12CC([NH3+]C111)2))C#CEEEEEEEEEEEEEEEEEEEEEEEEEEEEEEEE\n",
            "CC12CCC3C(C1)CC[NH2+]C23EEEEEEEEEEEEEEEEEEEEEEEEEEEEEEEE CC12CCC1CCCC)C2[NH2+]C2EEEEEEEEEEEEEEEEEEEEEEEEEEEEEEEEE\n",
            "CC(O)CC12CC(=O)N1CCC2EEEEEEEEEEEEEEEEEEEEEEEEEEEEEEEEEEE CC(O)C11CCC(CO)CCC222EEEEEEEEEEEEEEEEEEEEEEEEEEEEEEEEEEE\n",
            "CC(O)C1CC(C)C=CC(C)C11CC1EEEEEEEEEEEEEEEEEEEEEEEEEEEEEEE CC(O)C1CC(C)=2C((C)=11CC1EEEEEEEEEEEEEEEEEEEEEEEEEEEEEEE\n",
            "CC1=CC2C(O)C(C#N)N2C1C[NH3+]EEEEEEEEEEEEEEEEEEEEEEEEEEEE CC1=CCCC(C)C(C)N)C2CCC[NH3+]EEEEEEEEEEEEEEEEEEEEEEEEEEEE\n",
            "CC1=C(C)C=C(CO)C=CCCC=CC1EEEEEEEEEEEEEEEEEEEEEEEEEEEEEEE CC1=C(C)CCC(CC)C=CCC==CC1EEEEEEEEEEEEEEEEEEEEEEEEEEEEEEE\n",
            "CC1=CC2CC2CC=CCC=CC=C1EEEEEEEEEEEEEEEEEEEEEEEEEEEEEEEEEE CC1=CCCCCCCC2CC==CC=C1EEEEEEEEEEEEEEEEEEEEEEEEEEEEEEEEEE\n",
            "CC1C(CC(O)CC([NH3+])CN1C=O)C(N)=OEEEEEEEEEEEEEEEEEEEEEEE CC1C(CC([)C1[[NH3+])C11C)O)C(N)=OEEEEEEEEEEEEEEEEEEEEEEE\n",
            "CC#CCC1OCC(=C1)C#NEEEEEEEEEEEEEEEEEEEEEEEEEEEEEEEEEEEEEE CC#CCC1CCC(=O))C#NEEEEEEEEEEEEEEEEEEEEEEEEEEEEEEEEEEEEEE\n",
            "CC1(O)CCC2OCC(CO)=C12EEEEEEEEEEEEEEEEEEEEEEEEEEEEEEEEEEE CC1(O)CCCCCCC(=2)=C12EEEEEEEEEEEEEEEEEEEEEEEEEEEEEEEEEEE\n",
            "CC1(C)CC(=O)c2cccc(N)c12EEEEEEEEEEEEEEEEEEEEEEEEEEEEEEEE CC1(C)CC(CO)C2ccc((N)c12EEEEEEEEEEEEEEEEEEEEEEEEEEEEEEEE\n",
            "CC1C2CC(CCC=C1C#C)=CCC2[NH3+]EEEEEEEEEEEEEEEEEEEEEEEEEEE CC1C2CC(CC==C1C)C)CCCCC[NH3+]EEEEEEEEEEEEEEEEEEEEEEEEEEE\n",
            "CC1=CCC=CC=C2C=CCC12C#CEEEEEEEEEEEEEEEEEEEEEEEEEEEEEEEEE CC1=CC==CC=CCCCCC(CCC#CEEEEEEEEEEEEEEEEEEEEEEEEEEEEEEEEE\n",
            "CC12CCC1=CCCCC=C2EEEEEEEEEEEEEEEEEEEEEEEEEEEEEEEEEEEEEEE CC12CCC=CCCCCC2C2EEEEEEEEEEEEEEEEEEEEEEEEEEEEEEEEEEEEEEE\n",
            "CC(O)C([NH3+])C1OC2CN(CC=C12)C=OEEEEEEEEEEEEEEEEEEEEEEEE CC(O)C(CNH3+])C1CCCCCCC==C1))C#OEEEEEEEEEEEEEEEEEEEEEEEE\n",
            "CC1(C)CC2CC1COC(C#C)C2OEEEEEEEEEEEEEEEEEEEEEEEEEEEEEEEEE CC1(C)CCCCC(C(C(COC)C2OEEEEEEEEEEEEEEEEEEEEEEEEEEEEEEEEE\n",
            "CC1=CC=CC(C[NH2+]CC#C)C=CCC1EEEEEEEEEEEEEEEEEEEEEEEEEEEE CC1=CCCCC(C[NH3+]C11C)C1CC11EEEEEEEEEEEEEEEEEEEEEEEEEEEE\n",
            "CC(O)C(O)C(=C)Cc1cn[nH]n1EEEEEEEEEEEEEEEEEEEEEEEEEEEEEEE CC(O)C(C)C1=O)C(1cc[nH]n1EEEEEEEEEEEEEEEEEEEEEEEEEEEEEEE\n",
            "Cc1sc2CCC=C(C)CCc2c1NEEEEEEEEEEEEEEEEEEEEEEEEEEEEEEEEEEE Cc1oc2CCCCC(C)CCc2c1FEEEEEEEEEEEEEEEEEEEEEEEEEEEEEEEEEEE\n",
            "CC1=C2COCC=CCC(C=C1)C=C2EEEEEEEEEEEEEEEEEEEEEEEEEEEEEEEE CC1=C2CCCC2CC((==C2)C2C2EEEEEEEEEEEEEEEEEEEEEEEEEEEEEEEE\n",
            "CC#CCC1CC(C)(C)OC(=O)CC2CC12EEEEEEEEEEEEEEEEEEEEEEEEEEEE CC#CC11(((C)(C)CCC=O)CCCCC12EEEEEEEEEEEEEEEEEEEEEEEEEEEE\n",
            "CC1(CCCCC#C)CCc2cccc(F)c12EEEEEEEEEEEEEEEEEEEEEEEEEEEEEE CC1(CCCC11C)C((2ccc((C)c12EEEEEEEEEEEEEEEEEEEEEEEEEEEEEE\n",
            "CC1C(C[NH+](C)C1C(C)=O)C#CC1(O)CC1EEEEEEEEEEEEEEEEEEEEEE CC1C(C[NH3](C)C))(O)=O)C1CC1CC)CC1EEEEEEEEEEEEEEEEEEEEEE\n",
            "CC(O)C(C)(C)C1=CCC=C2CC=CC2=C1EEEEEEEEEEEEEEEEEEEEEEEEEE CC(O)((O)(C)C1=CC==CCCC=CCCCC1EEEEEEEEEEEEEEEEEEEEEEEEEE\n",
            "CC1(CC([O-])=O)CC([NH3+])C2OCC(=O)OC12EEEEEEEEEEEEEEEEEE CC1(CC([N-])=O)C(([NH3+])C((CC(=O)CC12EEEEEEEEEEEEEEEEEE\n",
            "CC1=C(C)C2CC2[NH2+]CC#CC1EEEEEEEEEEEEEEEEEEEEEEEEEEEEEEE CC1=C(CCC2CC((NH2+]CCCCC1EEEEEEEEEEEEEEEEEEEEEEEEEEEEEEE\n",
            "CC1C(=O)CC2CC(=O)NC1(C)C2EEEEEEEEEEEEEEEEEEEEEEEEEEEEEEE CC1C(=O)CCC(((CO)CC((C)C2EEEEEEEEEEEEEEEEEEEEEEEEEEEEEEE\n",
            "CC12CCC=CC3CC([NH+]13)C(CC#C)=C2EEEEEEEEEEEEEEEEEEEEEEEE CC12CC==CC1[[[[NH3]1C)CCCC2C)CC2EEEEEEEEEEEEEEEEEEEEEEEE\n",
            "Cc1sncc1CCc1cccs1EEEEEEEEEEEEEEEEEEEEEEEEEEEEEEEEEEEEEEE Cc1occc1CC(1cccs1EEEEEEEEEEEEEEEEEEEEEEEEEEEEEEEEEEEEEEE\n",
            "CC1([NH3+])CC2C1C[NH2+]C2C1CC1EEEEEEEEEEEEEEEEEEEEEEEEEE CC1([NH3+])CCCCC[(NH2+]CCCCCC1EEEEEEEEEEEEEEEEEEEEEEEEEE\n",
            "CC(O)CCS(=O)(=O)C1CC1EEEEEEEEEEEEEEEEEEEEEEEEEEEEEEEEEEE CC(O)CC((=O)(=O)CCCC1EEEEEEEEEEEEEEEEEEEEEEEEEEEEEEEEEEE\n",
            "CC12COCC([NH3+])C1COC2=OEEEEEEEEEEEEEEEEEEEEEEEEEEEEEEEE CC12COC(([NH3+])C1CCCC=OEEEEEEEEEEEEEEEEEEEEEEEEEEEEEEEE\n",
            "CC1=C2CC3CCC23CC1EEEEEEEEEEEEEEEEEEEEEEEEEEEEEEEEEEEEEEE CC1=CCCCCCCC33CC1EEEEEEEEEEEEEEEEEEEEEEEEEEEEEEEEEEEEEEE\n",
            "CC12CCC=CC(O1)C=CC(=C2)C#CEEEEEEEEEEEEEEEEEEEEEEEEEEEEEE CC12CCCCC((C))C=CC(=O))C#CEEEEEEEEEEEEEEEEEEEEEEEEEEEEEE\n",
            "CC12CC1CC1CCC(=O)C1C2EEEEEEEEEEEEEEEEEEEEEEEEEEEEEEEEEEE CC12CCCCCCCCC(CO)C1C2EEEEEEEEEEEEEEEEEEEEEEEEEEEEEEEEEEE\n",
            "CC(=O)NC=C(CC=C)C(N)C[NH3+]EEEEEEEEEEEEEEEEEEEEEEEEEEEEE CC(=O)CC1C(C)#C)C([)C#NH3+]EEEEEEEEEEEEEEEEEEEEEEEEEEEEE\n",
            "CC1=C(C)C2C=CCCC2C2OCC2=C1EEEEEEEEEEEEEEEEEEEEEEEEEEEEEE CC1=C(CCC2CCCCCCCC=CCC2CC1EEEEEEEEEEEEEEEEEEEEEEEEEEEEEE\n",
            "CC(C[NH3+])NCC#CC1CC(C)(CO)C1EEEEEEEEEEEEEEEEEEEEEEEEEEE CC(C)NH3+])CC11CC((C(C)(C))C1EEEEEEEEEEEEEEEEEEEEEEEEEEE\n",
            "Cc1cc(C)c(CC2CCC2)[nH]1EEEEEEEEEEEEEEEEEEEEEEEEEEEEEEEEE Cc1cc(C)c(CC2CC22)cnH]1EEEEEEEEEEEEEEEEEEEEEEEEEEEEEEEEE\n",
            "CC1=CC[NH+](CCC(C)([NH3+])C2(O)CNC2)C1EEEEEEEEEEEEEEEEEE CC1=CC[NH+](C)(([[(CNH3+])C1(C)CC22)C1EEEEEEEEEEEEEEEEEE\n",
            "CC1=C(c2c[nH]cc2O)C(C)=CC=CC1EEEEEEEEEEEEEEEEEEEEEEEEEEE CC1=C(C2ccnH]cc2C)C(===CC=CC1EEEEEEEEEEEEEEEEEEEEEEEEEEE\n",
            "CC(OCC#C)C(C)[NH+]1CC(C)CC(C)(C)C1EEEEEEEEEEEEEEEEEEEEEE CC(O)C1N)C(C)(NH+](CC(C)(((C)(C)C1EEEEEEEEEEEEEEEEEEEEEE\n",
            "CC1(CC1)C1=CCC(=CC=C1)C1CC[NH2+]C1EEEEEEEEEEEEEEEEEEEEEE CC12CCC)C1=CCC2=OC1C1)C(CCCNH2+]C1EEEEEEEEEEEEEEEEEEEEEE\n",
            "CC(CC1CC=CC1)CC1(CC1)NC=OEEEEEEEEEEEEEEEEEEEEEEEEEEEEEEE CC(CC1=C2CC1)C1((C)1)CC=OEEEEEEEEEEEEEEEEEEEEEEEEEEEEEEE\n",
            "CC1C([NH3+])C11CC([NH3+])C(CNC(N)=[NH2+])=C1EEEEEEEEEEEE CC1C([NH3+])C((C[([NH3+])((C)C(=)=ONH2+])CC1EEEEEEEEEEEE\n",
            "CC1=CC2(C)CC2C1C1CC1EEEEEEEEEEEEEEEEEEEEEEEEEEEEEEEEEEEE CC1=CCCCCCCCCCCCCCC1EEEEEEEEEEEEEEEEEEEEEEEEEEEEEEEEEEEE\n",
            "Cc1cc(c(C)c(C)c1O)C(C)(C#C)C([O-])=OEEEEEEEEEEEEEEEEEEEE Cc1cc(ccC)c(C)c1C)C(C)(C)N)C([O-])=OEEEEEEEEEEEEEEEEEEEE\n",
            "CC1(CCC(O)(C[NH3+])C([O-])=O)CC1[NH3+]EEEEEEEEEEEEEEEEEE CC1(CC(([)CC[NH3+])C[[N-])=O)C11[NH3+]EEEEEEEEEEEEEEEEEE\n",
            "C#CC1CCC2C1CC21CC1EEEEEEEEEEEEEEEEEEEEEEEEEEEEEEEEEEEEEE C#CC1CCC2CCCC=CCC1EEEEEEEEEEEEEEEEEEEEEEEEEEEEEEEEEEEEEE\n",
            "C1CC23C[NH2+]CC(CC=C2)C3C=C1EEEEEEEEEEEEEEEEEEEEEEEEEEEE CCCC2C[[NH++]CC(CC3C3CC=CCC1EEEEEEEEEEEEEEEEEEEEEEEEEEEE\n",
            "CC([NH3+])C(=C)C(N)C1(C)CCC[NH2+]1EEEEEEEEEEEEEEEEEEEEEE CC([NH3+])C(CO)C(C)C((C)CCC1NH2+]1EEEEEEEEEEEEEEEEEEEEEE\n",
            "Cc1[nH]c(=O)nc(C(CO)CC[NH3+])c1CC#CEEEEEEEEEEEEEEEEEEEEE Cc1[nH]c(CO)c((CCN))C([NH3+])c1CC#CEEEEEEEEEEEEEEEEEEEEE\n",
            "CC1(CS(C)(=O)=O)[NH2+]CC(CO)=C1EEEEEEEEEEEEEEEEEEEEEEEEE CC1(CC([)(=O)(O)CNH++]CC(=))=C1EEEEEEEEEEEEEEEEEEEEEEEEE\n",
            "Cc1c(ncc2COCC3CCC3c12)C#CEEEEEEEEEEEEEEEEEEEEEEEEEEEEEEE Cc1ccCcn2CCCC=CC33)22)C#CEEEEEEEEEEEEEEEEEEEEEEEEEEEEEEE\n",
            "Cc1c(CNC=O)ccc2n[nH]nc12EEEEEEEEEEEEEEEEEEEEEEEEEEEEEEEE Cc1c(CCC=O)ccc1c[nH]cc12EEEEEEEEEEEEEEEEEEEEEEEEEEEEEEEE\n",
            "CC1C2C=CCC(C[NH3+])=CC=C1C=C2C#CEEEEEEEEEEEEEEEEEEEEEEEE CC1C2CCCC((C)NH2+])=CC=CCCCCCC#CEEEEEEEEEEEEEEEEEEEEEEEE\n"
          ],
          "name": "stdout"
        }
      ]
    },
    {
      "cell_type": "code",
      "metadata": {
        "id": "GWepvDRVwKhr",
        "colab_type": "code",
        "colab": {}
      },
      "source": [
        "smiles_to_latent_model = Model(encoder_inputs, neck_outputs)\n",
        "smiles_to_latent_model.save(\"Blog_simple_smi2lat.h5\")"
      ],
      "execution_count": 0,
      "outputs": []
    },
    {
      "cell_type": "code",
      "metadata": {
        "id": "kLTjEyQOwOYh",
        "colab_type": "code",
        "colab": {}
      },
      "source": [
        "latent_input = Input(shape=(latent_dim,))\n",
        "#reuse_layers\n",
        "state_h_decoded_2 =  decode_h(latent_input)\n",
        "state_c_decoded_2 =  decode_c(latent_input)\n",
        "latent_to_states_model = Model(latent_input, [state_h_decoded_2, state_c_decoded_2])\n",
        "latent_to_states_model.save(\"Blog_simple_lat2state.h5\")"
      ],
      "execution_count": 0,
      "outputs": []
    },
    {
      "cell_type": "code",
      "metadata": {
        "id": "fFJ3tOHuwQKC",
        "colab_type": "code",
        "colab": {}
      },
      "source": [
        "#Last one is special, we need to change it to stateful, and change the input shape\n",
        "inf_decoder_inputs = Input(batch_shape=(1, 1, input_shape[1]))\n",
        "inf_decoder_lstm = LSTM(lstm_dim,\n",
        "                    return_sequences=True,\n",
        "                    unroll=unroll,\n",
        "                    stateful=True\n",
        "                   )\n",
        "inf_decoder_outputs = inf_decoder_lstm(inf_decoder_inputs)\n",
        "inf_decoder_dense = Dense(output_dim, activation='softmax')\n",
        "inf_decoder_outputs = inf_decoder_dense(inf_decoder_outputs)\n",
        "sample_model = Model(inf_decoder_inputs, inf_decoder_outputs)\n"
      ],
      "execution_count": 0,
      "outputs": []
    },
    {
      "cell_type": "code",
      "metadata": {
        "id": "hmH6qKOzwRcw",
        "colab_type": "code",
        "colab": {}
      },
      "source": [
        "#Transfer Weights\n",
        "for i in range(1,3):\n",
        "    sample_model.layers[i].set_weights(model.layers[i+6].get_weights())\n",
        "sample_model.save(\"Blog_simple_samplemodel.h5\")"
      ],
      "execution_count": 0,
      "outputs": []
    },
    {
      "cell_type": "code",
      "metadata": {
        "id": "z193Kyb5wSyo",
        "colab_type": "code",
        "outputId": "488e6cbd-02a5-4b5f-c965-da47a88d40d1",
        "colab": {
          "base_uri": "https://localhost:8080/",
          "height": 263
        }
      },
      "source": [
        "sample_model.summary()"
      ],
      "execution_count": 0,
      "outputs": [
        {
          "output_type": "stream",
          "text": [
            "Model: \"model_4\"\n",
            "_________________________________________________________________\n",
            "Layer (type)                 Output Shape              Param #   \n",
            "=================================================================\n",
            "input_4 (InputLayer)         (1, 1, 24)                0         \n",
            "_________________________________________________________________\n",
            "lstm_3 (LSTM)                (1, 1, 64)                22784     \n",
            "_________________________________________________________________\n",
            "dense_5 (Dense)              (1, 1, 24)                1560      \n",
            "=================================================================\n",
            "Total params: 24,344\n",
            "Trainable params: 24,344\n",
            "Non-trainable params: 0\n",
            "_________________________________________________________________\n"
          ],
          "name": "stdout"
        }
      ]
    },
    {
      "cell_type": "code",
      "metadata": {
        "id": "SB-Oynu8wVQ4",
        "colab_type": "code",
        "outputId": "b40cdfe2-8d8f-4c46-e4e6-16a86329d0d0",
        "colab": {
          "base_uri": "https://localhost:8080/",
          "height": 413
        }
      },
      "source": [
        "molno = 5\n",
        "latent_mol = smiles_to_latent_model.predict(X_test[molno:molno+1])\n",
        "sorti = np.argsort(np.sum(np.abs(x_latent - latent_mol), axis=1))\n",
        "print(sorti[0:10])\n",
        "print(smiles_test.iloc[sorti[0:8]])\n",
        "Draw.MolsToImage(smiles_test.iloc[sorti[0:8]].apply(Chem.MolFromSmiles))"
      ],
      "execution_count": 0,
      "outputs": [
        {
          "output_type": "stream",
          "text": [
            "[    5 10271 22605 34077 22392 25035 48550  5675  1983  1362]\n",
            "23677        CC1(C)CCC2=C1CCCC(C2)=NO\n",
            "113201        CC1(C)CC=CC2CC(O)C=CC12\n",
            "142834        CC1(C)CC2CC=CC2NC(=O)C1\n",
            "53460         CC1(C)CC2CC3CC=C(C1)C23\n",
            "135482       CC1(C)CC=CC=C(CC#C1)NC=O\n",
            "8601          CC1(C)CC2=CCOCC(=O)C1C2\n",
            "16742     CC1(CCCCOC2OCCC2O)CC1[NH3+]\n",
            "91619     CC1(COC1)C1=CCOCCCCC1[NH3+]\n",
            "Name: smiles, dtype: object\n"
          ],
          "name": "stdout"
        },
        {
          "output_type": "execute_result",
          "data": {
            "image/png": "[encoded data removed]",
            "text/plain": [
              "<PIL.Image.Image image mode=RGBA size=1600x200 at 0x7FEA28047588>"
            ]
          },
          "metadata": {
            "tags": []
          },
          "execution_count": 22
        }
      ]
    },
    {
      "cell_type": "code",
      "metadata": {
        "id": "kr6cmjZywWSV",
        "colab_type": "code",
        "outputId": "32859b8d-9d4c-4825-8940-494cd5bb4926",
        "colab": {
          "base_uri": "https://localhost:8080/",
          "height": 237
        }
      },
      "source": [
        "Draw.MolsToImage(smiles_test.iloc[sorti[-8:]].apply(Chem.MolFromSmiles))"
      ],
      "execution_count": 0,
      "outputs": [
        {
          "output_type": "execute_result",
          "data": {
            "image/png": "[encoded data removed]",
            "text/plain": [
              "<PIL.Image.Image image mode=RGBA size=1600x200 at 0x7FEA204FD390>"
            ]
          },
          "metadata": {
            "tags": []
          },
          "execution_count": 23
        }
      ]
    },
    {
      "cell_type": "code",
      "metadata": {
        "id": "dQvi7igowXyF",
        "colab_type": "code",
        "colab": {}
      },
      "source": [
        "logp = smiles_test.apply(Chem.MolFromSmiles).apply(Descriptors.MolLogP)"
      ],
      "execution_count": 0,
      "outputs": []
    },
    {
      "cell_type": "code",
      "metadata": {
        "id": "WN-LQxI1wc4N",
        "colab_type": "code",
        "colab": {}
      },
      "source": [
        "#Model LogP?\n",
        "x_train_latent = smiles_to_latent_model.predict(X_train)\n",
        "logp_train = smiles_train.apply(Chem.MolFromSmiles).apply(Descriptors.MolLogP)"
      ],
      "execution_count": 0,
      "outputs": []
    },
    {
      "cell_type": "code",
      "metadata": {
        "id": "nb8n9rh2wej_",
        "colab_type": "code",
        "colab": {}
      },
      "source": [
        "from keras.models import Sequential\n",
        "logp_model = Sequential()\n",
        "logp_model.add(Dense(128, input_shape=(latent_dim,), activation=\"relu\"))\n",
        "logp_model.add(Dense(128, activation=\"relu\"))\n",
        "logp_model.add(Dense(1))\n",
        "logp_model.compile(optimizer=\"adam\", loss=\"mse\")\n"
      ],
      "execution_count": 0,
      "outputs": []
    },
    {
      "cell_type": "code",
      "metadata": {
        "id": "t6ONUgyNw4mF",
        "colab_type": "code",
        "outputId": "d29af7ce-20c7-4e8b-8779-d9ae408bf6a7",
        "colab": {
          "base_uri": "https://localhost:8080/",
          "height": 1000
        }
      },
      "source": [
        "rlr = ReduceLROnPlateau(monitor='val_loss', factor=0.5,patience=10, min_lr=0.000001, verbose=1, epsilon=1e-5)\n",
        "logp_model.fit(x_train_latent, logp_train, batch_size=128, epochs=100, callbacks = [rlr])\n"
      ],
      "execution_count": 0,
      "outputs": [
        {
          "output_type": "stream",
          "text": [
            "/usr/local/lib/python3.6/dist-packages/keras/callbacks.py:1335: UserWarning: `epsilon` argument is deprecated and will be removed, use `min_delta` instead.\n",
            "  warnings.warn('`epsilon` argument is deprecated and '\n"
          ],
          "name": "stderr"
        },
        {
          "output_type": "stream",
          "text": [
            "Epoch 1/100\n",
            "150000/150000 [==============================] - 4s 24us/step - loss: 1.8772\n",
            "Epoch 2/100\n",
            "  6400/150000 [>.............................] - ETA: 3s - loss: 1.7804"
          ],
          "name": "stdout"
        },
        {
          "output_type": "stream",
          "text": [
            "/usr/local/lib/python3.6/dist-packages/keras/callbacks.py:1379: RuntimeWarning: Reduce LR on plateau conditioned on metric `val_loss` which is not available. Available metrics are: loss,lr\n",
            "  (self.monitor, ','.join(list(logs.keys()))), RuntimeWarning\n"
          ],
          "name": "stderr"
        },
        {
          "output_type": "stream",
          "text": [
            "150000/150000 [==============================] - 3s 22us/step - loss: 1.7529\n",
            "Epoch 3/100\n",
            "150000/150000 [==============================] - 3s 22us/step - loss: 1.7085\n",
            "Epoch 4/100\n",
            "150000/150000 [==============================] - 3s 21us/step - loss: 1.6621\n",
            "Epoch 5/100\n",
            "150000/150000 [==============================] - 3s 22us/step - loss: 1.6401\n",
            "Epoch 6/100\n",
            "150000/150000 [==============================] - 3s 22us/step - loss: 1.6258\n",
            "Epoch 7/100\n",
            "150000/150000 [==============================] - 3s 22us/step - loss: 1.6070\n",
            "Epoch 8/100\n",
            "150000/150000 [==============================] - 3s 22us/step - loss: 1.5860\n",
            "Epoch 9/100\n",
            "150000/150000 [==============================] - 3s 21us/step - loss: 1.5713\n",
            "Epoch 10/100\n",
            "150000/150000 [==============================] - 3s 21us/step - loss: 1.5593\n",
            "Epoch 11/100\n",
            "150000/150000 [==============================] - 3s 21us/step - loss: 1.5457\n",
            "Epoch 12/100\n",
            "150000/150000 [==============================] - 3s 21us/step - loss: 1.5341\n",
            "Epoch 13/100\n",
            "150000/150000 [==============================] - 3s 21us/step - loss: 1.5251\n",
            "Epoch 14/100\n",
            "150000/150000 [==============================] - 3s 21us/step - loss: 1.5206\n",
            "Epoch 15/100\n",
            "150000/150000 [==============================] - 3s 22us/step - loss: 1.5125\n",
            "Epoch 16/100\n",
            "150000/150000 [==============================] - 3s 21us/step - loss: 1.5041\n",
            "Epoch 17/100\n",
            "150000/150000 [==============================] - 3s 21us/step - loss: 1.4998\n",
            "Epoch 18/100\n",
            "150000/150000 [==============================] - 3s 21us/step - loss: 1.4921\n",
            "Epoch 19/100\n",
            "150000/150000 [==============================] - 3s 21us/step - loss: 1.4859\n",
            "Epoch 20/100\n",
            "150000/150000 [==============================] - 3s 21us/step - loss: 1.4851\n",
            "Epoch 21/100\n",
            "150000/150000 [==============================] - 3s 21us/step - loss: 1.4758\n",
            "Epoch 22/100\n",
            "150000/150000 [==============================] - 3s 22us/step - loss: 1.4648\n",
            "Epoch 23/100\n",
            "150000/150000 [==============================] - 3s 21us/step - loss: 1.4672\n",
            "Epoch 24/100\n",
            "150000/150000 [==============================] - 3s 22us/step - loss: 1.4530\n",
            "Epoch 25/100\n",
            "150000/150000 [==============================] - 3s 22us/step - loss: 1.4527\n",
            "Epoch 26/100\n",
            "150000/150000 [==============================] - 3s 23us/step - loss: 1.4487\n",
            "Epoch 27/100\n",
            "150000/150000 [==============================] - 3s 23us/step - loss: 1.4460\n",
            "Epoch 28/100\n",
            "150000/150000 [==============================] - 3s 21us/step - loss: 1.4402\n",
            "Epoch 29/100\n",
            "150000/150000 [==============================] - 3s 21us/step - loss: 1.4367\n",
            "Epoch 30/100\n",
            "150000/150000 [==============================] - 3s 22us/step - loss: 1.4354\n",
            "Epoch 31/100\n",
            "150000/150000 [==============================] - 3s 21us/step - loss: 1.4356\n",
            "Epoch 32/100\n",
            "150000/150000 [==============================] - 3s 22us/step - loss: 1.4293\n",
            "Epoch 33/100\n",
            "150000/150000 [==============================] - 3s 22us/step - loss: 1.4211\n",
            "Epoch 34/100\n",
            "150000/150000 [==============================] - 3s 22us/step - loss: 1.4230\n",
            "Epoch 35/100\n",
            "150000/150000 [==============================] - 3s 22us/step - loss: 1.4140\n",
            "Epoch 36/100\n",
            "150000/150000 [==============================] - 3s 22us/step - loss: 1.4109\n",
            "Epoch 37/100\n",
            "150000/150000 [==============================] - 3s 22us/step - loss: 1.4125\n",
            "Epoch 38/100\n",
            "150000/150000 [==============================] - 3s 22us/step - loss: 1.4039\n",
            "Epoch 39/100\n",
            "150000/150000 [==============================] - 3s 22us/step - loss: 1.4018\n",
            "Epoch 40/100\n",
            "150000/150000 [==============================] - 3s 22us/step - loss: 1.4060\n",
            "Epoch 41/100\n",
            "150000/150000 [==============================] - 3s 22us/step - loss: 1.3979\n",
            "Epoch 42/100\n",
            "150000/150000 [==============================] - 3s 22us/step - loss: 1.3961\n",
            "Epoch 43/100\n",
            "150000/150000 [==============================] - 3s 22us/step - loss: 1.3907\n",
            "Epoch 44/100\n",
            "150000/150000 [==============================] - 3s 22us/step - loss: 1.3919\n",
            "Epoch 45/100\n",
            "150000/150000 [==============================] - 3s 22us/step - loss: 1.3878\n",
            "Epoch 46/100\n",
            "150000/150000 [==============================] - 3s 22us/step - loss: 1.3879\n",
            "Epoch 47/100\n",
            "150000/150000 [==============================] - 3s 22us/step - loss: 1.3777\n",
            "Epoch 48/100\n",
            "150000/150000 [==============================] - 3s 22us/step - loss: 1.3751\n",
            "Epoch 49/100\n",
            "150000/150000 [==============================] - 3s 22us/step - loss: 1.3719\n",
            "Epoch 50/100\n",
            "150000/150000 [==============================] - 3s 21us/step - loss: 1.3728\n",
            "Epoch 51/100\n",
            "150000/150000 [==============================] - 3s 21us/step - loss: 1.3688\n",
            "Epoch 52/100\n",
            "150000/150000 [==============================] - 3s 22us/step - loss: 1.3649\n",
            "Epoch 53/100\n",
            "150000/150000 [==============================] - 3s 22us/step - loss: 1.3635\n",
            "Epoch 54/100\n",
            "150000/150000 [==============================] - 3s 22us/step - loss: 1.3633\n",
            "Epoch 55/100\n",
            "150000/150000 [==============================] - 3s 22us/step - loss: 1.3635\n",
            "Epoch 56/100\n",
            "150000/150000 [==============================] - 3s 22us/step - loss: 1.3567\n",
            "Epoch 57/100\n",
            "150000/150000 [==============================] - 3s 22us/step - loss: 1.3541\n",
            "Epoch 58/100\n",
            "150000/150000 [==============================] - 3s 22us/step - loss: 1.3512\n",
            "Epoch 59/100\n",
            "150000/150000 [==============================] - 3s 22us/step - loss: 1.3537\n",
            "Epoch 60/100\n",
            "150000/150000 [==============================] - 3s 21us/step - loss: 1.3515\n",
            "Epoch 61/100\n",
            "150000/150000 [==============================] - 3s 22us/step - loss: 1.3493\n",
            "Epoch 62/100\n",
            "150000/150000 [==============================] - 3s 22us/step - loss: 1.3482\n",
            "Epoch 63/100\n",
            "150000/150000 [==============================] - 3s 22us/step - loss: 1.3427\n",
            "Epoch 64/100\n",
            "150000/150000 [==============================] - 3s 22us/step - loss: 1.3396\n",
            "Epoch 65/100\n",
            "150000/150000 [==============================] - 3s 21us/step - loss: 1.3437\n",
            "Epoch 66/100\n",
            "150000/150000 [==============================] - 3s 22us/step - loss: 1.3367\n",
            "Epoch 67/100\n",
            "150000/150000 [==============================] - 3s 22us/step - loss: 1.3447\n",
            "Epoch 68/100\n",
            "150000/150000 [==============================] - 3s 21us/step - loss: 1.3351\n",
            "Epoch 69/100\n",
            "150000/150000 [==============================] - 3s 21us/step - loss: 1.3273\n",
            "Epoch 70/100\n",
            "150000/150000 [==============================] - 3s 22us/step - loss: 1.3313\n",
            "Epoch 71/100\n",
            "150000/150000 [==============================] - 3s 22us/step - loss: 1.3322\n",
            "Epoch 72/100\n",
            "150000/150000 [==============================] - 3s 22us/step - loss: 1.3304\n",
            "Epoch 73/100\n",
            "150000/150000 [==============================] - 3s 22us/step - loss: 1.3291\n",
            "Epoch 74/100\n",
            "150000/150000 [==============================] - 3s 21us/step - loss: 1.3249\n",
            "Epoch 75/100\n",
            "150000/150000 [==============================] - 3s 22us/step - loss: 1.3241\n",
            "Epoch 76/100\n",
            "150000/150000 [==============================] - 3s 22us/step - loss: 1.3264\n",
            "Epoch 77/100\n",
            "150000/150000 [==============================] - 3s 22us/step - loss: 1.3220\n",
            "Epoch 78/100\n",
            "150000/150000 [==============================] - 3s 22us/step - loss: 1.3178\n",
            "Epoch 79/100\n",
            "150000/150000 [==============================] - 3s 22us/step - loss: 1.3149\n",
            "Epoch 80/100\n",
            "150000/150000 [==============================] - 3s 22us/step - loss: 1.3140\n",
            "Epoch 81/100\n",
            "150000/150000 [==============================] - 3s 23us/step - loss: 1.3108\n",
            "Epoch 82/100\n",
            "150000/150000 [==============================] - 3s 23us/step - loss: 1.3070\n",
            "Epoch 83/100\n",
            "150000/150000 [==============================] - 3s 22us/step - loss: 1.3082\n",
            "Epoch 84/100\n",
            "150000/150000 [==============================] - 3s 22us/step - loss: 1.3092\n",
            "Epoch 85/100\n",
            "150000/150000 [==============================] - 3s 22us/step - loss: 1.3068\n",
            "Epoch 86/100\n",
            "150000/150000 [==============================] - 3s 23us/step - loss: 1.3048\n",
            "Epoch 87/100\n",
            "150000/150000 [==============================] - 3s 22us/step - loss: 1.3020\n",
            "Epoch 88/100\n",
            "150000/150000 [==============================] - 3s 22us/step - loss: 1.3043\n",
            "Epoch 89/100\n",
            "150000/150000 [==============================] - 3s 22us/step - loss: 1.3014\n",
            "Epoch 90/100\n",
            "150000/150000 [==============================] - 3s 23us/step - loss: 1.3028\n",
            "Epoch 91/100\n",
            "150000/150000 [==============================] - 3s 22us/step - loss: 1.2969\n",
            "Epoch 92/100\n",
            "150000/150000 [==============================] - 3s 22us/step - loss: 1.2974\n",
            "Epoch 93/100\n",
            "150000/150000 [==============================] - 3s 23us/step - loss: 1.2985\n",
            "Epoch 94/100\n",
            "150000/150000 [==============================] - 3s 22us/step - loss: 1.2948\n",
            "Epoch 95/100\n",
            "150000/150000 [==============================] - 4s 24us/step - loss: 1.2967\n",
            "Epoch 96/100\n",
            "150000/150000 [==============================] - 3s 22us/step - loss: 1.2893\n",
            "Epoch 97/100\n",
            "150000/150000 [==============================] - 3s 22us/step - loss: 1.2887\n",
            "Epoch 98/100\n",
            "150000/150000 [==============================] - 3s 22us/step - loss: 1.2870\n",
            "Epoch 99/100\n",
            "150000/150000 [==============================] - 3s 22us/step - loss: 1.2845\n",
            "Epoch 100/100\n",
            "150000/150000 [==============================] - 3s 23us/step - loss: 1.2841\n"
          ],
          "name": "stdout"
        },
        {
          "output_type": "execute_result",
          "data": {
            "text/plain": [
              "<keras.callbacks.History at 0x7fe9b8405080>"
            ]
          },
          "metadata": {
            "tags": []
          },
          "execution_count": 30
        }
      ]
    },
    {
      "cell_type": "code",
      "metadata": {
        "id": "__AbFpelxARH",
        "colab_type": "code",
        "colab": {}
      },
      "source": [
        "def latent_to_smiles(latent):\n",
        "    #decode states and set Reset the LSTM cells with them\n",
        "    states = latent_to_states_model.predict(latent)\n",
        "    sample_model.layers[1].reset_states(states=[states[0],states[1]])\n",
        "    #Prepare the input char\n",
        "    startidx = char_to_int[\"!\"]\n",
        "    samplevec = np.zeros((1,1,24))\n",
        "    samplevec[0,0,startidx] = 1\n",
        "    smiles = \"\"\n",
        "    #Loop and predict next char\n",
        "    for i in range(28):\n",
        "        o = sample_model.predict(samplevec)\n",
        "        sampleidx = np.argmax(o)\n",
        "        samplechar = int_to_char[sampleidx]\n",
        "        if samplechar != \"E\":\n",
        "            smiles = smiles + int_to_char[sampleidx]\n",
        "            samplevec = np.zeros((1,1,24))\n",
        "            samplevec[0,0,sampleidx] = 1\n",
        "        else:\n",
        "            break\n",
        "    return smiles"
      ],
      "execution_count": 0,
      "outputs": []
    },
    {
      "cell_type": "code",
      "metadata": {
        "id": "pAFmgycuxC5R",
        "colab_type": "code",
        "outputId": "c6494580-23de-420f-f51f-629d326475f7",
        "colab": {
          "base_uri": "https://localhost:8080/",
          "height": 52
        }
      },
      "source": [
        "smiles = latent_to_smiles(x_latent[0:1])\n",
        "print(smiles)\n",
        "print(smiles_test.iloc[0])"
      ],
      "execution_count": 0,
      "outputs": [
        {
          "output_type": "stream",
          "text": [
            "CC(O)C(C)C1CCCCCCC1(C)C\n",
            "CC(O)C(O)C1=CCC(O)C1C#C\n"
          ],
          "name": "stdout"
        }
      ]
    },
    {
      "cell_type": "code",
      "metadata": {
        "id": "OznVu1NxxE2T",
        "colab_type": "code",
        "outputId": "30656fee-3c38-4c6f-b96c-e15bc1aa3f65",
        "colab": {
          "base_uri": "https://localhost:8080/",
          "height": 1000
        }
      },
      "source": [
        "wrong = 0\n",
        "for i in range(1000):\n",
        "    smiles = latent_to_smiles(x_latent[i:i+1])\n",
        "    mol = Chem.MolFromSmiles(smiles)\n",
        "    if mol:\n",
        "        pass\n",
        "    else:\n",
        "        print(smiles)\n",
        "        wrong = wrong + 1\n",
        "print(\"%0.1F percent wrongly formatted smiles\"%(wrong/float(1000)*100))\n"
      ],
      "execution_count": 0,
      "outputs": [
        {
          "output_type": "stream",
          "text": [
            "CC1=CC2(CC(C)C2)C(C)(C)C=CCC\n",
            "CC(O)C1CCC(C)(C)C1[NH+]=C1\n",
            "CC(C)(C)C(C)(C)C(C)(C)C([O-]\n",
            "CC(O)C1CC(C)(C)C(C[NH3+])C1(\n",
            "CC(C)C1CC(C)(C[NH3+])C([NH3+\n",
            "CC12CCC1CC(CCCCCC(C)=O)C(C)=\n",
            "CC(C)(C)C(C)C1CC(C)(C)CC(C)O\n",
            "Cc1cc2ccc(CCC#C)ccc2[nH]1\n",
            "CC(O)C1(CC(C)=C1C[NH3+])C1CC\n",
            "CC1=C2C(CC([NH3+])C2)C(C)(C)\n",
            "Cc1cccc2CCCCC[NH+]2C1\n",
            "CC1=CC=CCCC(C)(C)C(C[NH3+])=\n",
            "CC1=CC(C[NH3+])C2(CC2)C(C)=C\n",
            "CC1=CCC(=O)C(C)(C)CCCC1[NH3+\n",
            "CC1(C)CC(CC(CO)C1O)[NH+]=C3\n",
            "CC(O)(C#N)C1CCC=CC=CC=CCC1C#\n",
            "CC1(CC([NH3+])C(C)(C)C1)C1CC\n",
            "CC12CC=CCC(CC(C)(C)C1[NH3+])\n",
            "Cc1occ2CCCC[NH+]2C1\n",
            "CC1([NH3+])CCCCC(CC1)C([NH3+\n",
            "CC1=CC[NH+](C)C(C[NH3+])C(C)\n",
            "CC1=C(C[NH3+])CC(=O)C2CCC2CC\n",
            "CC1C([NH3+])C(C)(C)C(C)(C)C(\n",
            "Cc1cc(cc(C)c1C)c1cc(C)c(C)c(\n",
            "CC1C2C(C)C(C)=C(C)C(C[NH3+])\n",
            "CC([NH3+])C(C)C(C)C1CC(C)(C)\n",
            "Cc1[nH]c(CCCC(C)(C)C)c2ccc(C\n",
            "Cc1cc(CC2CCCC2)c2CC=CCc12\n",
            "CC1C2CC=CC(C)(C)C(C)=CC1(C)C\n",
            "CC1(CC([NH3+])C1O)C(=O)C(N)=\n",
            "CC1C(CC[NH3+])C(C)(C)C(C)(C)\n",
            "CC1=CC(C)(C)C(C)=C(C)C=CC(=O\n",
            "CC(=O)C1=CC(C)(C)C(C)(C)[NH+\n",
            "CC1=C2CCC=CC(C[NH3+])(C[NH2+\n",
            "CC(O)C1CCC2C[NH+](C)CC(C)(C)\n",
            "Cc1cccc(CC2(CC2)C#C)c2cccn12\n",
            "CC1C(CC#N)C(C)=CCC(C)=CCC[NH\n",
            "CC1=CC(=O)C(C)(C)C=CC2CCC2CC\n",
            "CC1C2C=CCCCCC[NH+](C)C12C[NH\n",
            "CC(C1CCC1)C1=CC(C)=CCCCC(=O)\n",
            "CC(C)[NH+](C)CC([NH3+])C(N)=\n",
            "Cc1cc(CC2CCCC2)c2CCCCc12\n",
            "CC(=C)C1CC(C)([NH3+])C(C)(C)\n",
            "CC(=O)CC1(CC(C)(C)C1)C(C)([N\n",
            "CC1([NH3+])CC(CC#C)C=CC1[NH3\n",
            "CC12C[NH2+]C(CC1CCCCCC=C2)C#\n",
            "CC1=CC(C)(C)CCC(CC(=O)C1)C(C\n",
            "CC1=CC2C(CC(=O)C2)C(=O)C(C)=\n",
            "CC1=CC2CC(C)(C)C([NH3+])C=CC\n",
            "CC1=CC2(CC(C)C2)C(=O)C(=O)CC\n",
            "CC1=CC2CCC2C2(CC[NH2+]C2)CCC\n",
            "CC1C([NH3+])C(C)(C)CCCCCC1(C\n",
            "CC(C)C(C)(C)C1CC([NH3+])C(C)\n",
            "CC1C(C[NH3+])C(C)(C)C1C(C)(C\n",
            "CC1([NH3+])CC(CC(C)(C)C1)C(C\n",
            "CC1C2CCC(C)=C(C)C(C)=CC12[NH\n",
            "CC1=CC(CC#C)C(C)(C)C=CC[NH2+\n",
            "Cc1cc2CC(C)(C)CC(C)(C)c2c[nH\n",
            "CC(C)(C)C1CC(C)(C)C(C)(C)C(C\n",
            "CC1C2CCC(C)=C(C)C(C)=CC(C)=C\n",
            "CC1(CC(C[NH3+])C1)[NH+]1CCCC\n",
            "CC1(C)C([NH3+])CC(CC#C)CCCCC\n",
            "Cc1cc2C[NH2+]C(C)(C)CCCc2n1\n",
            "CC1=CC(CC(C)(C)C(C)=C1)C(C)=\n",
            "CC(O)C(C)([NH3+])C(C)(C)C[NH\n",
            "CC1C([NH3+])C2(CC2)CCCCC(=O)\n",
            "CC1(C)C(CC(C)=O)C(CC(C)(C)O)\n",
            "CC(O)C1CC(C)(C)C(C)(C)C(C[NH\n",
            "Cc1cc2CC(C)(C)CC(C)(C)Cc2c1C\n",
            "CC(O)(C[NH3+])C(C)(C)C1CC(C)\n",
            "CC12OCC(CC(CC#N)C1[NH3+])C=C\n",
            "CC1=C(C)C(C)(C)C(C[NH3+])C(C\n",
            "CC(O)(C[NH3+])C(C)(C)C([NH3+\n",
            "CC1C(C)C2(CC(C)(C)C[NH2+]2)C\n",
            "Cc1c(N)ccc2CCCc1c2\n",
            "CC1=CC([NH3+])C(C)=CC2CCCC2C\n",
            "CC(=O)C1=CC(C)=CC2CCCC2CCC1=\n",
            "Cc1ccc(c(N)c1C)C(C)(C)C1CCCC\n",
            "CC1([NH3+])CC(CC(C)=O)C(CC(C\n",
            "Cc1cc(CCC#C)c(CCC(C)(C)C)c(C\n",
            "CC1C(C[NH3+])C(C)(C)[NH+]1C(\n",
            "CC1([NH3+])C(CC(C)(C)C1)C(C[\n",
            "Cc1c(C)c2cccc3CCCCC3CCc2c1\n",
            "CC12CC(CC1[NH3+])CC(=C)C(O)C\n",
            "CC1(C)C(CC[NH3+])CCCCCC(=O)C\n",
            "Cc1nc(CC2CCCC(C)(C)C2)ncn1C\n",
            "CC1=C2CC(CC(C)=C1)C([NH3+])C\n",
            "CC(O)C(C)(C)C(C)(C)C(C)([NH3\n",
            "CC1C2C(C)C(C)(C)C(C[NH+]1C)C\n",
            "CC1=CC(C)=C(C)CCC(C)(C)=CC1\n",
            "CC(C)C1=CC(C)=C(C)CC2(CC2)CC\n",
            "CC1=CCC(=O)C(C)(C)C(C[NH3+])\n",
            "CC1=CC2(CC(C)C2)C([NH3+])C([\n",
            "CC(O)(C[NH3+])C1CC(C)=CC(C)(\n",
            "CC1=C2CCCC(=C)C(=O)CC2(C)C=C\n",
            "Cc1c[nH]c(c1)-c1cc(C)c(C)c(C\n",
            "CC1C2CCC(C)=C(C)C(C)=CC[NH+]\n",
            "CC1(C)CCC(CC(C)(C)C1)C([NH3+\n",
            "CC1=CCC(C)(C)C(C)=CC2CCC2C1=\n",
            "CC1C(CC(C)=C1C(C)(C)C)C1CCCC\n",
            "CC1(C)CC(C[NH3+])=CCCC1[NH3+\n",
            "CC1=CC2CCC2CC(C)(C)C=CC[NH2+\n",
            "CC1C([NH3+])CC(C)C1C1CC(C)(C\n",
            "Cc1cc(CCC(C)(C)C)c(C[NH3+])c\n",
            "CC12CC(CC1[NH3+])CCCCCCC[NH2\n",
            "CC1([NH3+])CCCC2CCCCCCCC2C1=\n",
            "CC1=CC(C[NH3+])(CC(C)(C)C)C(\n",
            "Cc1c(N)c(C)c(CC(C)(C)CCC#C)c\n",
            "Cc1cc(C)c(CC2CC2)c(C)s1\n",
            "CC1C2CC(C)=C(C)C(C)=CC[NH+]2\n",
            "CC(C)C(C)(C)C(C)(C)[NH+]=CC#\n",
            "Cc1cc2CC(C)=CCCC(=O)CCCc2c1\n",
            "Cc1[nH]c2ccc(CCCCCC(C)(C)C)c\n",
            "Cc1cc2CCC(C)(C)CCC(C)(C)Cc2c\n",
            "C#CC1=CCC2CCC(C)(C)O12\n",
            "CC1=CCC(CC(C)=O)C(C)=CC[NH2+\n",
            "CC(C)(C)C(C)(C)C1C[NH2+]C(C)\n",
            "CC1(C)CC2CCC(C[NH3+])C2CC1[N\n",
            "Cc1[nH]c2ccc3CCCC(C)(C)c3cc1\n",
            "CC1=C(C)C(C)(C)C=CC2CCC2C[NH\n",
            "CC12CCC(CC1CCCCCC(C)=O)C(O)C\n",
            "CC1(C[NH3+])C(O)C(C[NH3+])=C\n",
            "Cc1nc2cccc2CCCCCCCCC1=O\n",
            "CC1(C)CC(=O)C(=O)CC(=O)CC1C#\n",
            "CC(C)C1(C)C(C)C(C)(C)C(C)(C)\n",
            "CC1=CC2C(CC(=O)C2)C(C)=C(C)C\n",
            "CC1=CC2CCC(CC(C)(C)C2)C(C)(C\n",
            "CC1=C(C[NH3+])CCCC(=O)C1C[NH\n",
            "CC1(C[NH3+])CC(CC(C)(C)C1)C(\n",
            "CC1=C2C=CCCCC(=O)C=CC2(C)C=C\n",
            "CC(C)C1CCC2(CC2)C(C)=CC[NH2+\n",
            "CC(=O)C1=CCC(=O)CC2(CC2)C=CC\n",
            "CC12CCCC1CC(CCCCCC(C)=O)C2[N\n",
            "CC1=CCCCC(C[NH3+])C(C)(C)CC=\n",
            "CC1(C)CC2CCCC(C[NH3+])C2C(C1\n",
            "CC1C2CC(C)=C(C)C(C)=CC(C)=C1\n",
            "Cc1cc(C)c(C)c(CC(C)(C)C)c(C)\n",
            "CC1=CC2CC(CCCC1)C(=O)C2[NH3+\n",
            "CC(C)C1(C)C(C)C(C[NH3+])C(C)\n",
            "CC1=C2CCC(C[NH3+])=CC2[NH2+]\n",
            "CC1=CC(CCC(C)(C)C1)C1(C)C[NH\n",
            "Cc1ccc2c(C)[nH]c(C[NH3+])c2c\n",
            "Cc1[nH]c(C)c(CC(C)(C)C)c(c1)\n",
            "CC1C(C[NH3+])C(C)(C)C(C)(C)O\n",
            "Cc1c(CC#C)c(C)c(CC[NH3+])c(C\n",
            "Cc1c(N)c(C)c(CC2CCCCC2)c1C#N\n",
            "Cc1cc(C)c(CCC(C)(C)C)c2ccccc\n",
            "Cc1cc(C[NH3+])cc2CCCCCc2c1\n",
            "CC1=C2CC([NH3+])C(C)(C)C[NH2\n",
            "Cc1cn2C(CC(=O)CC(C)(C)C=C1)c\n",
            "Cc1nc2CCCC=CC(C)=Cc2c1\n",
            "CC1=CCC(C)(C)C=CC=CC2CCC2C1=\n",
            "CC1C2CC(C)=C(C)C(=O)CCC12CC#\n",
            "CC(O)C1=CCC2(CC2)C(=O)CC(=O)\n",
            "CC1=CC(CC2CC2)=CC=CC=CCCCC1=\n",
            "CC(O)(CC#C)C1C[NH2+]CC(C)=CC\n",
            "Cc1cc2CCC(C)=Cc2c1\n",
            "Cc1ccc(CCC(C)(C)C)c(cc1[O-])\n",
            "CC(O)(CC#C)C1=CC(C)=CCCC[NH2\n",
            "CC1(C)CC(CC#N)C(CC#C)C([NH3+\n",
            "CC1=C2CCC=CC(C)=CC(C)=CC2(C)\n",
            "CC(C)C1(C)CC(C)(C)C(C[NH3+])\n",
            "CC1=CC2(C)C(CC(C)(C)CC(C)=C1\n",
            "CC1C2CC(C)(C)C(C)=CCC12C[NH3\n",
            "CC1C([NH3+])C2CC(=O)CCCCCCC1\n",
            "CC1C(CC#C)C(C)=CC(C)=CC(C)=N\n",
            "CC(C)(C)C1CC(C)C(C)=CC(C)(C)\n",
            "CC1(C)CC2CCC(=CCCC12)C(=O)C#\n",
            "CC1=CC(CC(=O)C1)C1(C)CC(C)=C\n",
            "CC1=CCC(CC#C)=CC2CCCC2CCCC1=\n",
            "Cc1cc2CC(C)(C)C(C)(C)Cc2c(C)\n",
            "CC1=CC(C)=CCCC2(CC2)C=CC=CC=\n",
            "CC1=CC(C)(C)C(C)(C)C(C)=CC(=\n",
            "CC1([NH3+])CCCCCCCCCCCC(=O)C\n",
            "CC(C)C(C)(C)C1CC(C)C(C)=CC(C\n",
            "CC1=CC(CC(=O)C#C)C2(CC2)CC=C\n",
            "Cc1cnc2CCCCCC(C)(C)C=CC(=O)c\n",
            "CC1=CC(CC#C)C2(CC2)C=CC(=O)N\n",
            "CC1(CC(C[NH3+])CC1C(C)=O)C(=\n",
            "CC1=C(C[NH3+])C2CC=CCC2CCC=C\n",
            "CC1=CC2CCC2C(C)(C)C([NH3+])C\n",
            "CC1(C[NH3+])CC2CC=CC=CC=CC=C\n",
            "Cc1ccc(CCC(C)(C)C=C)c2CC31\n",
            "CC1=CC2CC(CC(C)(C)C1)C([NH3+\n",
            "CC1C(CC2CCC2)C(C)(C)C(C)=C1[\n",
            "Cc1cc(CC(C)(C)C)c2cc([nH]c12\n",
            "CC1([NH3+])CC2CCC(=O)CCCC2CC\n",
            "CC1=CC=CC2(CC2)C(C)(C)C=CCCC\n",
            "Cc1cc(CC(C)(C)C)c(C[NH3+])c(\n",
            "CC1=CCCCC(CC#C)=CC(=O)CC1CC#\n",
            "CC12CCC(CC(CC#N)C1[NH3+])CC=\n",
            "CC1=CC([NH3+])C(=O)C2CCCCC2=\n",
            "CC1=CC=C2CCCC(C2)C(C[NH3+])=\n",
            "Cc1noc(CC2CCCCCCCC#C)cc12\n",
            "CC#CC1CC(C)(C)CCC(C)(C)C([NH\n",
            "CC(C)(C)C(C)(C)C(C)C1CC[NH2+\n",
            "CC1=CCCCC(C)(C)C(C[NH3+])C(C\n",
            "CC1([NH3+])CCCCCCCCCCCCCC1C#\n",
            "CC1C(CC1=O)C(C)(C)C(C)(C)C1C\n",
            "CC1=CC(C[NH3+])C(C)(C)C([NH3\n",
            "CC1=CC[NH+](CCC1)C(C)(C)C1CC\n",
            "CC1=CC([NH3+])C(C)(C)C(C)(C)\n",
            "CC1(C)CCCC(CC(C)(C)C1)[NH+]1\n",
            "CC1=CC2CCC(CC1)C([NH3+])C(C)\n",
            "CC1=CC2(CC(C)=CC(C)=C1)C(C)=\n",
            "CC1=CC2(CC(C)(C)CC(C)=C1)C(O\n",
            "CC1C2CC(C)C(C)=C(C)C1[NH2+]C\n",
            "CC1(C)CCCC(CC#N)C(=O)C([NH3+\n",
            "Cc1cc2CCCC(=O)CC(=O)CC(=O)c1\n",
            "CC1=CCC2([NH3+])CCCCC(C1)C23\n",
            "CC([NH3+])C(C)C1CC([NH3+])C(\n",
            "CC1=CC=CCC2(CC2)C([NH3+])C=C\n",
            "CC1=C(CC(C)(C)CCC1)C(C)(C)C#\n",
            "CC([NH2+]CC(C)(C)C)C1CCCC[NH\n",
            "Cc1cc(CCC#C)c(CCC[NH3+])c(CC\n",
            "Cc1cc(C)c(C)c(CC([NH3+])CCCO\n",
            "CC1=CC(C)(C)CC(CC(C)(C)C)C(C\n",
            "CC(O)(C(C)(C)C)C1CCCCCCC(=O)\n",
            "CC(CC1(C)CC1)C(C)([NH3+])C(C\n",
            "CC12CC=CCC1CC(C[NH3+])C=CC2[\n",
            "CC(O)C1(C)C(C)C(C)(C)C(C)(C)\n",
            "CC1=CC2CC=CC(C)=CC(C)=C(C)C1\n",
            "CC1=CCCCC(CC#C)C2CCC(C)=CC2C\n",
            "CC1=CC(=O)CC(C)=CC(C)=C1[NH3\n",
            "CC1C2CCC(C)(C)C(C)=CC[NH+]1C\n",
            "CC1=CC(C[NH3+])C2(CC=C2)C=CC\n",
            "CC1C2C=CC(C)(C)C(C)=C(C)C(C)\n",
            "CC(O)(CC#C)C1CC(C)(C)C[NH2+]\n",
            "CC(C)C(C)C1CC(C)(C)C([NH3+])\n",
            "CC(=O)C1=CCC2CC[NH2+]C2CC1[N\n",
            "CC1C(CC[NH3+])C2(CC(C)C12)C(\n",
            "Cc1coc(CCC(C)(C)C)c2ccccc12\n",
            "Cc1csc(CC(C)(C)CC2CCC2)c1[nH\n",
            "CC(O)CC1(CCC1)C1CC(C)=CC(C)O\n",
            "Cc1ccc(cc1C)C(C)(C)[NH+]1CCC\n",
            "CC1=CC(C)(C)C=C(C)C(C)(C)CCC\n",
            "CC(CC#C)CC[NH2+]C1\n",
            "CC1=CCC2(C)C(CC(C)=C1)C2[NH3\n",
            "Cc1ccc(CC(C)(C)C)c(cc1C[NH3+\n",
            "CC(C)C1=CCC(C)=CC(=O)C1[NH3+\n",
            "CC1=C2CCC2C(C[NH3+])C(C)(C)[\n",
            "CC(O)(C[NH3+])C1CC(C)=CC(=O)\n",
            "CC1(C)CCCCC(CC#C)C(=O)C=CC[N\n",
            "CC1=CC(C)(C)CCCC(C)(C)CC(C)=\n",
            "CC1=C(C=CC(C)(C)CC1)C(C)(C)[\n",
            "Cc1cc(C)c(CCCCCCCC(O)C[NH2+]\n",
            "Cc1cc(C[NH3+])c(C)c(C)c(Cl)c\n",
            "CC(O)C1(C)CC(C)(C)CCC1C[NH3+\n",
            "CC1(O)CC(CCCC1)C(C[NH3+])C(C\n",
            "CC(C)C1(CC(C)=C1C)C(C)(C)[NH\n",
            "Cc1c[nH]c(CCCC[NH3+])c2CCCc1\n",
            "CC1C(C[NH3+])C1(C)C1CC(C)(C)\n",
            "CC1=CC(C)(C)C=CC(=O)C(=O)CC(\n",
            "CC1=CC2(CC(C)C2)C(C[NH3+])=C\n",
            "Cc1ccc2c(C)c(C)c(C)c(C)c(C)c\n",
            "CC1=C(CC(C)(C)CC=C1)C(=O)C1C\n",
            "CC1(CCC1)c1cc(C)c(C)c(CC#C)c\n",
            "CC1C2CC(C)(C)CCC(C)=CCC1(C)C\n",
            "CC1=C(C)C(=O)C(C)(C)C([NH3+]\n",
            "Cc1c(CC#C)c(CC(C)(C)C)c(C)c1\n",
            "CC(=O)C1(CC(=O)CC1)C1CCC(=O)\n",
            "CC(=O)CC(C)(C)C(C)([NH3+])C=\n",
            "CC12CC([NH3+])C1C(CC(C)(C)C)\n",
            "Cc1cc2CCC(C)(C)Cc2c(C[NH3+])\n",
            "CC(O)(CC#N)C(C)(C)C1CC(C)C1[\n",
            "Cc1[nH]cc2CC(C)=C(C)C=CC=CCc\n",
            "CC12C[NH2+]CC(CC(C)=C1)C(C)=\n",
            "CC(C)(C)C1CC(C)(C)C(C)(C)CCC\n",
            "CC(O)CC1(C)CC(C[NH3+])C(C)=C\n",
            "CC12CCC(CC1=C)C(=C)C(=C)C=CC\n",
            "Cc1cc(CCC#C)c(CC(C)(C)C)c(C)\n",
            "CC1=C2CCC(CC1[NH3+])C(C)(C)O\n",
            "CC(O)C1=CC(C)(C)CCC(C)=CC(C)\n",
            "CC1=CC(CC2(C)CCC2)C(=O)C(C)=\n",
            "CC1=CCCC2CC(CCCC2)=CCC[NH2+]\n",
            "Cc1cc2CCCc2c1O\n",
            "Cc1ccc(cc1N)-c1cc([nH]c1)C[N\n",
            "CC1(C)CC(CC([NH3+])C1)C1CC(C\n",
            "CC1=CCC([NH3+])C2(CC2)C(C)=C\n",
            "CC12CCCC(CC[NH2+]1)C([NH3+])\n",
            "CC1=CC([NH3+])C(C)=CC2(CC2)C\n",
            "CC(O)C1CC(C)(C)C(C)(C)C(C)(C\n",
            "Cc1ccc(C(C)(C)C)c(C)c(C)c1\n",
            "CC1C([NH3+])CC(C[NH3+])C1CC#\n",
            "CC1([NH3+])C(CC(C)=O)C(O)C1[\n",
            "Cc1coc2cc(CCCCC(C)(C)C)cc12\n",
            "CC12CCC1CCCCC(CC2)[NH+]=C3\n",
            "CC1=CC2CCC2CC(C[NH3+])C(C)=C\n",
            "CC12OCC(=O)C1C(=O)CCCCCCCCCC\n",
            "CC1=CC2CC(CCCC1)C(=O)CC2[NH3\n",
            "CC1=CC(C)(C)C=CC(=O)CC1[NH3+\n",
            "CC1=CCC=C(CC2CCC2)C(C)=CC(=O\n",
            "Cc1cc(C)c(CCC#C)c(CC2=CCC2)n\n",
            "Cc1cnc2CC(C)=CC(C)=Cc12\n",
            "Cc1[nH]c(C)c(C)c(CC(C)(C)C)c\n",
            "CC1=CC2C=CCCCC(C)(C)C=CC(C)=\n",
            "29.6 percent wrongly formatted smiles\n"
          ],
          "name": "stdout"
        }
      ]
    },
    {
      "cell_type": "code",
      "metadata": {
        "id": "EJKAy7TkxVhN",
        "colab_type": "code",
        "outputId": "57a7efe7-7133-4954-da55-e40bfdb1fe07",
        "colab": {
          "base_uri": "https://localhost:8080/",
          "height": 1000
        }
      },
      "source": [
        "#Interpolation test in latent_space\n",
        "i = 0\n",
        "j= 2\n",
        "latent1 = x_latent[j:j+1]\n",
        "latent0 = x_latent[i:i+1]\n",
        "mols1 = []\n",
        "ratios = np.linspace(0,1,25)\n",
        "for r in ratios:\n",
        "    #print r\n",
        "    rlatent = (1.0-r)*latent0 + r*latent1\n",
        "    smiles  = latent_to_smiles(rlatent)\n",
        "    mol = Chem.MolFromSmiles(smiles)\n",
        "    if mol:\n",
        "        mols1.append(mol)\n",
        "    else:\n",
        "        print(smiles)\n",
        "Draw.MolsToGridImage(mols1, molsPerRow=5)"
      ],
      "execution_count": 0,
      "outputs": [
        {
          "output_type": "execute_result",
          "data": {
            "image/png": "[encoded data removed]",
            "text/plain": [
              "<PIL.PngImagePlugin.PngImageFile image mode=RGB size=1000x1000 at 0x7FE9B3B4F550>"
            ]
          },
          "metadata": {
            "tags": []
          },
          "execution_count": 35
        }
      ]
    },
    {
      "cell_type": "code",
      "metadata": {
        "id": "3lSxCnD-xhiU",
        "colab_type": "code",
        "outputId": "9c159bd6-de1a-43f6-a690-cdb6c89740cc",
        "colab": {
          "base_uri": "https://localhost:8080/",
          "height": 837
        }
      },
      "source": [
        "#Sample around the latent wector\n",
        "latent = x_latent[0:1]\n",
        "scale = 0.40\n",
        "mols = []\n",
        "for i in range(20):\n",
        "    latent_r = latent + scale*(np.random.randn(latent.shape[1])) #TODO, try with\n",
        "    smiles = latent_to_smiles(latent_r)\n",
        "    mol = Chem.MolFromSmiles(smiles)\n",
        "    if mol:\n",
        "        mols.append(mol)\n",
        "    else:\n",
        "        print(smiles)\n",
        "Draw.MolsToGridImage(mols, molsPerRow=5)"
      ],
      "execution_count": 0,
      "outputs": [
        {
          "output_type": "execute_result",
          "data": {
            "image/png": "[encoded data removed]",
            "text/plain": [
              "<PIL.PngImagePlugin.PngImageFile image mode=RGB size=1000x800 at 0x7FE9B3BEB7B8>"
            ]
          },
          "metadata": {
            "tags": []
          },
          "execution_count": 36
        }
      ]
    },
    {
      "cell_type": "markdown",
      "metadata": {
        "id": "zylfzQJ0NwfJ",
        "colab_type": "text"
      },
      "source": [
        "##3. Seq3seq Fingerprint Model\n",
        "seq2seq는 자료를 먼저 unlabeled data로 훈련 시킨다음 labed data를 이용하여 fingerprint를 생성한 뒤 labeled data로 지도학습을 시켰다.딥러닝을 약물 발견에 적용시키기 위해 사용되는 이용가능한 labeled 훈련 데이터는 요구되어지는 데이터 양에비해 절대적으로 부족하여 정확도가 떨어지게 된다. 정확도를 올리기 위해서는 labeled data의 수를 늘이는 방법을 생각 할 수있지만 이러한 데이터를 얻기위해 드는 비용이 매우 높기 때문에 labeled 데이터를 늘이는 것은 매우 힘들다. 이 문제를 해결하기 위해 semi-supervised deep learning modeling 즉 반지도학습 전략을 선택하였다. 이를 이용하면 딥러닝 프레임워크는 labeled data와 unlabeled data 모두에서 학습을 할 수 있고 unlabled data의 수는 거의 무한대적으로 사용할 수 있기때문에 지도학습에 비해 많은 이점이 있다. 이러한 방식을 이요한 방법을 seq3seq로 명명하였다. seq2seq는 1개의 입력과 1개의 출력을 가지는데 반해 seq3se1는 1개의 입력과 2개의 출력을 가진다. Labeled data와 unlabeled data를 보두 고려하여 우수한 추론 성능을 제공하고 앞에서 언급했듯이 unlabeled data의 수는 거의 무한으로 있기 때문에 적은 labeled data의 한정적인 수를 보완하면서 좋은 추론 능력을 낼 수 있다.\n",
        "\n",
        "###훈련(unlabeled data 와 labeled data 둘 다 사용)\n",
        "![seq3seq1](https://d3i71xaburhd42.cloudfront.net/0b940de618127f3d149fa3ca8e8bbba4b1cc425d/4-Figure2-1.png)\n",
        "\n",
        "###fingerprint(1개의 입력으로 2개의 출력이 나옴)\n",
        "![seq3seq2](https://d3i71xaburhd42.cloudfront.net/0b940de618127f3d149fa3ca8e8bbba4b1cc425d/5-Figure3-1.png)\n",
        "\n",
        "###PM2-10k\n",
        "![PM2-10k](https://d3i71xaburhd42.cloudfront.net/0b940de618127f3d149fa3ca8e8bbba4b1cc425d/6-Table2-1.png)\n",
        "###LogP\n",
        "![대체 텍스트](https://d3i71xaburhd42.cloudfront.net/0b940de618127f3d149fa3ca8e8bbba4b1cc425d/6-Table1-1.png)\n",
        "\n",
        "seq2seq의 정확도와 비교해서 seq3seq의 정확도가 증가한 것으로 보인다."
      ]
    },
    {
      "cell_type": "markdown",
      "metadata": {
        "colab_type": "text",
        "id": "n7aINLi5THMa"
      },
      "source": [
        "# 참고문헌\n",
        "- \"rdkit download\", https://gist.github.com/philopon/a75a33919d9ae41dbed5bc6a39f5ede2\n",
        "- \"SMILES - A Simplified Chemical Language\", https://www.daylight.com/dayhtml/doc/theory/theory.smiles.html\n",
        "- \"SMILES Tutorial\", https://www.daylight.com/dayhtml_tutorials/languages/smiles/index.html\n",
        "- Dzmitry Bahdanau, KyungHyun Cho, Yoshua Bengio, \"Neural Machine Translation by Jointly Learning to Aligh and Translate\", 2015\n",
        "- \"How to Use Tensorflow for Seq2seq Models (LIVE)\", Youtube, 2017.3.30, https://www.youtube.com/watch?v=ElmBrKyMXxs\n",
        "- Won Joon Yoo, [딥 러닝을 이용한 자연어 처리 입문], BY-NC-SA, 2019.12.03, 13-1)시퀀스-투-시퀀스\n",
        "- Zheng Xu, Sheng Wang, Feiyun Zhu, Junzhou Huang, \"Seq2seq Fingerprint: An Unsupervised Deep Molecular Embedding for Drug Discovery\", 2017\n",
        "- \"Master your molecule generator: Seq2seq RNN models with SMILES in Keras\", 2017.12.14, Esben Jannik Bjerrum, https://www.wildcardconsulting.dk/master-your-molecule-generator-seq2seq-rnn-models-with-smiles-in-keras \n",
        "- Xiaoyu Zhang, Sheng Wang, Feiyun Zhu, Zheng Xu, Yuhong Wang, Junzhou Huang, \"Seq3seq Fingerprint: Towards End-to-end Semi-supervised DeepDrug Discovery\", 2018 "
      ]
    }
  ]
}
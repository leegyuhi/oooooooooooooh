{
  "nbformat": 4,
  "nbformat_minor": 0,
  "metadata": {
    "colab": {
      "name": "Untitled8.ipynb",
      "provenance": [],
      "include_colab_link": true
    },
    "kernelspec": {
      "name": "python3",
      "display_name": "Python 3"
    }
  },
  "cells": [
    {
      "cell_type": "markdown",
      "metadata": {
        "id": "view-in-github",
        "colab_type": "text"
      },
      "source": [
        "<a href=\"https://colab.research.google.com/github/leegyuhi/oooooooooooooh/blob/master/Untitled8.ipynb\" target=\"_parent\"><img src=\"https://colab.research.google.com/assets/colab-badge.svg\" alt=\"Open In Colab\"/></a>"
      ]
    },
    {
      "cell_type": "code",
      "metadata": {
        "id": "6LPOJgJpEXST",
        "colab_type": "code",
        "colab": {}
      },
      "source": [
        "class Family:\n",
        "    lastname = \"김\"\n",
        "\n",
        "c1=Family()\n",
        "c2=Family()"
      ],
      "execution_count": 0,
      "outputs": []
    },
    {
      "cell_type": "code",
      "metadata": {
        "id": "eaYH7Tx_q19k",
        "colab_type": "code",
        "colab": {
          "base_uri": "https://localhost:8080/",
          "height": 73
        },
        "outputId": "463f4a45-bfe1-4b83-a6d6-51231f4869b8"
      },
      "source": [
        "print(Family.__dict__)     # 클래스의 네임스페이스 참조\n",
        "print(c1.__dict__)     # 인스턴스의 네임스페이스 참조"
      ],
      "execution_count": 20,
      "outputs": [
        {
          "output_type": "stream",
          "text": [
            "{'__module__': '__main__', 'lastname': '김', '__dict__': <attribute '__dict__' of 'Family' objects>, '__weakref__': <attribute '__weakref__' of 'Family' objects>, '__doc__': None}\n",
            "{}\n"
          ],
          "name": "stdout"
        }
      ]
    },
    {
      "cell_type": "markdown",
      "metadata": {
        "id": "vZBximrSq6xE",
        "colab_type": "text"
      },
      "source": [
        "c1 인스턴스에 따로 변수 입력을 하지 않았을 때에는 Family 클래스의 네임스페이스에만 'lastname'이 있고, c1 인스턴스의 네임스페이스는 비어있다."
      ]
    },
    {
      "cell_type": "code",
      "metadata": {
        "id": "ba6kiwO6EtA9",
        "colab_type": "code",
        "colab": {}
      },
      "source": [
        "c1.lastname = '박'"
      ],
      "execution_count": 0,
      "outputs": []
    },
    {
      "cell_type": "code",
      "metadata": {
        "id": "9l0hRGVwEyCM",
        "colab_type": "code",
        "colab": {
          "base_uri": "https://localhost:8080/",
          "height": 73
        },
        "outputId": "e2041c94-1aa2-41ad-c6f0-cbaf706ce624"
      },
      "source": [
        "print(Family.__dict__)     # 클래스의 네임스페이스 참조\n",
        "print(c1.__dict__)     # 인스턴스의 네임스페이스 참조"
      ],
      "execution_count": 7,
      "outputs": [
        {
          "output_type": "stream",
          "text": [
            "{'__module__': '__main__', 'lastname': '김', '__dict__': <attribute '__dict__' of 'Family' objects>, '__weakref__': <attribute '__weakref__' of 'Family' objects>, '__doc__': None}\n",
            "{'lastname': '박'}\n"
          ],
          "name": "stdout"
        }
      ]
    },
    {
      "cell_type": "markdown",
      "metadata": {
        "id": "ctmydHTPqVwy",
        "colab_type": "text"
      },
      "source": [
        "위의 결과를 보면 c1 인스턴스에 변수 입력을 하자, c1 인스턴스의 네임스페이스에 'lastname'이 생긴 것을 확인할 수 있다.\n",
        "\n",
        "클래스와 인스턴스가 서로 다른 저장 공간을 사용하기 때문에 주소가 서로 다를 수 밖에 없다는 결론을 내릴 수 있다."
      ]
    },
    {
      "cell_type": "code",
      "metadata": {
        "id": "IccqIvkqoYy5",
        "colab_type": "code",
        "colab": {}
      },
      "source": [
        ""
      ],
      "execution_count": 0,
      "outputs": []
    }
  ]
}
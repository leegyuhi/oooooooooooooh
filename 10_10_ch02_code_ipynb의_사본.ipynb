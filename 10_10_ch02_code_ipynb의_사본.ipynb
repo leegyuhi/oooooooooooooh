{
  "nbformat": 4,
  "nbformat_minor": 0,
  "metadata": {
    "kernelspec": {
      "display_name": "Python 3",
      "language": "python",
      "name": "python3"
    },
    "language_info": {
      "codemirror_mode": {
        "name": "ipython",
        "version": 3
      },
      "file_extension": ".py",
      "mimetype": "text/x-python",
      "name": "python",
      "nbconvert_exporter": "python",
      "pygments_lexer": "ipython3",
      "version": "3.6.1"
    },
    "colab": {
      "name": "10/10_ch02_code.ipynb의 사본",
      "provenance": [],
      "collapsed_sections": [
        "18MdVE6bME_j",
        "91MD_xLYME_l",
        "Gb8HvANcME_r",
        "5qUwi6DqME_s",
        "svyoVgpUME_9",
        "3GoHsUpaMFAN",
        "adYRrutnMFAU",
        "IizkkUhyMFAk",
        "urjJhQJcMFAl",
        "CxumHGfbMFBO",
        "0mQc869qMFBO",
        "7EtNRgx6MFBm",
        "IU5mhdUGMFBx",
        "wAPk3-H1MFB8",
        "tMz_aIBOMFCL",
        "ebnRY18fMFCS",
        "NN41fP9jMFCU",
        "T1wp8mdsMFCn"
      ],
      "include_colab_link": true
    }
  },
  "cells": [
    {
      "cell_type": "markdown",
      "metadata": {
        "id": "view-in-github",
        "colab_type": "text"
      },
      "source": [
        "<a href=\"https://colab.research.google.com/github/leegyuhi/oooooooooooooh/blob/master/10_10_ch02_code_ipynb%EC%9D%98_%EC%82%AC%EB%B3%B8.ipynb\" target=\"_parent\"><img src=\"https://colab.research.google.com/assets/colab-badge.svg\" alt=\"Open In Colab\"/></a>"
      ]
    },
    {
      "cell_type": "markdown",
      "metadata": {
        "id": "ag7bkd6QME9W",
        "colab_type": "text"
      },
      "source": [
        "# Chapter 2: Vectors, matrices and multidimensional arrays"
      ]
    },
    {
      "cell_type": "markdown",
      "metadata": {
        "id": "y4qttxxcME9X",
        "colab_type": "text"
      },
      "source": [
        "Robert Johansson\n",
        "\n",
        "Updated source code listings for Numerical Python - A Practical Techniques Approach for Industry (ISBN 978-1-484205-54-9).\n",
        "\n",
        "Updator: Kee-Youn Yoo"
      ]
    },
    {
      "cell_type": "code",
      "metadata": {
        "id": "4Wejh0JCME9X",
        "colab_type": "code",
        "colab": {}
      },
      "source": [
        "import numpy as np # numpy를 약자 np로 불러옴"
      ],
      "execution_count": 0,
      "outputs": []
    },
    {
      "cell_type": "markdown",
      "metadata": {
        "id": "AqTz5Xo-ME9a",
        "colab_type": "text"
      },
      "source": [
        "## The Numpy array object"
      ]
    },
    {
      "cell_type": "code",
      "metadata": {
        "id": "FUynG9L5ME9b",
        "colab_type": "code",
        "colab": {}
      },
      "source": [
        "data = np.array([[1, 2], [3, 4], [5, 6]])"
      ],
      "execution_count": 0,
      "outputs": []
    },
    {
      "cell_type": "code",
      "metadata": {
        "id": "wM5PK6wIME9e",
        "colab_type": "code",
        "outputId": "1c75633d-b699-48b2-cd83-48c516b21739",
        "colab": {
          "base_uri": "https://localhost:8080/",
          "height": 35
        }
      },
      "source": [
        "type(data) # numpy array에는 같은 데이터 형식으로만 들어감 / 문자열만이거나 숫자형만이거나 / 하나를 문자열로 넣으면 다 문자열이 됨"
      ],
      "execution_count": 0,
      "outputs": [
        {
          "output_type": "execute_result",
          "data": {
            "text/plain": [
              "numpy.ndarray"
            ]
          },
          "metadata": {
            "tags": []
          },
          "execution_count": 107
        }
      ]
    },
    {
      "cell_type": "code",
      "metadata": {
        "id": "Q0u-sLHxME9h",
        "colab_type": "code",
        "outputId": "09226dd9-9845-41e2-ab04-72b990b2af7e",
        "colab": {
          "base_uri": "https://localhost:8080/",
          "height": 71
        }
      },
      "source": [
        "data"
      ],
      "execution_count": 0,
      "outputs": [
        {
          "output_type": "execute_result",
          "data": {
            "text/plain": [
              "array([[1, 2],\n",
              "       [3, 4],\n",
              "       [5, 6]])"
            ]
          },
          "metadata": {
            "tags": []
          },
          "execution_count": 108
        }
      ]
    },
    {
      "cell_type": "code",
      "metadata": {
        "id": "8eFFKFDSME9j",
        "colab_type": "code",
        "outputId": "89bb0297-d1b0-4f56-a375-c0abc7a0fe9b",
        "colab": {
          "base_uri": "https://localhost:8080/",
          "height": 35
        }
      },
      "source": [
        "data.ndim # data dimension"
      ],
      "execution_count": 0,
      "outputs": [
        {
          "output_type": "execute_result",
          "data": {
            "text/plain": [
              "2"
            ]
          },
          "metadata": {
            "tags": []
          },
          "execution_count": 109
        }
      ]
    },
    {
      "cell_type": "code",
      "metadata": {
        "id": "J9tlUWf0ME9l",
        "colab_type": "code",
        "outputId": "49dd328c-3bae-42e2-86f0-668f9dea931a",
        "colab": {
          "base_uri": "https://localhost:8080/",
          "height": 35
        }
      },
      "source": [
        "data.shape # 3행 2열"
      ],
      "execution_count": 0,
      "outputs": [
        {
          "output_type": "execute_result",
          "data": {
            "text/plain": [
              "(3, 2)"
            ]
          },
          "metadata": {
            "tags": []
          },
          "execution_count": 110
        }
      ]
    },
    {
      "cell_type": "code",
      "metadata": {
        "id": "4CbCp5wsME9n",
        "colab_type": "code",
        "outputId": "6cf1f547-e03a-4116-d038-5a7432afbcc4",
        "colab": {
          "base_uri": "https://localhost:8080/",
          "height": 35
        }
      },
      "source": [
        "data.size "
      ],
      "execution_count": 0,
      "outputs": [
        {
          "output_type": "execute_result",
          "data": {
            "text/plain": [
              "6"
            ]
          },
          "metadata": {
            "tags": []
          },
          "execution_count": 111
        }
      ]
    },
    {
      "cell_type": "code",
      "metadata": {
        "id": "DOFEM3pMME9o",
        "colab_type": "code",
        "outputId": "d704079e-2a6f-4c23-850c-e6e9fd4cfe18",
        "colab": {
          "base_uri": "https://localhost:8080/",
          "height": 35
        }
      },
      "source": [
        "data.dtype # 64비트 정수형"
      ],
      "execution_count": 0,
      "outputs": [
        {
          "output_type": "execute_result",
          "data": {
            "text/plain": [
              "dtype('int64')"
            ]
          },
          "metadata": {
            "tags": []
          },
          "execution_count": 112
        }
      ]
    },
    {
      "cell_type": "code",
      "metadata": {
        "id": "K_nGyckrME9q",
        "colab_type": "code",
        "outputId": "0b9b825c-7cc3-470f-bfed-e2c066724b79",
        "colab": {
          "base_uri": "https://localhost:8080/",
          "height": 35
        }
      },
      "source": [
        "data.nbytes # 내가 쓴 byte / 6 byte 씩"
      ],
      "execution_count": 0,
      "outputs": [
        {
          "output_type": "execute_result",
          "data": {
            "text/plain": [
              "48"
            ]
          },
          "metadata": {
            "tags": []
          },
          "execution_count": 113
        }
      ]
    },
    {
      "cell_type": "markdown",
      "metadata": {
        "id": "He0HU311ME9t",
        "colab_type": "text"
      },
      "source": [
        "## Data types"
      ]
    },
    {
      "cell_type": "code",
      "metadata": {
        "id": "k_eu07g-ME9u",
        "colab_type": "code",
        "outputId": "97ca41c8-39ad-4769-a9a8-59139b01f50b",
        "colab": {
          "base_uri": "https://localhost:8080/",
          "height": 35
        }
      },
      "source": [
        "np.array([1, 2, 3], dtype=np.int) # data type 지정"
      ],
      "execution_count": 0,
      "outputs": [
        {
          "output_type": "execute_result",
          "data": {
            "text/plain": [
              "array([1, 2, 3])"
            ]
          },
          "metadata": {
            "tags": []
          },
          "execution_count": 114
        }
      ]
    },
    {
      "cell_type": "code",
      "metadata": {
        "id": "W7OX0iVtME9w",
        "colab_type": "code",
        "colab": {}
      },
      "source": [
        "d1=np.array([1, 2, 3], dtype=np.float)"
      ],
      "execution_count": 0,
      "outputs": []
    },
    {
      "cell_type": "code",
      "metadata": {
        "id": "yVvExx8ZME9y",
        "colab_type": "code",
        "outputId": "42d66a85-f096-4bc2-a25c-c87ef20cc3ab",
        "colab": {
          "base_uri": "https://localhost:8080/",
          "height": 35
        }
      },
      "source": [
        "d1.dtype"
      ],
      "execution_count": 0,
      "outputs": [
        {
          "output_type": "execute_result",
          "data": {
            "text/plain": [
              "dtype('float64')"
            ]
          },
          "metadata": {
            "tags": []
          },
          "execution_count": 116
        }
      ]
    },
    {
      "cell_type": "code",
      "metadata": {
        "id": "qKSU6iBOME90",
        "colab_type": "code",
        "outputId": "85ed5023-c026-4050-f5aa-d259794048fc",
        "colab": {
          "base_uri": "https://localhost:8080/",
          "height": 35
        }
      },
      "source": [
        "np.array([1, 2, 3], dtype=np.complex) # 복소수로 데이터 저장"
      ],
      "execution_count": 0,
      "outputs": [
        {
          "output_type": "execute_result",
          "data": {
            "text/plain": [
              "array([1.+0.j, 2.+0.j, 3.+0.j])"
            ]
          },
          "metadata": {
            "tags": []
          },
          "execution_count": 117
        }
      ]
    },
    {
      "cell_type": "markdown",
      "metadata": {
        "id": "2pxsOTQiME92",
        "colab_type": "text"
      },
      "source": [
        "### Type casting"
      ]
    },
    {
      "cell_type": "code",
      "metadata": {
        "id": "-b7f8DbjME93",
        "colab_type": "code",
        "colab": {}
      },
      "source": [
        "data = np.array([1, 2, 3], dtype=np.float)"
      ],
      "execution_count": 0,
      "outputs": []
    },
    {
      "cell_type": "code",
      "metadata": {
        "id": "v1OHTwWAME94",
        "colab_type": "code",
        "outputId": "cf7acf1c-f0a9-4e6a-b421-70d166171d94",
        "colab": {
          "base_uri": "https://localhost:8080/",
          "height": 35
        }
      },
      "source": [
        "data.dtype"
      ],
      "execution_count": 0,
      "outputs": [
        {
          "output_type": "execute_result",
          "data": {
            "text/plain": [
              "dtype('float64')"
            ]
          },
          "metadata": {
            "tags": []
          },
          "execution_count": 119
        }
      ]
    },
    {
      "cell_type": "code",
      "metadata": {
        "id": "0UBlCE-PME96",
        "colab_type": "code",
        "outputId": "95d21e21-0b81-4eed-f7db-d9889863b2a1",
        "colab": {
          "base_uri": "https://localhost:8080/",
          "height": 35
        }
      },
      "source": [
        "data"
      ],
      "execution_count": 0,
      "outputs": [
        {
          "output_type": "execute_result",
          "data": {
            "text/plain": [
              "array([1., 2., 3.])"
            ]
          },
          "metadata": {
            "tags": []
          },
          "execution_count": 120
        }
      ]
    },
    {
      "cell_type": "code",
      "metadata": {
        "id": "_K3QQ6xFME98",
        "colab_type": "code",
        "colab": {}
      },
      "source": [
        "data = np.array(data, dtype=np.int) # 정수형으로 바꿈"
      ],
      "execution_count": 0,
      "outputs": []
    },
    {
      "cell_type": "code",
      "metadata": {
        "id": "hALyqaafME9_",
        "colab_type": "code",
        "outputId": "847d3c09-2e5d-4bd2-feb2-545d683dc67a",
        "colab": {
          "base_uri": "https://localhost:8080/",
          "height": 35
        }
      },
      "source": [
        "data.dtype"
      ],
      "execution_count": 0,
      "outputs": [
        {
          "output_type": "execute_result",
          "data": {
            "text/plain": [
              "dtype('int64')"
            ]
          },
          "metadata": {
            "tags": []
          },
          "execution_count": 122
        }
      ]
    },
    {
      "cell_type": "code",
      "metadata": {
        "id": "ZpFYAEuZME-B",
        "colab_type": "code",
        "outputId": "24fb36a4-cc97-4c3d-ccc1-7b0ff9aa991e",
        "colab": {
          "base_uri": "https://localhost:8080/",
          "height": 35
        }
      },
      "source": [
        "data"
      ],
      "execution_count": 0,
      "outputs": [
        {
          "output_type": "execute_result",
          "data": {
            "text/plain": [
              "array([1, 2, 3])"
            ]
          },
          "metadata": {
            "tags": []
          },
          "execution_count": 123
        }
      ]
    },
    {
      "cell_type": "markdown",
      "metadata": {
        "id": "9EeNC5iXME-F",
        "colab_type": "text"
      },
      "source": [
        "*or*"
      ]
    },
    {
      "cell_type": "code",
      "metadata": {
        "id": "z6-8RpcOME-G",
        "colab_type": "code",
        "colab": {}
      },
      "source": [
        "data = np.array([1.6, 2, 3], dtype=np.float)"
      ],
      "execution_count": 0,
      "outputs": []
    },
    {
      "cell_type": "code",
      "metadata": {
        "id": "rld_QtoaME-I",
        "colab_type": "code",
        "outputId": "242d4a3f-83f5-4e02-8956-c0c91af644c2",
        "colab": {
          "base_uri": "https://localhost:8080/",
          "height": 35
        }
      },
      "source": [
        "data.astype(np.int) # astype은 데이터를 바꾸는 함수"
      ],
      "execution_count": 0,
      "outputs": [
        {
          "output_type": "execute_result",
          "data": {
            "text/plain": [
              "array([1, 2, 3])"
            ]
          },
          "metadata": {
            "tags": []
          },
          "execution_count": 125
        }
      ]
    },
    {
      "cell_type": "markdown",
      "metadata": {
        "id": "oN2EOjb8ME-K",
        "colab_type": "text"
      },
      "source": [
        "### Type promotion"
      ]
    },
    {
      "cell_type": "code",
      "metadata": {
        "id": "SZiBBIKhME-K",
        "colab_type": "code",
        "colab": {}
      },
      "source": [
        "d1 = np.array([1, 2, 3], dtype=float)"
      ],
      "execution_count": 0,
      "outputs": []
    },
    {
      "cell_type": "code",
      "metadata": {
        "id": "kIPfH_03ME-M",
        "colab_type": "code",
        "colab": {}
      },
      "source": [
        "d2 = np.array([1, 2, 3], dtype=complex)"
      ],
      "execution_count": 0,
      "outputs": []
    },
    {
      "cell_type": "code",
      "metadata": {
        "id": "IS-3uoPJME-O",
        "colab_type": "code",
        "outputId": "93241177-9427-416e-aa2a-aabd9c7b2cab",
        "colab": {
          "base_uri": "https://localhost:8080/",
          "height": 35
        }
      },
      "source": [
        "d1 + d2 # 자동으로 d1을 complex 타입으로 바꿔서 더함"
      ],
      "execution_count": 0,
      "outputs": [
        {
          "output_type": "execute_result",
          "data": {
            "text/plain": [
              "array([2.+0.j, 4.+0.j, 6.+0.j])"
            ]
          },
          "metadata": {
            "tags": []
          },
          "execution_count": 128
        }
      ]
    },
    {
      "cell_type": "code",
      "metadata": {
        "id": "509vnG2PME-R",
        "colab_type": "code",
        "outputId": "0ba759e3-eeab-4cc5-b857-639d3b3c1d7e",
        "colab": {
          "base_uri": "https://localhost:8080/",
          "height": 35
        }
      },
      "source": [
        "(d1 + d2).dtype"
      ],
      "execution_count": 0,
      "outputs": [
        {
          "output_type": "execute_result",
          "data": {
            "text/plain": [
              "dtype('complex128')"
            ]
          },
          "metadata": {
            "tags": []
          },
          "execution_count": 129
        }
      ]
    },
    {
      "cell_type": "markdown",
      "metadata": {
        "id": "KKElbTchME-S",
        "colab_type": "text"
      },
      "source": [
        "### Type-depending operation"
      ]
    },
    {
      "cell_type": "code",
      "metadata": {
        "id": "UeujPkH7ME-T",
        "colab_type": "code",
        "outputId": "8b64115b-0ce0-445b-e158-7f2970c8cee4",
        "colab": {
          "base_uri": "https://localhost:8080/",
          "height": 71
        }
      },
      "source": [
        "np.sqrt(np.array([-1, 0, 1])) # 제곱근, 정수형이었는데 실수형이 됨 / nan은 숫자가 아니라는 뜻"
      ],
      "execution_count": 0,
      "outputs": [
        {
          "output_type": "stream",
          "text": [
            "/usr/local/lib/python3.6/dist-packages/ipykernel_launcher.py:1: RuntimeWarning: invalid value encountered in sqrt\n",
            "  \"\"\"Entry point for launching an IPython kernel.\n"
          ],
          "name": "stderr"
        },
        {
          "output_type": "execute_result",
          "data": {
            "text/plain": [
              "array([nan,  0.,  1.])"
            ]
          },
          "metadata": {
            "tags": []
          },
          "execution_count": 130
        }
      ]
    },
    {
      "cell_type": "code",
      "metadata": {
        "id": "szVgp5wGME-V",
        "colab_type": "code",
        "outputId": "cf60de23-7582-4bad-a4ed-97d7a19304b3",
        "colab": {
          "base_uri": "https://localhost:8080/",
          "height": 35
        }
      },
      "source": [
        "np.sqrt(np.array([-1, 0, 1], dtype=complex)) # 복소수형 지정하면 루트(-1)도 먹는다"
      ],
      "execution_count": 0,
      "outputs": [
        {
          "output_type": "execute_result",
          "data": {
            "text/plain": [
              "array([0.+1.j, 0.+0.j, 1.+0.j])"
            ]
          },
          "metadata": {
            "tags": []
          },
          "execution_count": 131
        }
      ]
    },
    {
      "cell_type": "markdown",
      "metadata": {
        "id": "Wm1Q5TdWME-W",
        "colab_type": "text"
      },
      "source": [
        "### Real and imaginary parts "
      ]
    },
    {
      "cell_type": "code",
      "metadata": {
        "id": "inSAKAkpME-X",
        "colab_type": "code",
        "outputId": "cfe2204c-7a22-4a2a-8047-dd075c426697",
        "colab": {
          "base_uri": "https://localhost:8080/",
          "height": 35
        }
      },
      "source": [
        "data = np.array([1, 2, 3], dtype=complex); data"
      ],
      "execution_count": 0,
      "outputs": [
        {
          "output_type": "execute_result",
          "data": {
            "text/plain": [
              "array([1.+0.j, 2.+0.j, 3.+0.j])"
            ]
          },
          "metadata": {
            "tags": []
          },
          "execution_count": 132
        }
      ]
    },
    {
      "cell_type": "code",
      "metadata": {
        "id": "O9IzTX_7ME-Z",
        "colab_type": "code",
        "outputId": "7897dd28-f0a5-40c7-e4cb-1c31f8675366",
        "colab": {
          "base_uri": "https://localhost:8080/",
          "height": 35
        }
      },
      "source": [
        "data.real # 실수부만 찍어줌"
      ],
      "execution_count": 0,
      "outputs": [
        {
          "output_type": "execute_result",
          "data": {
            "text/plain": [
              "array([1., 2., 3.])"
            ]
          },
          "metadata": {
            "tags": []
          },
          "execution_count": 133
        }
      ]
    },
    {
      "cell_type": "code",
      "metadata": {
        "id": "arceKNBHME-d",
        "colab_type": "code",
        "outputId": "6c90b2ab-1977-4bfa-f31d-4dcac9130e72",
        "colab": {
          "base_uri": "https://localhost:8080/",
          "height": 35
        }
      },
      "source": [
        "data.imag # 허수부만"
      ],
      "execution_count": 0,
      "outputs": [
        {
          "output_type": "execute_result",
          "data": {
            "text/plain": [
              "array([0., 0., 0.])"
            ]
          },
          "metadata": {
            "tags": []
          },
          "execution_count": 134
        }
      ]
    },
    {
      "cell_type": "code",
      "metadata": {
        "id": "UrcoudffME-i",
        "colab_type": "code",
        "outputId": "ce14ab7b-fc79-4822-e75f-8ad4706d82c5",
        "colab": {
          "base_uri": "https://localhost:8080/",
          "height": 35
        }
      },
      "source": [
        "np.real(data)"
      ],
      "execution_count": 0,
      "outputs": [
        {
          "output_type": "execute_result",
          "data": {
            "text/plain": [
              "array([1., 2., 3.])"
            ]
          },
          "metadata": {
            "tags": []
          },
          "execution_count": 135
        }
      ]
    },
    {
      "cell_type": "code",
      "metadata": {
        "id": "ge38u-1wME-j",
        "colab_type": "code",
        "outputId": "083f69be-2a13-4b8f-8a4d-c5c9be2afc14",
        "colab": {
          "base_uri": "https://localhost:8080/",
          "height": 35
        }
      },
      "source": [
        "np.imag(data)"
      ],
      "execution_count": 0,
      "outputs": [
        {
          "output_type": "execute_result",
          "data": {
            "text/plain": [
              "array([0., 0., 0.])"
            ]
          },
          "metadata": {
            "tags": []
          },
          "execution_count": 136
        }
      ]
    },
    {
      "cell_type": "markdown",
      "metadata": {
        "id": "rsrNSW_UME-l",
        "colab_type": "text"
      },
      "source": [
        "### Order of array data in memory\n",
        "\n",
        "행렬을 저장하는 방법에 대해서 column이나 row냐"
      ]
    },
    {
      "cell_type": "markdown",
      "metadata": {
        "id": "QzVfOP-SME-l",
        "colab_type": "text"
      },
      "source": [
        "Multidimensional arrays are stored as contiguous data in memory. Consider the case of a two-dimensional array, containing rows and columns: One possible way to store this array as a consecutive sequence of values is to store the rows after each other, and another equally valid approach is to store the columns one after another. The former is called row-major format and the latter is column-major format. Whether to use row-major or column-major is a matter of conventions, and the **row-major format** is used for example in the **C** programming language, and **Fortran** uses the **column-major format**. "
      ]
    },
    {
      "cell_type": "markdown",
      "metadata": {
        "id": "0n7maM8KME-m",
        "colab_type": "text"
      },
      "source": [
        "A `NumPy` array can be specified to be stored in row-major format, using the keyword argument `order='C'`, and column-major format, using the keyword argument `order='F'`, when the array is created or reshaped. The default format is *row-major*. "
      ]
    },
    {
      "cell_type": "markdown",
      "metadata": {
        "id": "0j0da_daME-m",
        "colab_type": "text"
      },
      "source": [
        "In general, the `NumPy` array attribute `ndarray.strides` defines exactly how this mapping is done. The `strides` attribute is a tuple of the same length as the number of axes (dimensions) of the array. Each value in `strides` is the factor by which the index for the corresponding axis is multiplied when calculating the *memory offset (in bytes)* for a given index expression."
      ]
    },
    {
      "cell_type": "code",
      "metadata": {
        "id": "qRKABmMXME-n",
        "colab_type": "code",
        "colab": {}
      },
      "source": [
        "data = np.array([[1, 2, 3], [4, 5, 6]], dtype=np.int32)"
      ],
      "execution_count": 0,
      "outputs": []
    },
    {
      "cell_type": "code",
      "metadata": {
        "id": "TWtaRdmyME-o",
        "colab_type": "code",
        "outputId": "f927c4b7-acce-4ebe-c779-e48601d9809c",
        "colab": {
          "base_uri": "https://localhost:8080/",
          "height": 35
        }
      },
      "source": [
        "data.strides # 한 숫자당 4바이트 씩인데, 다음 줄의 데이타로 가려면 몇 바이트를 건너 뛰어야 하는가 (아래, 옆)"
      ],
      "execution_count": 0,
      "outputs": [
        {
          "output_type": "execute_result",
          "data": {
            "text/plain": [
              "(12, 4)"
            ]
          },
          "metadata": {
            "tags": []
          },
          "execution_count": 138
        }
      ]
    },
    {
      "cell_type": "code",
      "metadata": {
        "id": "Yv1APh3PME-q",
        "colab_type": "code",
        "colab": {}
      },
      "source": [
        "data = np.array([[1, 2, 3], [4, 5, 6]], dtype=np.int64, order='F') # 한 숫자당 8바이트 씩인데 저장 방법이 F라서 건너뛸 때 8바이트만"
      ],
      "execution_count": 0,
      "outputs": []
    },
    {
      "cell_type": "code",
      "metadata": {
        "id": "pwbyuF3iME-r",
        "colab_type": "code",
        "outputId": "d3c157a1-a8cc-492e-8dc4-85feb314bfeb",
        "colab": {
          "base_uri": "https://localhost:8080/",
          "height": 35
        }
      },
      "source": [
        "data.strides"
      ],
      "execution_count": 0,
      "outputs": [
        {
          "output_type": "execute_result",
          "data": {
            "text/plain": [
              "(8, 16)"
            ]
          },
          "metadata": {
            "tags": []
          },
          "execution_count": 140
        }
      ]
    },
    {
      "cell_type": "markdown",
      "metadata": {
        "id": "EgTfIOPfME-t",
        "colab_type": "text"
      },
      "source": [
        "## Creating arrays"
      ]
    },
    {
      "cell_type": "markdown",
      "metadata": {
        "id": "REJaDZ7rME-t",
        "colab_type": "text"
      },
      "source": [
        "### Arrays created from lists and other array-like objects"
      ]
    },
    {
      "cell_type": "code",
      "metadata": {
        "id": "Ki5SU3-fME-u",
        "colab_type": "code",
        "colab": {}
      },
      "source": [
        "data = np.array([1, 2, 3, 4])"
      ],
      "execution_count": 0,
      "outputs": []
    },
    {
      "cell_type": "code",
      "metadata": {
        "id": "Ber6K56ZME-x",
        "colab_type": "code",
        "outputId": "69ad3c33-19b9-4d4f-eefd-7f50a2ec4071",
        "colab": {
          "base_uri": "https://localhost:8080/",
          "height": 35
        }
      },
      "source": [
        "data.ndim"
      ],
      "execution_count": 0,
      "outputs": [
        {
          "output_type": "execute_result",
          "data": {
            "text/plain": [
              "1"
            ]
          },
          "metadata": {
            "tags": []
          },
          "execution_count": 142
        }
      ]
    },
    {
      "cell_type": "code",
      "metadata": {
        "id": "-MpJ23JIME-z",
        "colab_type": "code",
        "outputId": "83866ae2-7df8-4e0f-d37a-b4f01c526eee",
        "colab": {
          "base_uri": "https://localhost:8080/",
          "height": 35
        }
      },
      "source": [
        "data.shape # (1,4)라고 안 씀 / 헷갈리니깐 기억 잘 하자"
      ],
      "execution_count": 0,
      "outputs": [
        {
          "output_type": "execute_result",
          "data": {
            "text/plain": [
              "(4,)"
            ]
          },
          "metadata": {
            "tags": []
          },
          "execution_count": 143
        }
      ]
    },
    {
      "cell_type": "code",
      "metadata": {
        "id": "5nYIV4n-ME-1",
        "colab_type": "code",
        "colab": {}
      },
      "source": [
        "data = np.array([[1, 2], [3, 4]])"
      ],
      "execution_count": 0,
      "outputs": []
    },
    {
      "cell_type": "code",
      "metadata": {
        "id": "p0HsoMqFME-3",
        "colab_type": "code",
        "outputId": "ae94a4a3-70ae-450c-8bfc-f2498f24da30",
        "colab": {
          "base_uri": "https://localhost:8080/",
          "height": 35
        }
      },
      "source": [
        "data.ndim"
      ],
      "execution_count": 0,
      "outputs": [
        {
          "output_type": "execute_result",
          "data": {
            "text/plain": [
              "2"
            ]
          },
          "metadata": {
            "tags": []
          },
          "execution_count": 145
        }
      ]
    },
    {
      "cell_type": "code",
      "metadata": {
        "id": "qVNpIkxFME-5",
        "colab_type": "code",
        "outputId": "c426daf6-647c-4e9b-9090-abb931ec8a9d",
        "colab": {
          "base_uri": "https://localhost:8080/",
          "height": 35
        }
      },
      "source": [
        "data.shape"
      ],
      "execution_count": 0,
      "outputs": [
        {
          "output_type": "execute_result",
          "data": {
            "text/plain": [
              "(2, 2)"
            ]
          },
          "metadata": {
            "tags": []
          },
          "execution_count": 146
        }
      ]
    },
    {
      "cell_type": "markdown",
      "metadata": {
        "id": "9rDG8qfiME-6",
        "colab_type": "text"
      },
      "source": [
        "### Arrays filled with constant values"
      ]
    },
    {
      "cell_type": "code",
      "metadata": {
        "id": "afSmASvdME-6",
        "colab_type": "code",
        "outputId": "f9b539cf-7643-4e79-eef9-4d642058457c",
        "colab": {
          "base_uri": "https://localhost:8080/",
          "height": 53
        }
      },
      "source": [
        "np.zeros((2, 3)) "
      ],
      "execution_count": 0,
      "outputs": [
        {
          "output_type": "execute_result",
          "data": {
            "text/plain": [
              "array([[0., 0., 0.],\n",
              "       [0., 0., 0.]])"
            ]
          },
          "metadata": {
            "tags": []
          },
          "execution_count": 147
        }
      ]
    },
    {
      "cell_type": "code",
      "metadata": {
        "id": "khSk6h9hME-9",
        "colab_type": "code",
        "outputId": "f8f736e1-e027-44e5-aa09-55d47d738802",
        "colab": {
          "base_uri": "https://localhost:8080/",
          "height": 35
        }
      },
      "source": [
        "np.ones(4)"
      ],
      "execution_count": 0,
      "outputs": [
        {
          "output_type": "execute_result",
          "data": {
            "text/plain": [
              "array([1., 1., 1., 1.])"
            ]
          },
          "metadata": {
            "tags": []
          },
          "execution_count": 148
        }
      ]
    },
    {
      "cell_type": "markdown",
      "metadata": {
        "id": "nvpcQhlcME_A",
        "colab_type": "text"
      },
      "source": [
        "---"
      ]
    },
    {
      "cell_type": "code",
      "metadata": {
        "id": "a_9L7h8hME_B",
        "colab_type": "code",
        "colab": {}
      },
      "source": [
        "data = np.ones(4)"
      ],
      "execution_count": 0,
      "outputs": []
    },
    {
      "cell_type": "code",
      "metadata": {
        "id": "9AnOHH57ME_C",
        "colab_type": "code",
        "outputId": "d011e312-34b8-4e37-9b54-15fe97dcf0de",
        "colab": {
          "base_uri": "https://localhost:8080/",
          "height": 35
        }
      },
      "source": [
        "data.dtype"
      ],
      "execution_count": 0,
      "outputs": [
        {
          "output_type": "execute_result",
          "data": {
            "text/plain": [
              "dtype('float64')"
            ]
          },
          "metadata": {
            "tags": []
          },
          "execution_count": 150
        }
      ]
    },
    {
      "cell_type": "code",
      "metadata": {
        "id": "M2IJtg72ME_E",
        "colab_type": "code",
        "colab": {}
      },
      "source": [
        "data = np.ones(4, dtype=np.int64)"
      ],
      "execution_count": 0,
      "outputs": []
    },
    {
      "cell_type": "code",
      "metadata": {
        "id": "zfxZ0ixfME_G",
        "colab_type": "code",
        "outputId": "be4cea1e-f14c-475b-bfd7-bed1805ae37b",
        "colab": {
          "base_uri": "https://localhost:8080/",
          "height": 35
        }
      },
      "source": [
        "data.dtype"
      ],
      "execution_count": 0,
      "outputs": [
        {
          "output_type": "execute_result",
          "data": {
            "text/plain": [
              "dtype('int64')"
            ]
          },
          "metadata": {
            "tags": []
          },
          "execution_count": 152
        }
      ]
    },
    {
      "cell_type": "markdown",
      "metadata": {
        "id": "4TgI3Tz_ME_I",
        "colab_type": "text"
      },
      "source": [
        "---"
      ]
    },
    {
      "cell_type": "code",
      "metadata": {
        "id": "uPhFwO1fME_I",
        "colab_type": "code",
        "outputId": "822d225c-1c28-479a-c768-359c99276619",
        "colab": {
          "base_uri": "https://localhost:8080/",
          "height": 35
        }
      },
      "source": [
        "5.4 * np.ones(10)"
      ],
      "execution_count": 0,
      "outputs": [
        {
          "output_type": "execute_result",
          "data": {
            "text/plain": [
              "array([5.4, 5.4, 5.4, 5.4, 5.4, 5.4, 5.4, 5.4, 5.4, 5.4])"
            ]
          },
          "metadata": {
            "tags": []
          },
          "execution_count": 153
        }
      ]
    },
    {
      "cell_type": "code",
      "metadata": {
        "id": "lzZYPPzhME_J",
        "colab_type": "code",
        "outputId": "3c798f7f-9e08-413b-b980-9592a2d78607",
        "colab": {
          "base_uri": "https://localhost:8080/",
          "height": 35
        }
      },
      "source": [
        "np.full(10, 5.4) # slightly more efficient"
      ],
      "execution_count": 0,
      "outputs": [
        {
          "output_type": "execute_result",
          "data": {
            "text/plain": [
              "array([5.4, 5.4, 5.4, 5.4, 5.4, 5.4, 5.4, 5.4, 5.4, 5.4])"
            ]
          },
          "metadata": {
            "tags": []
          },
          "execution_count": 154
        }
      ]
    },
    {
      "cell_type": "markdown",
      "metadata": {
        "id": "vUTROXzkME_L",
        "colab_type": "text"
      },
      "source": [
        "---"
      ]
    },
    {
      "cell_type": "code",
      "metadata": {
        "id": "PVtTv1hHME_L",
        "colab_type": "code",
        "colab": {}
      },
      "source": [
        "x1 = np.empty(5); x1.fill(3.0)"
      ],
      "execution_count": 0,
      "outputs": []
    },
    {
      "cell_type": "code",
      "metadata": {
        "id": "yZtiPcazME_N",
        "colab_type": "code",
        "outputId": "3a7a2852-3786-4778-e51d-cf7bb7a6884d",
        "colab": {
          "base_uri": "https://localhost:8080/",
          "height": 35
        }
      },
      "source": [
        "x1"
      ],
      "execution_count": 0,
      "outputs": [
        {
          "output_type": "execute_result",
          "data": {
            "text/plain": [
              "array([3., 3., 3., 3., 3.])"
            ]
          },
          "metadata": {
            "tags": []
          },
          "execution_count": 156
        }
      ]
    },
    {
      "cell_type": "markdown",
      "metadata": {
        "id": "y3Jqa22BME_O",
        "colab_type": "text"
      },
      "source": [
        "### Arrays filled with incremental sequences"
      ]
    },
    {
      "cell_type": "code",
      "metadata": {
        "id": "z7aLy4KuME_O",
        "colab_type": "code",
        "outputId": "b8e78f6f-d15e-4ad7-b8c0-a9a6caad5916",
        "colab": {
          "base_uri": "https://localhost:8080/",
          "height": 35
        }
      },
      "source": [
        "np.arange(0, 11, 1) # 0부터 10까지 간격을 1씩"
      ],
      "execution_count": 0,
      "outputs": [
        {
          "output_type": "execute_result",
          "data": {
            "text/plain": [
              "array([ 0,  1,  2,  3,  4,  5,  6,  7,  8,  9, 10])"
            ]
          },
          "metadata": {
            "tags": []
          },
          "execution_count": 157
        }
      ]
    },
    {
      "cell_type": "code",
      "metadata": {
        "id": "yH8NGSy6ME_Q",
        "colab_type": "code",
        "outputId": "56e0b55e-4936-4855-8e98-7d38483dc966",
        "colab": {
          "base_uri": "https://localhost:8080/",
          "height": 35
        }
      },
      "source": [
        "np.linspace(0, 10, 11) # generally recommended / lear space / 0부터 10까지 11 등분해라"
      ],
      "execution_count": 0,
      "outputs": [
        {
          "output_type": "execute_result",
          "data": {
            "text/plain": [
              "array([ 0.,  1.,  2.,  3.,  4.,  5.,  6.,  7.,  8.,  9., 10.])"
            ]
          },
          "metadata": {
            "tags": []
          },
          "execution_count": 158
        }
      ]
    },
    {
      "cell_type": "markdown",
      "metadata": {
        "id": "SYqe1LXhME_T",
        "colab_type": "text"
      },
      "source": [
        "### Arrays filled with logarithmic sequences "
      ]
    },
    {
      "cell_type": "code",
      "metadata": {
        "id": "6iSKxvobME_T",
        "colab_type": "code",
        "outputId": "720ecb36-dd56-472c-8ccf-864505a6cf00",
        "colab": {
          "base_uri": "https://localhost:8080/",
          "height": 53
        }
      },
      "source": [
        "np.logspace(0, 2, 5)  # 5 data points between 10**0=1 to 10**2=100 / 1부터 100까지 5등분 / 로그스케일로 그리면 직선"
      ],
      "execution_count": 0,
      "outputs": [
        {
          "output_type": "execute_result",
          "data": {
            "text/plain": [
              "array([  1.        ,   3.16227766,  10.        ,  31.6227766 ,\n",
              "       100.        ])"
            ]
          },
          "metadata": {
            "tags": []
          },
          "execution_count": 159
        }
      ]
    },
    {
      "cell_type": "markdown",
      "metadata": {
        "id": "Z8v_TtjSME_W",
        "colab_type": "text"
      },
      "source": [
        "### Mesh grid arrays"
      ]
    },
    {
      "cell_type": "code",
      "metadata": {
        "id": "zG10XUeGME_W",
        "colab_type": "code",
        "colab": {}
      },
      "source": [
        "x = np.array([-1, 0, 1])\n",
        "y = np.array([-2, 0, 2])"
      ],
      "execution_count": 0,
      "outputs": []
    },
    {
      "cell_type": "code",
      "metadata": {
        "id": "GmLLQSQUME_X",
        "colab_type": "code",
        "colab": {}
      },
      "source": [
        "X, Y = np.meshgrid(x, y)"
      ],
      "execution_count": 0,
      "outputs": []
    },
    {
      "cell_type": "code",
      "metadata": {
        "id": "C8RVdUAYME_Z",
        "colab_type": "code",
        "outputId": "a01fbb27-f8a6-4116-cba4-e41b0bab97e9",
        "colab": {
          "base_uri": "https://localhost:8080/",
          "height": 71
        }
      },
      "source": [
        "X"
      ],
      "execution_count": 0,
      "outputs": [
        {
          "output_type": "execute_result",
          "data": {
            "text/plain": [
              "array([[-1,  0,  1],\n",
              "       [-1,  0,  1],\n",
              "       [-1,  0,  1]])"
            ]
          },
          "metadata": {
            "tags": []
          },
          "execution_count": 162
        }
      ]
    },
    {
      "cell_type": "code",
      "metadata": {
        "id": "0X4X_UhWME_d",
        "colab_type": "code",
        "outputId": "5302eaf5-135e-422d-b6b6-3b216587f114",
        "colab": {
          "base_uri": "https://localhost:8080/",
          "height": 71
        }
      },
      "source": [
        "Y # X와 Y가 2차원 데이터 쌍이 된다 (x,y)"
      ],
      "execution_count": 0,
      "outputs": [
        {
          "output_type": "execute_result",
          "data": {
            "text/plain": [
              "array([[-2, -2, -2],\n",
              "       [ 0,  0,  0],\n",
              "       [ 2,  2,  2]])"
            ]
          },
          "metadata": {
            "tags": []
          },
          "execution_count": 163
        }
      ]
    },
    {
      "cell_type": "code",
      "metadata": {
        "id": "EjDrLzU-ME_e",
        "colab_type": "code",
        "outputId": "a6fd5846-4bf6-4234-8dd6-17be81aff46d",
        "colab": {
          "base_uri": "https://localhost:8080/",
          "height": 71
        }
      },
      "source": [
        "Z = (X + Y)**2; Z # 행렬에서의 제곱이 아님"
      ],
      "execution_count": 0,
      "outputs": [
        {
          "output_type": "execute_result",
          "data": {
            "text/plain": [
              "array([[9, 4, 1],\n",
              "       [1, 0, 1],\n",
              "       [1, 4, 9]])"
            ]
          },
          "metadata": {
            "tags": []
          },
          "execution_count": 164
        }
      ]
    },
    {
      "cell_type": "markdown",
      "metadata": {
        "id": "B0zsrGM2ME_g",
        "colab_type": "text"
      },
      "source": [
        "### Creating uninitialized arrays"
      ]
    },
    {
      "cell_type": "code",
      "metadata": {
        "id": "DqOzeCHSME_g",
        "colab_type": "code",
        "outputId": "26f7255a-9c76-43e3-abe4-743c678d1842",
        "colab": {
          "base_uri": "https://localhost:8080/",
          "height": 53
        }
      },
      "source": [
        "x = np.empty(8, dtype=np.float); x\n",
        "# 8개짜리 메모리 자리를 만들어라, 숫자들은 걍 쓰레기 값"
      ],
      "execution_count": 0,
      "outputs": [
        {
          "output_type": "execute_result",
          "data": {
            "text/plain": [
              "array([2.41054391e-316, 1.58101007e-322, 2.46151512e-312, 1.42560534e-071,\n",
              "       5.19996650e-062, 4.08161379e-033, 9.14559501e-043, 2.26555601e-306])"
            ]
          },
          "metadata": {
            "tags": []
          },
          "execution_count": 165
        }
      ]
    },
    {
      "cell_type": "markdown",
      "metadata": {
        "id": "18MdVE6bME_j",
        "colab_type": "text"
      },
      "source": [
        "### Creating arrays with properties of other arrays"
      ]
    },
    {
      "cell_type": "code",
      "metadata": {
        "id": "hogtL_P7ME_j",
        "colab_type": "code",
        "outputId": "f54cd1fa-fdcc-4d79-ed60-f451a364d9e7",
        "colab": {
          "base_uri": "https://localhost:8080/",
          "height": 53
        }
      },
      "source": [
        "def f(x):    \n",
        "    y = np.ones_like(x)    # compute with x and y    \n",
        "    return y\n",
        "\n",
        "x = np.array([[1, 2, 3], [4, 5, 6]])\n",
        "y = f(x); y"
      ],
      "execution_count": 0,
      "outputs": [
        {
          "output_type": "execute_result",
          "data": {
            "text/plain": [
              "array([[1, 1, 1],\n",
              "       [1, 1, 1]])"
            ]
          },
          "metadata": {
            "tags": []
          },
          "execution_count": 166
        }
      ]
    },
    {
      "cell_type": "markdown",
      "metadata": {
        "id": "91MD_xLYME_l",
        "colab_type": "text"
      },
      "source": [
        "### Creating matrix arrays"
      ]
    },
    {
      "cell_type": "code",
      "metadata": {
        "id": "bwYOynsmME_l",
        "colab_type": "code",
        "outputId": "24f8d892-a241-4e17-b6f4-4eadbdd7c2b6",
        "colab": {
          "base_uri": "https://localhost:8080/",
          "height": 89
        }
      },
      "source": [
        "np.identity(4)"
      ],
      "execution_count": 0,
      "outputs": [
        {
          "output_type": "execute_result",
          "data": {
            "text/plain": [
              "array([[1., 0., 0., 0.],\n",
              "       [0., 1., 0., 0.],\n",
              "       [0., 0., 1., 0.],\n",
              "       [0., 0., 0., 1.]])"
            ]
          },
          "metadata": {
            "tags": []
          },
          "execution_count": 167
        }
      ]
    },
    {
      "cell_type": "code",
      "metadata": {
        "id": "2B56E_k_ME_m",
        "colab_type": "code",
        "outputId": "283df4fa-c5ad-4012-8481-158e86841374",
        "colab": {
          "base_uri": "https://localhost:8080/",
          "height": 89
        }
      },
      "source": [
        "np.eye(4, k=1)"
      ],
      "execution_count": 0,
      "outputs": [
        {
          "output_type": "execute_result",
          "data": {
            "text/plain": [
              "array([[0., 1., 0., 0.],\n",
              "       [0., 0., 1., 0.],\n",
              "       [0., 0., 0., 1.],\n",
              "       [0., 0., 0., 0.]])"
            ]
          },
          "metadata": {
            "tags": []
          },
          "execution_count": 168
        }
      ]
    },
    {
      "cell_type": "code",
      "metadata": {
        "id": "0lrugfUWME_p",
        "colab_type": "code",
        "outputId": "91a41376-3164-442a-d3b0-4137bb9c6861",
        "colab": {
          "base_uri": "https://localhost:8080/",
          "height": 89
        }
      },
      "source": [
        "np.eye(4, k=-1)"
      ],
      "execution_count": 0,
      "outputs": [
        {
          "output_type": "execute_result",
          "data": {
            "text/plain": [
              "array([[0., 0., 0., 0.],\n",
              "       [1., 0., 0., 0.],\n",
              "       [0., 1., 0., 0.],\n",
              "       [0., 0., 1., 0.]])"
            ]
          },
          "metadata": {
            "tags": []
          },
          "execution_count": 169
        }
      ]
    },
    {
      "cell_type": "code",
      "metadata": {
        "id": "hwhnJNzbME_q",
        "colab_type": "code",
        "outputId": "a3b3ec26-2902-4c29-f923-ceb7d3044e1a",
        "colab": {
          "base_uri": "https://localhost:8080/",
          "height": 89
        }
      },
      "source": [
        "np.diag(np.arange(0, 20, 5))"
      ],
      "execution_count": 0,
      "outputs": [
        {
          "output_type": "execute_result",
          "data": {
            "text/plain": [
              "array([[ 0,  0,  0,  0],\n",
              "       [ 0,  5,  0,  0],\n",
              "       [ 0,  0, 10,  0],\n",
              "       [ 0,  0,  0, 15]])"
            ]
          },
          "metadata": {
            "tags": []
          },
          "execution_count": 170
        }
      ]
    },
    {
      "cell_type": "markdown",
      "metadata": {
        "id": "Gb8HvANcME_r",
        "colab_type": "text"
      },
      "source": [
        "## Indexing and slicing"
      ]
    },
    {
      "cell_type": "markdown",
      "metadata": {
        "collapsed": true,
        "id": "5qUwi6DqME_s",
        "colab_type": "text"
      },
      "source": [
        "### One-dimensional arrays"
      ]
    },
    {
      "cell_type": "code",
      "metadata": {
        "id": "mkLoprmvME_s",
        "colab_type": "code",
        "outputId": "1a0a5fc7-a5a1-4a52-900a-0edd8ba52083",
        "colab": {
          "base_uri": "https://localhost:8080/",
          "height": 35
        }
      },
      "source": [
        "a = np.arange(0, 11); a"
      ],
      "execution_count": 0,
      "outputs": [
        {
          "output_type": "execute_result",
          "data": {
            "text/plain": [
              "array([ 0,  1,  2,  3,  4,  5,  6,  7,  8,  9, 10])"
            ]
          },
          "metadata": {
            "tags": []
          },
          "execution_count": 171
        }
      ]
    },
    {
      "cell_type": "code",
      "metadata": {
        "id": "LLSN9SMnME_t",
        "colab_type": "code",
        "outputId": "fbfb4cfa-2f44-4805-8be7-b2778a01aa9e",
        "colab": {
          "base_uri": "https://localhost:8080/",
          "height": 35
        }
      },
      "source": [
        "a[0]"
      ],
      "execution_count": 0,
      "outputs": [
        {
          "output_type": "execute_result",
          "data": {
            "text/plain": [
              "0"
            ]
          },
          "metadata": {
            "tags": []
          },
          "execution_count": 172
        }
      ]
    },
    {
      "cell_type": "code",
      "metadata": {
        "id": "DzS3uGAeME_u",
        "colab_type": "code",
        "outputId": "cb184d2f-2d09-4495-b547-1eef6d330dbf",
        "colab": {
          "base_uri": "https://localhost:8080/",
          "height": 35
        }
      },
      "source": [
        "a[-1]"
      ],
      "execution_count": 0,
      "outputs": [
        {
          "output_type": "execute_result",
          "data": {
            "text/plain": [
              "10"
            ]
          },
          "metadata": {
            "tags": []
          },
          "execution_count": 173
        }
      ]
    },
    {
      "cell_type": "code",
      "metadata": {
        "id": "e3O6zpjMME_w",
        "colab_type": "code",
        "outputId": "e9a0ce1d-8034-4cb8-a302-4154ec138469",
        "colab": {
          "base_uri": "https://localhost:8080/",
          "height": 35
        }
      },
      "source": [
        "a[4]"
      ],
      "execution_count": 0,
      "outputs": [
        {
          "output_type": "execute_result",
          "data": {
            "text/plain": [
              "4"
            ]
          },
          "metadata": {
            "tags": []
          },
          "execution_count": 174
        }
      ]
    },
    {
      "cell_type": "markdown",
      "metadata": {
        "id": "RgFPmGetME_z",
        "colab_type": "text"
      },
      "source": [
        "---"
      ]
    },
    {
      "cell_type": "code",
      "metadata": {
        "id": "KIDr1vrhME_z",
        "colab_type": "code",
        "outputId": "8d38a6c5-3dcc-4334-80b7-c8a20d5c8dab",
        "colab": {
          "base_uri": "https://localhost:8080/",
          "height": 35
        }
      },
      "source": [
        "a[1:-1]"
      ],
      "execution_count": 0,
      "outputs": [
        {
          "output_type": "execute_result",
          "data": {
            "text/plain": [
              "array([1, 2, 3, 4, 5, 6, 7, 8, 9])"
            ]
          },
          "metadata": {
            "tags": []
          },
          "execution_count": 175
        }
      ]
    },
    {
      "cell_type": "code",
      "metadata": {
        "id": "HYwYqgFrME_1",
        "colab_type": "code",
        "outputId": "49a10820-6467-49d7-9e0a-6ff92637aa88",
        "colab": {
          "base_uri": "https://localhost:8080/",
          "height": 35
        }
      },
      "source": [
        "a[1:-1:2]"
      ],
      "execution_count": 0,
      "outputs": [
        {
          "output_type": "execute_result",
          "data": {
            "text/plain": [
              "array([1, 3, 5, 7, 9])"
            ]
          },
          "metadata": {
            "tags": []
          },
          "execution_count": 176
        }
      ]
    },
    {
      "cell_type": "markdown",
      "metadata": {
        "id": "9-4g-dHCME_3",
        "colab_type": "text"
      },
      "source": [
        "---"
      ]
    },
    {
      "cell_type": "code",
      "metadata": {
        "id": "p4dZZqxHME_4",
        "colab_type": "code",
        "outputId": "c9fccc02-d2a2-451f-a195-49e9e74fa82c",
        "colab": {
          "base_uri": "https://localhost:8080/",
          "height": 35
        }
      },
      "source": [
        "a[:5]"
      ],
      "execution_count": 0,
      "outputs": [
        {
          "output_type": "execute_result",
          "data": {
            "text/plain": [
              "array([0, 1, 2, 3, 4])"
            ]
          },
          "metadata": {
            "tags": []
          },
          "execution_count": 177
        }
      ]
    },
    {
      "cell_type": "code",
      "metadata": {
        "id": "tZyu9GvsME_7",
        "colab_type": "code",
        "outputId": "478242b6-b02f-4380-de59-a86efe683edd",
        "colab": {
          "base_uri": "https://localhost:8080/",
          "height": 35
        }
      },
      "source": [
        "a[-5:]"
      ],
      "execution_count": 0,
      "outputs": [
        {
          "output_type": "execute_result",
          "data": {
            "text/plain": [
              "array([ 6,  7,  8,  9, 10])"
            ]
          },
          "metadata": {
            "tags": []
          },
          "execution_count": 178
        }
      ]
    },
    {
      "cell_type": "code",
      "metadata": {
        "id": "SHd_0GnFME_8",
        "colab_type": "code",
        "outputId": "b4828df3-389f-4f7a-fec7-92bfae9eb15f",
        "colab": {
          "base_uri": "https://localhost:8080/",
          "height": 35
        }
      },
      "source": [
        "a[::-2]"
      ],
      "execution_count": 0,
      "outputs": [
        {
          "output_type": "execute_result",
          "data": {
            "text/plain": [
              "array([10,  8,  6,  4,  2,  0])"
            ]
          },
          "metadata": {
            "tags": []
          },
          "execution_count": 179
        }
      ]
    },
    {
      "cell_type": "markdown",
      "metadata": {
        "id": "svyoVgpUME_9",
        "colab_type": "text"
      },
      "source": [
        "### Multidimensional arrays"
      ]
    },
    {
      "cell_type": "code",
      "metadata": {
        "id": "augRInVJME_9",
        "colab_type": "code",
        "colab": {}
      },
      "source": [
        "f = lambda m, n: n +10*m"
      ],
      "execution_count": 0,
      "outputs": []
    },
    {
      "cell_type": "code",
      "metadata": {
        "id": "iZin2VAEME_-",
        "colab_type": "code",
        "outputId": "510280f0-0145-41cf-a83d-04dcd56e0e96",
        "colab": {
          "base_uri": "https://localhost:8080/",
          "height": 125
        }
      },
      "source": [
        "A = np.fromfunction(f, (6, 6), dtype=int); A # please search for numpy.fromfunction at google"
      ],
      "execution_count": 0,
      "outputs": [
        {
          "output_type": "execute_result",
          "data": {
            "text/plain": [
              "array([[ 0,  1,  2,  3,  4,  5],\n",
              "       [10, 11, 12, 13, 14, 15],\n",
              "       [20, 21, 22, 23, 24, 25],\n",
              "       [30, 31, 32, 33, 34, 35],\n",
              "       [40, 41, 42, 43, 44, 45],\n",
              "       [50, 51, 52, 53, 54, 55]])"
            ]
          },
          "metadata": {
            "tags": []
          },
          "execution_count": 181
        }
      ]
    },
    {
      "cell_type": "markdown",
      "metadata": {
        "id": "7Pz6_CDZME__",
        "colab_type": "text"
      },
      "source": [
        "---"
      ]
    },
    {
      "cell_type": "code",
      "metadata": {
        "id": "cBjIj-BJMFAA",
        "colab_type": "code",
        "outputId": "71bfd302-19f3-443e-997b-72006bbe70b4",
        "colab": {
          "base_uri": "https://localhost:8080/",
          "height": 35
        }
      },
      "source": [
        "A[:, 1]  # the second column"
      ],
      "execution_count": 0,
      "outputs": [
        {
          "output_type": "execute_result",
          "data": {
            "text/plain": [
              "array([ 1, 11, 21, 31, 41, 51])"
            ]
          },
          "metadata": {
            "tags": []
          },
          "execution_count": 182
        }
      ]
    },
    {
      "cell_type": "code",
      "metadata": {
        "id": "a5oUO9XXMFAB",
        "colab_type": "code",
        "outputId": "1d3177fa-1add-4a4b-e9bb-949944d8cd63",
        "colab": {
          "base_uri": "https://localhost:8080/",
          "height": 35
        }
      },
      "source": [
        "A[1, :]  # the second raw"
      ],
      "execution_count": 0,
      "outputs": [
        {
          "output_type": "execute_result",
          "data": {
            "text/plain": [
              "array([10, 11, 12, 13, 14, 15])"
            ]
          },
          "metadata": {
            "tags": []
          },
          "execution_count": 183
        }
      ]
    },
    {
      "cell_type": "code",
      "metadata": {
        "id": "mcLNOriLMFAD",
        "colab_type": "code",
        "outputId": "0721b962-0e1b-4be8-b1a3-11762c89b466",
        "colab": {
          "base_uri": "https://localhost:8080/",
          "height": 71
        }
      },
      "source": [
        "A[:3, :3]"
      ],
      "execution_count": 0,
      "outputs": [
        {
          "output_type": "execute_result",
          "data": {
            "text/plain": [
              "array([[ 0,  1,  2],\n",
              "       [10, 11, 12],\n",
              "       [20, 21, 22]])"
            ]
          },
          "metadata": {
            "tags": []
          },
          "execution_count": 184
        }
      ]
    },
    {
      "cell_type": "code",
      "metadata": {
        "id": "OiobP5eFMFAE",
        "colab_type": "code",
        "outputId": "411113ee-a27e-4b09-aa5a-1edf524281d2",
        "colab": {
          "base_uri": "https://localhost:8080/",
          "height": 71
        }
      },
      "source": [
        "A[3:, :3]"
      ],
      "execution_count": 0,
      "outputs": [
        {
          "output_type": "execute_result",
          "data": {
            "text/plain": [
              "array([[30, 31, 32],\n",
              "       [40, 41, 42],\n",
              "       [50, 51, 52]])"
            ]
          },
          "metadata": {
            "tags": []
          },
          "execution_count": 185
        }
      ]
    },
    {
      "cell_type": "code",
      "metadata": {
        "id": "mMJ39337MFAH",
        "colab_type": "code",
        "outputId": "37b71ea5-37e4-483e-baf4-96d9e9eece49",
        "colab": {
          "base_uri": "https://localhost:8080/",
          "height": 71
        }
      },
      "source": [
        "A[::2, ::2]"
      ],
      "execution_count": 0,
      "outputs": [
        {
          "output_type": "execute_result",
          "data": {
            "text/plain": [
              "array([[ 0,  2,  4],\n",
              "       [20, 22, 24],\n",
              "       [40, 42, 44]])"
            ]
          },
          "metadata": {
            "tags": []
          },
          "execution_count": 186
        }
      ]
    },
    {
      "cell_type": "code",
      "metadata": {
        "id": "Fd1OblRoMFAK",
        "colab_type": "code",
        "outputId": "11d20c7e-122d-427b-92e3-a0b58b4bc40f",
        "colab": {
          "base_uri": "https://localhost:8080/",
          "height": 71
        }
      },
      "source": [
        "A[1::2, 1::3]"
      ],
      "execution_count": 0,
      "outputs": [
        {
          "output_type": "execute_result",
          "data": {
            "text/plain": [
              "array([[11, 14],\n",
              "       [31, 34],\n",
              "       [51, 54]])"
            ]
          },
          "metadata": {
            "tags": []
          },
          "execution_count": 187
        }
      ]
    },
    {
      "cell_type": "markdown",
      "metadata": {
        "id": "3GoHsUpaMFAN",
        "colab_type": "text"
      },
      "source": [
        "### Views"
      ]
    },
    {
      "cell_type": "markdown",
      "metadata": {
        "id": "Oxg-ubZWMFAO",
        "colab_type": "text"
      },
      "source": [
        "Subarrays that are extracted from arrays using slice operations are **alternative views** of the same underlying\n",
        "array data. That is, they are arrays that refer to the same data in memory as the original array, but with a\n",
        "different `strides` configuration. When elements in a view are assigned new values, the values of the original\n",
        "array are therefore also updated. For example,"
      ]
    },
    {
      "cell_type": "code",
      "metadata": {
        "id": "tieEJMb9MFAO",
        "colab_type": "code",
        "outputId": "2ae1f635-e6ea-4aee-e8a6-fa05f338c807",
        "colab": {
          "base_uri": "https://localhost:8080/",
          "height": 89
        }
      },
      "source": [
        "B = A[1:5, 1:5]; B"
      ],
      "execution_count": 0,
      "outputs": [
        {
          "output_type": "execute_result",
          "data": {
            "text/plain": [
              "array([[11, 12, 13, 14],\n",
              "       [21, 22, 23, 24],\n",
              "       [31, 32, 33, 34],\n",
              "       [41, 42, 43, 44]])"
            ]
          },
          "metadata": {
            "tags": []
          },
          "execution_count": 188
        }
      ]
    },
    {
      "cell_type": "code",
      "metadata": {
        "id": "I-Q4XoiUMFAP",
        "colab_type": "code",
        "outputId": "21255e44-332d-421a-85b8-2c8f9d59b245",
        "colab": {
          "base_uri": "https://localhost:8080/",
          "height": 125
        }
      },
      "source": [
        "B[:, :] = 0; A"
      ],
      "execution_count": 0,
      "outputs": [
        {
          "output_type": "execute_result",
          "data": {
            "text/plain": [
              "array([[ 0,  1,  2,  3,  4,  5],\n",
              "       [10,  0,  0,  0,  0, 15],\n",
              "       [20,  0,  0,  0,  0, 25],\n",
              "       [30,  0,  0,  0,  0, 35],\n",
              "       [40,  0,  0,  0,  0, 45],\n",
              "       [50, 51, 52, 53, 54, 55]])"
            ]
          },
          "metadata": {
            "tags": []
          },
          "execution_count": 189
        }
      ]
    },
    {
      "cell_type": "markdown",
      "metadata": {
        "id": "UrVNa4DKMFAQ",
        "colab_type": "text"
      },
      "source": [
        "When **a copy rather than a view** is needed, the view can be copied explicitly by using\n",
        "the `copy` method of the `ndarray` instance."
      ]
    },
    {
      "cell_type": "code",
      "metadata": {
        "id": "bZZLqQomMFAR",
        "colab_type": "code",
        "outputId": "aa5a1846-0252-43dc-f0a9-be9a97c621da",
        "colab": {
          "base_uri": "https://localhost:8080/",
          "height": 53
        }
      },
      "source": [
        "C = B[1:3, 1:3].copy(); C"
      ],
      "execution_count": 0,
      "outputs": [
        {
          "output_type": "execute_result",
          "data": {
            "text/plain": [
              "array([[0, 0],\n",
              "       [0, 0]])"
            ]
          },
          "metadata": {
            "tags": []
          },
          "execution_count": 190
        }
      ]
    },
    {
      "cell_type": "code",
      "metadata": {
        "id": "M6BQGwSSMFAS",
        "colab_type": "code",
        "outputId": "3ba632a4-1d52-4776-dd41-a42e4b3a6e4a",
        "colab": {
          "base_uri": "https://localhost:8080/",
          "height": 53
        }
      },
      "source": [
        "C[:, :] = 1; C"
      ],
      "execution_count": 0,
      "outputs": [
        {
          "output_type": "execute_result",
          "data": {
            "text/plain": [
              "array([[1, 1],\n",
              "       [1, 1]])"
            ]
          },
          "metadata": {
            "tags": []
          },
          "execution_count": 191
        }
      ]
    },
    {
      "cell_type": "code",
      "metadata": {
        "id": "QjQAtKWVMFAT",
        "colab_type": "code",
        "outputId": "3265d856-63c7-4a02-a6f2-21ebf83f8544",
        "colab": {
          "base_uri": "https://localhost:8080/",
          "height": 89
        }
      },
      "source": [
        "B"
      ],
      "execution_count": 0,
      "outputs": [
        {
          "output_type": "execute_result",
          "data": {
            "text/plain": [
              "array([[0, 0, 0, 0],\n",
              "       [0, 0, 0, 0],\n",
              "       [0, 0, 0, 0],\n",
              "       [0, 0, 0, 0]])"
            ]
          },
          "metadata": {
            "tags": []
          },
          "execution_count": 192
        }
      ]
    },
    {
      "cell_type": "markdown",
      "metadata": {
        "id": "adYRrutnMFAU",
        "colab_type": "text"
      },
      "source": [
        "### Fancy indexing and boolean-valued indexing"
      ]
    },
    {
      "cell_type": "code",
      "metadata": {
        "id": "5ed3MAwOMFAU",
        "colab_type": "code",
        "outputId": "da81588c-4bce-4e50-9b1d-7d2d72b6bb0a",
        "colab": {
          "base_uri": "https://localhost:8080/",
          "height": 35
        }
      },
      "source": [
        "A = np.linspace(0, 1, 11); A"
      ],
      "execution_count": 0,
      "outputs": [
        {
          "output_type": "execute_result",
          "data": {
            "text/plain": [
              "array([0. , 0.1, 0.2, 0.3, 0.4, 0.5, 0.6, 0.7, 0.8, 0.9, 1. ])"
            ]
          },
          "metadata": {
            "tags": []
          },
          "execution_count": 193
        }
      ]
    },
    {
      "cell_type": "code",
      "metadata": {
        "id": "SM9RvuVWMFAV",
        "colab_type": "code",
        "outputId": "03e297bc-7ab4-491b-f156-c8d484ce3b9c",
        "colab": {
          "base_uri": "https://localhost:8080/",
          "height": 35
        }
      },
      "source": [
        "A[np.array([0, 2, 4])]"
      ],
      "execution_count": 0,
      "outputs": [
        {
          "output_type": "execute_result",
          "data": {
            "text/plain": [
              "array([0. , 0.2, 0.4])"
            ]
          },
          "metadata": {
            "tags": []
          },
          "execution_count": 194
        }
      ]
    },
    {
      "cell_type": "code",
      "metadata": {
        "id": "k780mGxwMFAW",
        "colab_type": "code",
        "outputId": "67c97014-901f-4ef5-e4f7-724704c4ac55",
        "colab": {
          "base_uri": "https://localhost:8080/",
          "height": 35
        }
      },
      "source": [
        "A[[0, 2, 4]]"
      ],
      "execution_count": 0,
      "outputs": [
        {
          "output_type": "execute_result",
          "data": {
            "text/plain": [
              "array([0. , 0.2, 0.4])"
            ]
          },
          "metadata": {
            "tags": []
          },
          "execution_count": 195
        }
      ]
    },
    {
      "cell_type": "markdown",
      "metadata": {
        "id": "qJfb7rbiMFAX",
        "colab_type": "text"
      },
      "source": [
        "---"
      ]
    },
    {
      "cell_type": "code",
      "metadata": {
        "id": "ex3RYTKeMFAX",
        "colab_type": "code",
        "outputId": "7fa8644d-03cb-444a-b638-82e15c8b307f",
        "colab": {
          "base_uri": "https://localhost:8080/",
          "height": 53
        }
      },
      "source": [
        "A > 0.5"
      ],
      "execution_count": 0,
      "outputs": [
        {
          "output_type": "execute_result",
          "data": {
            "text/plain": [
              "array([False, False, False, False, False, False,  True,  True,  True,\n",
              "        True,  True])"
            ]
          },
          "metadata": {
            "tags": []
          },
          "execution_count": 196
        }
      ]
    },
    {
      "cell_type": "code",
      "metadata": {
        "id": "nC56gy8IMFAZ",
        "colab_type": "code",
        "outputId": "2a7eca6c-62fa-4cb5-f50a-1932567dafa0",
        "colab": {
          "base_uri": "https://localhost:8080/",
          "height": 35
        }
      },
      "source": [
        "A[A > 0.5]"
      ],
      "execution_count": 0,
      "outputs": [
        {
          "output_type": "execute_result",
          "data": {
            "text/plain": [
              "array([0.6, 0.7, 0.8, 0.9, 1. ])"
            ]
          },
          "metadata": {
            "tags": []
          },
          "execution_count": 197
        }
      ]
    },
    {
      "cell_type": "markdown",
      "metadata": {
        "id": "-fKTTXsAMFAb",
        "colab_type": "text"
      },
      "source": [
        "Unlike arrays created by using slices, **the arrays returned using fancy indexing and Boolean-valued\n",
        "indexing are not views**, but rather new independent arrays."
      ]
    },
    {
      "cell_type": "code",
      "metadata": {
        "id": "fzwqwXGEMFAb",
        "colab_type": "code",
        "colab": {}
      },
      "source": [
        "A = np.arange(10)"
      ],
      "execution_count": 0,
      "outputs": []
    },
    {
      "cell_type": "code",
      "metadata": {
        "id": "qmDO2l_wMFAc",
        "colab_type": "code",
        "colab": {}
      },
      "source": [
        "indices = [2, 4, 6]"
      ],
      "execution_count": 0,
      "outputs": []
    },
    {
      "cell_type": "code",
      "metadata": {
        "id": "kOKdQBz5MFAd",
        "colab_type": "code",
        "colab": {}
      },
      "source": [
        "B = A[indices]"
      ],
      "execution_count": 0,
      "outputs": []
    },
    {
      "cell_type": "code",
      "metadata": {
        "id": "2EobByoQMFAd",
        "colab_type": "code",
        "outputId": "3f4caced-d1be-4123-d81f-b24e1f131b65",
        "colab": {
          "base_uri": "https://localhost:8080/",
          "height": 35
        }
      },
      "source": [
        "B[0] = -1; A"
      ],
      "execution_count": 0,
      "outputs": [
        {
          "output_type": "execute_result",
          "data": {
            "text/plain": [
              "array([0, 1, 2, 3, 4, 5, 6, 7, 8, 9])"
            ]
          },
          "metadata": {
            "tags": []
          },
          "execution_count": 201
        }
      ]
    },
    {
      "cell_type": "code",
      "metadata": {
        "id": "io6ddITCMFAf",
        "colab_type": "code",
        "outputId": "1b93d0c8-09fe-4cd3-ed55-9c6e30711c55",
        "colab": {
          "base_uri": "https://localhost:8080/",
          "height": 35
        }
      },
      "source": [
        "A[indices] = -1; A"
      ],
      "execution_count": 0,
      "outputs": [
        {
          "output_type": "execute_result",
          "data": {
            "text/plain": [
              "array([ 0,  1, -1,  3, -1,  5, -1,  7,  8,  9])"
            ]
          },
          "metadata": {
            "tags": []
          },
          "execution_count": 202
        }
      ]
    },
    {
      "cell_type": "markdown",
      "metadata": {
        "id": "UwxFSf7sMFAf",
        "colab_type": "text"
      },
      "source": [
        "---"
      ]
    },
    {
      "cell_type": "code",
      "metadata": {
        "id": "McjSNHIUMFAg",
        "colab_type": "code",
        "colab": {}
      },
      "source": [
        "A = np.arange(10)"
      ],
      "execution_count": 0,
      "outputs": []
    },
    {
      "cell_type": "code",
      "metadata": {
        "id": "QML5-MYdMFAg",
        "colab_type": "code",
        "colab": {}
      },
      "source": [
        "B = A[A > 5]"
      ],
      "execution_count": 0,
      "outputs": []
    },
    {
      "cell_type": "code",
      "metadata": {
        "id": "mfQd9IeZMFAh",
        "colab_type": "code",
        "outputId": "1f48d8f6-75c3-4331-ee4d-8cea95f7870a",
        "colab": {
          "base_uri": "https://localhost:8080/",
          "height": 35
        }
      },
      "source": [
        "B[0] = -1; A"
      ],
      "execution_count": 0,
      "outputs": [
        {
          "output_type": "execute_result",
          "data": {
            "text/plain": [
              "array([0, 1, 2, 3, 4, 5, 6, 7, 8, 9])"
            ]
          },
          "metadata": {
            "tags": []
          },
          "execution_count": 205
        }
      ]
    },
    {
      "cell_type": "code",
      "metadata": {
        "id": "sHSzsF3EMFAi",
        "colab_type": "code",
        "outputId": "0758e7e1-24d7-4395-996c-ab6f956f340a",
        "colab": {
          "base_uri": "https://localhost:8080/",
          "height": 35
        }
      },
      "source": [
        "A[A > 5] = -1; A"
      ],
      "execution_count": 0,
      "outputs": [
        {
          "output_type": "execute_result",
          "data": {
            "text/plain": [
              "array([ 0,  1,  2,  3,  4,  5, -1, -1, -1, -1])"
            ]
          },
          "metadata": {
            "tags": []
          },
          "execution_count": 206
        }
      ]
    },
    {
      "cell_type": "markdown",
      "metadata": {
        "id": "IizkkUhyMFAk",
        "colab_type": "text"
      },
      "source": [
        "### Summery"
      ]
    },
    {
      "cell_type": "markdown",
      "metadata": {
        "id": "R56calnBMFAk",
        "colab_type": "text"
      },
      "source": [
        "<table>\n",
        "<tr>\n",
        "<td><img src=\"https://github.com/SeoulTechPSE/EngNm/blob/master/figs/array_indexing_01.svg?raw=1\"></td>\n",
        "<td><img src=\"https://github.com/SeoulTechPSE/EngNm/blob/master/figs/array_indexing_02.svg?raw=1\"></td>\n",
        "<td><img src=\"https://github.com/SeoulTechPSE/EngNm/blob/master/figs/array_indexing_03.svg?raw=1\"></td>\n",
        "<td><img src=\"https://github.com/SeoulTechPSE/EngNm/blob/master/figs/array_indexing_04.svg?raw=1\"></td>\n",
        "</tr>\n",
        "<tr>\n",
        "<td><img src=\"https://github.com/SeoulTechPSE/EngNm/blob/master/figs/array_indexing_05.svg?raw=1\"></td>\n",
        "<td><img src=\"https://github.com/SeoulTechPSE/EngNm/blob/master/figs/array_indexing_06.svg?raw=1\"></td>\n",
        "<td><img src=\"https://github.com/SeoulTechPSE/EngNm/blob/master/figs/array_indexing_07.svg?raw=1\"></td>\n",
        "<td><img src=\"https://github.com/SeoulTechPSE/EngNm/blob/master/figs/array_indexing_08.svg?raw=1\"></td>\n",
        "</tr>\n",
        "<tr>\n",
        "<td><img src=\"https://github.com/SeoulTechPSE/EngNm/blob/master/figs/array_indexing_09.svg?raw=1\"></td>\n",
        "<td><img src=\"https://github.com/SeoulTechPSE/EngNm/blob/master/figs/array_indexing_10.svg?raw=1\"></td>\n",
        "<td><img src=\"https://github.com/SeoulTechPSE/EngNm/blob/master/figs/array_indexing_11.svg?raw=1\"></td>\n",
        "<td><img src=\"https://github.com/SeoulTechPSE/EngNm/blob/master/figs/array_indexing_12.svg?raw=1\"></td>\n",
        "</tr>\n",
        "</table>"
      ]
    },
    {
      "cell_type": "markdown",
      "metadata": {
        "id": "urjJhQJcMFAl",
        "colab_type": "text"
      },
      "source": [
        "## Reshaping and resizing"
      ]
    },
    {
      "cell_type": "markdown",
      "metadata": {
        "id": "vhM6tF6OMFAm",
        "colab_type": "text"
      },
      "source": [
        "Reshaping an array does not require modifying the underlying array data; it only changes in how the\n",
        "data is interpreted, by redefining the array’s `strides` attribute."
      ]
    },
    {
      "cell_type": "code",
      "metadata": {
        "id": "aUaAHOJRMFAm",
        "colab_type": "code",
        "colab": {}
      },
      "source": [
        "data = np.array([[1, 2], [3, 4]])"
      ],
      "execution_count": 0,
      "outputs": []
    },
    {
      "cell_type": "code",
      "metadata": {
        "id": "wH_2z20eMFAo",
        "colab_type": "code",
        "outputId": "83befafd-a737-4e37-e836-c5cfce190845",
        "colab": {
          "base_uri": "https://localhost:8080/",
          "height": 35
        }
      },
      "source": [
        "data1 = np.reshape(data, (1, 4)); data1"
      ],
      "execution_count": 0,
      "outputs": [
        {
          "output_type": "execute_result",
          "data": {
            "text/plain": [
              "array([[1, 2, 3, 4]])"
            ]
          },
          "metadata": {
            "tags": []
          },
          "execution_count": 208
        }
      ]
    },
    {
      "cell_type": "code",
      "metadata": {
        "id": "3PwtpXFpMFAp",
        "colab_type": "code",
        "outputId": "520ec7db-f540-4e1d-e9a6-38e740e08b83",
        "colab": {
          "base_uri": "https://localhost:8080/",
          "height": 53
        }
      },
      "source": [
        "data1[0, 1] = -1; data"
      ],
      "execution_count": 0,
      "outputs": [
        {
          "output_type": "execute_result",
          "data": {
            "text/plain": [
              "array([[ 1, -1],\n",
              "       [ 3,  4]])"
            ]
          },
          "metadata": {
            "tags": []
          },
          "execution_count": 209
        }
      ]
    },
    {
      "cell_type": "code",
      "metadata": {
        "id": "RAo6MSoxMFAq",
        "colab_type": "code",
        "outputId": "465b6384-9b4c-4bcb-916a-b7855822e4e4",
        "colab": {
          "base_uri": "https://localhost:8080/",
          "height": 35
        }
      },
      "source": [
        "data2 = data.reshape(4); data2"
      ],
      "execution_count": 0,
      "outputs": [
        {
          "output_type": "execute_result",
          "data": {
            "text/plain": [
              "array([ 1, -1,  3,  4])"
            ]
          },
          "metadata": {
            "tags": []
          },
          "execution_count": 210
        }
      ]
    },
    {
      "cell_type": "code",
      "metadata": {
        "id": "8uJSvkh2MFAr",
        "colab_type": "code",
        "outputId": "aef63362-d234-438b-d426-e07d161b7829",
        "colab": {
          "base_uri": "https://localhost:8080/",
          "height": 53
        }
      },
      "source": [
        "data2[1] = -2; data"
      ],
      "execution_count": 0,
      "outputs": [
        {
          "output_type": "execute_result",
          "data": {
            "text/plain": [
              "array([[ 1, -2],\n",
              "       [ 3,  4]])"
            ]
          },
          "metadata": {
            "tags": []
          },
          "execution_count": 211
        }
      ]
    },
    {
      "cell_type": "markdown",
      "metadata": {
        "id": "5ba75PSgMFAs",
        "colab_type": "text"
      },
      "source": [
        "---"
      ]
    },
    {
      "cell_type": "code",
      "metadata": {
        "id": "FPvZ1pArMFAt",
        "colab_type": "code",
        "colab": {}
      },
      "source": [
        "data = np.array([[1, 2], [3, 4]])"
      ],
      "execution_count": 0,
      "outputs": []
    },
    {
      "cell_type": "code",
      "metadata": {
        "id": "1xre2OY7MFAv",
        "colab_type": "code",
        "outputId": "5d19744a-e090-4757-f8a3-07e6f78d7cae",
        "colab": {
          "base_uri": "https://localhost:8080/",
          "height": 35
        }
      },
      "source": [
        "data1 = np.ravel(data); data1"
      ],
      "execution_count": 0,
      "outputs": [
        {
          "output_type": "execute_result",
          "data": {
            "text/plain": [
              "array([1, 2, 3, 4])"
            ]
          },
          "metadata": {
            "tags": []
          },
          "execution_count": 213
        }
      ]
    },
    {
      "cell_type": "code",
      "metadata": {
        "id": "Ux73pydQMFAw",
        "colab_type": "code",
        "outputId": "f24c7af6-e8ed-4312-baa9-ea72a0b63068",
        "colab": {
          "base_uri": "https://localhost:8080/",
          "height": 53
        }
      },
      "source": [
        "data1[0] = -1; data"
      ],
      "execution_count": 0,
      "outputs": [
        {
          "output_type": "execute_result",
          "data": {
            "text/plain": [
              "array([[-1,  2],\n",
              "       [ 3,  4]])"
            ]
          },
          "metadata": {
            "tags": []
          },
          "execution_count": 214
        }
      ]
    },
    {
      "cell_type": "markdown",
      "metadata": {
        "id": "9m9Pqeq-MFAx",
        "colab_type": "text"
      },
      "source": [
        "The `ndarray` method `flatten` perform the same function, but\n",
        "returns a **copy** instead of a view."
      ]
    },
    {
      "cell_type": "code",
      "metadata": {
        "id": "JL_AYjuYMFAx",
        "colab_type": "code",
        "outputId": "2300cf1c-3352-45ef-dbd6-01312557acaa",
        "colab": {
          "base_uri": "https://localhost:8080/",
          "height": 35
        }
      },
      "source": [
        "data2 = data.flatten(); data2"
      ],
      "execution_count": 0,
      "outputs": [
        {
          "output_type": "execute_result",
          "data": {
            "text/plain": [
              "array([-1,  2,  3,  4])"
            ]
          },
          "metadata": {
            "tags": []
          },
          "execution_count": 215
        }
      ]
    },
    {
      "cell_type": "code",
      "metadata": {
        "id": "RZyGl7N-MFAy",
        "colab_type": "code",
        "outputId": "e5284ae2-b61e-434c-c1a9-a7777d21404c",
        "colab": {
          "base_uri": "https://localhost:8080/",
          "height": 53
        }
      },
      "source": [
        "data2[0] = -2; data"
      ],
      "execution_count": 0,
      "outputs": [
        {
          "output_type": "execute_result",
          "data": {
            "text/plain": [
              "array([[-1,  2],\n",
              "       [ 3,  4]])"
            ]
          },
          "metadata": {
            "tags": []
          },
          "execution_count": 216
        }
      ]
    },
    {
      "cell_type": "markdown",
      "metadata": {
        "id": "yex5xxgFMFAz",
        "colab_type": "text"
      },
      "source": [
        "---"
      ]
    },
    {
      "cell_type": "code",
      "metadata": {
        "id": "cCZep0y8MFAz",
        "colab_type": "code",
        "outputId": "f33720c4-d317-4252-a7cc-878fdd880cc9",
        "colab": {
          "base_uri": "https://localhost:8080/",
          "height": 35
        }
      },
      "source": [
        "data = np.arange(0, 5); data.shape"
      ],
      "execution_count": 0,
      "outputs": [
        {
          "output_type": "execute_result",
          "data": {
            "text/plain": [
              "(5,)"
            ]
          },
          "metadata": {
            "tags": []
          },
          "execution_count": 217
        }
      ]
    },
    {
      "cell_type": "code",
      "metadata": {
        "id": "zvnbqkiDMFA2",
        "colab_type": "code",
        "outputId": "a460403b-976e-4ed6-8749-098fa3e5cc4c",
        "colab": {
          "base_uri": "https://localhost:8080/",
          "height": 107
        }
      },
      "source": [
        "column = data[:, np.newaxis]; column"
      ],
      "execution_count": 0,
      "outputs": [
        {
          "output_type": "execute_result",
          "data": {
            "text/plain": [
              "array([[0],\n",
              "       [1],\n",
              "       [2],\n",
              "       [3],\n",
              "       [4]])"
            ]
          },
          "metadata": {
            "tags": []
          },
          "execution_count": 218
        }
      ]
    },
    {
      "cell_type": "code",
      "metadata": {
        "id": "0-GSNbVqMFA3",
        "colab_type": "code",
        "outputId": "4abee7da-558e-4d2a-eda1-04a3b74d03bb",
        "colab": {
          "base_uri": "https://localhost:8080/",
          "height": 35
        }
      },
      "source": [
        "column.shape"
      ],
      "execution_count": 0,
      "outputs": [
        {
          "output_type": "execute_result",
          "data": {
            "text/plain": [
              "(5, 1)"
            ]
          },
          "metadata": {
            "tags": []
          },
          "execution_count": 219
        }
      ]
    },
    {
      "cell_type": "code",
      "metadata": {
        "id": "ynNof-N_MFA4",
        "colab_type": "code",
        "outputId": "5489b8e8-4139-4cbc-e929-eafdf09e9edf",
        "colab": {
          "base_uri": "https://localhost:8080/",
          "height": 35
        }
      },
      "source": [
        "row = data[np.newaxis, :]; row"
      ],
      "execution_count": 0,
      "outputs": [
        {
          "output_type": "execute_result",
          "data": {
            "text/plain": [
              "array([[0, 1, 2, 3, 4]])"
            ]
          },
          "metadata": {
            "tags": []
          },
          "execution_count": 220
        }
      ]
    },
    {
      "cell_type": "code",
      "metadata": {
        "id": "dXTMcRUfMFA5",
        "colab_type": "code",
        "outputId": "e2af1026-776d-4d64-8826-7be39a94bd2b",
        "colab": {
          "base_uri": "https://localhost:8080/",
          "height": 35
        }
      },
      "source": [
        "row.shape"
      ],
      "execution_count": 0,
      "outputs": [
        {
          "output_type": "execute_result",
          "data": {
            "text/plain": [
              "(1, 5)"
            ]
          },
          "metadata": {
            "tags": []
          },
          "execution_count": 221
        }
      ]
    },
    {
      "cell_type": "code",
      "metadata": {
        "id": "HVmIJ_QLMFA6",
        "colab_type": "code",
        "outputId": "dca94ca8-733c-41dc-ecbc-247097e7af71",
        "colab": {
          "base_uri": "https://localhost:8080/",
          "height": 35
        }
      },
      "source": [
        "row[0, 0] = -1; data"
      ],
      "execution_count": 0,
      "outputs": [
        {
          "output_type": "execute_result",
          "data": {
            "text/plain": [
              "array([-1,  1,  2,  3,  4])"
            ]
          },
          "metadata": {
            "tags": []
          },
          "execution_count": 222
        }
      ]
    },
    {
      "cell_type": "code",
      "metadata": {
        "id": "zRPnYhCrMFA7",
        "colab_type": "code",
        "outputId": "cab2283d-529e-45d6-abd5-ca23c53e6e98",
        "colab": {
          "base_uri": "https://localhost:8080/",
          "height": 107
        }
      },
      "source": [
        "np.expand_dims(data, axis=1)"
      ],
      "execution_count": 0,
      "outputs": [
        {
          "output_type": "execute_result",
          "data": {
            "text/plain": [
              "array([[-1],\n",
              "       [ 1],\n",
              "       [ 2],\n",
              "       [ 3],\n",
              "       [ 4]])"
            ]
          },
          "metadata": {
            "tags": []
          },
          "execution_count": 223
        }
      ]
    },
    {
      "cell_type": "code",
      "metadata": {
        "id": "ARLSRJ7dMFA8",
        "colab_type": "code",
        "outputId": "a692b7c7-6a73-4aec-bf51-5ab878cc68ca",
        "colab": {
          "base_uri": "https://localhost:8080/",
          "height": 35
        }
      },
      "source": [
        "np.expand_dims(data, axis=0)"
      ],
      "execution_count": 0,
      "outputs": [
        {
          "output_type": "execute_result",
          "data": {
            "text/plain": [
              "array([[-1,  1,  2,  3,  4]])"
            ]
          },
          "metadata": {
            "tags": []
          },
          "execution_count": 224
        }
      ]
    },
    {
      "cell_type": "markdown",
      "metadata": {
        "id": "YsM1u58KMFA9",
        "colab_type": "text"
      },
      "source": [
        "---"
      ]
    },
    {
      "cell_type": "code",
      "metadata": {
        "id": "q7AWI6MRMFA9",
        "colab_type": "code",
        "outputId": "84b307d0-dd37-48d0-ab66-64eb2c2810b0",
        "colab": {
          "base_uri": "https://localhost:8080/",
          "height": 35
        }
      },
      "source": [
        "data = np.arange(5); data"
      ],
      "execution_count": 0,
      "outputs": [
        {
          "output_type": "execute_result",
          "data": {
            "text/plain": [
              "array([0, 1, 2, 3, 4])"
            ]
          },
          "metadata": {
            "tags": []
          },
          "execution_count": 225
        }
      ]
    },
    {
      "cell_type": "code",
      "metadata": {
        "id": "RRsGh_R2MFA-",
        "colab_type": "code",
        "outputId": "901d9d39-4b6e-4beb-f750-21f39e3979a1",
        "colab": {
          "base_uri": "https://localhost:8080/",
          "height": 71
        }
      },
      "source": [
        "np.vstack((data, data, data))"
      ],
      "execution_count": 0,
      "outputs": [
        {
          "output_type": "execute_result",
          "data": {
            "text/plain": [
              "array([[0, 1, 2, 3, 4],\n",
              "       [0, 1, 2, 3, 4],\n",
              "       [0, 1, 2, 3, 4]])"
            ]
          },
          "metadata": {
            "tags": []
          },
          "execution_count": 226
        }
      ]
    },
    {
      "cell_type": "code",
      "metadata": {
        "id": "XJ9rEqe8MFA-",
        "colab_type": "code",
        "outputId": "387f84cb-0961-43f6-8685-80d0af2fd67a",
        "colab": {
          "base_uri": "https://localhost:8080/",
          "height": 35
        }
      },
      "source": [
        "np.hstack((data, data, data))"
      ],
      "execution_count": 0,
      "outputs": [
        {
          "output_type": "execute_result",
          "data": {
            "text/plain": [
              "array([0, 1, 2, 3, 4, 0, 1, 2, 3, 4, 0, 1, 2, 3, 4])"
            ]
          },
          "metadata": {
            "tags": []
          },
          "execution_count": 227
        }
      ]
    },
    {
      "cell_type": "code",
      "metadata": {
        "id": "eNDqROigMFBA",
        "colab_type": "code",
        "outputId": "dd4a1853-9bf9-4a42-8178-583e2138adaf",
        "colab": {
          "base_uri": "https://localhost:8080/",
          "height": 35
        }
      },
      "source": [
        "data = data[:, np.newaxis]; data.shape"
      ],
      "execution_count": 0,
      "outputs": [
        {
          "output_type": "execute_result",
          "data": {
            "text/plain": [
              "(5, 1)"
            ]
          },
          "metadata": {
            "tags": []
          },
          "execution_count": 228
        }
      ]
    },
    {
      "cell_type": "code",
      "metadata": {
        "id": "zEvepucdMFBB",
        "colab_type": "code",
        "outputId": "d4d9abbe-843f-4525-9180-47be28a5a415",
        "colab": {
          "base_uri": "https://localhost:8080/",
          "height": 107
        }
      },
      "source": [
        "np.hstack((data, data, data))"
      ],
      "execution_count": 0,
      "outputs": [
        {
          "output_type": "execute_result",
          "data": {
            "text/plain": [
              "array([[0, 0, 0],\n",
              "       [1, 1, 1],\n",
              "       [2, 2, 2],\n",
              "       [3, 3, 3],\n",
              "       [4, 4, 4]])"
            ]
          },
          "metadata": {
            "tags": []
          },
          "execution_count": 229
        }
      ]
    },
    {
      "cell_type": "code",
      "metadata": {
        "id": "gLTEH8JGMFBG",
        "colab_type": "code",
        "colab": {}
      },
      "source": [
        "data1 = np.array([[1, 2], [3, 4]])"
      ],
      "execution_count": 0,
      "outputs": []
    },
    {
      "cell_type": "code",
      "metadata": {
        "id": "-5Yt8RkSMFBH",
        "colab_type": "code",
        "colab": {}
      },
      "source": [
        "data2 = np.array([[5, 6]])"
      ],
      "execution_count": 0,
      "outputs": []
    },
    {
      "cell_type": "code",
      "metadata": {
        "id": "UKpT9hEeMFBI",
        "colab_type": "code",
        "outputId": "8e6127fa-0984-4dae-9daf-48271986ff30",
        "colab": {
          "base_uri": "https://localhost:8080/",
          "height": 71
        }
      },
      "source": [
        "np.concatenate((data1, data2), axis=0)"
      ],
      "execution_count": 0,
      "outputs": [
        {
          "output_type": "execute_result",
          "data": {
            "text/plain": [
              "array([[1, 2],\n",
              "       [3, 4],\n",
              "       [5, 6]])"
            ]
          },
          "metadata": {
            "tags": []
          },
          "execution_count": 232
        }
      ]
    },
    {
      "cell_type": "code",
      "metadata": {
        "id": "S15MaDw1MFBM",
        "colab_type": "code",
        "outputId": "ece0e7cb-d05b-4d31-b309-01b107932556",
        "colab": {
          "base_uri": "https://localhost:8080/",
          "height": 53
        }
      },
      "source": [
        "np.concatenate((data1, data2.T), axis=1)"
      ],
      "execution_count": 0,
      "outputs": [
        {
          "output_type": "execute_result",
          "data": {
            "text/plain": [
              "array([[1, 2, 5],\n",
              "       [3, 4, 6]])"
            ]
          },
          "metadata": {
            "tags": []
          },
          "execution_count": 233
        }
      ]
    },
    {
      "cell_type": "markdown",
      "metadata": {
        "id": "CxumHGfbMFBO",
        "colab_type": "text"
      },
      "source": [
        "## Vectorized expressions"
      ]
    },
    {
      "cell_type": "markdown",
      "metadata": {
        "collapsed": true,
        "id": "0mQc869qMFBO",
        "colab_type": "text"
      },
      "source": [
        "### Arithmetic operations"
      ]
    },
    {
      "cell_type": "code",
      "metadata": {
        "id": "yIHCGmSFMFBO",
        "colab_type": "code",
        "colab": {}
      },
      "source": [
        "x = np.array([[1, 2], [3, 4]])"
      ],
      "execution_count": 0,
      "outputs": []
    },
    {
      "cell_type": "code",
      "metadata": {
        "id": "uP02xanXMFBP",
        "colab_type": "code",
        "colab": {}
      },
      "source": [
        "y = np.array([[5, 6], [7, 8]])"
      ],
      "execution_count": 0,
      "outputs": []
    },
    {
      "cell_type": "code",
      "metadata": {
        "id": "eLJVOkDIMFBS",
        "colab_type": "code",
        "outputId": "37feb4e1-6b65-476a-e973-140c47ecd11e",
        "colab": {
          "base_uri": "https://localhost:8080/",
          "height": 53
        }
      },
      "source": [
        "x + y"
      ],
      "execution_count": 0,
      "outputs": [
        {
          "output_type": "execute_result",
          "data": {
            "text/plain": [
              "array([[ 6,  8],\n",
              "       [10, 12]])"
            ]
          },
          "metadata": {
            "tags": []
          },
          "execution_count": 236
        }
      ]
    },
    {
      "cell_type": "code",
      "metadata": {
        "id": "QoBPBZtJMFBT",
        "colab_type": "code",
        "outputId": "72fed86f-7dce-4ef0-ea4e-c2ccf66b3d3d",
        "colab": {
          "base_uri": "https://localhost:8080/",
          "height": 53
        }
      },
      "source": [
        "y - x"
      ],
      "execution_count": 0,
      "outputs": [
        {
          "output_type": "execute_result",
          "data": {
            "text/plain": [
              "array([[4, 4],\n",
              "       [4, 4]])"
            ]
          },
          "metadata": {
            "tags": []
          },
          "execution_count": 237
        }
      ]
    },
    {
      "cell_type": "code",
      "metadata": {
        "id": "CV-qSTDuMFBV",
        "colab_type": "code",
        "outputId": "812d63b8-4e3f-436e-8c78-3a8c110b9c62",
        "colab": {
          "base_uri": "https://localhost:8080/",
          "height": 53
        }
      },
      "source": [
        "x * y"
      ],
      "execution_count": 0,
      "outputs": [
        {
          "output_type": "execute_result",
          "data": {
            "text/plain": [
              "array([[ 5, 12],\n",
              "       [21, 32]])"
            ]
          },
          "metadata": {
            "tags": []
          },
          "execution_count": 238
        }
      ]
    },
    {
      "cell_type": "code",
      "metadata": {
        "id": "gDT2BSKRMFBW",
        "colab_type": "code",
        "outputId": "47e59829-1e70-476d-965d-a2a493d506e2",
        "colab": {
          "base_uri": "https://localhost:8080/",
          "height": 53
        }
      },
      "source": [
        "y / x"
      ],
      "execution_count": 0,
      "outputs": [
        {
          "output_type": "execute_result",
          "data": {
            "text/plain": [
              "array([[5.        , 3.        ],\n",
              "       [2.33333333, 2.        ]])"
            ]
          },
          "metadata": {
            "tags": []
          },
          "execution_count": 239
        }
      ]
    },
    {
      "cell_type": "markdown",
      "metadata": {
        "id": "RNsfl5ioMFBW",
        "colab_type": "text"
      },
      "source": [
        "---"
      ]
    },
    {
      "cell_type": "code",
      "metadata": {
        "id": "ubhf2oiZMFBX",
        "colab_type": "code",
        "outputId": "1d08beaf-cc42-42bd-9928-0f309885ab8c",
        "colab": {
          "base_uri": "https://localhost:8080/",
          "height": 53
        }
      },
      "source": [
        "x * 2"
      ],
      "execution_count": 0,
      "outputs": [
        {
          "output_type": "execute_result",
          "data": {
            "text/plain": [
              "array([[2, 4],\n",
              "       [6, 8]])"
            ]
          },
          "metadata": {
            "tags": []
          },
          "execution_count": 240
        }
      ]
    },
    {
      "cell_type": "code",
      "metadata": {
        "id": "1iKZQYlDMFBX",
        "colab_type": "code",
        "outputId": "2a25b701-8e05-4181-87b2-5b412f851fb5",
        "colab": {
          "base_uri": "https://localhost:8080/",
          "height": 53
        }
      },
      "source": [
        "2**x"
      ],
      "execution_count": 0,
      "outputs": [
        {
          "output_type": "execute_result",
          "data": {
            "text/plain": [
              "array([[ 2,  4],\n",
              "       [ 8, 16]])"
            ]
          },
          "metadata": {
            "tags": []
          },
          "execution_count": 241
        }
      ]
    },
    {
      "cell_type": "code",
      "metadata": {
        "id": "oKE7kCePMFBZ",
        "colab_type": "code",
        "outputId": "fec727f0-d366-4b87-c267-4414bee9e7eb",
        "colab": {
          "base_uri": "https://localhost:8080/",
          "height": 53
        }
      },
      "source": [
        "y / 2"
      ],
      "execution_count": 0,
      "outputs": [
        {
          "output_type": "execute_result",
          "data": {
            "text/plain": [
              "array([[2.5, 3. ],\n",
              "       [3.5, 4. ]])"
            ]
          },
          "metadata": {
            "tags": []
          },
          "execution_count": 242
        }
      ]
    },
    {
      "cell_type": "code",
      "metadata": {
        "id": "CQO6KaObMFBZ",
        "colab_type": "code",
        "outputId": "ca44fb27-6472-43b1-c1e3-92cbd7637be8",
        "colab": {
          "base_uri": "https://localhost:8080/",
          "height": 35
        }
      },
      "source": [
        "(y / 2).dtype"
      ],
      "execution_count": 0,
      "outputs": [
        {
          "output_type": "execute_result",
          "data": {
            "text/plain": [
              "dtype('float64')"
            ]
          },
          "metadata": {
            "tags": []
          },
          "execution_count": 243
        }
      ]
    },
    {
      "cell_type": "markdown",
      "metadata": {
        "id": "6pxcuQjQMFBa",
        "colab_type": "text"
      },
      "source": [
        "---"
      ]
    },
    {
      "cell_type": "markdown",
      "metadata": {
        "id": "87HQgt6tMFBb",
        "colab_type": "text"
      },
      "source": [
        "<table>\n",
        "<tr>\n",
        "<td><img src=\"https://github.com/SeoulTechPSE/EngNm/blob/master/figs/array_broadcasting_1.svg?raw=1\"></td>\n",
        "</tr>\n",
        "<tr>\n",
        "<td><img src=\"https://github.com/SeoulTechPSE/EngNm/blob/master/figs/array_broadcasting_2.svg?raw=1\"></td>\n",
        "</tr>\n",
        "<tr>\n",
        "</table>"
      ]
    },
    {
      "cell_type": "code",
      "metadata": {
        "id": "rVh1JpqQMFBb",
        "colab_type": "code",
        "outputId": "c94bd6d9-b095-4b40-a44f-f0f1a8d6c044",
        "colab": {
          "base_uri": "https://localhost:8080/",
          "height": 53
        }
      },
      "source": [
        "x = np.array([1, 2, 3, 4]).reshape(2, 2)\n",
        "y = np.array([[1, 2], [3, 4]]) # 오류수정\n",
        "x / y"
      ],
      "execution_count": 0,
      "outputs": [
        {
          "output_type": "execute_result",
          "data": {
            "text/plain": [
              "array([[1., 1.],\n",
              "       [1., 1.]])"
            ]
          },
          "metadata": {
            "tags": []
          },
          "execution_count": 247
        }
      ]
    },
    {
      "cell_type": "code",
      "metadata": {
        "id": "gMuH4wySMFBd",
        "colab_type": "code",
        "outputId": "05e6719e-669c-4054-b3a6-f5fe32901a1d",
        "colab": {
          "base_uri": "https://localhost:8080/",
          "height": 35
        }
      },
      "source": [
        "z = np.array([[2, 4]]); z.shape"
      ],
      "execution_count": 0,
      "outputs": [
        {
          "output_type": "execute_result",
          "data": {
            "text/plain": [
              "(1, 2)"
            ]
          },
          "metadata": {
            "tags": []
          },
          "execution_count": 248
        }
      ]
    },
    {
      "cell_type": "code",
      "metadata": {
        "id": "1yljE-dKMFBe",
        "colab_type": "code",
        "outputId": "ba1ef58b-7f2a-4a57-e866-7b7b6b017f7d",
        "colab": {
          "base_uri": "https://localhost:8080/",
          "height": 53
        }
      },
      "source": [
        "x / z"
      ],
      "execution_count": 0,
      "outputs": [
        {
          "output_type": "execute_result",
          "data": {
            "text/plain": [
              "array([[0.5, 0.5],\n",
              "       [1.5, 1. ]])"
            ]
          },
          "metadata": {
            "tags": []
          },
          "execution_count": 249
        }
      ]
    },
    {
      "cell_type": "code",
      "metadata": {
        "id": "z5Jz4lNnMFBe",
        "colab_type": "code",
        "outputId": "cb704524-fa86-4613-e586-8e6ab232cfed",
        "colab": {
          "base_uri": "https://localhost:8080/",
          "height": 53
        }
      },
      "source": [
        "zz = np.vstack((z, z)); zz"
      ],
      "execution_count": 0,
      "outputs": [
        {
          "output_type": "execute_result",
          "data": {
            "text/plain": [
              "array([[2, 4],\n",
              "       [2, 4]])"
            ]
          },
          "metadata": {
            "tags": []
          },
          "execution_count": 250
        }
      ]
    },
    {
      "cell_type": "code",
      "metadata": {
        "id": "I5M6Ma1RMFBf",
        "colab_type": "code",
        "outputId": "44a0d625-cb1f-4f12-ab47-ce744bbf0fd1",
        "colab": {
          "base_uri": "https://localhost:8080/",
          "height": 53
        }
      },
      "source": [
        "x / zz"
      ],
      "execution_count": 0,
      "outputs": [
        {
          "output_type": "execute_result",
          "data": {
            "text/plain": [
              "array([[0.5, 0.5],\n",
              "       [1.5, 1. ]])"
            ]
          },
          "metadata": {
            "tags": []
          },
          "execution_count": 251
        }
      ]
    },
    {
      "cell_type": "markdown",
      "metadata": {
        "id": "u7aWFf6iMFBf",
        "colab_type": "text"
      },
      "source": [
        "---"
      ]
    },
    {
      "cell_type": "code",
      "metadata": {
        "id": "m3b-gGevMFBg",
        "colab_type": "code",
        "outputId": "273892ae-85fa-40f0-8c8f-aab699f78775",
        "colab": {
          "base_uri": "https://localhost:8080/",
          "height": 35
        }
      },
      "source": [
        "z = np.array([[2], [4]]); z.shape"
      ],
      "execution_count": 0,
      "outputs": [
        {
          "output_type": "execute_result",
          "data": {
            "text/plain": [
              "(2, 1)"
            ]
          },
          "metadata": {
            "tags": []
          },
          "execution_count": 252
        }
      ]
    },
    {
      "cell_type": "code",
      "metadata": {
        "id": "lnPLSZS_MFBh",
        "colab_type": "code",
        "outputId": "eff12238-cc8a-45a5-a319-8407760c0fad",
        "colab": {
          "base_uri": "https://localhost:8080/",
          "height": 53
        }
      },
      "source": [
        "x / z"
      ],
      "execution_count": 0,
      "outputs": [
        {
          "output_type": "execute_result",
          "data": {
            "text/plain": [
              "array([[0.5 , 1.  ],\n",
              "       [0.75, 1.  ]])"
            ]
          },
          "metadata": {
            "tags": []
          },
          "execution_count": 253
        }
      ]
    },
    {
      "cell_type": "code",
      "metadata": {
        "id": "v3_TBODdMFBi",
        "colab_type": "code",
        "outputId": "d6bc7194-3188-4f86-e584-adab254badfe",
        "colab": {
          "base_uri": "https://localhost:8080/",
          "height": 53
        }
      },
      "source": [
        "zz = np.concatenate([z, z], axis=1); zz"
      ],
      "execution_count": 0,
      "outputs": [
        {
          "output_type": "execute_result",
          "data": {
            "text/plain": [
              "array([[2, 2],\n",
              "       [4, 4]])"
            ]
          },
          "metadata": {
            "tags": []
          },
          "execution_count": 254
        }
      ]
    },
    {
      "cell_type": "code",
      "metadata": {
        "id": "g5xEswfRMFBj",
        "colab_type": "code",
        "outputId": "e04161f0-3b4e-443a-85d0-7f7655013826",
        "colab": {
          "base_uri": "https://localhost:8080/",
          "height": 53
        }
      },
      "source": [
        "x / zz"
      ],
      "execution_count": 0,
      "outputs": [
        {
          "output_type": "execute_result",
          "data": {
            "text/plain": [
              "array([[0.5 , 1.  ],\n",
              "       [0.75, 1.  ]])"
            ]
          },
          "metadata": {
            "tags": []
          },
          "execution_count": 255
        }
      ]
    },
    {
      "cell_type": "markdown",
      "metadata": {
        "id": "T4duJR01MFBk",
        "colab_type": "text"
      },
      "source": [
        "---"
      ]
    },
    {
      "cell_type": "code",
      "metadata": {
        "id": "8nldyFsqMFBk",
        "colab_type": "code",
        "colab": {}
      },
      "source": [
        "x = np.array([1, 2, 3, 4])\n",
        "y = np.array([5, 6, 7, 8])\n",
        "x = x + y  # x is reassigned to a new array"
      ],
      "execution_count": 0,
      "outputs": []
    },
    {
      "cell_type": "code",
      "metadata": {
        "id": "_gtlgvwqMFBl",
        "colab_type": "code",
        "colab": {}
      },
      "source": [
        "x += y  # the values of array x are updated in place"
      ],
      "execution_count": 0,
      "outputs": []
    },
    {
      "cell_type": "markdown",
      "metadata": {
        "id": "7EtNRgx6MFBm",
        "colab_type": "text"
      },
      "source": [
        "### Elementwise functions"
      ]
    },
    {
      "cell_type": "code",
      "metadata": {
        "id": "M50FUdT1MFBm",
        "colab_type": "code",
        "outputId": "9d378490-4c79-4104-da4f-4c685455c873",
        "colab": {
          "base_uri": "https://localhost:8080/",
          "height": 35
        }
      },
      "source": [
        "x = np.linspace(-1, 1, 11); x"
      ],
      "execution_count": 0,
      "outputs": [
        {
          "output_type": "execute_result",
          "data": {
            "text/plain": [
              "array([-1. , -0.8, -0.6, -0.4, -0.2,  0. ,  0.2,  0.4,  0.6,  0.8,  1. ])"
            ]
          },
          "metadata": {
            "tags": []
          },
          "execution_count": 258
        }
      ]
    },
    {
      "cell_type": "code",
      "metadata": {
        "id": "sdlJnRQ-MFBo",
        "colab_type": "code",
        "colab": {}
      },
      "source": [
        "y = np.sin(np.pi * x)"
      ],
      "execution_count": 0,
      "outputs": []
    },
    {
      "cell_type": "code",
      "metadata": {
        "id": "bo6tjiDxMFBp",
        "colab_type": "code",
        "outputId": "7bf89f28-a2a9-41da-f70e-3293f9c8010b",
        "colab": {
          "base_uri": "https://localhost:8080/",
          "height": 53
        }
      },
      "source": [
        "np.round(y, decimals=4)"
      ],
      "execution_count": 0,
      "outputs": [
        {
          "output_type": "execute_result",
          "data": {
            "text/plain": [
              "array([-0.    , -0.5878, -0.9511, -0.9511, -0.5878,  0.    ,  0.5878,\n",
              "        0.9511,  0.9511,  0.5878,  0.    ])"
            ]
          },
          "metadata": {
            "tags": []
          },
          "execution_count": 260
        }
      ]
    },
    {
      "cell_type": "code",
      "metadata": {
        "id": "cRMpN7xyMFBq",
        "colab_type": "code",
        "outputId": "60c3b822-b1cd-449a-a7bb-9b050736d80d",
        "colab": {
          "base_uri": "https://localhost:8080/",
          "height": 35
        }
      },
      "source": [
        "np.add(np.sin(x)**2, np.cos(x)**2)"
      ],
      "execution_count": 0,
      "outputs": [
        {
          "output_type": "execute_result",
          "data": {
            "text/plain": [
              "array([1., 1., 1., 1., 1., 1., 1., 1., 1., 1., 1.])"
            ]
          },
          "metadata": {
            "tags": []
          },
          "execution_count": 261
        }
      ]
    },
    {
      "cell_type": "code",
      "metadata": {
        "id": "OqbrRvqnMFBq",
        "colab_type": "code",
        "outputId": "86e891df-1543-405f-90ec-19aceff8af69",
        "colab": {
          "base_uri": "https://localhost:8080/",
          "height": 35
        }
      },
      "source": [
        "np.sin(x)**2 + np.cos(x)**2"
      ],
      "execution_count": 0,
      "outputs": [
        {
          "output_type": "execute_result",
          "data": {
            "text/plain": [
              "array([1., 1., 1., 1., 1., 1., 1., 1., 1., 1., 1.])"
            ]
          },
          "metadata": {
            "tags": []
          },
          "execution_count": 262
        }
      ]
    },
    {
      "cell_type": "markdown",
      "metadata": {
        "id": "zLdd0Y10MFBr",
        "colab_type": "text"
      },
      "source": [
        "---"
      ]
    },
    {
      "cell_type": "code",
      "metadata": {
        "id": "z5_D_ppbMFBr",
        "colab_type": "code",
        "colab": {}
      },
      "source": [
        "def heaviside(x):\n",
        "    return 1 if x > 0 else 0"
      ],
      "execution_count": 0,
      "outputs": []
    },
    {
      "cell_type": "code",
      "metadata": {
        "id": "UpCr7F2mMFBs",
        "colab_type": "code",
        "outputId": "6a3a0441-a0b7-4c5e-e187-fee7cc73d4c0",
        "colab": {
          "base_uri": "https://localhost:8080/",
          "height": 35
        }
      },
      "source": [
        "heaviside(-1)"
      ],
      "execution_count": 0,
      "outputs": [
        {
          "output_type": "execute_result",
          "data": {
            "text/plain": [
              "0"
            ]
          },
          "metadata": {
            "tags": []
          },
          "execution_count": 264
        }
      ]
    },
    {
      "cell_type": "code",
      "metadata": {
        "id": "iuKKSFgyMFBu",
        "colab_type": "code",
        "outputId": "f9543885-477b-448a-8090-e46f19a7bff6",
        "colab": {
          "base_uri": "https://localhost:8080/",
          "height": 35
        }
      },
      "source": [
        "heaviside(1.5)"
      ],
      "execution_count": 0,
      "outputs": [
        {
          "output_type": "execute_result",
          "data": {
            "text/plain": [
              "1"
            ]
          },
          "metadata": {
            "tags": []
          },
          "execution_count": 265
        }
      ]
    },
    {
      "cell_type": "code",
      "metadata": {
        "id": "x0YaPJGuMFBv",
        "colab_type": "code",
        "outputId": "bce647ec-5e37-4ac2-e908-2aff090d815a",
        "colab": {
          "base_uri": "https://localhost:8080/",
          "height": 262
        }
      },
      "source": [
        "x = np.linspace(-5, 5, 11)\n",
        "heaviside(x)"
      ],
      "execution_count": 0,
      "outputs": [
        {
          "output_type": "error",
          "ename": "ValueError",
          "evalue": "ignored",
          "traceback": [
            "\u001b[0;31m---------------------------------------------------------------------------\u001b[0m",
            "\u001b[0;31mValueError\u001b[0m                                Traceback (most recent call last)",
            "\u001b[0;32m<ipython-input-266-e4e6090af278>\u001b[0m in \u001b[0;36m<module>\u001b[0;34m()\u001b[0m\n\u001b[1;32m      1\u001b[0m \u001b[0mx\u001b[0m \u001b[0;34m=\u001b[0m \u001b[0mnp\u001b[0m\u001b[0;34m.\u001b[0m\u001b[0mlinspace\u001b[0m\u001b[0;34m(\u001b[0m\u001b[0;34m-\u001b[0m\u001b[0;36m5\u001b[0m\u001b[0;34m,\u001b[0m \u001b[0;36m5\u001b[0m\u001b[0;34m,\u001b[0m \u001b[0;36m11\u001b[0m\u001b[0;34m)\u001b[0m\u001b[0;34m\u001b[0m\u001b[0;34m\u001b[0m\u001b[0m\n\u001b[0;32m----> 2\u001b[0;31m \u001b[0mheaviside\u001b[0m\u001b[0;34m(\u001b[0m\u001b[0mx\u001b[0m\u001b[0;34m)\u001b[0m\u001b[0;34m\u001b[0m\u001b[0;34m\u001b[0m\u001b[0m\n\u001b[0m",
            "\u001b[0;32m<ipython-input-263-68cdb49d4533>\u001b[0m in \u001b[0;36mheaviside\u001b[0;34m(x)\u001b[0m\n\u001b[1;32m      1\u001b[0m \u001b[0;32mdef\u001b[0m \u001b[0mheaviside\u001b[0m\u001b[0;34m(\u001b[0m\u001b[0mx\u001b[0m\u001b[0;34m)\u001b[0m\u001b[0;34m:\u001b[0m\u001b[0;34m\u001b[0m\u001b[0;34m\u001b[0m\u001b[0m\n\u001b[0;32m----> 2\u001b[0;31m     \u001b[0;32mreturn\u001b[0m \u001b[0;36m1\u001b[0m \u001b[0;32mif\u001b[0m \u001b[0mx\u001b[0m \u001b[0;34m>\u001b[0m \u001b[0;36m0\u001b[0m \u001b[0;32melse\u001b[0m \u001b[0;36m0\u001b[0m\u001b[0;34m\u001b[0m\u001b[0;34m\u001b[0m\u001b[0m\n\u001b[0m",
            "\u001b[0;31mValueError\u001b[0m: The truth value of an array with more than one element is ambiguous. Use a.any() or a.all()"
          ]
        }
      ]
    },
    {
      "cell_type": "code",
      "metadata": {
        "id": "PCTnkXzsMFBw",
        "colab_type": "code",
        "colab": {}
      },
      "source": [
        "heaviside = np.vectorize(heaviside)\n",
        "heaviside(x)"
      ],
      "execution_count": 0,
      "outputs": []
    },
    {
      "cell_type": "code",
      "metadata": {
        "id": "6ZJAcOVqMFBw",
        "colab_type": "code",
        "colab": {}
      },
      "source": [
        "def heaviside(x):  # much better way\n",
        "    return 1 * (x > 0)\n",
        "\n",
        "heaviside(x)"
      ],
      "execution_count": 0,
      "outputs": []
    },
    {
      "cell_type": "markdown",
      "metadata": {
        "id": "IU5mhdUGMFBx",
        "colab_type": "text"
      },
      "source": [
        "### Aggregate functions"
      ]
    },
    {
      "cell_type": "code",
      "metadata": {
        "id": "PSTnHWHtMFBx",
        "colab_type": "code",
        "colab": {}
      },
      "source": [
        "data = np.random.normal(size=(15, 15))"
      ],
      "execution_count": 0,
      "outputs": []
    },
    {
      "cell_type": "code",
      "metadata": {
        "id": "nHfXkmGgMFBy",
        "colab_type": "code",
        "colab": {}
      },
      "source": [
        "np.mean(data)"
      ],
      "execution_count": 0,
      "outputs": []
    },
    {
      "cell_type": "code",
      "metadata": {
        "id": "jPxSo5XMMFBz",
        "colab_type": "code",
        "colab": {}
      },
      "source": [
        "data.mean()"
      ],
      "execution_count": 0,
      "outputs": []
    },
    {
      "cell_type": "markdown",
      "metadata": {
        "id": "erq7OojMMFB0",
        "colab_type": "text"
      },
      "source": [
        "---"
      ]
    },
    {
      "cell_type": "code",
      "metadata": {
        "id": "IIY28giXMFB0",
        "colab_type": "code",
        "colab": {}
      },
      "source": [
        "data = np.random.normal(size=(5, 10, 15))"
      ],
      "execution_count": 0,
      "outputs": []
    },
    {
      "cell_type": "code",
      "metadata": {
        "id": "qz_UURWUMFB1",
        "colab_type": "code",
        "colab": {}
      },
      "source": [
        "data.sum(axis=0).shape"
      ],
      "execution_count": 0,
      "outputs": []
    },
    {
      "cell_type": "code",
      "metadata": {
        "id": "IhViT3aXMFB2",
        "colab_type": "code",
        "colab": {}
      },
      "source": [
        "data.sum(axis=(0, 2)).shape"
      ],
      "execution_count": 0,
      "outputs": []
    },
    {
      "cell_type": "code",
      "metadata": {
        "id": "8CtHP-5fMFB5",
        "colab_type": "code",
        "colab": {}
      },
      "source": [
        "data.sum()"
      ],
      "execution_count": 0,
      "outputs": []
    },
    {
      "cell_type": "markdown",
      "metadata": {
        "id": "o16iY6YNMFB5",
        "colab_type": "text"
      },
      "source": [
        "---"
      ]
    },
    {
      "cell_type": "code",
      "metadata": {
        "id": "nT8BJBOmMFB5",
        "colab_type": "code",
        "colab": {}
      },
      "source": [
        "data = np.arange(1, 10).reshape(3, 3); data"
      ],
      "execution_count": 0,
      "outputs": []
    },
    {
      "cell_type": "code",
      "metadata": {
        "id": "JM0IndzgMFB6",
        "colab_type": "code",
        "colab": {}
      },
      "source": [
        "data.sum()"
      ],
      "execution_count": 0,
      "outputs": []
    },
    {
      "cell_type": "code",
      "metadata": {
        "id": "3DbpSb7YMFB6",
        "colab_type": "code",
        "colab": {}
      },
      "source": [
        "data.sum(axis=0)"
      ],
      "execution_count": 0,
      "outputs": []
    },
    {
      "cell_type": "code",
      "metadata": {
        "id": "ODnKoFjJMFB7",
        "colab_type": "code",
        "colab": {}
      },
      "source": [
        "data.sum(axis=1)"
      ],
      "execution_count": 0,
      "outputs": []
    },
    {
      "cell_type": "markdown",
      "metadata": {
        "id": "ZHJDIxmIMFB7",
        "colab_type": "text"
      },
      "source": [
        "<table>\n",
        "<tr>\n",
        "<td><img src=\"https://github.com/SeoulTechPSE/EngNm/blob/master/figs/array_aggregation_1.svg?raw=1\"></td>\n",
        "<td><img src=\"https://github.com/SeoulTechPSE/EngNm/blob/master/figs/array_aggregation_2.svg?raw=1\"></td>\n",
        "<td><img src=\"https://github.com/SeoulTechPSE/EngNm/blob/master/figs/array_aggregation_3.svg?raw=1\"></td>\n",
        "</tr>\n",
        "</table>"
      ]
    },
    {
      "cell_type": "markdown",
      "metadata": {
        "collapsed": true,
        "id": "wAPk3-H1MFB8",
        "colab_type": "text"
      },
      "source": [
        "### Boolean arrays and conditional expressions"
      ]
    },
    {
      "cell_type": "code",
      "metadata": {
        "id": "vjL_YWivMFB8",
        "colab_type": "code",
        "colab": {}
      },
      "source": [
        "a = np.array([1, 2, 3, 4])\n",
        "b = np.array([4, 3, 2, 1])"
      ],
      "execution_count": 0,
      "outputs": []
    },
    {
      "cell_type": "code",
      "metadata": {
        "id": "kD2_I4vjMFB8",
        "colab_type": "code",
        "colab": {}
      },
      "source": [
        "a < b"
      ],
      "execution_count": 0,
      "outputs": []
    },
    {
      "cell_type": "markdown",
      "metadata": {
        "id": "XQOjUlMhMFB-",
        "colab_type": "text"
      },
      "source": [
        "---"
      ]
    },
    {
      "cell_type": "code",
      "metadata": {
        "id": "BjZHqmkzMFB-",
        "colab_type": "code",
        "colab": {}
      },
      "source": [
        "np.all(a < b)"
      ],
      "execution_count": 0,
      "outputs": []
    },
    {
      "cell_type": "code",
      "metadata": {
        "id": "PAFWrk2TMFB_",
        "colab_type": "code",
        "colab": {}
      },
      "source": [
        "np.any(a < b)"
      ],
      "execution_count": 0,
      "outputs": []
    },
    {
      "cell_type": "code",
      "metadata": {
        "id": "IJiwe63gMFB_",
        "colab_type": "code",
        "colab": {}
      },
      "source": [
        "if np.all(a < b):\n",
        "    print(\"All elements in a are smaller than their corresponding elements in b\")\n",
        "elif np.any(a < b):\n",
        "    print(\"Some elements in a are smaller than their corresponding elements in b\")\n",
        "else:\n",
        "    print(\"All elements in b are smaller than their corresponding elements in a\")"
      ],
      "execution_count": 0,
      "outputs": []
    },
    {
      "cell_type": "markdown",
      "metadata": {
        "id": "HSG-HxBaMFCA",
        "colab_type": "text"
      },
      "source": [
        "---"
      ]
    },
    {
      "cell_type": "code",
      "metadata": {
        "id": "YZpwuYgFMFCA",
        "colab_type": "code",
        "colab": {}
      },
      "source": [
        "x = np.array([-2, -1, 0, 1, 2])"
      ],
      "execution_count": 0,
      "outputs": []
    },
    {
      "cell_type": "code",
      "metadata": {
        "id": "c3PFebQ_MFCA",
        "colab_type": "code",
        "colab": {}
      },
      "source": [
        "x > 0"
      ],
      "execution_count": 0,
      "outputs": []
    },
    {
      "cell_type": "code",
      "metadata": {
        "id": "XQ07uM8EMFCB",
        "colab_type": "code",
        "colab": {}
      },
      "source": [
        "1 * (x > 0)"
      ],
      "execution_count": 0,
      "outputs": []
    },
    {
      "cell_type": "code",
      "metadata": {
        "id": "GWL_r8XjMFCB",
        "colab_type": "code",
        "colab": {}
      },
      "source": [
        "x * (x > 0)"
      ],
      "execution_count": 0,
      "outputs": []
    },
    {
      "cell_type": "markdown",
      "metadata": {
        "id": "brZPw-8VMFCC",
        "colab_type": "text"
      },
      "source": [
        "---"
      ]
    },
    {
      "cell_type": "code",
      "metadata": {
        "id": "tGVd65jqMFCC",
        "colab_type": "code",
        "colab": {}
      },
      "source": [
        "def pulse(x, position, height, width):\n",
        "    return height * (x >= position) * (x <= (position + width))\n",
        "\n",
        "#   return height *np.logical_and(x >= position, x <= (position + width))                                       "
      ],
      "execution_count": 0,
      "outputs": []
    },
    {
      "cell_type": "code",
      "metadata": {
        "id": "elb_9mpvMFCC",
        "colab_type": "code",
        "colab": {}
      },
      "source": [
        "x = np.linspace(-5, 5, 11)"
      ],
      "execution_count": 0,
      "outputs": []
    },
    {
      "cell_type": "code",
      "metadata": {
        "id": "3Jwe6v13MFCD",
        "colab_type": "code",
        "colab": {}
      },
      "source": [
        "pulse(x, position=-2, height=1, width=5)"
      ],
      "execution_count": 0,
      "outputs": []
    },
    {
      "cell_type": "code",
      "metadata": {
        "id": "_xEOwXASMFCE",
        "colab_type": "code",
        "colab": {}
      },
      "source": [
        "pulse(x, position=1, height=2, width=2)"
      ],
      "execution_count": 0,
      "outputs": []
    },
    {
      "cell_type": "markdown",
      "metadata": {
        "id": "CnSdcDsOMFCE",
        "colab_type": "text"
      },
      "source": [
        "---"
      ]
    },
    {
      "cell_type": "code",
      "metadata": {
        "id": "lHLZQQJlMFCF",
        "colab_type": "code",
        "colab": {}
      },
      "source": [
        "x = np.linspace(-4, 4, 9)"
      ],
      "execution_count": 0,
      "outputs": []
    },
    {
      "cell_type": "code",
      "metadata": {
        "id": "pndLsBE3MFCH",
        "colab_type": "code",
        "colab": {}
      },
      "source": [
        "np.where(x < 0, x**2, x**3)"
      ],
      "execution_count": 0,
      "outputs": []
    },
    {
      "cell_type": "code",
      "metadata": {
        "id": "AM_K5bjBMFCH",
        "colab_type": "code",
        "colab": {}
      },
      "source": [
        "np.select([x < -1, x < 2, x>= 2], [x**2, x**3, x**4])"
      ],
      "execution_count": 0,
      "outputs": []
    },
    {
      "cell_type": "code",
      "metadata": {
        "id": "FuLD910kMFCI",
        "colab_type": "code",
        "colab": {}
      },
      "source": [
        "np.choose([0, 0, 0, 1, 1, 1, 2, 2, 2], [x**2, x**3, x**4])"
      ],
      "execution_count": 0,
      "outputs": []
    },
    {
      "cell_type": "markdown",
      "metadata": {
        "id": "FGXky5egMFCJ",
        "colab_type": "text"
      },
      "source": [
        "---"
      ]
    },
    {
      "cell_type": "code",
      "metadata": {
        "id": "guRY3p2QMFCK",
        "colab_type": "code",
        "colab": {}
      },
      "source": [
        "np.nonzero(abs(x) > 2)"
      ],
      "execution_count": 0,
      "outputs": []
    },
    {
      "cell_type": "code",
      "metadata": {
        "id": "PClC4xqcMFCK",
        "colab_type": "code",
        "colab": {}
      },
      "source": [
        "x[np.nonzero(abs(x) > 2)]"
      ],
      "execution_count": 0,
      "outputs": []
    },
    {
      "cell_type": "code",
      "metadata": {
        "id": "WRwRxCM0MFCL",
        "colab_type": "code",
        "colab": {}
      },
      "source": [
        "x[abs(x) > 2]"
      ],
      "execution_count": 0,
      "outputs": []
    },
    {
      "cell_type": "markdown",
      "metadata": {
        "id": "tMz_aIBOMFCL",
        "colab_type": "text"
      },
      "source": [
        "### Set operations"
      ]
    },
    {
      "cell_type": "code",
      "metadata": {
        "id": "ZnpjL58XMFCL",
        "colab_type": "code",
        "colab": {}
      },
      "source": [
        "a = np.unique([1, 2, 3, 3]); a"
      ],
      "execution_count": 0,
      "outputs": []
    },
    {
      "cell_type": "code",
      "metadata": {
        "id": "dTBwks-yMFCM",
        "colab_type": "code",
        "colab": {}
      },
      "source": [
        "b = np.unique([2, 3, 4, 4, 5, 6, 5]); b"
      ],
      "execution_count": 0,
      "outputs": []
    },
    {
      "cell_type": "code",
      "metadata": {
        "id": "KnpnQFLMMFCM",
        "colab_type": "code",
        "colab": {}
      },
      "source": [
        "np.in1d(a, b)"
      ],
      "execution_count": 0,
      "outputs": []
    },
    {
      "cell_type": "code",
      "metadata": {
        "id": "49XjCAa6MFCN",
        "colab_type": "code",
        "colab": {}
      },
      "source": [
        "1 in a"
      ],
      "execution_count": 0,
      "outputs": []
    },
    {
      "cell_type": "code",
      "metadata": {
        "id": "Gq4kIgXlMFCN",
        "colab_type": "code",
        "colab": {}
      },
      "source": [
        "1 in b"
      ],
      "execution_count": 0,
      "outputs": []
    },
    {
      "cell_type": "code",
      "metadata": {
        "id": "nKH24gcnMFCO",
        "colab_type": "code",
        "colab": {}
      },
      "source": [
        "np.all(np.in1d(a, b))  # to test if a is a subset of b"
      ],
      "execution_count": 0,
      "outputs": []
    },
    {
      "cell_type": "markdown",
      "metadata": {
        "id": "Ph7BQdP-MFCO",
        "colab_type": "text"
      },
      "source": [
        "---"
      ]
    },
    {
      "cell_type": "code",
      "metadata": {
        "id": "ISlGL3mdMFCO",
        "colab_type": "code",
        "colab": {}
      },
      "source": [
        "np.union1d(a, b)"
      ],
      "execution_count": 0,
      "outputs": []
    },
    {
      "cell_type": "code",
      "metadata": {
        "id": "31Tc6IfvMFCR",
        "colab_type": "code",
        "colab": {}
      },
      "source": [
        "np.intersect1d(a, b)"
      ],
      "execution_count": 0,
      "outputs": []
    },
    {
      "cell_type": "code",
      "metadata": {
        "id": "Qi6oumSwMFCR",
        "colab_type": "code",
        "colab": {}
      },
      "source": [
        "np.setdiff1d(a, b)"
      ],
      "execution_count": 0,
      "outputs": []
    },
    {
      "cell_type": "code",
      "metadata": {
        "id": "BoQhHFkkMFCR",
        "colab_type": "code",
        "colab": {}
      },
      "source": [
        "np.setdiff1d(b, a)"
      ],
      "execution_count": 0,
      "outputs": []
    },
    {
      "cell_type": "markdown",
      "metadata": {
        "id": "ebnRY18fMFCS",
        "colab_type": "text"
      },
      "source": [
        "### Operations on arrays"
      ]
    },
    {
      "cell_type": "code",
      "metadata": {
        "id": "1ec-dnqGMFCS",
        "colab_type": "code",
        "colab": {}
      },
      "source": [
        "data = np.arange(9).reshape(3, 3); data"
      ],
      "execution_count": 0,
      "outputs": []
    },
    {
      "cell_type": "code",
      "metadata": {
        "id": "KWT5IybUMFCS",
        "colab_type": "code",
        "colab": {}
      },
      "source": [
        "np.transpose(data)"
      ],
      "execution_count": 0,
      "outputs": []
    },
    {
      "cell_type": "markdown",
      "metadata": {
        "id": "NLo0pwjAMFCT",
        "colab_type": "text"
      },
      "source": [
        "---"
      ]
    },
    {
      "cell_type": "code",
      "metadata": {
        "id": "F9sPUD-aMFCT",
        "colab_type": "code",
        "colab": {}
      },
      "source": [
        "data = np.random.randn(1, 2, 3, 4, 5); data"
      ],
      "execution_count": 0,
      "outputs": []
    },
    {
      "cell_type": "code",
      "metadata": {
        "id": "LuS5-7ZSMFCT",
        "colab_type": "code",
        "colab": {}
      },
      "source": [
        "data.shape"
      ],
      "execution_count": 0,
      "outputs": []
    },
    {
      "cell_type": "code",
      "metadata": {
        "id": "yTFNIe0VMFCU",
        "colab_type": "code",
        "colab": {}
      },
      "source": [
        "data.T.shape"
      ],
      "execution_count": 0,
      "outputs": []
    },
    {
      "cell_type": "markdown",
      "metadata": {
        "id": "NN41fP9jMFCU",
        "colab_type": "text"
      },
      "source": [
        "## Matrix and vector operations"
      ]
    },
    {
      "cell_type": "code",
      "metadata": {
        "id": "kFiTwNgpMFCU",
        "colab_type": "code",
        "colab": {}
      },
      "source": [
        "A = np.arange(1, 7).reshape(2, 3); A"
      ],
      "execution_count": 0,
      "outputs": []
    },
    {
      "cell_type": "code",
      "metadata": {
        "id": "THOAT1cUMFCV",
        "colab_type": "code",
        "colab": {}
      },
      "source": [
        "B = np.arange(1, 7).reshape(3, 2); B"
      ],
      "execution_count": 0,
      "outputs": []
    },
    {
      "cell_type": "code",
      "metadata": {
        "id": "z8kTqcxAMFCV",
        "colab_type": "code",
        "colab": {}
      },
      "source": [
        "np.dot(A, B)"
      ],
      "execution_count": 0,
      "outputs": []
    },
    {
      "cell_type": "code",
      "metadata": {
        "id": "pAJ3o0PYMFCW",
        "colab_type": "code",
        "colab": {}
      },
      "source": [
        "np.dot(B, A)"
      ],
      "execution_count": 0,
      "outputs": []
    },
    {
      "cell_type": "markdown",
      "metadata": {
        "id": "m6t3HFd_MFCW",
        "colab_type": "text"
      },
      "source": [
        "---"
      ]
    },
    {
      "cell_type": "code",
      "metadata": {
        "id": "mch1_Q1rMFCX",
        "colab_type": "code",
        "colab": {}
      },
      "source": [
        "A = np.arange(9).reshape(3, 3); A"
      ],
      "execution_count": 0,
      "outputs": []
    },
    {
      "cell_type": "code",
      "metadata": {
        "id": "jYYLM0NnMFCX",
        "colab_type": "code",
        "colab": {}
      },
      "source": [
        "x = np.arange(3); x"
      ],
      "execution_count": 0,
      "outputs": []
    },
    {
      "cell_type": "code",
      "metadata": {
        "id": "TaI4t9bOMFCX",
        "colab_type": "code",
        "colab": {}
      },
      "source": [
        "np.dot(A, x)"
      ],
      "execution_count": 0,
      "outputs": []
    },
    {
      "cell_type": "code",
      "metadata": {
        "id": "B3eslED7MFCY",
        "colab_type": "code",
        "colab": {}
      },
      "source": [
        "A.dot(x)"
      ],
      "execution_count": 0,
      "outputs": []
    },
    {
      "cell_type": "markdown",
      "metadata": {
        "id": "DZg5xmTeMFCY",
        "colab_type": "text"
      },
      "source": [
        "---"
      ]
    },
    {
      "cell_type": "code",
      "metadata": {
        "id": "K564Xyb2MFCZ",
        "colab_type": "code",
        "colab": {}
      },
      "source": [
        "A = np.random.rand(3, 3)\n",
        "B = np.random.rand(3, 3)"
      ],
      "execution_count": 0,
      "outputs": []
    },
    {
      "cell_type": "code",
      "metadata": {
        "id": "-XyK_yquMFCZ",
        "colab_type": "code",
        "colab": {}
      },
      "source": [
        "Ap = np.dot(B, np.dot(A, np.linalg.inv(B)))"
      ],
      "execution_count": 0,
      "outputs": []
    },
    {
      "cell_type": "code",
      "metadata": {
        "id": "zSkZiTgSMFCZ",
        "colab_type": "code",
        "colab": {}
      },
      "source": [
        "Ap = B.dot(A.dot(np.linalg.inv(B)))"
      ],
      "execution_count": 0,
      "outputs": []
    },
    {
      "cell_type": "markdown",
      "metadata": {
        "id": "eUWLKmXoMFCa",
        "colab_type": "text"
      },
      "source": [
        "---"
      ]
    },
    {
      "cell_type": "code",
      "metadata": {
        "id": "H1zoGkIBMFCa",
        "colab_type": "code",
        "colab": {}
      },
      "source": [
        "A1 = np.matrix(A)\n",
        "B1 = np.matrix(B)"
      ],
      "execution_count": 0,
      "outputs": []
    },
    {
      "cell_type": "code",
      "metadata": {
        "id": "TisXVzCNMFCa",
        "colab_type": "code",
        "colab": {}
      },
      "source": [
        "Ap = B1 * A1 * B1.I"
      ],
      "execution_count": 0,
      "outputs": []
    },
    {
      "cell_type": "markdown",
      "metadata": {
        "id": "LOXKVz0cMFCb",
        "colab_type": "raw"
      },
      "source": [
        "or"
      ]
    },
    {
      "cell_type": "code",
      "metadata": {
        "id": "DJHGWRAOMFCb",
        "colab_type": "code",
        "colab": {}
      },
      "source": [
        "A2 = np.asmatrix(A)\n",
        "B2 = np.asmatrix(B)"
      ],
      "execution_count": 0,
      "outputs": []
    },
    {
      "cell_type": "code",
      "metadata": {
        "id": "_tKl2KTaMFCb",
        "colab_type": "code",
        "colab": {}
      },
      "source": [
        "Ap = B2 * A2 * B2.I"
      ],
      "execution_count": 0,
      "outputs": []
    },
    {
      "cell_type": "code",
      "metadata": {
        "id": "0dS99fmEMFCd",
        "colab_type": "code",
        "colab": {}
      },
      "source": [
        "Ap = np.asarray(Ap)"
      ],
      "execution_count": 0,
      "outputs": []
    },
    {
      "cell_type": "markdown",
      "metadata": {
        "id": "jTuP6rkPMFCd",
        "colab_type": "text"
      },
      "source": [
        "---"
      ]
    },
    {
      "cell_type": "code",
      "metadata": {
        "id": "pL4Pnoz6MFCd",
        "colab_type": "code",
        "colab": {}
      },
      "source": [
        "np.inner(x, x)"
      ],
      "execution_count": 0,
      "outputs": []
    },
    {
      "cell_type": "code",
      "metadata": {
        "id": "AYepJ7hNMFCe",
        "colab_type": "code",
        "colab": {}
      },
      "source": [
        "np.dot(x, x)"
      ],
      "execution_count": 0,
      "outputs": []
    },
    {
      "cell_type": "code",
      "metadata": {
        "id": "3J_DGeQOMFCe",
        "colab_type": "code",
        "colab": {}
      },
      "source": [
        "y = x[:, np.newaxis]; y"
      ],
      "execution_count": 0,
      "outputs": []
    },
    {
      "cell_type": "code",
      "metadata": {
        "id": "O2Nim78PMFCf",
        "colab_type": "code",
        "colab": {}
      },
      "source": [
        "np.dot(y.T, y)"
      ],
      "execution_count": 0,
      "outputs": []
    },
    {
      "cell_type": "markdown",
      "metadata": {
        "id": "D5a9mWOpMFCg",
        "colab_type": "text"
      },
      "source": [
        "---"
      ]
    },
    {
      "cell_type": "code",
      "metadata": {
        "id": "9jvMiXksMFCg",
        "colab_type": "code",
        "colab": {}
      },
      "source": [
        "x = np.array([1, 2, 3])"
      ],
      "execution_count": 0,
      "outputs": []
    },
    {
      "cell_type": "code",
      "metadata": {
        "id": "mceoWskbMFCh",
        "colab_type": "code",
        "colab": {}
      },
      "source": [
        "np.outer(x, x)"
      ],
      "execution_count": 0,
      "outputs": []
    },
    {
      "cell_type": "code",
      "metadata": {
        "id": "JFPhQk5gMFCh",
        "colab_type": "code",
        "colab": {}
      },
      "source": [
        "np.kron(x, x)"
      ],
      "execution_count": 0,
      "outputs": []
    },
    {
      "cell_type": "code",
      "metadata": {
        "id": "-pV-DJqFMFCi",
        "colab_type": "code",
        "colab": {}
      },
      "source": [
        "np.kron(x[:, np.newaxis], x[np.newaxis, :])"
      ],
      "execution_count": 0,
      "outputs": []
    },
    {
      "cell_type": "code",
      "metadata": {
        "id": "XxwOxz-3MFCj",
        "colab_type": "code",
        "colab": {}
      },
      "source": [
        "np.kron(np.ones((2, 2)), np.identity(2))"
      ],
      "execution_count": 0,
      "outputs": []
    },
    {
      "cell_type": "code",
      "metadata": {
        "id": "_qe9o4TRMFCk",
        "colab_type": "code",
        "colab": {}
      },
      "source": [
        "np.kron(np.identity(2), np.ones((2, 2)))"
      ],
      "execution_count": 0,
      "outputs": []
    },
    {
      "cell_type": "markdown",
      "metadata": {
        "id": "plEmljztMFCk",
        "colab_type": "text"
      },
      "source": [
        "---"
      ]
    },
    {
      "cell_type": "code",
      "metadata": {
        "id": "uCyL53vKMFCk",
        "colab_type": "code",
        "colab": {}
      },
      "source": [
        "x = np.array([1, 2, 3, 4])\n",
        "y = np.array([5, 6, 7, 8])"
      ],
      "execution_count": 0,
      "outputs": []
    },
    {
      "cell_type": "code",
      "metadata": {
        "id": "jnYc8vxmMFCl",
        "colab_type": "code",
        "colab": {}
      },
      "source": [
        "np.einsum(\"n,n\", x, y)"
      ],
      "execution_count": 0,
      "outputs": []
    },
    {
      "cell_type": "code",
      "metadata": {
        "id": "_rcjsRk4MFCl",
        "colab_type": "code",
        "colab": {}
      },
      "source": [
        "np.inner(x, y)"
      ],
      "execution_count": 0,
      "outputs": []
    },
    {
      "cell_type": "code",
      "metadata": {
        "id": "h9OEIta8MFCl",
        "colab_type": "code",
        "colab": {}
      },
      "source": [
        "A = np.arange(9).reshape(3, 3)\n",
        "B = A.T"
      ],
      "execution_count": 0,
      "outputs": []
    },
    {
      "cell_type": "code",
      "metadata": {
        "id": "11CFHgdAMFCm",
        "colab_type": "code",
        "colab": {}
      },
      "source": [
        "np.einsum(\"mk,kn\", A, B)"
      ],
      "execution_count": 0,
      "outputs": []
    },
    {
      "cell_type": "code",
      "metadata": {
        "id": "Bo80NwP5MFCm",
        "colab_type": "code",
        "colab": {}
      },
      "source": [
        "np.alltrue(np.einsum(\"mk,kn\", A, B) == np.dot(A, B))"
      ],
      "execution_count": 0,
      "outputs": []
    },
    {
      "cell_type": "markdown",
      "metadata": {
        "id": "T1wp8mdsMFCn",
        "colab_type": "text"
      },
      "source": [
        "## Versions"
      ]
    },
    {
      "cell_type": "code",
      "metadata": {
        "id": "tIAcUIKMMFCn",
        "colab_type": "code",
        "colab": {}
      },
      "source": [
        "%reload_ext version_information\n",
        "%version_information numpy"
      ],
      "execution_count": 0,
      "outputs": []
    }
  ]
}
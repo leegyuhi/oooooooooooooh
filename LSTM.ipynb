{
  "nbformat": 4,
  "nbformat_minor": 0,
  "metadata": {
    "colab": {
      "name": "LSTM.ipynb",
      "provenance": [],
      "include_colab_link": true
    },
    "kernelspec": {
      "name": "python3",
      "display_name": "Python 3"
    },
    "accelerator": "TPU"
  },
  "cells": [
    {
      "cell_type": "markdown",
      "metadata": {
        "id": "view-in-github",
        "colab_type": "text"
      },
      "source": [
        "<a href=\"https://colab.research.google.com/github/leegyuhi/oooooooooooooh/blob/master/LSTM.ipynb\" target=\"_parent\"><img src=\"https://colab.research.google.com/assets/colab-badge.svg\" alt=\"Open In Colab\"/></a>"
      ]
    },
    {
      "cell_type": "code",
      "metadata": {
        "id": "P_3cgfdVkRVw",
        "colab_type": "code",
        "colab": {
          "base_uri": "https://localhost:8080/",
          "height": 107
        },
        "outputId": "1bd39c72-6601-4225-bf74-c8c0d890f8b8"
      },
      "source": [
        "try:\n",
        "\n",
        "    %tensorflow_version 2.x  # %tensorflow_version only exists in Colab\n",
        "\n",
        "except Exception:\n",
        "\n",
        "    pass"
      ],
      "execution_count": 1,
      "outputs": [
        {
          "output_type": "stream",
          "text": [
            "`%tensorflow_version` only switches the major version: `1.x` or `2.x`.\n",
            "You set: `2.x  # %tensorflow_version only exists in Colab`. This will be interpreted as: `2.x`.\n",
            "\n",
            "\n",
            "TensorFlow 2.x selected.\n"
          ],
          "name": "stdout"
        }
      ]
    },
    {
      "cell_type": "code",
      "metadata": {
        "id": "d_KqEqwSkSQc",
        "colab_type": "code",
        "colab": {
          "base_uri": "https://localhost:8080/",
          "height": 35
        },
        "outputId": "1463cd0c-14e7-499c-960c-2f0d666c8896"
      },
      "source": [
        "import tensorflow as tf\n",
        "tf.__version__"
      ],
      "execution_count": 2,
      "outputs": [
        {
          "output_type": "execute_result",
          "data": {
            "text/plain": [
              "'2.0.0'"
            ]
          },
          "metadata": {
            "tags": []
          },
          "execution_count": 2
        }
      ]
    },
    {
      "cell_type": "code",
      "metadata": {
        "id": "0JR46d31kXn_",
        "colab_type": "code",
        "colab": {
          "base_uri": "https://localhost:8080/",
          "height": 305
        },
        "outputId": "ab2a7edc-a146-433b-9b9a-02cc8c10edc7"
      },
      "source": [
        "from tensorflow.keras.models import Sequential\n",
        "from tensorflow.keras.layers import Embedding\n",
        "from tensorflow.keras.layers import Dense\n",
        "from tensorflow.keras.layers import LSTM\n",
        "\n",
        "model_lstm = Sequential()\n",
        "\n",
        "model_lstm.add(Embedding(1000,32))\n",
        "model_lstm.add(LSTM(8, return_sequences=True))\n",
        "model_lstm.add(LSTM(8))\n",
        "model_lstm.add(Dense(1, activation='sigmoid'))\n",
        "\n",
        "model_lstm.summary()"
      ],
      "execution_count": 3,
      "outputs": [
        {
          "output_type": "stream",
          "text": [
            "Model: \"sequential\"\n",
            "_________________________________________________________________\n",
            "Layer (type)                 Output Shape              Param #   \n",
            "=================================================================\n",
            "embedding (Embedding)        (None, None, 32)          32000     \n",
            "_________________________________________________________________\n",
            "lstm (LSTM)                  (None, None, 8)           1312      \n",
            "_________________________________________________________________\n",
            "lstm_1 (LSTM)                (None, 8)                 544       \n",
            "_________________________________________________________________\n",
            "dense (Dense)                (None, 1)                 9         \n",
            "=================================================================\n",
            "Total params: 33,865\n",
            "Trainable params: 33,865\n",
            "Non-trainable params: 0\n",
            "_________________________________________________________________\n"
          ],
          "name": "stdout"
        }
      ]
    },
    {
      "cell_type": "code",
      "metadata": {
        "id": "_rESxjCNksDO",
        "colab_type": "code",
        "colab": {
          "base_uri": "https://localhost:8080/",
          "height": 53
        },
        "outputId": "3c598f0c-f84e-428a-9f67-9a1bf66fbab7"
      },
      "source": [
        "from tensorflow.keras.datasets import imdb\n",
        "(x_train_all, y_train_all), (x_test, y_test)=imdb.load_data(skip_top=20, num_words=1000)\n",
        "\n",
        "for i in range(len(x_train_all)):\n",
        "  x_train_all[i]=[w for w in x_train_all[i] if w>2]\n",
        "\n",
        "import numpy as np\n",
        "np.random.seed(42)\n",
        "random_index=np.random.permutation(25000)\n",
        "\n",
        "x_train=x_train_all[random_index[:20000]]\n",
        "y_train=y_train_all[random_index[:20000]]\n",
        "x_val=x_train_all[random_index[20000:]]\n",
        "y_val=y_train_all[random_index[20000:]]\n",
        "\n"
      ],
      "execution_count": 4,
      "outputs": [
        {
          "output_type": "stream",
          "text": [
            "Downloading data from https://storage.googleapis.com/tensorflow/tf-keras-datasets/imdb.npz\n",
            "17465344/17464789 [==============================] - 2s 0us/step\n"
          ],
          "name": "stdout"
        }
      ]
    },
    {
      "cell_type": "code",
      "metadata": {
        "id": "Or_wuArtrWrU",
        "colab_type": "code",
        "colab": {}
      },
      "source": [
        "from tensorflow.keras.preprocessing import sequence\n",
        "\n",
        "maxlen=100\n",
        "x_train_seq = sequence.pad_sequences(x_train, maxlen=maxlen)\n",
        "x_val_seq = sequence.pad_sequences(x_val, maxlen=maxlen)"
      ],
      "execution_count": 0,
      "outputs": []
    },
    {
      "cell_type": "code",
      "metadata": {
        "id": "B8k2YVDqrZeC",
        "colab_type": "code",
        "colab": {
          "base_uri": "https://localhost:8080/",
          "height": 395
        },
        "outputId": "32d8d5d5-57a6-4f3a-87ef-ce297e34a85c"
      },
      "source": [
        "model_lstm.compile(optimizer='adam', loss='binary_crossentropy', metrics=['accuracy'])\n",
        "history=model_lstm.fit(x_train_seq, y_train, epochs=10, batch_size=32, validation_data=(x_val_seq, y_val))"
      ],
      "execution_count": 6,
      "outputs": [
        {
          "output_type": "stream",
          "text": [
            "Train on 20000 samples, validate on 5000 samples\n",
            "Epoch 1/10\n",
            "20000/20000 [==============================] - 50s 3ms/sample - loss: 0.4511 - accuracy: 0.7887 - val_loss: 0.3831 - val_accuracy: 0.8380\n",
            "Epoch 2/10\n",
            "20000/20000 [==============================] - 46s 2ms/sample - loss: 0.3354 - accuracy: 0.8577 - val_loss: 0.3527 - val_accuracy: 0.8466\n",
            "Epoch 3/10\n",
            "20000/20000 [==============================] - 44s 2ms/sample - loss: 0.3101 - accuracy: 0.8702 - val_loss: 0.3649 - val_accuracy: 0.8428\n",
            "Epoch 4/10\n",
            "20000/20000 [==============================] - 44s 2ms/sample - loss: 0.2908 - accuracy: 0.8765 - val_loss: 0.3521 - val_accuracy: 0.8506\n",
            "Epoch 5/10\n",
            "20000/20000 [==============================] - 44s 2ms/sample - loss: 0.2713 - accuracy: 0.8845 - val_loss: 0.3663 - val_accuracy: 0.8432\n",
            "Epoch 6/10\n",
            "20000/20000 [==============================] - 44s 2ms/sample - loss: 0.2563 - accuracy: 0.8913 - val_loss: 0.3816 - val_accuracy: 0.8468\n",
            "Epoch 7/10\n",
            "20000/20000 [==============================] - 45s 2ms/sample - loss: 0.2388 - accuracy: 0.9008 - val_loss: 0.3996 - val_accuracy: 0.8326\n",
            "Epoch 8/10\n",
            "20000/20000 [==============================] - 49s 2ms/sample - loss: 0.2223 - accuracy: 0.9104 - val_loss: 0.4208 - val_accuracy: 0.8270\n",
            "Epoch 9/10\n",
            "20000/20000 [==============================] - 47s 2ms/sample - loss: 0.2084 - accuracy: 0.9168 - val_loss: 0.4038 - val_accuracy: 0.8382\n",
            "Epoch 10/10\n",
            "20000/20000 [==============================] - 45s 2ms/sample - loss: 0.1955 - accuracy: 0.9230 - val_loss: 0.4364 - val_accuracy: 0.8390\n"
          ],
          "name": "stdout"
        }
      ]
    },
    {
      "cell_type": "code",
      "metadata": {
        "id": "hhsM-vdGrewH",
        "colab_type": "code",
        "colab": {
          "base_uri": "https://localhost:8080/",
          "height": 265
        },
        "outputId": "83b94b5c-fe5a-4136-f58e-342e730930ec"
      },
      "source": [
        "import matplotlib.pyplot as plt\n",
        "plt.plot(history.history['loss'], color='red')\n",
        "plt.plot(history.history['val_loss'], color='green')\n",
        "plt.show()"
      ],
      "execution_count": 7,
      "outputs": [
        {
          "output_type": "display_data",
          "data": {
            "image/png": "[encoded data removed]",
            "text/plain": [
              "<Figure size 432x288 with 1 Axes>"
            ]
          },
          "metadata": {
            "tags": []
          }
        }
      ]
    },
    {
      "cell_type": "code",
      "metadata": {
        "id": "rFteSuaIszYt",
        "colab_type": "code",
        "colab": {
          "base_uri": "https://localhost:8080/",
          "height": 265
        },
        "outputId": "1b04390a-a098-4dfa-ce9c-5e0c772838a3"
      },
      "source": [
        "plt.plot(history.history['accuracy'], color='red')\n",
        "plt.plot(history.history['val_accuracy'], color='green')\n",
        "plt.show()"
      ],
      "execution_count": 8,
      "outputs": [
        {
          "output_type": "display_data",
          "data": {
            "image/png": "[encoded data removed]",
            "text/plain": [
              "<Figure size 432x288 with 1 Axes>"
            ]
          },
          "metadata": {
            "tags": []
          }
        }
      ]
    },
    {
      "cell_type": "code",
      "metadata": {
        "id": "aZ89bhngsz66",
        "colab_type": "code",
        "colab": {
          "base_uri": "https://localhost:8080/",
          "height": 35
        },
        "outputId": "dd75d687-5e58-443a-dffa-3e3f788b1aa2"
      },
      "source": [
        "loss, accuracy = model_lstm.evaluate(x_val_seq, y_val, verbose=0)\n",
        "print(accuracy)"
      ],
      "execution_count": 9,
      "outputs": [
        {
          "output_type": "stream",
          "text": [
            "0.839\n"
          ],
          "name": "stdout"
        }
      ]
    },
    {
      "cell_type": "code",
      "metadata": {
        "id": "n1cuLv9Gs1tc",
        "colab_type": "code",
        "colab": {}
      },
      "source": [
        ""
      ],
      "execution_count": 0,
      "outputs": []
    }
  ]
}
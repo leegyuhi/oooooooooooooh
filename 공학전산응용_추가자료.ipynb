{
  "nbformat": 4,
  "nbformat_minor": 0,
  "metadata": {
    "colab": {
      "name": "공학전산응용 추가자료.ipynb",
      "provenance": [],
      "collapsed_sections": [],
      "include_colab_link": true
    },
    "kernelspec": {
      "name": "python3",
      "display_name": "Python 3"
    }
  },
  "cells": [
    {
      "cell_type": "markdown",
      "metadata": {
        "id": "view-in-github",
        "colab_type": "text"
      },
      "source": [
        "<a href=\"https://colab.research.google.com/github/leegyuhi/oooooooooooooh/blob/master/%EA%B3%B5%ED%95%99%EC%A0%84%EC%82%B0%EC%9D%91%EC%9A%A9_%EC%B6%94%EA%B0%80%EC%9E%90%EB%A3%8C.ipynb\" target=\"_parent\"><img src=\"https://colab.research.google.com/assets/colab-badge.svg\" alt=\"Open In Colab\"/></a>"
      ]
    },
    {
      "cell_type": "markdown",
      "metadata": {
        "id": "TKOBbFEz1HVu",
        "colab_type": "text"
      },
      "source": [
        "- [GDB Databases](http://gdb.unibe.ch/downloads/)\n",
        "\n",
        "출처를 명시한다는 조건하에 무료로 다운로드가 가능한 데이터베이스"
      ]
    },
    {
      "cell_type": "markdown",
      "metadata": {
        "id": "S_y5gMR03A88",
        "colab_type": "text"
      },
      "source": [
        "- [DrugCentral](http://drugcentral.org/download)\n",
        "\n",
        "CAS 등록 번호(CAS Registry Number[1], CASRN 또는 CAS 번호)는 이제까지 알려진 모든 화합물, 중합체 등을 기록하는 번호이다. 미국 화학회 American Chemical Society에서 운영하는 서비스이며, 모든 화학 물질을 중복 없이 찾을 수 있도록 한다."
      ]
    },
    {
      "cell_type": "code",
      "metadata": {
        "id": "mk3SLb4L6yMg",
        "colab_type": "code",
        "outputId": "1d815ed5-5219-4b03-8796-a33f2e71b226",
        "colab": {
          "base_uri": "https://localhost:8080/",
          "height": 269
        }
      },
      "source": [
        "import pandas as pd\n",
        "\n",
        "dataset = pd.read_csv(\"structures.smiles.tsv\", delimiter='\\t', header=0)\n",
        "\n",
        "print(dataset)"
      ],
      "execution_count": 0,
      "outputs": [
        {
          "output_type": "stream",
          "text": [
            "                                                 SMILES  ...        CAS_RN\n",
            "0                 CCCCN1CCCC[C@H]1C(=O)NC1=C(C)C=CC=C1C  ...    27262-47-1\n",
            "1     COC(=O)C1=C(C)NC(C)=C([C@H]1C1=CC(=CC=C1)[N+](...  ...    76093-36-2\n",
            "2     CCOC(=O)C1=C(C)NC(C)=C([C@@H]1C1=CC(=CC=C1)[N+...  ...    80873-62-7\n",
            "3         C[C@@H](CCC1=CC=C(O)C=C1)NCCC1=CC=C(O)C(O)=C1  ...    61661-06-1\n",
            "4     NC1=NC2=NC=C(CNC3=CC=C(C=C3)C(=O)N[C@@H](CCC(O...  ...       54-62-6\n",
            "...                                                 ...  ...           ...\n",
            "3976  CC[C@H](C)[C@H](NC(=O)[C@H](CC1=CC=C(O)C=C1)NC...  ...     4474-91-3\n",
            "3977  OC1=C2N(C[C@H]3O[C@@H]4CC[C@@H](C4)N3C2=O)C=C(...  ...  1611493-60-7\n",
            "3978  CC(C)(CO)C1=CC2=C(C=C(F)C(NC(=O)C3(CC3)C3=CC=C...  ...  1152311-62-0\n",
            "3979  CCCCC1(CCCC)CN(C2=CC=CC=C2)C2=C(C=C(OCC(=O)N[C...  ...   439087-18-0\n",
            "3980  CNC(=O)C1=CC=C(C=C1F)N1C(=S)N(C(=O)C11CCC1)C1=...  ...   956104-40-8\n",
            "\n",
            "[3981 rows x 6 columns]\n"
          ],
          "name": "stdout"
        }
      ]
    },
    {
      "cell_type": "code",
      "metadata": {
        "id": "e5vuILNT7g4n",
        "colab_type": "code",
        "colab": {}
      },
      "source": [
        ""
      ],
      "execution_count": 0,
      "outputs": []
    }
  ]
}
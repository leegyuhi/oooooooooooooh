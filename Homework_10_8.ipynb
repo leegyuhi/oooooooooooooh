{
  "nbformat": 4,
  "nbformat_minor": 0,
  "metadata": {
    "colab": {
      "name": "Homework_10/8.ipynb",
      "provenance": [],
      "include_colab_link": true
    },
    "kernelspec": {
      "name": "python3",
      "display_name": "Python 3"
    }
  },
  "cells": [
    {
      "cell_type": "markdown",
      "metadata": {
        "id": "view-in-github",
        "colab_type": "text"
      },
      "source": [
        "<a href=\"https://colab.research.google.com/github/leegyuhi/oooooooooooooh/blob/master/Homework_10_8.ipynb\" target=\"_parent\"><img src=\"https://colab.research.google.com/assets/colab-badge.svg\" alt=\"Open In Colab\"/></a>"
      ]
    },
    {
      "cell_type": "markdown",
      "metadata": {
        "id": "RaoiSILhl7ez",
        "colab_type": "text"
      },
      "source": [
        "# __init__.py에 대하여\n",
        "'__init__.py'의 역할은 파일이 위치한 경로를 패키지 모듈처럼 사용할 수 있도록 해주는 매우 중요한 기능을 수행합니다. 쉽게 말하면 우리가 패키지의 모듈을 추가할때 사용하는 from, import를 이 경로에 사용할 수 있다는 점입니다. 만약 이런 기능이 없다면 모듈을 찾는 경로를 config에 설정해야만 사용할 수 있어 매우 번거롭습니다.\n",
        "\n",
        "다음과 같은 'Python Files'라는 이름의 패키지로 예를 들어 설명해보겠습니다."
      ]
    },
    {
      "cell_type": "code",
      "metadata": {
        "id": "isEvOpDerWP_",
        "colab_type": "code",
        "colab": {}
      },
      "source": [
        "Python Files/\n",
        "    __init__.py\n",
        "    myApp.py\n",
        "    moduleA/\n",
        "        __init__.py\n",
        "        getName.py"
      ],
      "execution_count": 0,
      "outputs": []
    },
    {
      "cell_type": "markdown",
      "metadata": {
        "id": "7nQlX8GarnPE",
        "colab_type": "text"
      },
      "source": [
        "__init__.py 때문에 getName.py을 import하는 경우 아래처럼 쓸 수 있게됩니다."
      ]
    },
    {
      "cell_type": "code",
      "metadata": {
        "id": "9Oqbgxptrnpj",
        "colab_type": "code",
        "colab": {}
      },
      "source": [
        "from moduleA import getName"
      ],
      "execution_count": 0,
      "outputs": []
    },
    {
      "cell_type": "markdown",
      "metadata": {
        "id": "ZyPZnnyRrW4h",
        "colab_type": "text"
      },
      "source": [
        "위의 moduleA에 위치한 __init__.py에는 공통으로 적용 가능한 기능이나 모듈을 포함할 수 있습니다. 예를들어 해당 경로의 위치한 모든 python 파일들이 동일한 baseAll을 필요로 하는 경우,"
      ]
    },
    {
      "cell_type": "code",
      "metadata": {
        "id": "0WBctMW0q94J",
        "colab_type": "code",
        "colab": {}
      },
      "source": [
        "! moduleA/a.py\n",
        "import baseAll\n",
        "\n",
        "! moduleA/b.py\n",
        "import baseAll"
      ],
      "execution_count": 0,
      "outputs": []
    },
    {
      "cell_type": "markdown",
      "metadata": {
        "id": "kFjarrDNq_3X",
        "colab_type": "text"
      },
      "source": [
        "위와 같이 할 수 있으나 이보단 아래와 같이 두 줄의 코드를 사용할 수 있습니다."
      ]
    },
    {
      "cell_type": "code",
      "metadata": {
        "id": "zlCGOq8crBOX",
        "colab_type": "code",
        "colab": {}
      },
      "source": [
        "! moduleA/__init__.py\n",
        "import baseAll"
      ],
      "execution_count": 0,
      "outputs": []
    },
    {
      "cell_type": "markdown",
      "metadata": {
        "id": "hnPozl47rCrW",
        "colab_type": "text"
      },
      "source": [
        "이제 해당 경로의 모든 파일들은 공통으로 baseAll을 사용할 수 있게됩니다."
      ]
    },
    {
      "cell_type": "markdown",
      "metadata": {
        "id": "di7uhUvMafI5",
        "colab_type": "text"
      },
      "source": [
        "# 05장 연습문제"
      ]
    },
    {
      "cell_type": "markdown",
      "metadata": {
        "id": "RxgeFV_Sai5F",
        "colab_type": "text"
      },
      "source": [
        "## Q1\n",
        "다음은 Calculator 클래스이다."
      ]
    },
    {
      "cell_type": "code",
      "metadata": {
        "id": "0eNZEOpNamgl",
        "colab_type": "code",
        "colab": {}
      },
      "source": [
        "class Calculator:\n",
        "    def __init__(self):\n",
        "        self.value = 0\n",
        "\n",
        "    def add(self, val):\n",
        "        self.value += val"
      ],
      "execution_count": 0,
      "outputs": []
    },
    {
      "cell_type": "markdown",
      "metadata": {
        "id": "PQqzyJ6SanmW",
        "colab_type": "text"
      },
      "source": [
        "위 클래스를 상속하는 UpgradeCalculator를 만들고 값을 뺄 수 있는 minus 메서드를 추가해 보자. 즉 다음과 같이 동작하는 클래스를 만들어야 한다."
      ]
    },
    {
      "cell_type": "code",
      "metadata": {
        "id": "hDeKulasaoun",
        "colab_type": "code",
        "colab": {
          "base_uri": "https://localhost:8080/",
          "height": 35
        },
        "outputId": "3aa9a220-6921-428b-957c-884dd28cbd2a"
      },
      "source": [
        "cal = UpgradeCalculator()\n",
        "cal.add(10)\n",
        "cal.minus(7)\n",
        "\n",
        "print(cal.value) # 10에서 7을 뺀 3을 출력"
      ],
      "execution_count": 6,
      "outputs": [
        {
          "output_type": "stream",
          "text": [
            "3\n"
          ],
          "name": "stdout"
        }
      ]
    },
    {
      "cell_type": "code",
      "metadata": {
        "id": "n5-MY5OpcTNK",
        "colab_type": "code",
        "colab": {}
      },
      "source": [
        "# 다음과 같이 Calculator 클래스를 상속하는 UpgradeCalculator 클래스를 만들고 \n",
        "# minus 메서드를 추가한다.\n",
        "\n",
        "class UpgradeCalculator(Calculator):\n",
        "    def minus(self, val):\n",
        "        self.value -= val"
      ],
      "execution_count": 0,
      "outputs": []
    },
    {
      "cell_type": "markdown",
      "metadata": {
        "id": "pMRuupV4ap-v",
        "colab_type": "text"
      },
      "source": [
        "## Q2\n",
        "객체변수 value가 100 이상의 값은 가질 수 없도록 제한하는 MaxLimitCalculator 클래스를 만들어 보자. 즉 다음과 같이 동작해야 한다."
      ]
    },
    {
      "cell_type": "code",
      "metadata": {
        "id": "UDHz1T-ias2q",
        "colab_type": "code",
        "colab": {
          "base_uri": "https://localhost:8080/",
          "height": 35
        },
        "outputId": "21b28361-0d2f-4345-b3d9-bbec4fb5c9e1"
      },
      "source": [
        "cal = MaxLimitCalculator()\n",
        "cal.add(50) # 50 더하기\n",
        "cal.add(60) # 60 더하기\n",
        "\n",
        "print(cal.value) # 100 출력"
      ],
      "execution_count": 9,
      "outputs": [
        {
          "output_type": "stream",
          "text": [
            "100\n"
          ],
          "name": "stdout"
        }
      ]
    },
    {
      "cell_type": "markdown",
      "metadata": {
        "id": "YtkqjyYJatz1",
        "colab_type": "text"
      },
      "source": [
        "단 반드시 다음과 같은 Calculator 클래스를 상속해서 만들어야 한다.\n",
        "\n"
      ]
    },
    {
      "cell_type": "code",
      "metadata": {
        "id": "VVXQitHuauxe",
        "colab_type": "code",
        "colab": {}
      },
      "source": [
        "class Calculator:\n",
        "    def __init__(self):\n",
        "        self.value = 0\n",
        "\n",
        "    def add(self, val):\n",
        "        self.value += val"
      ],
      "execution_count": 0,
      "outputs": []
    },
    {
      "cell_type": "code",
      "metadata": {
        "id": "bxA-uMQmcjCr",
        "colab_type": "code",
        "colab": {}
      },
      "source": [
        "# Calculator 클래스를 상속하고 add 메서드를 오버라이딩하여 다음과 같은 클래스를 만든다.\n",
        "\n",
        "class MaxLimitCalculator(Calculator):\n",
        "    def add(self, val):\n",
        "        self.value += val\n",
        "        if self.value > 100:\n",
        "            self.value = 100"
      ],
      "execution_count": 0,
      "outputs": []
    },
    {
      "cell_type": "markdown",
      "metadata": {
        "id": "jEioTjnQawjT",
        "colab_type": "text"
      },
      "source": [
        "## Q3\n",
        "다음 결과를 예측해 보자.\n",
        "\n",
        "하나."
      ]
    },
    {
      "cell_type": "code",
      "metadata": {
        "id": "ykbN8qWTa0nZ",
        "colab_type": "code",
        "colab": {}
      },
      "source": [
        "all([1, 2, abs(-3)-3])"
      ],
      "execution_count": 0,
      "outputs": []
    },
    {
      "cell_type": "markdown",
      "metadata": {
        "id": "pCWn8YFTa2vP",
        "colab_type": "text"
      },
      "source": [
        "둘.\n",
        "\n"
      ]
    },
    {
      "cell_type": "code",
      "metadata": {
        "id": "uRVxOp0Ya4e3",
        "colab_type": "code",
        "colab": {}
      },
      "source": [
        "chr(ord('a')) == 'a'"
      ],
      "execution_count": 0,
      "outputs": []
    },
    {
      "cell_type": "code",
      "metadata": {
        "id": "sql6gugrcxgL",
        "colab_type": "code",
        "colab": {
          "base_uri": "https://localhost:8080/",
          "height": 35
        },
        "outputId": "2ef91756-db33-45ae-c08e-315295af2986"
      },
      "source": [
        "# abs(-3)은 -3의 절댓값이므로 3이 되어 all([1, 2, 0])이 되고, \n",
        "# 리스트의 요솟값중 0이 있기 때문에 all 내장 함수의 결과는 False가 된다.\n",
        "\n",
        "all([1, 2, abs(-3)-3])"
      ],
      "execution_count": 10,
      "outputs": [
        {
          "output_type": "execute_result",
          "data": {
            "text/plain": [
              "False"
            ]
          },
          "metadata": {
            "tags": []
          },
          "execution_count": 10
        }
      ]
    },
    {
      "cell_type": "code",
      "metadata": {
        "id": "OZlLu98Oc5Cf",
        "colab_type": "code",
        "colab": {
          "base_uri": "https://localhost:8080/",
          "height": 35
        },
        "outputId": "25b615e9-5704-483b-d60f-21fa0548380b"
      },
      "source": [
        "# ord('a') 의 결과는 97이 되어 chr(97)로 치환된다. \n",
        "# chr(97)의 결과는 다시 'a'가 되므로 'a' == 'a'가 되어 True를 돌려준다.\n",
        "\n",
        "chr(ord('a')) == 'a'"
      ],
      "execution_count": 11,
      "outputs": [
        {
          "output_type": "execute_result",
          "data": {
            "text/plain": [
              "True"
            ]
          },
          "metadata": {
            "tags": []
          },
          "execution_count": 11
        }
      ]
    },
    {
      "cell_type": "markdown",
      "metadata": {
        "id": "d4E3ONnia5D0",
        "colab_type": "text"
      },
      "source": [
        "## Q4\n",
        "filter와 lambda를 사용하여 리스트 [1, -2, 3, -5, 8, -3]에서 음수를 모두 제거해 보자.\n",
        "\n"
      ]
    },
    {
      "cell_type": "code",
      "metadata": {
        "id": "eYJkyv1XdLIS",
        "colab_type": "code",
        "colab": {
          "base_uri": "https://localhost:8080/",
          "height": 35
        },
        "outputId": "2597283c-86ad-4019-f73f-68e1e1b69c7e"
      },
      "source": [
        "# 음수를 제거하기 위한 filter의 함수로 lambda 함수를 다음과 같이 만들어 실행한다.\n",
        "\n",
        "list(filter(lambda x:x>0, [1, -2, 3, -5, 8, -3]))"
      ],
      "execution_count": 12,
      "outputs": [
        {
          "output_type": "execute_result",
          "data": {
            "text/plain": [
              "[1, 3, 8]"
            ]
          },
          "metadata": {
            "tags": []
          },
          "execution_count": 12
        }
      ]
    },
    {
      "cell_type": "markdown",
      "metadata": {
        "id": "cMBz5wqYa7me",
        "colab_type": "text"
      },
      "source": [
        "## Q5\n",
        "234라는 10진수의 16진수는 다음과 같이 구할 수 있다.\n",
        "\n"
      ]
    },
    {
      "cell_type": "code",
      "metadata": {
        "id": "ZvLySxxta9mN",
        "colab_type": "code",
        "colab": {
          "base_uri": "https://localhost:8080/",
          "height": 35
        },
        "outputId": "ca1e7789-97e2-46d7-9657-b38d9182a224"
      },
      "source": [
        "hex(234)"
      ],
      "execution_count": 1,
      "outputs": [
        {
          "output_type": "execute_result",
          "data": {
            "text/plain": [
              "'0xea'"
            ]
          },
          "metadata": {
            "tags": []
          },
          "execution_count": 1
        }
      ]
    },
    {
      "cell_type": "markdown",
      "metadata": {
        "id": "TH2Yo4c8bSKc",
        "colab_type": "text"
      },
      "source": [
        "이번에는 반대로 16진수 문자열 0xea를 10진수로 변경해 보자.\n",
        "\n",
        "※ 내장 함수 int를 활용해 보자.\n",
        "\n"
      ]
    },
    {
      "cell_type": "code",
      "metadata": {
        "id": "7hkQmDJTdTBH",
        "colab_type": "code",
        "colab": {
          "base_uri": "https://localhost:8080/",
          "height": 35
        },
        "outputId": "efa276d8-aa1d-4bd1-b7f5-be2d87b92a20"
      },
      "source": [
        "int('0xea', 16)"
      ],
      "execution_count": 13,
      "outputs": [
        {
          "output_type": "execute_result",
          "data": {
            "text/plain": [
              "234"
            ]
          },
          "metadata": {
            "tags": []
          },
          "execution_count": 13
        }
      ]
    },
    {
      "cell_type": "markdown",
      "metadata": {
        "id": "OXaykvc0bTT_",
        "colab_type": "text"
      },
      "source": [
        "## Q6\n",
        "map과 lambda를 사용하여 [1, 2, 3, 4] 리스트의 각 요솟값에 3이 곱해진 리스트 [3, 6, 9, 12]를 만들어 보자.\n",
        "\n"
      ]
    },
    {
      "cell_type": "code",
      "metadata": {
        "id": "7HF5ni3HdWA1",
        "colab_type": "code",
        "colab": {
          "base_uri": "https://localhost:8080/",
          "height": 35
        },
        "outputId": "877485e1-2274-43c1-d254-4e518cd6ee95"
      },
      "source": [
        "# 입력에 항상 3을 곱하여 돌려 주는 lambda 함수를 다음과 같이 만들고\n",
        "# map과 조합하여 실행한다.\n",
        "\n",
        "list(map(lambda x:x*3, [1,2,3,4]))"
      ],
      "execution_count": 14,
      "outputs": [
        {
          "output_type": "execute_result",
          "data": {
            "text/plain": [
              "[3, 6, 9, 12]"
            ]
          },
          "metadata": {
            "tags": []
          },
          "execution_count": 14
        }
      ]
    },
    {
      "cell_type": "markdown",
      "metadata": {
        "id": "yhqBkDp4bWSO",
        "colab_type": "text"
      },
      "source": [
        "## Q7\n",
        "다음 리스트의 최댓값과 최솟값의 합을 구해 보자.\n",
        "\n"
      ]
    },
    {
      "cell_type": "code",
      "metadata": {
        "id": "qMWOiaTjbZy3",
        "colab_type": "code",
        "colab": {}
      },
      "source": [
        "[-8, 2, 7, 5, -3, 5, 0, 1]"
      ],
      "execution_count": 0,
      "outputs": []
    },
    {
      "cell_type": "code",
      "metadata": {
        "id": "J4OlROFodjLT",
        "colab_type": "code",
        "colab": {
          "base_uri": "https://localhost:8080/",
          "height": 35
        },
        "outputId": "644c85d4-fd90-479d-dd5d-717e93c48351"
      },
      "source": [
        "# 리스트의 최댓값은 max, 최솟값은 min 내장 함수를 사용하여 다음과 같이 구한다.\n",
        "\n",
        "a = [-8, 2, 7, 5, -3, 5, 0, 1]\n",
        "max(a) + min(a)"
      ],
      "execution_count": 15,
      "outputs": [
        {
          "output_type": "execute_result",
          "data": {
            "text/plain": [
              "-1"
            ]
          },
          "metadata": {
            "tags": []
          },
          "execution_count": 15
        }
      ]
    },
    {
      "cell_type": "markdown",
      "metadata": {
        "id": "W6r82_dMbtTp",
        "colab_type": "text"
      },
      "source": [
        "## Q8\n",
        "17 / 3의 결과는 다음과 같다.\n",
        "\n"
      ]
    },
    {
      "cell_type": "code",
      "metadata": {
        "id": "4-2yKmKCbvW3",
        "colab_type": "code",
        "colab": {
          "base_uri": "https://localhost:8080/",
          "height": 35
        },
        "outputId": "31a34ea8-3aa5-4580-f62d-018c772d08f8"
      },
      "source": [
        "17 / 3"
      ],
      "execution_count": 2,
      "outputs": [
        {
          "output_type": "execute_result",
          "data": {
            "text/plain": [
              "5.666666666666667"
            ]
          },
          "metadata": {
            "tags": []
          },
          "execution_count": 2
        }
      ]
    },
    {
      "cell_type": "markdown",
      "metadata": {
        "id": "XvmEQbEZbwf5",
        "colab_type": "text"
      },
      "source": [
        "위와 같은 결괏값 5.666666666666667을 소숫점 4자리까지만 반올림하여 표시해 보자.\n",
        "\n"
      ]
    },
    {
      "cell_type": "code",
      "metadata": {
        "id": "e0hd9FMcdqZ5",
        "colab_type": "code",
        "colab": {
          "base_uri": "https://localhost:8080/",
          "height": 35
        },
        "outputId": "5d117ebc-3488-4d43-ea4c-e9b609115d2c"
      },
      "source": [
        "# round 내장 함수를 사용하면 다음과 같이 반올림하여 소수점 4자리까지 표시할 수 있다.\n",
        "\n",
        "round(17/3, 4)"
      ],
      "execution_count": 16,
      "outputs": [
        {
          "output_type": "execute_result",
          "data": {
            "text/plain": [
              "5.6667"
            ]
          },
          "metadata": {
            "tags": []
          },
          "execution_count": 16
        }
      ]
    },
    {
      "cell_type": "markdown",
      "metadata": {
        "id": "GkpiYJY9byty",
        "colab_type": "text"
      },
      "source": [
        "## Q9\n",
        "다음과 같이 실행할 때 입력값을 모두 더하여 출력하는 스크립트(C:\\doit\\myargv.py)를 작성해 보자."
      ]
    },
    {
      "cell_type": "code",
      "metadata": {
        "id": "Ar43k1__b2hB",
        "colab_type": "code",
        "colab": {}
      },
      "source": [
        "C:\\> cd doit\n",
        "C:\\doit> python myargv.py 1 2 3 4 5 6 7 8 9 10\n",
        "55"
      ],
      "execution_count": 0,
      "outputs": []
    },
    {
      "cell_type": "markdown",
      "metadata": {
        "id": "Xkk8mdgGb3a6",
        "colab_type": "text"
      },
      "source": [
        "※ 외장 함수 sys.argv를 사용해 보자.\n",
        "\n"
      ]
    },
    {
      "cell_type": "code",
      "metadata": {
        "id": "lBWRfkDufRui",
        "colab_type": "code",
        "colab": {}
      },
      "source": [
        "!mkdir doit # 'doit' 폴더 생성"
      ],
      "execution_count": 0,
      "outputs": []
    },
    {
      "cell_type": "code",
      "metadata": {
        "id": "kbSr_IWKdvZE",
        "colab_type": "code",
        "colab": {
          "base_uri": "https://localhost:8080/",
          "height": 35
        },
        "outputId": "eb695581-80b6-47b0-8f19-fa3e80581648"
      },
      "source": [
        "# 다음처럼 sys모듈의 argv를 사용하여 명령 행 입력값 모두를 차례로 더해 준다.\n",
        "\n",
        "%%writefile /content/doit/myargv.py\n",
        "\n",
        "import sys\n",
        "\n",
        "numbers = sys.argv[1:] # 파일 이름을 제외한 명령 행의 모든 입력\n",
        "\n",
        "result = 0\n",
        "for number in numbers:\n",
        "    result += int(number)\n",
        "print(result)"
      ],
      "execution_count": 46,
      "outputs": [
        {
          "output_type": "stream",
          "text": [
            "Overwriting /content/doit/myargv.py\n"
          ],
          "name": "stdout"
        }
      ]
    },
    {
      "cell_type": "code",
      "metadata": {
        "id": "lBRVS8uVgPuW",
        "colab_type": "code",
        "colab": {
          "base_uri": "https://localhost:8080/",
          "height": 35
        },
        "outputId": "ce47a21d-f753-4fac-a995-a7f49630c673"
      },
      "source": [
        "%run -i myargv.py 1 2 3 4 5 6 7 8 9 10 # Run the named file inside IPython as a program."
      ],
      "execution_count": 49,
      "outputs": [
        {
          "output_type": "stream",
          "text": [
            "55\n"
          ],
          "name": "stdout"
        }
      ]
    },
    {
      "cell_type": "markdown",
      "metadata": {
        "id": "_m7JS312b69D",
        "colab_type": "text"
      },
      "source": [
        "## Q10\n",
        "os 모듈을 사용하여 다음과 같이 동작하도록 코드를 작성해 보자.\n",
        "\n",
        "1. C:\\doit 디렉터리로 이동한다.\n",
        "2. dir 명령을 실행하고 그 결과를 변수에 담는다.\n",
        "3. dir 명령의 결과를 출력한다."
      ]
    },
    {
      "cell_type": "code",
      "metadata": {
        "id": "S5j_Dsp2e-ke",
        "colab_type": "code",
        "colab": {}
      },
      "source": [
        "# 다음처럼 os 모듈의 chdir을 사용하여 C:\\doit 이라는 디렉터리로 이동한다.\n",
        "\n",
        "import os\n",
        "os.chdir(\"/content/doit\")"
      ],
      "execution_count": 0,
      "outputs": []
    },
    {
      "cell_type": "code",
      "metadata": {
        "id": "dbs8B-befjYr",
        "colab_type": "code",
        "colab": {}
      },
      "source": [
        "# 그리고 다음처럼 os 모듈의 popen을 사용하여 시스템 명령어인 dir을 수행한다.\n",
        "\n",
        "result = os.popen(\"dir\")"
      ],
      "execution_count": 0,
      "outputs": []
    },
    {
      "cell_type": "code",
      "metadata": {
        "id": "m2nBqM_5fovb",
        "colab_type": "code",
        "colab": {
          "base_uri": "https://localhost:8080/",
          "height": 53
        },
        "outputId": "d242064f-3a3a-4a67-8c56-784916cd9e3b"
      },
      "source": [
        "# popen의 결과를 출력하기 위해 다음과 같이 수행한다.\n",
        "\n",
        "print(result.read())"
      ],
      "execution_count": 29,
      "outputs": [
        {
          "output_type": "stream",
          "text": [
            "myargv.py  __pycache__\n",
            "\n"
          ],
          "name": "stdout"
        }
      ]
    },
    {
      "cell_type": "markdown",
      "metadata": {
        "id": "VkG4HEBZcAsZ",
        "colab_type": "text"
      },
      "source": [
        "## Q11\n",
        "glob 모듈을 사용하여 C:\\doit 디렉터리의 파일 중 확장자가 .py인 파일만 출력하는 프로그램을 작성해 보자.\n",
        "\n"
      ]
    },
    {
      "cell_type": "code",
      "metadata": {
        "id": "Z08UpPPCgYdi",
        "colab_type": "code",
        "colab": {
          "base_uri": "https://localhost:8080/",
          "height": 35
        },
        "outputId": "b4eac92f-df93-4750-ac06-24a217c21bb2"
      },
      "source": [
        "# 다음과 같이 glob 모듈을 사용한다.\n",
        "\n",
        "import glob\n",
        "glob.glob(\"/content/doit/*.py\")"
      ],
      "execution_count": 30,
      "outputs": [
        {
          "output_type": "execute_result",
          "data": {
            "text/plain": [
              "['/content/doit/myargv.py']"
            ]
          },
          "metadata": {
            "tags": []
          },
          "execution_count": 30
        }
      ]
    },
    {
      "cell_type": "markdown",
      "metadata": {
        "id": "hv18yXq4cD3c",
        "colab_type": "text"
      },
      "source": [
        "## Q12\n",
        "time 모듈을 사용하여 현재 날짜와 시간을 다음과 같은 형식으로 출력해 보자.\n",
        "\n"
      ]
    },
    {
      "cell_type": "code",
      "metadata": {
        "id": "yvywLJfDcGcu",
        "colab_type": "code",
        "colab": {}
      },
      "source": [
        "2018/04/03 17:20:32"
      ],
      "execution_count": 0,
      "outputs": []
    },
    {
      "cell_type": "code",
      "metadata": {
        "id": "WMsRLqaWghn1",
        "colab_type": "code",
        "colab": {
          "base_uri": "https://localhost:8080/",
          "height": 35
        },
        "outputId": "c35e8bb2-7988-4cbb-d152-3eb1e6b859c3"
      },
      "source": [
        "# time 모듈의 strftime을 사용하여 다음과 같이 작성한다.\n",
        "\n",
        "import time\n",
        "time.strftime(\"%Y/%m/%d %H:%M:%S\")   # %Y:년, %m:월, %d:일, %H:시, %M:분, %S:초"
      ],
      "execution_count": 31,
      "outputs": [
        {
          "output_type": "execute_result",
          "data": {
            "text/plain": [
              "'2019/10/09 07:53:50'"
            ]
          },
          "metadata": {
            "tags": []
          },
          "execution_count": 31
        }
      ]
    },
    {
      "cell_type": "markdown",
      "metadata": {
        "id": "73jh3hZDcJBZ",
        "colab_type": "text"
      },
      "source": [
        "## Q13\n",
        "random 모듈을 사용하여 로또 번호(1~45 사이의 숫자 6개)를 생성해 보자(단 중복된 숫자가 있으면 안 됨).\n",
        "\n"
      ]
    },
    {
      "cell_type": "code",
      "metadata": {
        "id": "_Y8ZILGogrKC",
        "colab_type": "code",
        "colab": {
          "base_uri": "https://localhost:8080/",
          "height": 35
        },
        "outputId": "a4e087b2-6873-42d1-cf18-f5087958d7ed"
      },
      "source": [
        "# random 모듈의 randint를 사용하여 다음과 같이 작성한다.\n",
        "\n",
        "import random\n",
        "\n",
        "result = []\n",
        "while len(result) < 6:\n",
        "    num = random.randint(1, 45)   # 1부터 45까지의 난수 발생\n",
        "    if num not in result:\n",
        "        result.append(num)\n",
        "\n",
        "print(result)"
      ],
      "execution_count": 32,
      "outputs": [
        {
          "output_type": "stream",
          "text": [
            "[44, 1, 17, 39, 35, 42]\n"
          ],
          "name": "stdout"
        }
      ]
    }
  ]
}